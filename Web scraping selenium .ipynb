{
 "cells": [
  {
   "cell_type": "markdown",
   "id": "b1b7d73b",
   "metadata": {},
   "source": [
    "# WEB SCRAPING – ASSIGNMENT 2"
   ]
  },
  {
   "cell_type": "markdown",
   "id": "78dc5cac",
   "metadata": {},
   "source": [
    "Q1: Write a python program to scrape data for “Data Analyst” Job position in “Bangalore” location. You have to scrape the job-title, job-location, company_name, experience_required. You have to scrape first 10 jobs data.\n",
    "\n",
    "Ans  :- "
   ]
  },
  {
   "cell_type": "markdown",
   "id": "fbce8f2e",
   "metadata": {},
   "source": [
    "So, in this notebook we will scrape data from naukri.com website for Data-scientist job role and location. We will scrap 4 fields for each job.\n",
    "\n",
    "1.title of the job\n",
    "\n",
    "2.name of the company\n",
    "\n",
    "3.location\n",
    "\n",
    "4.experience required.\n",
    "\n",
    "Let me show all these fields on naukri.com website"
   ]
  },
  {
   "cell_type": "markdown",
   "id": "27353c93",
   "metadata": {},
   "source": [
    "Now we will download the webdriver for the web broser. The steps for downloading the webdriver for your browser are: \n",
    "    \n",
    "1. check the version of your browser. \n",
    "\n",
    "2. go to the link-chromedriver.chromium.org/downloads \n",
    "\n",
    "3. download the web driver for your version of browser\n",
    "\n",
    "now these steps are for chrome browser. The download link will be different mozilla etc."
   ]
  },
  {
   "cell_type": "code",
   "execution_count": 1,
   "id": "32a977df",
   "metadata": {},
   "outputs": [],
   "source": [
    "# Lets now import all the required libraries\n",
    "import selenium\n",
    "import pandas as pd\n",
    "from selenium import webdriver\n",
    "import warnings\n",
    "warnings.filterwarnings(\"ignore\")\n",
    "import time"
   ]
  },
  {
   "cell_type": "code",
   "execution_count": 2,
   "id": "9dadc57e",
   "metadata": {},
   "outputs": [],
   "source": [
    "# lets first connect to the web driver\n",
    "driver = webdriver.Chrome(r\"C:\\Users\\JAYASHRI\\Downloads\\chromedriver_win32\\chromedriver.exe\")"
   ]
  },
  {
   "cell_type": "code",
   "execution_count": 3,
   "id": "f7ac4bfc",
   "metadata": {},
   "outputs": [],
   "source": [
    "driver=webdriver.Chrome(\"chromedriver.exe\")\n",
    "time.sleep(2)"
   ]
  },
  {
   "cell_type": "code",
   "execution_count": 4,
   "id": "49369121",
   "metadata": {},
   "outputs": [],
   "source": [
    "driver.close()"
   ]
  },
  {
   "cell_type": "code",
   "execution_count": 4,
   "id": "3f0aa554",
   "metadata": {},
   "outputs": [],
   "source": [
    "driver.get('https://www.naukri.com/')"
   ]
  },
  {
   "cell_type": "code",
   "execution_count": 5,
   "id": "e4097347",
   "metadata": {},
   "outputs": [],
   "source": [
    "# finding element for job search bar\n",
    "search_field_designation=driver.find_element_by_class_name(\"suggestor-input\")\n",
    "search_field_designation.send_keys(\"Data Analyst\")\n",
    "search_field_location=driver.find_element_by_xpath('/html/body/div/div[2]/div[3]/div/div/div[3]/div/div/div/input')\n",
    "search_field_location.send_keys(\"Bangalore\")"
   ]
  },
  {
   "cell_type": "code",
   "execution_count": 6,
   "id": "a6f3e220",
   "metadata": {},
   "outputs": [],
   "source": [
    "search_button=driver.find_element_by_xpath(\"/html/body/div/div[2]/div[3]/div/div/div[6]\")\n",
    "search_button.click()"
   ]
  },
  {
   "cell_type": "code",
   "execution_count": 7,
   "id": "b28c2dc9",
   "metadata": {},
   "outputs": [],
   "source": [
    "#specifying the url of the webpage to be scraped\n",
    "url=\"https://www.naukri.com/data-analyst-jobs-in-bangalore?k=data%20analyst&l=bangalore\""
   ]
  },
  {
   "cell_type": "code",
   "execution_count": 8,
   "id": "82b192f2",
   "metadata": {},
   "outputs": [],
   "source": [
    "driver.get(url)"
   ]
  },
  {
   "cell_type": "markdown",
   "id": "9488f2ce",
   "metadata": {},
   "source": [
    "Now we will see in the window opened by webdriver whether the webpage has opened or not. Lets check it\n",
    "\n",
    "So, now lets first creat 4 empty list. In these list the data will be stored while scraping. We have created 4 empty lists for 4 features which we have to exract\n",
    "\n",
    "1. job_title\n",
    "\n",
    "2. company_names\n",
    "\n",
    "3. locations_list\n",
    "\n",
    "4. experience_list"
   ]
  },
  {
   "cell_type": "code",
   "execution_count": 10,
   "id": "86fe3830",
   "metadata": {},
   "outputs": [],
   "source": [
    "job_titles=[]\n",
    "\n",
    "company_names=[]\n",
    "\n",
    "locations_list=[]\n",
    "\n",
    "experience_list=[]"
   ]
  },
  {
   "cell_type": "markdown",
   "id": "bd4e3179",
   "metadata": {},
   "source": [
    "First, we will extract all the tags where we have the job titles. Let me first show you on the webpage in which tags the job titles are put."
   ]
  },
  {
   "cell_type": "code",
   "execution_count": 24,
   "id": "3fd0b4e9",
   "metadata": {},
   "outputs": [
    {
     "data": {
      "text/plain": [
       "[<selenium.webdriver.remote.webelement.WebElement (session=\"344cd8c8b50c15b84fedeeaaf9a682b5\", element=\"85da09cd-42de-4aa7-9f62-720022069a00\")>,\n",
       " <selenium.webdriver.remote.webelement.WebElement (session=\"344cd8c8b50c15b84fedeeaaf9a682b5\", element=\"166a7aaa-60b6-4459-8637-a6c03f9f08ed\")>,\n",
       " <selenium.webdriver.remote.webelement.WebElement (session=\"344cd8c8b50c15b84fedeeaaf9a682b5\", element=\"ee819dc6-ac2b-4ca8-a784-c12daa9603f5\")>,\n",
       " <selenium.webdriver.remote.webelement.WebElement (session=\"344cd8c8b50c15b84fedeeaaf9a682b5\", element=\"a44bade9-b90d-480e-a868-cda9f13aedd0\")>,\n",
       " <selenium.webdriver.remote.webelement.WebElement (session=\"344cd8c8b50c15b84fedeeaaf9a682b5\", element=\"37159175-85ea-4c05-b9cd-ebbb9e2c2d69\")>,\n",
       " <selenium.webdriver.remote.webelement.WebElement (session=\"344cd8c8b50c15b84fedeeaaf9a682b5\", element=\"d7f8a3ef-ff69-402a-85bf-2ee7c1c4620c\")>,\n",
       " <selenium.webdriver.remote.webelement.WebElement (session=\"344cd8c8b50c15b84fedeeaaf9a682b5\", element=\"c58d3202-933b-49cb-a49f-b78c130b4305\")>,\n",
       " <selenium.webdriver.remote.webelement.WebElement (session=\"344cd8c8b50c15b84fedeeaaf9a682b5\", element=\"2d60101f-28cd-4654-83d1-63f539196d44\")>,\n",
       " <selenium.webdriver.remote.webelement.WebElement (session=\"344cd8c8b50c15b84fedeeaaf9a682b5\", element=\"f5ae6eac-1374-48c2-b117-97913e4a9059\")>,\n",
       " <selenium.webdriver.remote.webelement.WebElement (session=\"344cd8c8b50c15b84fedeeaaf9a682b5\", element=\"b42239c9-7b90-4281-a180-ad3c2a60115f\")>]"
      ]
     },
     "execution_count": 24,
     "metadata": {},
     "output_type": "execute_result"
    }
   ],
   "source": [
    "# so lets extract all the tags having the job-titles\n",
    "titles_tags=driver.find_elements_by_xpath(\"//a[@class='title fw500 ellipsis']\")\n",
    "titles_tags[0:10]"
   ]
  },
  {
   "cell_type": "markdown",
   "id": "2990d0e3",
   "metadata": {},
   "source": [
    "Now we have all the tags in which there are the job titles\n",
    "\n",
    "Now we will extract the text from these tags one by one by looping over these tags"
   ]
  },
  {
   "cell_type": "code",
   "execution_count": 25,
   "id": "46d90ac9",
   "metadata": {},
   "outputs": [
    {
     "data": {
      "text/plain": [
       "['SAS Analyst / data Analyst / Business analyst - Sas + SQL',\n",
       " 'Data Analyst I',\n",
       " 'Senior Data Analyst',\n",
       " 'Lead Data Analyst - Risk Analytics',\n",
       " 'Hiring - Zonal Data Analyst (Off Role) - Operations - Bangalore & Delh',\n",
       " 'Senior Data Analyst',\n",
       " 'Sr Domain Expert -Data Analysts',\n",
       " 'Associate Data Analyst',\n",
       " 'Associate Data Analyst',\n",
       " 'Denave Hiring Data Analyst Bengaluru Location']"
      ]
     },
     "execution_count": 25,
     "metadata": {},
     "output_type": "execute_result"
    }
   ],
   "source": [
    "# Now the text of the job title is inside the tags extracted above\n",
    "\n",
    "# so we will run a loop to iterate over the tags extracted above and \n",
    "\n",
    "for i in titles_tags:\n",
    "    title=i.text\n",
    "    job_titles.append(title)\n",
    "job_titles[0:10]"
   ]
  },
  {
   "cell_type": "markdown",
   "id": "a7087265",
   "metadata": {},
   "source": [
    "Now we will extract all the html tags where we have the company names. Let me first show you in which tags the company names are put on the webpage."
   ]
  },
  {
   "cell_type": "code",
   "execution_count": 26,
   "id": "3e271332",
   "metadata": {},
   "outputs": [
    {
     "data": {
      "text/plain": [
       "[<selenium.webdriver.remote.webelement.WebElement (session=\"344cd8c8b50c15b84fedeeaaf9a682b5\", element=\"7c7eec06-0779-4b86-a4d0-ddfa17e29f8a\")>,\n",
       " <selenium.webdriver.remote.webelement.WebElement (session=\"344cd8c8b50c15b84fedeeaaf9a682b5\", element=\"39f016bd-6482-48ef-b9e5-14949614c173\")>,\n",
       " <selenium.webdriver.remote.webelement.WebElement (session=\"344cd8c8b50c15b84fedeeaaf9a682b5\", element=\"37c0f24e-bb5b-4c5f-8d70-64a0708eaa11\")>,\n",
       " <selenium.webdriver.remote.webelement.WebElement (session=\"344cd8c8b50c15b84fedeeaaf9a682b5\", element=\"aec7600e-72f5-4862-b989-4568123ba516\")>,\n",
       " <selenium.webdriver.remote.webelement.WebElement (session=\"344cd8c8b50c15b84fedeeaaf9a682b5\", element=\"81740f3d-56ce-4998-a33d-b035cb5ee0c0\")>,\n",
       " <selenium.webdriver.remote.webelement.WebElement (session=\"344cd8c8b50c15b84fedeeaaf9a682b5\", element=\"cf71dada-1fdd-400b-bcc5-32473b55885b\")>,\n",
       " <selenium.webdriver.remote.webelement.WebElement (session=\"344cd8c8b50c15b84fedeeaaf9a682b5\", element=\"209ca3da-78f6-4ad2-8d32-b27c8b5167d4\")>,\n",
       " <selenium.webdriver.remote.webelement.WebElement (session=\"344cd8c8b50c15b84fedeeaaf9a682b5\", element=\"3cc5941a-9b0e-4914-a452-bfac4e4fe7d8\")>,\n",
       " <selenium.webdriver.remote.webelement.WebElement (session=\"344cd8c8b50c15b84fedeeaaf9a682b5\", element=\"78552c0d-62d1-4659-b699-4a053fc8434a\")>,\n",
       " <selenium.webdriver.remote.webelement.WebElement (session=\"344cd8c8b50c15b84fedeeaaf9a682b5\", element=\"68480a05-e245-4ba3-8c8d-622461b7f417\")>]"
      ]
     },
     "execution_count": 26,
     "metadata": {},
     "output_type": "execute_result"
    }
   ],
   "source": [
    "# So lets extract all the tags having the company names\n",
    "companies_tags=driver.find_elements_by_xpath(\"//a[@class='subTitle ellipsis fleft']\")\n",
    "companies_tags[0:10]"
   ]
  },
  {
   "cell_type": "markdown",
   "id": "4c24e1d9",
   "metadata": {},
   "source": [
    "Now we have all the tags in which there are the company names.\n",
    "\n",
    "Now we will extract the text from these tags one by one by looping over these tags"
   ]
  },
  {
   "cell_type": "code",
   "execution_count": 27,
   "id": "dbe6f7e4",
   "metadata": {},
   "outputs": [
    {
     "data": {
      "text/plain": [
       "['Leading US MNC into analytics',\n",
       " 'Bioclinica',\n",
       " 'Shell',\n",
       " 'Gojek',\n",
       " 'Rupeek',\n",
       " 'LatentView',\n",
       " 'Siemens',\n",
       " 'Optum',\n",
       " 'Optum',\n",
       " 'Denave India Pvt Ltd.']"
      ]
     },
     "execution_count": 27,
     "metadata": {},
     "output_type": "execute_result"
    }
   ],
   "source": [
    "for i in companies_tags:\n",
    "    company_name=i.text\n",
    "    company_names.append(company_name)\n",
    "company_names[0:10]"
   ]
  },
  {
   "cell_type": "markdown",
   "id": "469b1925",
   "metadata": {},
   "source": [
    "Now we will extract all the html tags where we have the experiance required data. Let me first show you in which tags this data is put on the webpage."
   ]
  },
  {
   "cell_type": "code",
   "execution_count": 28,
   "id": "09e06aeb",
   "metadata": {},
   "outputs": [
    {
     "data": {
      "text/plain": [
       "[<selenium.webdriver.remote.webelement.WebElement (session=\"344cd8c8b50c15b84fedeeaaf9a682b5\", element=\"aa3f62bf-61fb-4ead-bde7-6a94a8a625e7\")>,\n",
       " <selenium.webdriver.remote.webelement.WebElement (session=\"344cd8c8b50c15b84fedeeaaf9a682b5\", element=\"138fd8c0-6e24-4aa4-b0a7-556c7c2e9a7a\")>,\n",
       " <selenium.webdriver.remote.webelement.WebElement (session=\"344cd8c8b50c15b84fedeeaaf9a682b5\", element=\"eda8d23e-aa5b-469e-a178-72e7fa04b37c\")>,\n",
       " <selenium.webdriver.remote.webelement.WebElement (session=\"344cd8c8b50c15b84fedeeaaf9a682b5\", element=\"57192887-83a6-432d-acc6-1e08a7c45438\")>,\n",
       " <selenium.webdriver.remote.webelement.WebElement (session=\"344cd8c8b50c15b84fedeeaaf9a682b5\", element=\"875ba988-55d0-4eb2-b73d-a47e5b9ff273\")>,\n",
       " <selenium.webdriver.remote.webelement.WebElement (session=\"344cd8c8b50c15b84fedeeaaf9a682b5\", element=\"1553f154-aa67-4598-8c6c-6cf27a409632\")>,\n",
       " <selenium.webdriver.remote.webelement.WebElement (session=\"344cd8c8b50c15b84fedeeaaf9a682b5\", element=\"8af31241-ab7b-4052-8dc8-0787e05e4320\")>,\n",
       " <selenium.webdriver.remote.webelement.WebElement (session=\"344cd8c8b50c15b84fedeeaaf9a682b5\", element=\"83075db7-3269-4fcf-9c5a-4ad65c9e9f5c\")>,\n",
       " <selenium.webdriver.remote.webelement.WebElement (session=\"344cd8c8b50c15b84fedeeaaf9a682b5\", element=\"f042fe46-44fe-4787-99de-b6c88f7d54ab\")>,\n",
       " <selenium.webdriver.remote.webelement.WebElement (session=\"344cd8c8b50c15b84fedeeaaf9a682b5\", element=\"df7c5766-da60-45b7-adbe-ae469d1a8ee4\")>]"
      ]
     },
     "execution_count": 28,
     "metadata": {},
     "output_type": "execute_result"
    }
   ],
   "source": [
    "# so lets extract all the tags having the experience required data\n",
    "experiance_tags=driver.find_elements_by_xpath(\"//li[@class='fleft grey-text br2 placeHolderLi experience']/span[1]\")\n",
    "experiance_tags[0:10]"
   ]
  },
  {
   "cell_type": "markdown",
   "id": "95e70ae2",
   "metadata": {},
   "source": [
    "Now we have all the tags in which there are the experience required data.\n",
    "\n",
    "Now we will extract the text from these tags one by one by looping over these tags"
   ]
  },
  {
   "cell_type": "code",
   "execution_count": 29,
   "id": "6a4c6e61",
   "metadata": {},
   "outputs": [
    {
     "data": {
      "text/plain": [
       "['2-7 Yrs',\n",
       " '0-3 Yrs',\n",
       " '10-12 Yrs',\n",
       " '5-11 Yrs',\n",
       " '2-7 Yrs',\n",
       " '3-6 Yrs',\n",
       " '0-10 Yrs',\n",
       " '2-7 Yrs',\n",
       " '4-9 Yrs',\n",
       " '5-10 Yrs']"
      ]
     },
     "execution_count": 29,
     "metadata": {},
     "output_type": "execute_result"
    }
   ],
   "source": [
    "for i in experiance_tags:\n",
    "    experience=i.text\n",
    "    experience_list.append(experience)\n",
    "experience_list[0:10]"
   ]
  },
  {
   "cell_type": "markdown",
   "id": "8f14918c",
   "metadata": {},
   "source": [
    "Now we will extract all the tags where we have the location of the job data. Let me first show you in which tags this data is put on the webpage."
   ]
  },
  {
   "cell_type": "code",
   "execution_count": 30,
   "id": "6867b5ef",
   "metadata": {},
   "outputs": [
    {
     "data": {
      "text/plain": [
       "[<selenium.webdriver.remote.webelement.WebElement (session=\"344cd8c8b50c15b84fedeeaaf9a682b5\", element=\"cf5e5342-b363-4458-9dcf-af528d43191f\")>,\n",
       " <selenium.webdriver.remote.webelement.WebElement (session=\"344cd8c8b50c15b84fedeeaaf9a682b5\", element=\"2b3ce558-a429-4e17-ad5a-53328baebb3f\")>,\n",
       " <selenium.webdriver.remote.webelement.WebElement (session=\"344cd8c8b50c15b84fedeeaaf9a682b5\", element=\"695a232e-997a-4a7d-95dc-e52e519594d8\")>,\n",
       " <selenium.webdriver.remote.webelement.WebElement (session=\"344cd8c8b50c15b84fedeeaaf9a682b5\", element=\"80381509-608f-4316-ba77-98b3b6f23c88\")>,\n",
       " <selenium.webdriver.remote.webelement.WebElement (session=\"344cd8c8b50c15b84fedeeaaf9a682b5\", element=\"a856b79e-497e-4ed3-9ec0-7029bbe9ac0d\")>,\n",
       " <selenium.webdriver.remote.webelement.WebElement (session=\"344cd8c8b50c15b84fedeeaaf9a682b5\", element=\"271fb315-5207-4df5-bec7-2f4bba95fdf7\")>,\n",
       " <selenium.webdriver.remote.webelement.WebElement (session=\"344cd8c8b50c15b84fedeeaaf9a682b5\", element=\"9a0694ab-cc97-400b-8f74-44be4147fe1a\")>,\n",
       " <selenium.webdriver.remote.webelement.WebElement (session=\"344cd8c8b50c15b84fedeeaaf9a682b5\", element=\"c99c2eb7-234f-4633-acf9-14983c3ee104\")>,\n",
       " <selenium.webdriver.remote.webelement.WebElement (session=\"344cd8c8b50c15b84fedeeaaf9a682b5\", element=\"072f653a-e940-495f-8179-c2c52cad2d0d\")>,\n",
       " <selenium.webdriver.remote.webelement.WebElement (session=\"344cd8c8b50c15b84fedeeaaf9a682b5\", element=\"8204bbda-0dae-4704-85f9-76fa3baf9bb3\")>]"
      ]
     },
     "execution_count": 30,
     "metadata": {},
     "output_type": "execute_result"
    }
   ],
   "source": [
    "locations_tags=driver.find_elements_by_xpath(\"//li[@class='fleft grey-text br2 placeHolderLi location']/span[1]\")\n",
    "locations_tags[0:10]"
   ]
  },
  {
   "cell_type": "markdown",
   "id": "a7378285",
   "metadata": {},
   "source": [
    "Now we have all the tags in which there is the data about the location of job.\n",
    "\n",
    "Now we will extract the text(location) from these tags one by one by looping over these tags"
   ]
  },
  {
   "cell_type": "code",
   "execution_count": 31,
   "id": "f576fc19",
   "metadata": {},
   "outputs": [
    {
     "data": {
      "text/plain": [
       "['Bangalore/Bengaluru, Delhi / NCR, Mumbai (All Areas)',\n",
       " 'Bangalore/Bengaluru',\n",
       " 'Bangalore/Bengaluru',\n",
       " 'Bangalore/Bengaluru',\n",
       " 'New Delhi, Bangalore/Bengaluru',\n",
       " 'Chennai, Bangalore/Bengaluru',\n",
       " 'Bangalore/Bengaluru',\n",
       " 'Bangalore/Bengaluru',\n",
       " 'Bangalore/Bengaluru',\n",
       " 'Bangalore/Bengaluru']"
      ]
     },
     "execution_count": 31,
     "metadata": {},
     "output_type": "execute_result"
    }
   ],
   "source": [
    "for i in locations_tags:\n",
    "    locations=i.text\n",
    "    locations_list.append(locations)\n",
    "locations_list[0:10]"
   ]
  },
  {
   "cell_type": "markdown",
   "id": "84fdfbb2",
   "metadata": {},
   "source": [
    "So now we have extracted the data required from the webpage and stored them in the 10 lists mention above. Now before creating a dataframe from these lists. Lets first check the length of each of the list. Because if the length of all of the lists are not equal, then dataframe cannot be formed."
   ]
  },
  {
   "cell_type": "code",
   "execution_count": 19,
   "id": "2b485020",
   "metadata": {},
   "outputs": [
    {
     "name": "stdout",
     "output_type": "stream",
     "text": [
      "20 20 20 20\n"
     ]
    }
   ],
   "source": [
    "print(len(job_titles),len(company_names),len(locations_list),len(experience_list))"
   ]
  },
  {
   "cell_type": "markdown",
   "id": "73808605",
   "metadata": {},
   "source": [
    "Now creating a DataFrame of the scraped data."
   ]
  },
  {
   "cell_type": "code",
   "execution_count": 21,
   "id": "3c47bdf1",
   "metadata": {},
   "outputs": [],
   "source": [
    "jobs=pd.DataFrame({})\n",
    "jobs['Title']=job_titles\n",
    "jobs['Company']=company_names\n",
    "jobs['Experience_required']=experience_list\n",
    "jobs['Location']=locations_list"
   ]
  },
  {
   "cell_type": "code",
   "execution_count": 32,
   "id": "e6c0f59b",
   "metadata": {},
   "outputs": [
    {
     "data": {
      "text/html": [
       "<div>\n",
       "<style scoped>\n",
       "    .dataframe tbody tr th:only-of-type {\n",
       "        vertical-align: middle;\n",
       "    }\n",
       "\n",
       "    .dataframe tbody tr th {\n",
       "        vertical-align: top;\n",
       "    }\n",
       "\n",
       "    .dataframe thead th {\n",
       "        text-align: right;\n",
       "    }\n",
       "</style>\n",
       "<table border=\"1\" class=\"dataframe\">\n",
       "  <thead>\n",
       "    <tr style=\"text-align: right;\">\n",
       "      <th></th>\n",
       "      <th>Title</th>\n",
       "      <th>Company</th>\n",
       "      <th>Experience_required</th>\n",
       "      <th>Location</th>\n",
       "    </tr>\n",
       "  </thead>\n",
       "  <tbody>\n",
       "    <tr>\n",
       "      <th>0</th>\n",
       "      <td>SAS Analyst / data Analyst / Business analyst ...</td>\n",
       "      <td>Leading US MNC into analytics</td>\n",
       "      <td>2-7 Yrs</td>\n",
       "      <td>Bangalore/Bengaluru, Delhi / NCR, Mumbai (All ...</td>\n",
       "    </tr>\n",
       "    <tr>\n",
       "      <th>1</th>\n",
       "      <td>Data Analyst I</td>\n",
       "      <td>Bioclinica</td>\n",
       "      <td>0-3 Yrs</td>\n",
       "      <td>Bangalore/Bengaluru</td>\n",
       "    </tr>\n",
       "    <tr>\n",
       "      <th>2</th>\n",
       "      <td>Senior Data Analyst</td>\n",
       "      <td>Shell</td>\n",
       "      <td>10-12 Yrs</td>\n",
       "      <td>Bangalore/Bengaluru</td>\n",
       "    </tr>\n",
       "    <tr>\n",
       "      <th>3</th>\n",
       "      <td>Lead Data Analyst - Risk Analytics</td>\n",
       "      <td>Gojek</td>\n",
       "      <td>5-11 Yrs</td>\n",
       "      <td>Bangalore/Bengaluru</td>\n",
       "    </tr>\n",
       "    <tr>\n",
       "      <th>4</th>\n",
       "      <td>Hiring - Zonal Data Analyst (Off Role) - Opera...</td>\n",
       "      <td>Rupeek</td>\n",
       "      <td>2-7 Yrs</td>\n",
       "      <td>New Delhi, Bangalore/Bengaluru</td>\n",
       "    </tr>\n",
       "    <tr>\n",
       "      <th>5</th>\n",
       "      <td>Senior Data Analyst</td>\n",
       "      <td>LatentView</td>\n",
       "      <td>3-6 Yrs</td>\n",
       "      <td>Chennai, Bangalore/Bengaluru</td>\n",
       "    </tr>\n",
       "    <tr>\n",
       "      <th>6</th>\n",
       "      <td>Sr Domain Expert -Data Analysts</td>\n",
       "      <td>Siemens</td>\n",
       "      <td>0-10 Yrs</td>\n",
       "      <td>Bangalore/Bengaluru</td>\n",
       "    </tr>\n",
       "    <tr>\n",
       "      <th>7</th>\n",
       "      <td>Associate Data Analyst</td>\n",
       "      <td>Optum</td>\n",
       "      <td>2-7 Yrs</td>\n",
       "      <td>Bangalore/Bengaluru</td>\n",
       "    </tr>\n",
       "    <tr>\n",
       "      <th>8</th>\n",
       "      <td>Associate Data Analyst</td>\n",
       "      <td>Optum</td>\n",
       "      <td>4-9 Yrs</td>\n",
       "      <td>Bangalore/Bengaluru</td>\n",
       "    </tr>\n",
       "    <tr>\n",
       "      <th>9</th>\n",
       "      <td>Denave Hiring Data Analyst Bengaluru Location</td>\n",
       "      <td>Denave India Pvt Ltd.</td>\n",
       "      <td>5-10 Yrs</td>\n",
       "      <td>Bangalore/Bengaluru</td>\n",
       "    </tr>\n",
       "  </tbody>\n",
       "</table>\n",
       "</div>"
      ],
      "text/plain": [
       "                                               Title  \\\n",
       "0  SAS Analyst / data Analyst / Business analyst ...   \n",
       "1                                     Data Analyst I   \n",
       "2                                Senior Data Analyst   \n",
       "3                 Lead Data Analyst - Risk Analytics   \n",
       "4  Hiring - Zonal Data Analyst (Off Role) - Opera...   \n",
       "5                                Senior Data Analyst   \n",
       "6                    Sr Domain Expert -Data Analysts   \n",
       "7                             Associate Data Analyst   \n",
       "8                             Associate Data Analyst   \n",
       "9      Denave Hiring Data Analyst Bengaluru Location   \n",
       "\n",
       "                         Company Experience_required  \\\n",
       "0  Leading US MNC into analytics             2-7 Yrs   \n",
       "1                     Bioclinica             0-3 Yrs   \n",
       "2                          Shell           10-12 Yrs   \n",
       "3                          Gojek            5-11 Yrs   \n",
       "4                         Rupeek             2-7 Yrs   \n",
       "5                     LatentView             3-6 Yrs   \n",
       "6                        Siemens            0-10 Yrs   \n",
       "7                          Optum             2-7 Yrs   \n",
       "8                          Optum             4-9 Yrs   \n",
       "9          Denave India Pvt Ltd.            5-10 Yrs   \n",
       "\n",
       "                                            Location  \n",
       "0  Bangalore/Bengaluru, Delhi / NCR, Mumbai (All ...  \n",
       "1                                Bangalore/Bengaluru  \n",
       "2                                Bangalore/Bengaluru  \n",
       "3                                Bangalore/Bengaluru  \n",
       "4                     New Delhi, Bangalore/Bengaluru  \n",
       "5                       Chennai, Bangalore/Bengaluru  \n",
       "6                                Bangalore/Bengaluru  \n",
       "7                                Bangalore/Bengaluru  \n",
       "8                                Bangalore/Bengaluru  \n",
       "9                                Bangalore/Bengaluru  "
      ]
     },
     "execution_count": 32,
     "metadata": {},
     "output_type": "execute_result"
    }
   ],
   "source": [
    "jobs[0:10]"
   ]
  },
  {
   "cell_type": "code",
   "execution_count": null,
   "id": "d09b8e38",
   "metadata": {},
   "outputs": [],
   "source": []
  },
  {
   "cell_type": "markdown",
   "id": "5461a5f4",
   "metadata": {},
   "source": [
    "Q2:Write a python program to scrape data for “Data Scientist” Job position in “Bangalore” location. You have to scrape the job-title, job-location, company_name. You have to scrape first 10 jobs data.\n",
    "   \n",
    "Ans :- "
   ]
  },
  {
   "cell_type": "code",
   "execution_count": 33,
   "id": "9f1de865",
   "metadata": {},
   "outputs": [],
   "source": [
    "# lets first connect to the web driver\n",
    "driver = webdriver.Chrome(r\"C:\\Users\\JAYASHRI\\Downloads\\chromedriver_win32\\chromedriver.exe\")"
   ]
  },
  {
   "cell_type": "code",
   "execution_count": 34,
   "id": "2497e9f0",
   "metadata": {},
   "outputs": [],
   "source": [
    "driver=webdriver.Chrome(\"chromedriver.exe\")\n",
    "time.sleep(2)"
   ]
  },
  {
   "cell_type": "code",
   "execution_count": null,
   "id": "cedb99ad",
   "metadata": {},
   "outputs": [],
   "source": [
    "driver.close()"
   ]
  },
  {
   "cell_type": "code",
   "execution_count": 35,
   "id": "3dd4f8bb",
   "metadata": {},
   "outputs": [],
   "source": [
    "driver.get('https://www.naukri.com/')"
   ]
  },
  {
   "cell_type": "code",
   "execution_count": 36,
   "id": "06aae885",
   "metadata": {},
   "outputs": [],
   "source": [
    "# finding element for job search bar\n",
    "search_field_designation=driver.find_element_by_class_name(\"suggestor-input\")\n",
    "search_field_designation.send_keys(\"Data Scientist\")\n",
    "search_field_location=driver.find_element_by_xpath('/html/body/div/div[2]/div[3]/div/div/div[3]/div/div/div/input')\n",
    "search_field_location.send_keys(\"Bangalore\")"
   ]
  },
  {
   "cell_type": "code",
   "execution_count": 37,
   "id": "e4b0ab60",
   "metadata": {},
   "outputs": [],
   "source": [
    "search_button=driver.find_element_by_xpath(\"/html/body/div/div[2]/div[3]/div/div/div[6]\")\n",
    "search_button.click()"
   ]
  },
  {
   "cell_type": "code",
   "execution_count": 38,
   "id": "009676fb",
   "metadata": {},
   "outputs": [],
   "source": [
    "#specifying the url of the webpage to be scraped\n",
    "url=\"https://www.naukri.com/data-scientist-jobs-in-bangalore?k=data%20scientist&l=bangalore\""
   ]
  },
  {
   "cell_type": "code",
   "execution_count": 39,
   "id": "18091a0d",
   "metadata": {},
   "outputs": [],
   "source": [
    "driver.get(url)"
   ]
  },
  {
   "cell_type": "markdown",
   "id": "418274e4",
   "metadata": {},
   "source": [
    "Now we will see in the window opened by webdriver whether the webpage has opened or not. Lets check it\n",
    "\n",
    "So, now lets first creat 3 empty list. In these list the data will be stored while scraping. We have created 3 empty lists for 3 features which we have to exract\n",
    "\n",
    "1. job_title\n",
    "\n",
    "2. company_names\n",
    "\n",
    "3. locations_list\n"
   ]
  },
  {
   "cell_type": "code",
   "execution_count": 40,
   "id": "11995e7f",
   "metadata": {},
   "outputs": [],
   "source": [
    "job_titles=[]\n",
    "\n",
    "company_names=[]\n",
    "\n",
    "locations_list=[]"
   ]
  },
  {
   "cell_type": "markdown",
   "id": "f9cda5bc",
   "metadata": {},
   "source": [
    "First, we will extract all the tags where we have the job titles. Let me first show you on the webpage in which tags the job titles are put."
   ]
  },
  {
   "cell_type": "code",
   "execution_count": 41,
   "id": "bf7c77d6",
   "metadata": {},
   "outputs": [
    {
     "data": {
      "text/plain": [
       "[<selenium.webdriver.remote.webelement.WebElement (session=\"90c949729b9d678703e30fb8b7a04416\", element=\"144fb8a0-96f0-44db-8e20-cf8039a34305\")>,\n",
       " <selenium.webdriver.remote.webelement.WebElement (session=\"90c949729b9d678703e30fb8b7a04416\", element=\"a650d52f-9432-4604-a083-23c10dbb85c1\")>,\n",
       " <selenium.webdriver.remote.webelement.WebElement (session=\"90c949729b9d678703e30fb8b7a04416\", element=\"28a8ed61-beeb-4a08-a075-01cf36cadeb5\")>,\n",
       " <selenium.webdriver.remote.webelement.WebElement (session=\"90c949729b9d678703e30fb8b7a04416\", element=\"fc1e6963-7566-4f1f-b9a7-89b67a2958aa\")>,\n",
       " <selenium.webdriver.remote.webelement.WebElement (session=\"90c949729b9d678703e30fb8b7a04416\", element=\"92ea49b6-0da9-4ac6-aef6-2f7e6c7d569a\")>,\n",
       " <selenium.webdriver.remote.webelement.WebElement (session=\"90c949729b9d678703e30fb8b7a04416\", element=\"57a42bdf-fd48-4aa8-92ad-4ac4b79f2c1b\")>,\n",
       " <selenium.webdriver.remote.webelement.WebElement (session=\"90c949729b9d678703e30fb8b7a04416\", element=\"c0bab2f8-f6d8-4cf4-983a-a72dd09aa479\")>,\n",
       " <selenium.webdriver.remote.webelement.WebElement (session=\"90c949729b9d678703e30fb8b7a04416\", element=\"45dcaea0-df7d-45a2-8f04-8f518b000098\")>,\n",
       " <selenium.webdriver.remote.webelement.WebElement (session=\"90c949729b9d678703e30fb8b7a04416\", element=\"1af75b0a-362b-4af0-a34a-2efbb857d1c7\")>,\n",
       " <selenium.webdriver.remote.webelement.WebElement (session=\"90c949729b9d678703e30fb8b7a04416\", element=\"7c4e2c3e-f633-47c8-a782-0221031d5a7e\")>]"
      ]
     },
     "execution_count": 41,
     "metadata": {},
     "output_type": "execute_result"
    }
   ],
   "source": [
    "# so lets extract all the tags having the job-titles\n",
    "titles_tags=driver.find_elements_by_xpath(\"//a[@class='title fw500 ellipsis']\")\n",
    "titles_tags[0:10]"
   ]
  },
  {
   "cell_type": "markdown",
   "id": "f9c2d926",
   "metadata": {},
   "source": [
    "Now we have all the tags in which there are the job titles\n",
    "\n",
    "Now we will extract the text from these tags one by one by looping over these tags"
   ]
  },
  {
   "cell_type": "code",
   "execution_count": 42,
   "id": "82a812e8",
   "metadata": {},
   "outputs": [
    {
     "data": {
      "text/plain": [
       "['Senior Data Scientist',\n",
       " 'Senior Data Scientist',\n",
       " 'Staff Engineer Data Scientist',\n",
       " 'Rolls-Royce Data Labs : Data Scientist',\n",
       " 'Data Scientist: Advanced Analytics',\n",
       " 'FTE - Regional BI - Data Scientist',\n",
       " 'Data Scientist',\n",
       " 'Data Scientist: Artificial Intelligence',\n",
       " 'Data Scientist',\n",
       " 'Data Scientist']"
      ]
     },
     "execution_count": 42,
     "metadata": {},
     "output_type": "execute_result"
    }
   ],
   "source": [
    "# Now the text of the job title is inside the tags extracted above\n",
    "\n",
    "# so we will run a loop to iterate over the tags extracted above\n",
    "\n",
    "for i in titles_tags:\n",
    "    title=i.text\n",
    "    job_titles.append(title)\n",
    "job_titles[0:10]"
   ]
  },
  {
   "cell_type": "markdown",
   "id": "d71ab1d2",
   "metadata": {},
   "source": [
    "Now we will extract all the html tags where we have the company names. Let me first show you in which tags the company names are put on the webpage."
   ]
  },
  {
   "cell_type": "code",
   "execution_count": 43,
   "id": "89cc7fce",
   "metadata": {},
   "outputs": [
    {
     "data": {
      "text/plain": [
       "[<selenium.webdriver.remote.webelement.WebElement (session=\"90c949729b9d678703e30fb8b7a04416\", element=\"5c9d02d6-965a-4d44-8518-eaa79f9294a5\")>,\n",
       " <selenium.webdriver.remote.webelement.WebElement (session=\"90c949729b9d678703e30fb8b7a04416\", element=\"02053efe-b765-464d-ac22-2e1383cded8c\")>,\n",
       " <selenium.webdriver.remote.webelement.WebElement (session=\"90c949729b9d678703e30fb8b7a04416\", element=\"77059c7a-53d6-4870-b607-30857f225195\")>,\n",
       " <selenium.webdriver.remote.webelement.WebElement (session=\"90c949729b9d678703e30fb8b7a04416\", element=\"1685cc8b-dec5-4311-b7ff-ac80865c5121\")>,\n",
       " <selenium.webdriver.remote.webelement.WebElement (session=\"90c949729b9d678703e30fb8b7a04416\", element=\"0f9cb616-89f7-4f7c-9c4a-c061df662ba4\")>,\n",
       " <selenium.webdriver.remote.webelement.WebElement (session=\"90c949729b9d678703e30fb8b7a04416\", element=\"177f39dc-919e-4199-922c-2e6d2a0424b8\")>,\n",
       " <selenium.webdriver.remote.webelement.WebElement (session=\"90c949729b9d678703e30fb8b7a04416\", element=\"a986c6e2-0568-49c7-a863-1d6c535bb3f8\")>,\n",
       " <selenium.webdriver.remote.webelement.WebElement (session=\"90c949729b9d678703e30fb8b7a04416\", element=\"7f2c69bd-f9c4-4a00-ae65-37432af874cd\")>,\n",
       " <selenium.webdriver.remote.webelement.WebElement (session=\"90c949729b9d678703e30fb8b7a04416\", element=\"24226912-d292-49f5-a8a5-b255c49f2fcc\")>,\n",
       " <selenium.webdriver.remote.webelement.WebElement (session=\"90c949729b9d678703e30fb8b7a04416\", element=\"039fcd49-4347-4719-b403-948db58446f3\")>]"
      ]
     },
     "execution_count": 43,
     "metadata": {},
     "output_type": "execute_result"
    }
   ],
   "source": [
    "# So lets extract all the tags having the company names\n",
    "companies_tags=driver.find_elements_by_xpath(\"//a[@class='subTitle ellipsis fleft']\")\n",
    "companies_tags[0:10]"
   ]
  },
  {
   "cell_type": "markdown",
   "id": "b76e8295",
   "metadata": {},
   "source": [
    "Now we have all the tags in which there are the company names.\n",
    "\n",
    "Now we will extract the text from these tags one by one by looping over these tags"
   ]
  },
  {
   "cell_type": "code",
   "execution_count": 44,
   "id": "407cdc67",
   "metadata": {},
   "outputs": [
    {
     "data": {
      "text/plain": [
       "['Ericsson Global Services',\n",
       " 'Gojek',\n",
       " 'Infineon Technologies Pvt Ltd',\n",
       " 'Rolls Royce',\n",
       " 'IBM',\n",
       " 'Schneider Electric',\n",
       " 'Applied Materials',\n",
       " 'IBM',\n",
       " 'Ericsson Global Services',\n",
       " 'Optum']"
      ]
     },
     "execution_count": 44,
     "metadata": {},
     "output_type": "execute_result"
    }
   ],
   "source": [
    "for i in companies_tags:\n",
    "    company_name=i.text\n",
    "    company_names.append(company_name)\n",
    "company_names[0:10]"
   ]
  },
  {
   "cell_type": "markdown",
   "id": "5d6e2da0",
   "metadata": {},
   "source": [
    "Now we will extract all the tags where we have the location of the job data. Let me first show you in which tags this data is put on the webpage."
   ]
  },
  {
   "cell_type": "code",
   "execution_count": 46,
   "id": "c627ec3f",
   "metadata": {},
   "outputs": [
    {
     "data": {
      "text/plain": [
       "[<selenium.webdriver.remote.webelement.WebElement (session=\"90c949729b9d678703e30fb8b7a04416\", element=\"697098c5-732b-4060-b043-cdf1e7b270bc\")>,\n",
       " <selenium.webdriver.remote.webelement.WebElement (session=\"90c949729b9d678703e30fb8b7a04416\", element=\"a38af0d8-1258-40c8-b4e5-c612636e95e8\")>,\n",
       " <selenium.webdriver.remote.webelement.WebElement (session=\"90c949729b9d678703e30fb8b7a04416\", element=\"d0e42396-dcf5-4ab7-8d96-601dc24a39b9\")>,\n",
       " <selenium.webdriver.remote.webelement.WebElement (session=\"90c949729b9d678703e30fb8b7a04416\", element=\"1a0d45ac-f384-4225-b703-62fbec525680\")>,\n",
       " <selenium.webdriver.remote.webelement.WebElement (session=\"90c949729b9d678703e30fb8b7a04416\", element=\"f539c489-008a-4479-a7ed-ddb91472f76e\")>,\n",
       " <selenium.webdriver.remote.webelement.WebElement (session=\"90c949729b9d678703e30fb8b7a04416\", element=\"20577a4e-cdd6-4d10-97a5-07499950a69c\")>,\n",
       " <selenium.webdriver.remote.webelement.WebElement (session=\"90c949729b9d678703e30fb8b7a04416\", element=\"1fb93530-0964-4479-83cb-8998ff98d471\")>,\n",
       " <selenium.webdriver.remote.webelement.WebElement (session=\"90c949729b9d678703e30fb8b7a04416\", element=\"2019a7d1-bedc-412f-b135-79bc4b7a6e79\")>,\n",
       " <selenium.webdriver.remote.webelement.WebElement (session=\"90c949729b9d678703e30fb8b7a04416\", element=\"666babd7-edc8-4f8f-b164-1f4fe4cd21be\")>,\n",
       " <selenium.webdriver.remote.webelement.WebElement (session=\"90c949729b9d678703e30fb8b7a04416\", element=\"7bdd3c32-44b0-489d-a560-7c71d1f03f8b\")>]"
      ]
     },
     "execution_count": 46,
     "metadata": {},
     "output_type": "execute_result"
    }
   ],
   "source": [
    "# so lets extract all the tags having the location of the job data\n",
    "locations_tags=driver.find_elements_by_xpath(\"//li[@class='fleft grey-text br2 placeHolderLi location']/span[1]\")\n",
    "locations_tags[0:10]"
   ]
  },
  {
   "cell_type": "markdown",
   "id": "fddbbc7c",
   "metadata": {},
   "source": [
    "Now we have all the tags in which there is the data about the location of job.\n",
    "\n",
    "Now we will extract the text(location) from these tags one by one by looping over these tags"
   ]
  },
  {
   "cell_type": "code",
   "execution_count": 47,
   "id": "7b519356",
   "metadata": {},
   "outputs": [
    {
     "data": {
      "text/plain": [
       "['Bangalore/Bengaluru',\n",
       " 'Bangalore/Bengaluru',\n",
       " 'Bangalore/Bengaluru',\n",
       " 'Bangalore/Bengaluru',\n",
       " 'Bangalore/Bengaluru',\n",
       " 'Bangalore/Bengaluru',\n",
       " 'Bangalore/Bengaluru',\n",
       " 'Bangalore/Bengaluru',\n",
       " 'Bangalore/Bengaluru',\n",
       " 'Bangalore/Bengaluru']"
      ]
     },
     "execution_count": 47,
     "metadata": {},
     "output_type": "execute_result"
    }
   ],
   "source": [
    "for i in locations_tags:\n",
    "    locations=i.text\n",
    "    locations_list.append(locations)\n",
    "locations_list[0:10]"
   ]
  },
  {
   "cell_type": "markdown",
   "id": "91bd3de2",
   "metadata": {},
   "source": [
    "So now we have extracted the data required from the webpage and stored them in the 10 lists mention above. Now before creating a dataframe from these lists. Lets first check the length of each of the list. Because if the length of all of the lists are not equal, then dataframe cannot be formed."
   ]
  },
  {
   "cell_type": "code",
   "execution_count": 48,
   "id": "5a1f28b8",
   "metadata": {},
   "outputs": [
    {
     "name": "stdout",
     "output_type": "stream",
     "text": [
      "20 20 20\n"
     ]
    }
   ],
   "source": [
    "print(len(job_titles),len(company_names),len(locations_list))"
   ]
  },
  {
   "cell_type": "markdown",
   "id": "938bb896",
   "metadata": {},
   "source": [
    "Now creating a DataFrame of the scraped data."
   ]
  },
  {
   "cell_type": "code",
   "execution_count": 49,
   "id": "81e2071e",
   "metadata": {},
   "outputs": [],
   "source": [
    "jobs=pd.DataFrame({})\n",
    "jobs['Title']=job_titles\n",
    "jobs['Company']=company_names\n",
    "jobs['Location']=locations_list"
   ]
  },
  {
   "cell_type": "code",
   "execution_count": 50,
   "id": "d08b7b5c",
   "metadata": {},
   "outputs": [
    {
     "data": {
      "text/html": [
       "<div>\n",
       "<style scoped>\n",
       "    .dataframe tbody tr th:only-of-type {\n",
       "        vertical-align: middle;\n",
       "    }\n",
       "\n",
       "    .dataframe tbody tr th {\n",
       "        vertical-align: top;\n",
       "    }\n",
       "\n",
       "    .dataframe thead th {\n",
       "        text-align: right;\n",
       "    }\n",
       "</style>\n",
       "<table border=\"1\" class=\"dataframe\">\n",
       "  <thead>\n",
       "    <tr style=\"text-align: right;\">\n",
       "      <th></th>\n",
       "      <th>Title</th>\n",
       "      <th>Company</th>\n",
       "      <th>Location</th>\n",
       "    </tr>\n",
       "  </thead>\n",
       "  <tbody>\n",
       "    <tr>\n",
       "      <th>0</th>\n",
       "      <td>Senior Data Scientist</td>\n",
       "      <td>Ericsson Global Services</td>\n",
       "      <td>Bangalore/Bengaluru</td>\n",
       "    </tr>\n",
       "    <tr>\n",
       "      <th>1</th>\n",
       "      <td>Senior Data Scientist</td>\n",
       "      <td>Gojek</td>\n",
       "      <td>Bangalore/Bengaluru</td>\n",
       "    </tr>\n",
       "    <tr>\n",
       "      <th>2</th>\n",
       "      <td>Staff Engineer Data Scientist</td>\n",
       "      <td>Infineon Technologies Pvt Ltd</td>\n",
       "      <td>Bangalore/Bengaluru</td>\n",
       "    </tr>\n",
       "    <tr>\n",
       "      <th>3</th>\n",
       "      <td>Rolls-Royce Data Labs : Data Scientist</td>\n",
       "      <td>Rolls Royce</td>\n",
       "      <td>Bangalore/Bengaluru</td>\n",
       "    </tr>\n",
       "    <tr>\n",
       "      <th>4</th>\n",
       "      <td>Data Scientist: Advanced Analytics</td>\n",
       "      <td>IBM</td>\n",
       "      <td>Bangalore/Bengaluru</td>\n",
       "    </tr>\n",
       "    <tr>\n",
       "      <th>5</th>\n",
       "      <td>FTE - Regional BI - Data Scientist</td>\n",
       "      <td>Schneider Electric</td>\n",
       "      <td>Bangalore/Bengaluru</td>\n",
       "    </tr>\n",
       "    <tr>\n",
       "      <th>6</th>\n",
       "      <td>Data Scientist</td>\n",
       "      <td>Applied Materials</td>\n",
       "      <td>Bangalore/Bengaluru</td>\n",
       "    </tr>\n",
       "    <tr>\n",
       "      <th>7</th>\n",
       "      <td>Data Scientist: Artificial Intelligence</td>\n",
       "      <td>IBM</td>\n",
       "      <td>Bangalore/Bengaluru</td>\n",
       "    </tr>\n",
       "    <tr>\n",
       "      <th>8</th>\n",
       "      <td>Data Scientist</td>\n",
       "      <td>Ericsson Global Services</td>\n",
       "      <td>Bangalore/Bengaluru</td>\n",
       "    </tr>\n",
       "    <tr>\n",
       "      <th>9</th>\n",
       "      <td>Data Scientist</td>\n",
       "      <td>Optum</td>\n",
       "      <td>Bangalore/Bengaluru</td>\n",
       "    </tr>\n",
       "  </tbody>\n",
       "</table>\n",
       "</div>"
      ],
      "text/plain": [
       "                                     Title                        Company  \\\n",
       "0                    Senior Data Scientist       Ericsson Global Services   \n",
       "1                    Senior Data Scientist                          Gojek   \n",
       "2            Staff Engineer Data Scientist  Infineon Technologies Pvt Ltd   \n",
       "3   Rolls-Royce Data Labs : Data Scientist                    Rolls Royce   \n",
       "4       Data Scientist: Advanced Analytics                            IBM   \n",
       "5       FTE - Regional BI - Data Scientist             Schneider Electric   \n",
       "6                           Data Scientist              Applied Materials   \n",
       "7  Data Scientist: Artificial Intelligence                            IBM   \n",
       "8                           Data Scientist       Ericsson Global Services   \n",
       "9                           Data Scientist                          Optum   \n",
       "\n",
       "              Location  \n",
       "0  Bangalore/Bengaluru  \n",
       "1  Bangalore/Bengaluru  \n",
       "2  Bangalore/Bengaluru  \n",
       "3  Bangalore/Bengaluru  \n",
       "4  Bangalore/Bengaluru  \n",
       "5  Bangalore/Bengaluru  \n",
       "6  Bangalore/Bengaluru  \n",
       "7  Bangalore/Bengaluru  \n",
       "8  Bangalore/Bengaluru  \n",
       "9  Bangalore/Bengaluru  "
      ]
     },
     "execution_count": 50,
     "metadata": {},
     "output_type": "execute_result"
    }
   ],
   "source": [
    "jobs[0:10]"
   ]
  },
  {
   "cell_type": "code",
   "execution_count": null,
   "id": "114a9136",
   "metadata": {},
   "outputs": [],
   "source": []
  },
  {
   "cell_type": "markdown",
   "id": "f411c3a5",
   "metadata": {},
   "source": [
    "Q3: In this question you have to scrape data using the filters available on the webpage as shown below:\n",
    "\n",
    "You have to use the location and salary filter.\n",
    "\n",
    "You have to scrape data for “Data Scientist” designation for first 10 job results.\n",
    "\n",
    "You have to scrape the job-title, job-location, company name, experience required.\n",
    "\n",
    "The location filter to be used is “Delhi/NCR”. The salary filter to be used is “3-6” lakhs\n",
    "\n",
    "Ans  :-"
   ]
  },
  {
   "cell_type": "code",
   "execution_count": 54,
   "id": "2b78bd8b",
   "metadata": {},
   "outputs": [],
   "source": [
    "# lets first connect to the web driver\n",
    "driver = webdriver.Chrome(r\"C:\\Users\\JAYASHRI\\Downloads\\chromedriver_win32\\chromedriver.exe\")"
   ]
  },
  {
   "cell_type": "code",
   "execution_count": 55,
   "id": "18670ab5",
   "metadata": {},
   "outputs": [],
   "source": [
    "driver=webdriver.Chrome(\"chromedriver.exe\")\n",
    "time.sleep(2)"
   ]
  },
  {
   "cell_type": "code",
   "execution_count": 56,
   "id": "3a282d39",
   "metadata": {},
   "outputs": [],
   "source": [
    "driver.get('https://www.naukri.com/')"
   ]
  },
  {
   "cell_type": "code",
   "execution_count": 59,
   "id": "2c5426a0",
   "metadata": {},
   "outputs": [],
   "source": [
    "# finding element for job search bar\n",
    "search_field_designation=driver.find_element_by_class_name(\"suggestor-input\")\n",
    "search_field_designation.send_keys(\"Data Scientist\")\n",
    "search_field_location=driver.find_element_by_xpath('/html/body/div/div[2]/div[3]/div/div/div[3]/div/div/div/input')\n",
    "search_field_location.send_keys(\"Bangalore\")"
   ]
  },
  {
   "cell_type": "code",
   "execution_count": 60,
   "id": "9d148ba1",
   "metadata": {},
   "outputs": [],
   "source": [
    "search_button=driver.find_element_by_xpath(\"/html/body/div/div[2]/div[3]/div/div/div[6]\")\n",
    "search_button.click()"
   ]
  },
  {
   "cell_type": "code",
   "execution_count": 62,
   "id": "d9ec5111",
   "metadata": {},
   "outputs": [],
   "source": [
    "#specifying the url of the webpage to be scraped\n",
    "url=\"https://www.naukri.com/data-scientist-jobs-in-bangalore?k=data%20scientist&l=bangalore&ctcFilter=3to6&cityTypeGid=9508\""
   ]
  },
  {
   "cell_type": "code",
   "execution_count": 63,
   "id": "a9e9a796",
   "metadata": {},
   "outputs": [],
   "source": [
    "driver.get(url)"
   ]
  },
  {
   "cell_type": "markdown",
   "id": "f8fc4e3b",
   "metadata": {},
   "source": [
    "Now we will see in the window opened by webdriver whether the webpage has opened or not. Lets check it\n",
    "\n",
    "So, now lets first creat 4 empty list. In these list the data will be stored while scraping. We have created 4 empty lists for 4 features which we have to exract\n",
    "\n",
    "1. job_title \n",
    "\n",
    "2. company_names\n",
    "\n",
    "3. locations_list\n",
    "\n",
    "4. experience_list"
   ]
  },
  {
   "cell_type": "code",
   "execution_count": 64,
   "id": "2d33b5fc",
   "metadata": {},
   "outputs": [],
   "source": [
    "job_titles=[]\n",
    "\n",
    "company_names=[]\n",
    "\n",
    "locations_list=[]\n",
    "\n",
    "experience_list=[]"
   ]
  },
  {
   "cell_type": "code",
   "execution_count": 65,
   "id": "ce000c4b",
   "metadata": {},
   "outputs": [
    {
     "data": {
      "text/plain": [
       "[<selenium.webdriver.remote.webelement.WebElement (session=\"b400d200cae610e2d802a1afe8886573\", element=\"6276245c-6601-488d-8129-0227486854ab\")>,\n",
       " <selenium.webdriver.remote.webelement.WebElement (session=\"b400d200cae610e2d802a1afe8886573\", element=\"a877f7f3-e6a2-4eb6-8e51-a13ea799b01b\")>,\n",
       " <selenium.webdriver.remote.webelement.WebElement (session=\"b400d200cae610e2d802a1afe8886573\", element=\"fd0dbc5a-4540-458b-b547-f765b602ec04\")>,\n",
       " <selenium.webdriver.remote.webelement.WebElement (session=\"b400d200cae610e2d802a1afe8886573\", element=\"fcb0c27a-ddbc-4b86-afb9-12bf5d7e4ef8\")>,\n",
       " <selenium.webdriver.remote.webelement.WebElement (session=\"b400d200cae610e2d802a1afe8886573\", element=\"f608ae30-1552-44a3-bf99-ebe8858d4aee\")>,\n",
       " <selenium.webdriver.remote.webelement.WebElement (session=\"b400d200cae610e2d802a1afe8886573\", element=\"eb18c309-baf7-4742-8f7f-7612433fd389\")>,\n",
       " <selenium.webdriver.remote.webelement.WebElement (session=\"b400d200cae610e2d802a1afe8886573\", element=\"30b5b9aa-1bea-4ac0-99c5-29713dabbb14\")>,\n",
       " <selenium.webdriver.remote.webelement.WebElement (session=\"b400d200cae610e2d802a1afe8886573\", element=\"66de00c9-697e-4979-a683-7b35998a6afa\")>,\n",
       " <selenium.webdriver.remote.webelement.WebElement (session=\"b400d200cae610e2d802a1afe8886573\", element=\"b1f7047d-7fc5-4cbd-a2eb-e49c50b952e4\")>,\n",
       " <selenium.webdriver.remote.webelement.WebElement (session=\"b400d200cae610e2d802a1afe8886573\", element=\"2b838256-5d1d-437e-8a94-c22d9660f740\")>]"
      ]
     },
     "execution_count": 65,
     "metadata": {},
     "output_type": "execute_result"
    }
   ],
   "source": [
    "# so lets extract all the tags having the job-titles\n",
    "titles_tags=driver.find_elements_by_xpath(\"//a[@class='title fw500 ellipsis']\")\n",
    "titles_tags[0:10]"
   ]
  },
  {
   "cell_type": "markdown",
   "id": "dc918e3d",
   "metadata": {},
   "source": [
    "Now we have all the tags in which there are the job titles\n",
    "\n",
    "Now we will extract the text from these tags one by one by looping over these tags"
   ]
  },
  {
   "cell_type": "code",
   "execution_count": 66,
   "id": "0708057c",
   "metadata": {},
   "outputs": [
    {
     "data": {
      "text/plain": [
       "['Data Scientist/ Machine Learning, 2022 Passout Can also apply',\n",
       " 'Data Scientist',\n",
       " 'Data Scientist - Python/SQL',\n",
       " 'Data Scientist',\n",
       " 'Urgent opening For Data Scientist role',\n",
       " 'Data & Applied Scientist',\n",
       " 'Data and applied Scientist',\n",
       " 'Data Scientist',\n",
       " 'Senior Data Scientist Lead',\n",
       " 'Hiring - Zonal Data Analyst (Off Role) - Operations - Bangalore & Delh']"
      ]
     },
     "execution_count": 66,
     "metadata": {},
     "output_type": "execute_result"
    }
   ],
   "source": [
    "# Now the text of the job title is inside the tags extracted above\n",
    "\n",
    "# so we will run a loop to iterate over the tags extracted above\n",
    "\n",
    "for i in titles_tags:\n",
    "    title=i.text\n",
    "    job_titles.append(title)\n",
    "job_titles[0:10]"
   ]
  },
  {
   "cell_type": "markdown",
   "id": "d0a6e331",
   "metadata": {},
   "source": [
    "Now we will extract all the html tags where we have the company names. Let me first show you in which tags the company names are put on the webpage."
   ]
  },
  {
   "cell_type": "code",
   "execution_count": 67,
   "id": "199b48e6",
   "metadata": {},
   "outputs": [
    {
     "data": {
      "text/plain": [
       "[<selenium.webdriver.remote.webelement.WebElement (session=\"b400d200cae610e2d802a1afe8886573\", element=\"d52e78f4-8a7c-4da0-b787-5cae40d1bbca\")>,\n",
       " <selenium.webdriver.remote.webelement.WebElement (session=\"b400d200cae610e2d802a1afe8886573\", element=\"797493ed-6d4a-4313-aa5b-acd37cf66760\")>,\n",
       " <selenium.webdriver.remote.webelement.WebElement (session=\"b400d200cae610e2d802a1afe8886573\", element=\"b6621b56-38bd-401a-9827-650653e81fef\")>,\n",
       " <selenium.webdriver.remote.webelement.WebElement (session=\"b400d200cae610e2d802a1afe8886573\", element=\"23bf624c-4ab0-4984-9c45-49d6c7b23eb6\")>,\n",
       " <selenium.webdriver.remote.webelement.WebElement (session=\"b400d200cae610e2d802a1afe8886573\", element=\"cfdeb3fe-8828-434a-ae32-f376e7561332\")>,\n",
       " <selenium.webdriver.remote.webelement.WebElement (session=\"b400d200cae610e2d802a1afe8886573\", element=\"d06d8ba5-a00b-40cc-a0f6-181aecced465\")>,\n",
       " <selenium.webdriver.remote.webelement.WebElement (session=\"b400d200cae610e2d802a1afe8886573\", element=\"bd36e510-a679-4326-8679-09817e6925b6\")>,\n",
       " <selenium.webdriver.remote.webelement.WebElement (session=\"b400d200cae610e2d802a1afe8886573\", element=\"d9d8101c-393c-4ab5-b29b-d81189a4810d\")>,\n",
       " <selenium.webdriver.remote.webelement.WebElement (session=\"b400d200cae610e2d802a1afe8886573\", element=\"d0890c88-8cb5-4a57-bdc1-937bb7e087f0\")>,\n",
       " <selenium.webdriver.remote.webelement.WebElement (session=\"b400d200cae610e2d802a1afe8886573\", element=\"d6a1ec04-730c-4d75-abcb-e80717655f92\")>]"
      ]
     },
     "execution_count": 67,
     "metadata": {},
     "output_type": "execute_result"
    }
   ],
   "source": [
    "# So lets extract all the tags having the company names\n",
    "companies_tags=driver.find_elements_by_xpath(\"//a[@class='subTitle ellipsis fleft']\")\n",
    "companies_tags[0:10]"
   ]
  },
  {
   "cell_type": "markdown",
   "id": "cd131d19",
   "metadata": {},
   "source": [
    "Now we have all the tags in which there are the company names.\n",
    "\n",
    "Now we will extract the text from these tags one by one by looping over these tags"
   ]
  },
  {
   "cell_type": "code",
   "execution_count": 68,
   "id": "6403931e",
   "metadata": {},
   "outputs": [
    {
     "data": {
      "text/plain": [
       "['Creative Hands HR Consultancy',\n",
       " 'BlackBuck',\n",
       " 'AVE-Promagne',\n",
       " 'Country Veggie',\n",
       " 'GLOBAL UPSIDE India Pvt Ltd',\n",
       " 'Microsoft',\n",
       " 'Microsoft',\n",
       " 'SpotDraft',\n",
       " 'Wipro',\n",
       " 'Rupeek']"
      ]
     },
     "execution_count": 68,
     "metadata": {},
     "output_type": "execute_result"
    }
   ],
   "source": [
    "for i in companies_tags:\n",
    "    company_name=i.text\n",
    "    company_names.append(company_name)\n",
    "company_names[0:10]"
   ]
  },
  {
   "cell_type": "markdown",
   "id": "073583b9",
   "metadata": {},
   "source": [
    "Now we will extract all the tags where we have the location of the job data. Let me first show you in which tags this data is put on the webpage."
   ]
  },
  {
   "cell_type": "code",
   "execution_count": 69,
   "id": "217bae39",
   "metadata": {},
   "outputs": [
    {
     "data": {
      "text/plain": [
       "[<selenium.webdriver.remote.webelement.WebElement (session=\"b400d200cae610e2d802a1afe8886573\", element=\"9cb3e4a5-999c-4dbf-acaf-f9f12f4ed16a\")>,\n",
       " <selenium.webdriver.remote.webelement.WebElement (session=\"b400d200cae610e2d802a1afe8886573\", element=\"7c61e2f7-eb8f-40cf-b389-4171a6de2634\")>,\n",
       " <selenium.webdriver.remote.webelement.WebElement (session=\"b400d200cae610e2d802a1afe8886573\", element=\"6f9510a0-0f5a-4e31-ae51-ca85813dea49\")>,\n",
       " <selenium.webdriver.remote.webelement.WebElement (session=\"b400d200cae610e2d802a1afe8886573\", element=\"50c5fd4b-cddb-4564-abb2-5cff287b5fb0\")>,\n",
       " <selenium.webdriver.remote.webelement.WebElement (session=\"b400d200cae610e2d802a1afe8886573\", element=\"00d55638-739f-4b83-9323-bccc13b329f3\")>,\n",
       " <selenium.webdriver.remote.webelement.WebElement (session=\"b400d200cae610e2d802a1afe8886573\", element=\"86dbe282-4199-4b4f-b785-25d902734a13\")>,\n",
       " <selenium.webdriver.remote.webelement.WebElement (session=\"b400d200cae610e2d802a1afe8886573\", element=\"4beacb1a-0705-4d91-9415-2a19496da13a\")>,\n",
       " <selenium.webdriver.remote.webelement.WebElement (session=\"b400d200cae610e2d802a1afe8886573\", element=\"7f10b9d4-7a7f-4cec-b45c-3c484ed2eb69\")>,\n",
       " <selenium.webdriver.remote.webelement.WebElement (session=\"b400d200cae610e2d802a1afe8886573\", element=\"073159d4-e3d3-41fa-a3af-8786ce57260b\")>,\n",
       " <selenium.webdriver.remote.webelement.WebElement (session=\"b400d200cae610e2d802a1afe8886573\", element=\"7792c426-a34b-45cf-b207-286db3d6cbfa\")>]"
      ]
     },
     "execution_count": 69,
     "metadata": {},
     "output_type": "execute_result"
    }
   ],
   "source": [
    "# so lets extract all the tags having the location of the job data\n",
    "locations_tags=driver.find_elements_by_xpath(\"//li[@class='fleft grey-text br2 placeHolderLi location']/span[1]\")\n",
    "locations_tags[0:10]"
   ]
  },
  {
   "cell_type": "markdown",
   "id": "dda9ae63",
   "metadata": {},
   "source": [
    "Now we have all the tags in which there is the data about the location of job.\n",
    "\n",
    "Now we will extract the text(location) from these tags one by one by looping over these tags"
   ]
  },
  {
   "cell_type": "code",
   "execution_count": 70,
   "id": "e7985b2c",
   "metadata": {},
   "outputs": [
    {
     "data": {
      "text/plain": [
       "['Hyderabad/Secunderabad, Ahmedabad, Chennai, Bangalore/Bengaluru, Delhi / NCR, Mumbai (All Areas)',\n",
       " 'Gurgaon, Bengaluru',\n",
       " 'Noida, Kota, Mumbai, Chandigarh, Lucknow, Agra, Gurgaon/Gurugram, Jaipur, Bangalore/Bengaluru',\n",
       " 'Bharuch, Jaipur, Bhopal, Mumbai, Jhansi, Nagpur, Ghaziabad, Jaunpur, Kanpur, Delhi, Lucknow, Agra, Gurgaon, Rajkot, Bengaluru',\n",
       " 'New Delhi, Bangalore/Bengaluru',\n",
       " 'Noida, Hyderabad/Secunderabad, Bangalore/Bengaluru',\n",
       " 'Noida, Hyderabad/Secunderabad, Bangalore/Bengaluru',\n",
       " 'Gurgaon/Gurugram, Bangalore/Bengaluru',\n",
       " 'Kolkata, Hyderabad/Secunderabad, Pune, Chennai, Bangalore/Bengaluru, Delhi / NCR, Mumbai (All Areas)',\n",
       " 'New Delhi, Bangalore/Bengaluru']"
      ]
     },
     "execution_count": 70,
     "metadata": {},
     "output_type": "execute_result"
    }
   ],
   "source": [
    "for i in locations_tags:\n",
    "    locations=i.text\n",
    "    locations_list.append(locations)\n",
    "locations_list[0:10]"
   ]
  },
  {
   "cell_type": "markdown",
   "id": "175e250c",
   "metadata": {},
   "source": [
    "Now we will extract all the html tags where we have the experiance required data. Let me first show you in which tags this data is put on the webpage."
   ]
  },
  {
   "cell_type": "code",
   "execution_count": 71,
   "id": "f0748328",
   "metadata": {},
   "outputs": [
    {
     "data": {
      "text/plain": [
       "[<selenium.webdriver.remote.webelement.WebElement (session=\"b400d200cae610e2d802a1afe8886573\", element=\"5bcd2c16-fa96-4568-8110-7f96df0048ad\")>,\n",
       " <selenium.webdriver.remote.webelement.WebElement (session=\"b400d200cae610e2d802a1afe8886573\", element=\"60edd070-a70a-418e-8428-a4fa650991e3\")>,\n",
       " <selenium.webdriver.remote.webelement.WebElement (session=\"b400d200cae610e2d802a1afe8886573\", element=\"c006d4f0-e43e-4903-8b75-b8b828a1df07\")>,\n",
       " <selenium.webdriver.remote.webelement.WebElement (session=\"b400d200cae610e2d802a1afe8886573\", element=\"daa30180-18ec-4ed8-ba92-ec2581a4de00\")>,\n",
       " <selenium.webdriver.remote.webelement.WebElement (session=\"b400d200cae610e2d802a1afe8886573\", element=\"a6dd13e8-3761-4e8c-b479-f3a62f1dc512\")>,\n",
       " <selenium.webdriver.remote.webelement.WebElement (session=\"b400d200cae610e2d802a1afe8886573\", element=\"1a9de1ec-12c9-47b2-b058-8b670fc196b9\")>,\n",
       " <selenium.webdriver.remote.webelement.WebElement (session=\"b400d200cae610e2d802a1afe8886573\", element=\"a5fd34fe-c309-42a4-a24f-48464a2ff05c\")>,\n",
       " <selenium.webdriver.remote.webelement.WebElement (session=\"b400d200cae610e2d802a1afe8886573\", element=\"9bce0105-7649-4785-8e4b-9d2853d8543b\")>,\n",
       " <selenium.webdriver.remote.webelement.WebElement (session=\"b400d200cae610e2d802a1afe8886573\", element=\"c93c5169-d822-49f4-bd3c-c50831d36dff\")>,\n",
       " <selenium.webdriver.remote.webelement.WebElement (session=\"b400d200cae610e2d802a1afe8886573\", element=\"635acd71-57c0-4926-87e3-2a903028ada6\")>]"
      ]
     },
     "execution_count": 71,
     "metadata": {},
     "output_type": "execute_result"
    }
   ],
   "source": [
    "# so lets extract all the tags having the experience required data\n",
    "experiance_tags=driver.find_elements_by_xpath(\"//li[@class='fleft grey-text br2 placeHolderLi experience']/span[1]\")\n",
    "experiance_tags[0:10]"
   ]
  },
  {
   "cell_type": "markdown",
   "id": "9cc1f498",
   "metadata": {},
   "source": [
    "Now we have all the tags in which there are the experience required data.\n",
    "\n",
    "Now we will extract the text from these tags one by one by looping over these tags"
   ]
  },
  {
   "cell_type": "code",
   "execution_count": 72,
   "id": "cccc1c54",
   "metadata": {},
   "outputs": [
    {
     "data": {
      "text/plain": [
       "['0-4 Yrs',\n",
       " '3-7 Yrs',\n",
       " '3-8 Yrs',\n",
       " '1-3 Yrs',\n",
       " '2-4 Yrs',\n",
       " '3-7 Yrs',\n",
       " '3-7 Yrs',\n",
       " '1-5 Yrs',\n",
       " '6-11 Yrs',\n",
       " '2-7 Yrs']"
      ]
     },
     "execution_count": 72,
     "metadata": {},
     "output_type": "execute_result"
    }
   ],
   "source": [
    "for i in experiance_tags:\n",
    "    experience=i.text\n",
    "    experience_list.append(experience)\n",
    "experience_list[0:10]"
   ]
  },
  {
   "cell_type": "markdown",
   "id": "8f7618a1",
   "metadata": {},
   "source": [
    "So now we have extracted the data required from the webpage and stored them in the 10 lists mention above. Now before creating a dataframe from these lists. Lets first check the length of each of the list. Because if the length of all of the lists are not equal, then dataframe cannot be formed."
   ]
  },
  {
   "cell_type": "code",
   "execution_count": 73,
   "id": "59a49cca",
   "metadata": {},
   "outputs": [
    {
     "name": "stdout",
     "output_type": "stream",
     "text": [
      "20 20 20 20\n"
     ]
    }
   ],
   "source": [
    "print(len(job_titles),len(company_names),len(locations_list),len(experience_list))"
   ]
  },
  {
   "cell_type": "markdown",
   "id": "7ad4afa0",
   "metadata": {},
   "source": [
    "Now creating a DataFrame of the scraped data."
   ]
  },
  {
   "cell_type": "code",
   "execution_count": 74,
   "id": "6da3ce89",
   "metadata": {},
   "outputs": [],
   "source": [
    "jobs=pd.DataFrame({})\n",
    "jobs['Title']=job_titles\n",
    "jobs['Company']=company_names\n",
    "jobs['Experience_required']=experience_list\n",
    "jobs['Location']=locations_list"
   ]
  },
  {
   "cell_type": "code",
   "execution_count": 75,
   "id": "303331d5",
   "metadata": {},
   "outputs": [
    {
     "data": {
      "text/html": [
       "<div>\n",
       "<style scoped>\n",
       "    .dataframe tbody tr th:only-of-type {\n",
       "        vertical-align: middle;\n",
       "    }\n",
       "\n",
       "    .dataframe tbody tr th {\n",
       "        vertical-align: top;\n",
       "    }\n",
       "\n",
       "    .dataframe thead th {\n",
       "        text-align: right;\n",
       "    }\n",
       "</style>\n",
       "<table border=\"1\" class=\"dataframe\">\n",
       "  <thead>\n",
       "    <tr style=\"text-align: right;\">\n",
       "      <th></th>\n",
       "      <th>Title</th>\n",
       "      <th>Company</th>\n",
       "      <th>Experience_required</th>\n",
       "      <th>Location</th>\n",
       "    </tr>\n",
       "  </thead>\n",
       "  <tbody>\n",
       "    <tr>\n",
       "      <th>0</th>\n",
       "      <td>Data Scientist/ Machine Learning, 2022 Passout...</td>\n",
       "      <td>Creative Hands HR Consultancy</td>\n",
       "      <td>0-4 Yrs</td>\n",
       "      <td>Hyderabad/Secunderabad, Ahmedabad, Chennai, Ba...</td>\n",
       "    </tr>\n",
       "    <tr>\n",
       "      <th>1</th>\n",
       "      <td>Data Scientist</td>\n",
       "      <td>BlackBuck</td>\n",
       "      <td>3-7 Yrs</td>\n",
       "      <td>Gurgaon, Bengaluru</td>\n",
       "    </tr>\n",
       "    <tr>\n",
       "      <th>2</th>\n",
       "      <td>Data Scientist - Python/SQL</td>\n",
       "      <td>AVE-Promagne</td>\n",
       "      <td>3-8 Yrs</td>\n",
       "      <td>Noida, Kota, Mumbai, Chandigarh, Lucknow, Agra...</td>\n",
       "    </tr>\n",
       "    <tr>\n",
       "      <th>3</th>\n",
       "      <td>Data Scientist</td>\n",
       "      <td>Country Veggie</td>\n",
       "      <td>1-3 Yrs</td>\n",
       "      <td>Bharuch, Jaipur, Bhopal, Mumbai, Jhansi, Nagpu...</td>\n",
       "    </tr>\n",
       "    <tr>\n",
       "      <th>4</th>\n",
       "      <td>Urgent opening For Data Scientist role</td>\n",
       "      <td>GLOBAL UPSIDE India Pvt Ltd</td>\n",
       "      <td>2-4 Yrs</td>\n",
       "      <td>New Delhi, Bangalore/Bengaluru</td>\n",
       "    </tr>\n",
       "    <tr>\n",
       "      <th>5</th>\n",
       "      <td>Data &amp; Applied Scientist</td>\n",
       "      <td>Microsoft</td>\n",
       "      <td>3-7 Yrs</td>\n",
       "      <td>Noida, Hyderabad/Secunderabad, Bangalore/Benga...</td>\n",
       "    </tr>\n",
       "    <tr>\n",
       "      <th>6</th>\n",
       "      <td>Data and applied Scientist</td>\n",
       "      <td>Microsoft</td>\n",
       "      <td>3-7 Yrs</td>\n",
       "      <td>Noida, Hyderabad/Secunderabad, Bangalore/Benga...</td>\n",
       "    </tr>\n",
       "    <tr>\n",
       "      <th>7</th>\n",
       "      <td>Data Scientist</td>\n",
       "      <td>SpotDraft</td>\n",
       "      <td>1-5 Yrs</td>\n",
       "      <td>Gurgaon/Gurugram, Bangalore/Bengaluru</td>\n",
       "    </tr>\n",
       "    <tr>\n",
       "      <th>8</th>\n",
       "      <td>Senior Data Scientist Lead</td>\n",
       "      <td>Wipro</td>\n",
       "      <td>6-11 Yrs</td>\n",
       "      <td>Kolkata, Hyderabad/Secunderabad, Pune, Chennai...</td>\n",
       "    </tr>\n",
       "    <tr>\n",
       "      <th>9</th>\n",
       "      <td>Hiring - Zonal Data Analyst (Off Role) - Opera...</td>\n",
       "      <td>Rupeek</td>\n",
       "      <td>2-7 Yrs</td>\n",
       "      <td>New Delhi, Bangalore/Bengaluru</td>\n",
       "    </tr>\n",
       "  </tbody>\n",
       "</table>\n",
       "</div>"
      ],
      "text/plain": [
       "                                               Title  \\\n",
       "0  Data Scientist/ Machine Learning, 2022 Passout...   \n",
       "1                                     Data Scientist   \n",
       "2                        Data Scientist - Python/SQL   \n",
       "3                                     Data Scientist   \n",
       "4             Urgent opening For Data Scientist role   \n",
       "5                           Data & Applied Scientist   \n",
       "6                         Data and applied Scientist   \n",
       "7                                     Data Scientist   \n",
       "8                         Senior Data Scientist Lead   \n",
       "9  Hiring - Zonal Data Analyst (Off Role) - Opera...   \n",
       "\n",
       "                         Company Experience_required  \\\n",
       "0  Creative Hands HR Consultancy             0-4 Yrs   \n",
       "1                      BlackBuck             3-7 Yrs   \n",
       "2                   AVE-Promagne             3-8 Yrs   \n",
       "3                 Country Veggie             1-3 Yrs   \n",
       "4    GLOBAL UPSIDE India Pvt Ltd             2-4 Yrs   \n",
       "5                      Microsoft             3-7 Yrs   \n",
       "6                      Microsoft             3-7 Yrs   \n",
       "7                      SpotDraft             1-5 Yrs   \n",
       "8                          Wipro            6-11 Yrs   \n",
       "9                         Rupeek             2-7 Yrs   \n",
       "\n",
       "                                            Location  \n",
       "0  Hyderabad/Secunderabad, Ahmedabad, Chennai, Ba...  \n",
       "1                                 Gurgaon, Bengaluru  \n",
       "2  Noida, Kota, Mumbai, Chandigarh, Lucknow, Agra...  \n",
       "3  Bharuch, Jaipur, Bhopal, Mumbai, Jhansi, Nagpu...  \n",
       "4                     New Delhi, Bangalore/Bengaluru  \n",
       "5  Noida, Hyderabad/Secunderabad, Bangalore/Benga...  \n",
       "6  Noida, Hyderabad/Secunderabad, Bangalore/Benga...  \n",
       "7              Gurgaon/Gurugram, Bangalore/Bengaluru  \n",
       "8  Kolkata, Hyderabad/Secunderabad, Pune, Chennai...  \n",
       "9                     New Delhi, Bangalore/Bengaluru  "
      ]
     },
     "execution_count": 75,
     "metadata": {},
     "output_type": "execute_result"
    }
   ],
   "source": [
    "jobs[0:10]"
   ]
  },
  {
   "cell_type": "code",
   "execution_count": null,
   "id": "a6770075",
   "metadata": {},
   "outputs": [],
   "source": []
  },
  {
   "cell_type": "markdown",
   "id": "e203fccc",
   "metadata": {},
   "source": [
    "Q4: Scrape data of first 100 sunglasses listings on flipkart.com. You have to scrape four attributes:\n",
    "1. Brand\n",
    "2. Product Description\n",
    "3. Price\n",
    "The attributes which you have to scrape is ticked marked in the below image.\n",
    "\n",
    "Ans :- "
   ]
  },
  {
   "cell_type": "code",
   "execution_count": 2,
   "id": "13555722",
   "metadata": {},
   "outputs": [],
   "source": [
    "# lets first connect to the web driver\n",
    "driver = webdriver.Chrome(r\"C:\\Users\\JAYASHRI\\Downloads\\chromedriver_win32\\chromedriver.exe\")"
   ]
  },
  {
   "cell_type": "code",
   "execution_count": 3,
   "id": "8e704b9c",
   "metadata": {},
   "outputs": [],
   "source": [
    "driver=webdriver.Chrome(\"chromedriver.exe\")\n",
    "time.sleep(2)"
   ]
  },
  {
   "cell_type": "code",
   "execution_count": 4,
   "id": "a3c6c606",
   "metadata": {},
   "outputs": [],
   "source": [
    "driver.get('https://www.flipkart.com/')"
   ]
  },
  {
   "cell_type": "code",
   "execution_count": 5,
   "id": "98f9fd2f",
   "metadata": {},
   "outputs": [],
   "source": [
    "search_products_brands=driver.find_element_by_class_name(\"_3704LK\")\n",
    "search_products_brands.send_keys(\"sunglasses\")"
   ]
  },
  {
   "cell_type": "code",
   "execution_count": 6,
   "id": "99487927",
   "metadata": {},
   "outputs": [],
   "source": [
    "search_button=driver.find_element_by_xpath(\"/html/body/div[1]/div/div[1]/div[1]/div[2]/div[2]/form/div\")\n",
    "search_button.click()"
   ]
  },
  {
   "cell_type": "code",
   "execution_count": 7,
   "id": "90dcb4c9",
   "metadata": {},
   "outputs": [],
   "source": [
    "#specifying the url of the webpage to be scraped\n",
    "url=\"https://www.flipkart.com/search?q=sunglasses&otracker=search&otracker1=search&marketplace=FLIPKART&as-show=on&as=off\""
   ]
  },
  {
   "cell_type": "code",
   "execution_count": 8,
   "id": "4d1c0222",
   "metadata": {},
   "outputs": [],
   "source": [
    "driver.get(url)"
   ]
  },
  {
   "cell_type": "markdown",
   "id": "30a01563",
   "metadata": {},
   "source": [
    "Now we will see in the window opened by webdriver whether the webpage has opened or not. Lets check it\n",
    "\n",
    "So, now lets first create 3 empty list. In these list the data will be stored while scraping. We have created 3 empty lists for 4 features which we have to exract\n",
    "\n",
    "1. Brand\n",
    "\n",
    "2. Product Description\n",
    "\n",
    "3. Price"
   ]
  },
  {
   "cell_type": "code",
   "execution_count": 9,
   "id": "421527f5",
   "metadata": {},
   "outputs": [],
   "source": [
    "brands=[]\n",
    "product_description=[]\n",
    "price=[]"
   ]
  },
  {
   "cell_type": "markdown",
   "id": "ff92d71d",
   "metadata": {},
   "source": [
    "First, we will extract all the tags where we have the brands. Let me first show you on the webpage in which tags the brands are put."
   ]
  },
  {
   "cell_type": "code",
   "execution_count": 10,
   "id": "60d19990",
   "metadata": {},
   "outputs": [],
   "source": [
    "# so lets extract all the tags having the brand\n",
    "\n",
    "brand_tags1=driver.find_elements_by_xpath(\"//div[@class='_2WkVRV']\")\n",
    "\n",
    "brand_tags2=driver.find_elements_by_xpath(\"//div[@class='_2WkVRV']\")\n",
    "\n",
    "brand_tags3=driver.find_elements_by_xpath(\"//div[@class='_2WkVRV']\")\n",
    "\n",
    "brand_tags=brand_tags1 + brand_tags2 + brand_tags3"
   ]
  },
  {
   "cell_type": "code",
   "execution_count": 11,
   "id": "06b1adbc",
   "metadata": {},
   "outputs": [
    {
     "data": {
      "text/plain": [
       "[<selenium.webdriver.remote.webelement.WebElement (session=\"ab032f832b19949112697a453b5ff0cb\", element=\"681b65a6-2b37-48e5-847c-8443c150d2ac\")>,\n",
       " <selenium.webdriver.remote.webelement.WebElement (session=\"ab032f832b19949112697a453b5ff0cb\", element=\"9d68094f-75bc-4564-87d4-53d2ace42ed1\")>,\n",
       " <selenium.webdriver.remote.webelement.WebElement (session=\"ab032f832b19949112697a453b5ff0cb\", element=\"bdb5f24a-d24e-4c75-af24-75452d66ed3a\")>,\n",
       " <selenium.webdriver.remote.webelement.WebElement (session=\"ab032f832b19949112697a453b5ff0cb\", element=\"27abbb54-62d5-4452-9a9d-8f56fa94e5a2\")>,\n",
       " <selenium.webdriver.remote.webelement.WebElement (session=\"ab032f832b19949112697a453b5ff0cb\", element=\"3cf81618-102f-4182-b667-cb6093393b02\")>,\n",
       " <selenium.webdriver.remote.webelement.WebElement (session=\"ab032f832b19949112697a453b5ff0cb\", element=\"edc1162b-5bd2-47e7-9321-54cb573d117f\")>,\n",
       " <selenium.webdriver.remote.webelement.WebElement (session=\"ab032f832b19949112697a453b5ff0cb\", element=\"b4fb4ce7-edad-423e-8a01-3a1d650e4cfb\")>,\n",
       " <selenium.webdriver.remote.webelement.WebElement (session=\"ab032f832b19949112697a453b5ff0cb\", element=\"dfb9cf01-c04b-494f-b03b-ef7625e113e1\")>,\n",
       " <selenium.webdriver.remote.webelement.WebElement (session=\"ab032f832b19949112697a453b5ff0cb\", element=\"3adb203b-d0dd-472b-a323-0450c8cb6d19\")>,\n",
       " <selenium.webdriver.remote.webelement.WebElement (session=\"ab032f832b19949112697a453b5ff0cb\", element=\"e7540a6f-39e2-4d78-9f74-e68d311f3c30\")>,\n",
       " <selenium.webdriver.remote.webelement.WebElement (session=\"ab032f832b19949112697a453b5ff0cb\", element=\"cfb5372e-ce09-4eb7-9bed-62988c96cae0\")>,\n",
       " <selenium.webdriver.remote.webelement.WebElement (session=\"ab032f832b19949112697a453b5ff0cb\", element=\"c1b1ed06-02dc-4a92-8cd0-58137426b7fc\")>,\n",
       " <selenium.webdriver.remote.webelement.WebElement (session=\"ab032f832b19949112697a453b5ff0cb\", element=\"893b49ba-a9ae-41bd-ae18-25f0ff9096c4\")>,\n",
       " <selenium.webdriver.remote.webelement.WebElement (session=\"ab032f832b19949112697a453b5ff0cb\", element=\"42c42506-2d96-4132-a5b4-4f12fb4b520d\")>,\n",
       " <selenium.webdriver.remote.webelement.WebElement (session=\"ab032f832b19949112697a453b5ff0cb\", element=\"6d327b9d-c469-4c5f-ab28-62c59a1b3cf8\")>,\n",
       " <selenium.webdriver.remote.webelement.WebElement (session=\"ab032f832b19949112697a453b5ff0cb\", element=\"bbce6aec-a9a5-4d04-8202-a26120a92053\")>,\n",
       " <selenium.webdriver.remote.webelement.WebElement (session=\"ab032f832b19949112697a453b5ff0cb\", element=\"123c6687-21b7-43c0-a03a-f2b3b0f53b5f\")>,\n",
       " <selenium.webdriver.remote.webelement.WebElement (session=\"ab032f832b19949112697a453b5ff0cb\", element=\"8683ec85-0c65-465c-8eea-3af129c9961f\")>,\n",
       " <selenium.webdriver.remote.webelement.WebElement (session=\"ab032f832b19949112697a453b5ff0cb\", element=\"8eb063bf-2676-4cb0-9e23-4935b3606f27\")>,\n",
       " <selenium.webdriver.remote.webelement.WebElement (session=\"ab032f832b19949112697a453b5ff0cb\", element=\"8b8d6b2a-e4ff-4558-945c-a198a7d69860\")>,\n",
       " <selenium.webdriver.remote.webelement.WebElement (session=\"ab032f832b19949112697a453b5ff0cb\", element=\"947f770f-f5e7-4649-b857-658c9479d01e\")>,\n",
       " <selenium.webdriver.remote.webelement.WebElement (session=\"ab032f832b19949112697a453b5ff0cb\", element=\"da8cf980-caf4-4b1a-aaf8-17bbce502964\")>,\n",
       " <selenium.webdriver.remote.webelement.WebElement (session=\"ab032f832b19949112697a453b5ff0cb\", element=\"3421bf49-7db0-4089-a3e1-b4f37267037b\")>,\n",
       " <selenium.webdriver.remote.webelement.WebElement (session=\"ab032f832b19949112697a453b5ff0cb\", element=\"c02902ff-2209-4263-901a-ae892bc3b3ef\")>,\n",
       " <selenium.webdriver.remote.webelement.WebElement (session=\"ab032f832b19949112697a453b5ff0cb\", element=\"b8121c25-53dc-414c-8df6-a727d83bd897\")>,\n",
       " <selenium.webdriver.remote.webelement.WebElement (session=\"ab032f832b19949112697a453b5ff0cb\", element=\"19b5de79-e9e0-4bd1-991a-2736c9824370\")>,\n",
       " <selenium.webdriver.remote.webelement.WebElement (session=\"ab032f832b19949112697a453b5ff0cb\", element=\"ba44d03b-1c4e-4f43-9926-557e9c3cbe46\")>,\n",
       " <selenium.webdriver.remote.webelement.WebElement (session=\"ab032f832b19949112697a453b5ff0cb\", element=\"f076699c-7584-4be5-8d7e-34e6d1a703e6\")>,\n",
       " <selenium.webdriver.remote.webelement.WebElement (session=\"ab032f832b19949112697a453b5ff0cb\", element=\"ec1929a3-a984-4339-9d3f-9ff3e11f8ddb\")>,\n",
       " <selenium.webdriver.remote.webelement.WebElement (session=\"ab032f832b19949112697a453b5ff0cb\", element=\"85421973-e572-4e42-b4a4-7e3df735d66e\")>,\n",
       " <selenium.webdriver.remote.webelement.WebElement (session=\"ab032f832b19949112697a453b5ff0cb\", element=\"7d4122e2-6d3e-4e52-a520-ae2c993e37d8\")>,\n",
       " <selenium.webdriver.remote.webelement.WebElement (session=\"ab032f832b19949112697a453b5ff0cb\", element=\"1ab94156-cae2-41a7-a46d-0776ff9c5344\")>,\n",
       " <selenium.webdriver.remote.webelement.WebElement (session=\"ab032f832b19949112697a453b5ff0cb\", element=\"0bd6c7f3-9825-4196-9b0b-7bded2b4836e\")>,\n",
       " <selenium.webdriver.remote.webelement.WebElement (session=\"ab032f832b19949112697a453b5ff0cb\", element=\"792dec90-cb26-4b64-a174-ceeed77cb5ff\")>,\n",
       " <selenium.webdriver.remote.webelement.WebElement (session=\"ab032f832b19949112697a453b5ff0cb\", element=\"2284bc04-81e5-436a-9b8f-aca994c46768\")>,\n",
       " <selenium.webdriver.remote.webelement.WebElement (session=\"ab032f832b19949112697a453b5ff0cb\", element=\"5da1c5d4-0d6f-42ab-a031-774bd9ea920a\")>,\n",
       " <selenium.webdriver.remote.webelement.WebElement (session=\"ab032f832b19949112697a453b5ff0cb\", element=\"5dbcf6d4-9ded-41f0-8a7e-11dde420e0c8\")>,\n",
       " <selenium.webdriver.remote.webelement.WebElement (session=\"ab032f832b19949112697a453b5ff0cb\", element=\"6261d6b4-6a28-40ef-99a3-65804db486e0\")>,\n",
       " <selenium.webdriver.remote.webelement.WebElement (session=\"ab032f832b19949112697a453b5ff0cb\", element=\"bf679045-a80f-4857-94d6-039e91e475c1\")>,\n",
       " <selenium.webdriver.remote.webelement.WebElement (session=\"ab032f832b19949112697a453b5ff0cb\", element=\"563c0104-6ab1-46b4-ba2b-0b0f48cfac41\")>,\n",
       " <selenium.webdriver.remote.webelement.WebElement (session=\"ab032f832b19949112697a453b5ff0cb\", element=\"681b65a6-2b37-48e5-847c-8443c150d2ac\")>,\n",
       " <selenium.webdriver.remote.webelement.WebElement (session=\"ab032f832b19949112697a453b5ff0cb\", element=\"9d68094f-75bc-4564-87d4-53d2ace42ed1\")>,\n",
       " <selenium.webdriver.remote.webelement.WebElement (session=\"ab032f832b19949112697a453b5ff0cb\", element=\"bdb5f24a-d24e-4c75-af24-75452d66ed3a\")>,\n",
       " <selenium.webdriver.remote.webelement.WebElement (session=\"ab032f832b19949112697a453b5ff0cb\", element=\"27abbb54-62d5-4452-9a9d-8f56fa94e5a2\")>,\n",
       " <selenium.webdriver.remote.webelement.WebElement (session=\"ab032f832b19949112697a453b5ff0cb\", element=\"3cf81618-102f-4182-b667-cb6093393b02\")>,\n",
       " <selenium.webdriver.remote.webelement.WebElement (session=\"ab032f832b19949112697a453b5ff0cb\", element=\"edc1162b-5bd2-47e7-9321-54cb573d117f\")>,\n",
       " <selenium.webdriver.remote.webelement.WebElement (session=\"ab032f832b19949112697a453b5ff0cb\", element=\"b4fb4ce7-edad-423e-8a01-3a1d650e4cfb\")>,\n",
       " <selenium.webdriver.remote.webelement.WebElement (session=\"ab032f832b19949112697a453b5ff0cb\", element=\"dfb9cf01-c04b-494f-b03b-ef7625e113e1\")>,\n",
       " <selenium.webdriver.remote.webelement.WebElement (session=\"ab032f832b19949112697a453b5ff0cb\", element=\"3adb203b-d0dd-472b-a323-0450c8cb6d19\")>,\n",
       " <selenium.webdriver.remote.webelement.WebElement (session=\"ab032f832b19949112697a453b5ff0cb\", element=\"e7540a6f-39e2-4d78-9f74-e68d311f3c30\")>,\n",
       " <selenium.webdriver.remote.webelement.WebElement (session=\"ab032f832b19949112697a453b5ff0cb\", element=\"cfb5372e-ce09-4eb7-9bed-62988c96cae0\")>,\n",
       " <selenium.webdriver.remote.webelement.WebElement (session=\"ab032f832b19949112697a453b5ff0cb\", element=\"c1b1ed06-02dc-4a92-8cd0-58137426b7fc\")>,\n",
       " <selenium.webdriver.remote.webelement.WebElement (session=\"ab032f832b19949112697a453b5ff0cb\", element=\"893b49ba-a9ae-41bd-ae18-25f0ff9096c4\")>,\n",
       " <selenium.webdriver.remote.webelement.WebElement (session=\"ab032f832b19949112697a453b5ff0cb\", element=\"42c42506-2d96-4132-a5b4-4f12fb4b520d\")>,\n",
       " <selenium.webdriver.remote.webelement.WebElement (session=\"ab032f832b19949112697a453b5ff0cb\", element=\"6d327b9d-c469-4c5f-ab28-62c59a1b3cf8\")>,\n",
       " <selenium.webdriver.remote.webelement.WebElement (session=\"ab032f832b19949112697a453b5ff0cb\", element=\"bbce6aec-a9a5-4d04-8202-a26120a92053\")>,\n",
       " <selenium.webdriver.remote.webelement.WebElement (session=\"ab032f832b19949112697a453b5ff0cb\", element=\"123c6687-21b7-43c0-a03a-f2b3b0f53b5f\")>,\n",
       " <selenium.webdriver.remote.webelement.WebElement (session=\"ab032f832b19949112697a453b5ff0cb\", element=\"8683ec85-0c65-465c-8eea-3af129c9961f\")>,\n",
       " <selenium.webdriver.remote.webelement.WebElement (session=\"ab032f832b19949112697a453b5ff0cb\", element=\"8eb063bf-2676-4cb0-9e23-4935b3606f27\")>,\n",
       " <selenium.webdriver.remote.webelement.WebElement (session=\"ab032f832b19949112697a453b5ff0cb\", element=\"8b8d6b2a-e4ff-4558-945c-a198a7d69860\")>,\n",
       " <selenium.webdriver.remote.webelement.WebElement (session=\"ab032f832b19949112697a453b5ff0cb\", element=\"947f770f-f5e7-4649-b857-658c9479d01e\")>,\n",
       " <selenium.webdriver.remote.webelement.WebElement (session=\"ab032f832b19949112697a453b5ff0cb\", element=\"da8cf980-caf4-4b1a-aaf8-17bbce502964\")>,\n",
       " <selenium.webdriver.remote.webelement.WebElement (session=\"ab032f832b19949112697a453b5ff0cb\", element=\"3421bf49-7db0-4089-a3e1-b4f37267037b\")>,\n",
       " <selenium.webdriver.remote.webelement.WebElement (session=\"ab032f832b19949112697a453b5ff0cb\", element=\"c02902ff-2209-4263-901a-ae892bc3b3ef\")>,\n",
       " <selenium.webdriver.remote.webelement.WebElement (session=\"ab032f832b19949112697a453b5ff0cb\", element=\"b8121c25-53dc-414c-8df6-a727d83bd897\")>,\n",
       " <selenium.webdriver.remote.webelement.WebElement (session=\"ab032f832b19949112697a453b5ff0cb\", element=\"19b5de79-e9e0-4bd1-991a-2736c9824370\")>,\n",
       " <selenium.webdriver.remote.webelement.WebElement (session=\"ab032f832b19949112697a453b5ff0cb\", element=\"ba44d03b-1c4e-4f43-9926-557e9c3cbe46\")>,\n",
       " <selenium.webdriver.remote.webelement.WebElement (session=\"ab032f832b19949112697a453b5ff0cb\", element=\"f076699c-7584-4be5-8d7e-34e6d1a703e6\")>,\n",
       " <selenium.webdriver.remote.webelement.WebElement (session=\"ab032f832b19949112697a453b5ff0cb\", element=\"ec1929a3-a984-4339-9d3f-9ff3e11f8ddb\")>,\n",
       " <selenium.webdriver.remote.webelement.WebElement (session=\"ab032f832b19949112697a453b5ff0cb\", element=\"85421973-e572-4e42-b4a4-7e3df735d66e\")>,\n",
       " <selenium.webdriver.remote.webelement.WebElement (session=\"ab032f832b19949112697a453b5ff0cb\", element=\"7d4122e2-6d3e-4e52-a520-ae2c993e37d8\")>,\n",
       " <selenium.webdriver.remote.webelement.WebElement (session=\"ab032f832b19949112697a453b5ff0cb\", element=\"1ab94156-cae2-41a7-a46d-0776ff9c5344\")>,\n",
       " <selenium.webdriver.remote.webelement.WebElement (session=\"ab032f832b19949112697a453b5ff0cb\", element=\"0bd6c7f3-9825-4196-9b0b-7bded2b4836e\")>,\n",
       " <selenium.webdriver.remote.webelement.WebElement (session=\"ab032f832b19949112697a453b5ff0cb\", element=\"792dec90-cb26-4b64-a174-ceeed77cb5ff\")>,\n",
       " <selenium.webdriver.remote.webelement.WebElement (session=\"ab032f832b19949112697a453b5ff0cb\", element=\"2284bc04-81e5-436a-9b8f-aca994c46768\")>,\n",
       " <selenium.webdriver.remote.webelement.WebElement (session=\"ab032f832b19949112697a453b5ff0cb\", element=\"5da1c5d4-0d6f-42ab-a031-774bd9ea920a\")>,\n",
       " <selenium.webdriver.remote.webelement.WebElement (session=\"ab032f832b19949112697a453b5ff0cb\", element=\"5dbcf6d4-9ded-41f0-8a7e-11dde420e0c8\")>,\n",
       " <selenium.webdriver.remote.webelement.WebElement (session=\"ab032f832b19949112697a453b5ff0cb\", element=\"6261d6b4-6a28-40ef-99a3-65804db486e0\")>,\n",
       " <selenium.webdriver.remote.webelement.WebElement (session=\"ab032f832b19949112697a453b5ff0cb\", element=\"bf679045-a80f-4857-94d6-039e91e475c1\")>,\n",
       " <selenium.webdriver.remote.webelement.WebElement (session=\"ab032f832b19949112697a453b5ff0cb\", element=\"563c0104-6ab1-46b4-ba2b-0b0f48cfac41\")>,\n",
       " <selenium.webdriver.remote.webelement.WebElement (session=\"ab032f832b19949112697a453b5ff0cb\", element=\"681b65a6-2b37-48e5-847c-8443c150d2ac\")>,\n",
       " <selenium.webdriver.remote.webelement.WebElement (session=\"ab032f832b19949112697a453b5ff0cb\", element=\"9d68094f-75bc-4564-87d4-53d2ace42ed1\")>,\n",
       " <selenium.webdriver.remote.webelement.WebElement (session=\"ab032f832b19949112697a453b5ff0cb\", element=\"bdb5f24a-d24e-4c75-af24-75452d66ed3a\")>,\n",
       " <selenium.webdriver.remote.webelement.WebElement (session=\"ab032f832b19949112697a453b5ff0cb\", element=\"27abbb54-62d5-4452-9a9d-8f56fa94e5a2\")>,\n",
       " <selenium.webdriver.remote.webelement.WebElement (session=\"ab032f832b19949112697a453b5ff0cb\", element=\"3cf81618-102f-4182-b667-cb6093393b02\")>,\n",
       " <selenium.webdriver.remote.webelement.WebElement (session=\"ab032f832b19949112697a453b5ff0cb\", element=\"edc1162b-5bd2-47e7-9321-54cb573d117f\")>,\n",
       " <selenium.webdriver.remote.webelement.WebElement (session=\"ab032f832b19949112697a453b5ff0cb\", element=\"b4fb4ce7-edad-423e-8a01-3a1d650e4cfb\")>,\n",
       " <selenium.webdriver.remote.webelement.WebElement (session=\"ab032f832b19949112697a453b5ff0cb\", element=\"dfb9cf01-c04b-494f-b03b-ef7625e113e1\")>,\n",
       " <selenium.webdriver.remote.webelement.WebElement (session=\"ab032f832b19949112697a453b5ff0cb\", element=\"3adb203b-d0dd-472b-a323-0450c8cb6d19\")>,\n",
       " <selenium.webdriver.remote.webelement.WebElement (session=\"ab032f832b19949112697a453b5ff0cb\", element=\"e7540a6f-39e2-4d78-9f74-e68d311f3c30\")>,\n",
       " <selenium.webdriver.remote.webelement.WebElement (session=\"ab032f832b19949112697a453b5ff0cb\", element=\"cfb5372e-ce09-4eb7-9bed-62988c96cae0\")>,\n",
       " <selenium.webdriver.remote.webelement.WebElement (session=\"ab032f832b19949112697a453b5ff0cb\", element=\"c1b1ed06-02dc-4a92-8cd0-58137426b7fc\")>,\n",
       " <selenium.webdriver.remote.webelement.WebElement (session=\"ab032f832b19949112697a453b5ff0cb\", element=\"893b49ba-a9ae-41bd-ae18-25f0ff9096c4\")>,\n",
       " <selenium.webdriver.remote.webelement.WebElement (session=\"ab032f832b19949112697a453b5ff0cb\", element=\"42c42506-2d96-4132-a5b4-4f12fb4b520d\")>,\n",
       " <selenium.webdriver.remote.webelement.WebElement (session=\"ab032f832b19949112697a453b5ff0cb\", element=\"6d327b9d-c469-4c5f-ab28-62c59a1b3cf8\")>,\n",
       " <selenium.webdriver.remote.webelement.WebElement (session=\"ab032f832b19949112697a453b5ff0cb\", element=\"bbce6aec-a9a5-4d04-8202-a26120a92053\")>,\n",
       " <selenium.webdriver.remote.webelement.WebElement (session=\"ab032f832b19949112697a453b5ff0cb\", element=\"123c6687-21b7-43c0-a03a-f2b3b0f53b5f\")>,\n",
       " <selenium.webdriver.remote.webelement.WebElement (session=\"ab032f832b19949112697a453b5ff0cb\", element=\"8683ec85-0c65-465c-8eea-3af129c9961f\")>,\n",
       " <selenium.webdriver.remote.webelement.WebElement (session=\"ab032f832b19949112697a453b5ff0cb\", element=\"8eb063bf-2676-4cb0-9e23-4935b3606f27\")>,\n",
       " <selenium.webdriver.remote.webelement.WebElement (session=\"ab032f832b19949112697a453b5ff0cb\", element=\"8b8d6b2a-e4ff-4558-945c-a198a7d69860\")>]"
      ]
     },
     "execution_count": 11,
     "metadata": {},
     "output_type": "execute_result"
    }
   ],
   "source": [
    "brand_tags[0:100]"
   ]
  },
  {
   "cell_type": "markdown",
   "id": "aa20b060",
   "metadata": {},
   "source": [
    "Now we have all the tags in which there are the brands\n",
    "\n",
    "Now we will extract the text from these tags one by one by looping over these tags"
   ]
  },
  {
   "cell_type": "code",
   "execution_count": 12,
   "id": "24c8a757",
   "metadata": {},
   "outputs": [
    {
     "data": {
      "text/plain": [
       "['Singco India',\n",
       " 'ROZZETTA CRAFT',\n",
       " 'Elligator',\n",
       " 'PIRASO',\n",
       " 'New Specs',\n",
       " 'Fastrack',\n",
       " 'Fastrack',\n",
       " 'ROZZETTA CRAFT',\n",
       " 'Lee Topper',\n",
       " 'SUNBEE',\n",
       " 'hipe',\n",
       " 'agera',\n",
       " 'Lee Topper',\n",
       " 'SHAAH COLLECTIONS',\n",
       " 'SRPM',\n",
       " 'ROZZETTA CRAFT',\n",
       " 'PIRASO',\n",
       " 'New Specs',\n",
       " 'PIRASO',\n",
       " 'ROZZETTA CRAFT',\n",
       " 'PIRASO',\n",
       " 'ROZZETTA CRAFT',\n",
       " 'Fastrack',\n",
       " 'SKYZA INDIA',\n",
       " 'kingsunglasses',\n",
       " 'DEIXELS',\n",
       " 'PHENOMENAL',\n",
       " 'GANSTA',\n",
       " 'Fastrack',\n",
       " 'SUNBEE',\n",
       " 'Roadster',\n",
       " 'LOUIS KOUROS',\n",
       " 'Fastrack',\n",
       " 'PIRASO',\n",
       " 'Fastrack',\n",
       " 'AISLIN',\n",
       " 'Fastrack',\n",
       " 'Singco India',\n",
       " 'Fastrack',\n",
       " 'ROZZETTA CRAFT',\n",
       " 'Singco India',\n",
       " 'ROZZETTA CRAFT',\n",
       " 'Elligator',\n",
       " 'PIRASO',\n",
       " 'New Specs',\n",
       " 'Fastrack',\n",
       " 'Fastrack',\n",
       " 'ROZZETTA CRAFT',\n",
       " 'Lee Topper',\n",
       " 'SUNBEE',\n",
       " 'hipe',\n",
       " 'agera',\n",
       " 'Lee Topper',\n",
       " 'SHAAH COLLECTIONS',\n",
       " 'SRPM',\n",
       " 'ROZZETTA CRAFT',\n",
       " 'PIRASO',\n",
       " 'New Specs',\n",
       " 'PIRASO',\n",
       " 'ROZZETTA CRAFT',\n",
       " 'PIRASO',\n",
       " 'ROZZETTA CRAFT',\n",
       " 'Fastrack',\n",
       " 'SKYZA INDIA',\n",
       " 'kingsunglasses',\n",
       " 'DEIXELS',\n",
       " 'PHENOMENAL',\n",
       " 'GANSTA',\n",
       " 'Fastrack',\n",
       " 'SUNBEE',\n",
       " 'Roadster',\n",
       " 'LOUIS KOUROS',\n",
       " 'Fastrack',\n",
       " 'PIRASO',\n",
       " 'Fastrack',\n",
       " 'AISLIN',\n",
       " 'Fastrack',\n",
       " 'Singco India',\n",
       " 'Fastrack',\n",
       " 'ROZZETTA CRAFT',\n",
       " 'Singco India',\n",
       " 'ROZZETTA CRAFT',\n",
       " 'Elligator',\n",
       " 'PIRASO',\n",
       " 'New Specs',\n",
       " 'Fastrack',\n",
       " 'Fastrack',\n",
       " 'ROZZETTA CRAFT',\n",
       " 'Lee Topper',\n",
       " 'SUNBEE',\n",
       " 'hipe',\n",
       " 'agera',\n",
       " 'Lee Topper',\n",
       " 'SHAAH COLLECTIONS',\n",
       " 'SRPM',\n",
       " 'ROZZETTA CRAFT',\n",
       " 'PIRASO',\n",
       " 'New Specs',\n",
       " 'PIRASO',\n",
       " 'ROZZETTA CRAFT']"
      ]
     },
     "execution_count": 12,
     "metadata": {},
     "output_type": "execute_result"
    }
   ],
   "source": [
    "# Now the text of the brand is inside the tags extracted above\n",
    "\n",
    "# so we will run a loop to iterate over the tags extracted above \n",
    "\n",
    "for i in brand_tags:\n",
    "    brand=i.text\n",
    "    brands.append(brand)\n",
    "brands[0:100]"
   ]
  },
  {
   "cell_type": "markdown",
   "id": "0f267f11",
   "metadata": {},
   "source": [
    "Now we will extract all the tags where we have the product discription. Let me first show you in which tags the product discription are put on the webpage."
   ]
  },
  {
   "cell_type": "code",
   "execution_count": 13,
   "id": "760831a6",
   "metadata": {},
   "outputs": [],
   "source": [
    "# so lets extract all the tags having the product discription\n",
    "\n",
    "products_tags1=driver.find_elements_by_xpath(\"//a[@class='IRpwTa']\")\n",
    "\n",
    "products_tags2=driver.find_elements_by_xpath(\"//a[@class='IRpwTa']\")\n",
    "\n",
    "products_tags3=driver.find_elements_by_xpath(\"//a[@class='IRpwTa']\")\n",
    "\n",
    "products_tags=products_tags1 + products_tags2 + products_tags3"
   ]
  },
  {
   "cell_type": "code",
   "execution_count": 14,
   "id": "560cca02",
   "metadata": {},
   "outputs": [
    {
     "data": {
      "text/plain": [
       "[<selenium.webdriver.remote.webelement.WebElement (session=\"ab032f832b19949112697a453b5ff0cb\", element=\"f94374db-37d9-4341-88f7-90a58bc242c6\")>,\n",
       " <selenium.webdriver.remote.webelement.WebElement (session=\"ab032f832b19949112697a453b5ff0cb\", element=\"ef6c1849-32c9-4164-95b3-e53efc3db50f\")>,\n",
       " <selenium.webdriver.remote.webelement.WebElement (session=\"ab032f832b19949112697a453b5ff0cb\", element=\"f3a78786-640f-4177-ab0c-1e1a092983e7\")>,\n",
       " <selenium.webdriver.remote.webelement.WebElement (session=\"ab032f832b19949112697a453b5ff0cb\", element=\"d6180f8d-ca34-4f23-b061-999a255ac64a\")>,\n",
       " <selenium.webdriver.remote.webelement.WebElement (session=\"ab032f832b19949112697a453b5ff0cb\", element=\"cd4604fc-4113-4ce7-98ab-f26055a885d6\")>,\n",
       " <selenium.webdriver.remote.webelement.WebElement (session=\"ab032f832b19949112697a453b5ff0cb\", element=\"11c7e155-2321-4805-bda0-5ec5d800b6c3\")>,\n",
       " <selenium.webdriver.remote.webelement.WebElement (session=\"ab032f832b19949112697a453b5ff0cb\", element=\"cab062ed-21fe-48a3-8dd4-9e7b924ed054\")>,\n",
       " <selenium.webdriver.remote.webelement.WebElement (session=\"ab032f832b19949112697a453b5ff0cb\", element=\"52a9082d-551e-4e45-b154-badd175f3bf2\")>,\n",
       " <selenium.webdriver.remote.webelement.WebElement (session=\"ab032f832b19949112697a453b5ff0cb\", element=\"92d56524-8376-442d-b402-a0cf88f9cf4a\")>,\n",
       " <selenium.webdriver.remote.webelement.WebElement (session=\"ab032f832b19949112697a453b5ff0cb\", element=\"cb307309-9127-42f1-a9ba-b2bc4c07e0a1\")>,\n",
       " <selenium.webdriver.remote.webelement.WebElement (session=\"ab032f832b19949112697a453b5ff0cb\", element=\"a9315a10-fe51-4bf5-9053-c17b22d1b7a3\")>,\n",
       " <selenium.webdriver.remote.webelement.WebElement (session=\"ab032f832b19949112697a453b5ff0cb\", element=\"97f58c7c-da31-4c53-9e0e-71f209b3f441\")>,\n",
       " <selenium.webdriver.remote.webelement.WebElement (session=\"ab032f832b19949112697a453b5ff0cb\", element=\"14a725c4-6f0b-4dc5-8b4e-8010473acc61\")>,\n",
       " <selenium.webdriver.remote.webelement.WebElement (session=\"ab032f832b19949112697a453b5ff0cb\", element=\"16c12246-e0c8-43d0-b4bc-3d46bac48490\")>,\n",
       " <selenium.webdriver.remote.webelement.WebElement (session=\"ab032f832b19949112697a453b5ff0cb\", element=\"de3407f4-6443-4bff-9d47-e6b58731da37\")>,\n",
       " <selenium.webdriver.remote.webelement.WebElement (session=\"ab032f832b19949112697a453b5ff0cb\", element=\"e7cf8b37-cc61-4a71-8390-5c938e96d2d7\")>,\n",
       " <selenium.webdriver.remote.webelement.WebElement (session=\"ab032f832b19949112697a453b5ff0cb\", element=\"7131dca7-2169-4a8f-9141-947138cf3d71\")>,\n",
       " <selenium.webdriver.remote.webelement.WebElement (session=\"ab032f832b19949112697a453b5ff0cb\", element=\"56f21864-ddaa-4cec-81d3-c32d5d815c86\")>,\n",
       " <selenium.webdriver.remote.webelement.WebElement (session=\"ab032f832b19949112697a453b5ff0cb\", element=\"b8617948-1622-469d-a499-e27e8f1a57a3\")>,\n",
       " <selenium.webdriver.remote.webelement.WebElement (session=\"ab032f832b19949112697a453b5ff0cb\", element=\"59aa44b9-5da3-4ab2-b8af-7b11d7447c41\")>,\n",
       " <selenium.webdriver.remote.webelement.WebElement (session=\"ab032f832b19949112697a453b5ff0cb\", element=\"b2100ccc-d726-46e9-8cb7-42fccb21b5c3\")>,\n",
       " <selenium.webdriver.remote.webelement.WebElement (session=\"ab032f832b19949112697a453b5ff0cb\", element=\"ab2dd58d-2418-4393-a4d8-3c07f37a2407\")>,\n",
       " <selenium.webdriver.remote.webelement.WebElement (session=\"ab032f832b19949112697a453b5ff0cb\", element=\"ee006dd2-fd57-46ad-8923-5fcf7abd0954\")>,\n",
       " <selenium.webdriver.remote.webelement.WebElement (session=\"ab032f832b19949112697a453b5ff0cb\", element=\"bacb0c0e-d302-4996-8b1e-8e5b74bfc0b5\")>,\n",
       " <selenium.webdriver.remote.webelement.WebElement (session=\"ab032f832b19949112697a453b5ff0cb\", element=\"0382622c-2d90-47c5-966d-7f7d01dcd85b\")>,\n",
       " <selenium.webdriver.remote.webelement.WebElement (session=\"ab032f832b19949112697a453b5ff0cb\", element=\"b3da0612-0e82-4866-879a-8d274560b807\")>,\n",
       " <selenium.webdriver.remote.webelement.WebElement (session=\"ab032f832b19949112697a453b5ff0cb\", element=\"f4fe78bc-5935-415c-8cc8-edabdb88e1f0\")>,\n",
       " <selenium.webdriver.remote.webelement.WebElement (session=\"ab032f832b19949112697a453b5ff0cb\", element=\"9ee8e4d0-a2a3-4064-a42e-bfd09268f4a4\")>,\n",
       " <selenium.webdriver.remote.webelement.WebElement (session=\"ab032f832b19949112697a453b5ff0cb\", element=\"3e83b43e-2a24-4414-ba5e-938c4d17dca6\")>,\n",
       " <selenium.webdriver.remote.webelement.WebElement (session=\"ab032f832b19949112697a453b5ff0cb\", element=\"d93f868e-c027-43c7-9004-d69b29013de3\")>,\n",
       " <selenium.webdriver.remote.webelement.WebElement (session=\"ab032f832b19949112697a453b5ff0cb\", element=\"e78edc1b-2e57-4533-b5eb-fe715430d402\")>,\n",
       " <selenium.webdriver.remote.webelement.WebElement (session=\"ab032f832b19949112697a453b5ff0cb\", element=\"522676b2-59fd-4454-a052-89f4a8f998d3\")>,\n",
       " <selenium.webdriver.remote.webelement.WebElement (session=\"ab032f832b19949112697a453b5ff0cb\", element=\"1d6ac7bf-8038-4a50-b18d-70a82f94d02d\")>,\n",
       " <selenium.webdriver.remote.webelement.WebElement (session=\"ab032f832b19949112697a453b5ff0cb\", element=\"9e0ea0c1-daf9-4402-b98a-150564a4f388\")>,\n",
       " <selenium.webdriver.remote.webelement.WebElement (session=\"ab032f832b19949112697a453b5ff0cb\", element=\"4cdd35f9-1f5f-4cf0-87ed-165ab7bd0f67\")>,\n",
       " <selenium.webdriver.remote.webelement.WebElement (session=\"ab032f832b19949112697a453b5ff0cb\", element=\"e53b1da7-9b79-40fa-87a0-444790b87a50\")>,\n",
       " <selenium.webdriver.remote.webelement.WebElement (session=\"ab032f832b19949112697a453b5ff0cb\", element=\"9f8644be-003f-4e00-bc5a-b815c3c2721f\")>,\n",
       " <selenium.webdriver.remote.webelement.WebElement (session=\"ab032f832b19949112697a453b5ff0cb\", element=\"4501586c-8c3b-49d8-8343-16fd30f3033e\")>,\n",
       " <selenium.webdriver.remote.webelement.WebElement (session=\"ab032f832b19949112697a453b5ff0cb\", element=\"98daf486-ca42-4e49-87ab-a7f42ef0777e\")>,\n",
       " <selenium.webdriver.remote.webelement.WebElement (session=\"ab032f832b19949112697a453b5ff0cb\", element=\"93ba7a09-752a-4237-9159-6375a057b879\")>,\n",
       " <selenium.webdriver.remote.webelement.WebElement (session=\"ab032f832b19949112697a453b5ff0cb\", element=\"f94374db-37d9-4341-88f7-90a58bc242c6\")>,\n",
       " <selenium.webdriver.remote.webelement.WebElement (session=\"ab032f832b19949112697a453b5ff0cb\", element=\"ef6c1849-32c9-4164-95b3-e53efc3db50f\")>,\n",
       " <selenium.webdriver.remote.webelement.WebElement (session=\"ab032f832b19949112697a453b5ff0cb\", element=\"f3a78786-640f-4177-ab0c-1e1a092983e7\")>,\n",
       " <selenium.webdriver.remote.webelement.WebElement (session=\"ab032f832b19949112697a453b5ff0cb\", element=\"d6180f8d-ca34-4f23-b061-999a255ac64a\")>,\n",
       " <selenium.webdriver.remote.webelement.WebElement (session=\"ab032f832b19949112697a453b5ff0cb\", element=\"cd4604fc-4113-4ce7-98ab-f26055a885d6\")>,\n",
       " <selenium.webdriver.remote.webelement.WebElement (session=\"ab032f832b19949112697a453b5ff0cb\", element=\"11c7e155-2321-4805-bda0-5ec5d800b6c3\")>,\n",
       " <selenium.webdriver.remote.webelement.WebElement (session=\"ab032f832b19949112697a453b5ff0cb\", element=\"cab062ed-21fe-48a3-8dd4-9e7b924ed054\")>,\n",
       " <selenium.webdriver.remote.webelement.WebElement (session=\"ab032f832b19949112697a453b5ff0cb\", element=\"52a9082d-551e-4e45-b154-badd175f3bf2\")>,\n",
       " <selenium.webdriver.remote.webelement.WebElement (session=\"ab032f832b19949112697a453b5ff0cb\", element=\"92d56524-8376-442d-b402-a0cf88f9cf4a\")>,\n",
       " <selenium.webdriver.remote.webelement.WebElement (session=\"ab032f832b19949112697a453b5ff0cb\", element=\"cb307309-9127-42f1-a9ba-b2bc4c07e0a1\")>,\n",
       " <selenium.webdriver.remote.webelement.WebElement (session=\"ab032f832b19949112697a453b5ff0cb\", element=\"a9315a10-fe51-4bf5-9053-c17b22d1b7a3\")>,\n",
       " <selenium.webdriver.remote.webelement.WebElement (session=\"ab032f832b19949112697a453b5ff0cb\", element=\"97f58c7c-da31-4c53-9e0e-71f209b3f441\")>,\n",
       " <selenium.webdriver.remote.webelement.WebElement (session=\"ab032f832b19949112697a453b5ff0cb\", element=\"14a725c4-6f0b-4dc5-8b4e-8010473acc61\")>,\n",
       " <selenium.webdriver.remote.webelement.WebElement (session=\"ab032f832b19949112697a453b5ff0cb\", element=\"16c12246-e0c8-43d0-b4bc-3d46bac48490\")>,\n",
       " <selenium.webdriver.remote.webelement.WebElement (session=\"ab032f832b19949112697a453b5ff0cb\", element=\"de3407f4-6443-4bff-9d47-e6b58731da37\")>,\n",
       " <selenium.webdriver.remote.webelement.WebElement (session=\"ab032f832b19949112697a453b5ff0cb\", element=\"e7cf8b37-cc61-4a71-8390-5c938e96d2d7\")>,\n",
       " <selenium.webdriver.remote.webelement.WebElement (session=\"ab032f832b19949112697a453b5ff0cb\", element=\"7131dca7-2169-4a8f-9141-947138cf3d71\")>,\n",
       " <selenium.webdriver.remote.webelement.WebElement (session=\"ab032f832b19949112697a453b5ff0cb\", element=\"56f21864-ddaa-4cec-81d3-c32d5d815c86\")>,\n",
       " <selenium.webdriver.remote.webelement.WebElement (session=\"ab032f832b19949112697a453b5ff0cb\", element=\"b8617948-1622-469d-a499-e27e8f1a57a3\")>,\n",
       " <selenium.webdriver.remote.webelement.WebElement (session=\"ab032f832b19949112697a453b5ff0cb\", element=\"59aa44b9-5da3-4ab2-b8af-7b11d7447c41\")>,\n",
       " <selenium.webdriver.remote.webelement.WebElement (session=\"ab032f832b19949112697a453b5ff0cb\", element=\"b2100ccc-d726-46e9-8cb7-42fccb21b5c3\")>,\n",
       " <selenium.webdriver.remote.webelement.WebElement (session=\"ab032f832b19949112697a453b5ff0cb\", element=\"ab2dd58d-2418-4393-a4d8-3c07f37a2407\")>,\n",
       " <selenium.webdriver.remote.webelement.WebElement (session=\"ab032f832b19949112697a453b5ff0cb\", element=\"ee006dd2-fd57-46ad-8923-5fcf7abd0954\")>,\n",
       " <selenium.webdriver.remote.webelement.WebElement (session=\"ab032f832b19949112697a453b5ff0cb\", element=\"bacb0c0e-d302-4996-8b1e-8e5b74bfc0b5\")>,\n",
       " <selenium.webdriver.remote.webelement.WebElement (session=\"ab032f832b19949112697a453b5ff0cb\", element=\"0382622c-2d90-47c5-966d-7f7d01dcd85b\")>,\n",
       " <selenium.webdriver.remote.webelement.WebElement (session=\"ab032f832b19949112697a453b5ff0cb\", element=\"b3da0612-0e82-4866-879a-8d274560b807\")>,\n",
       " <selenium.webdriver.remote.webelement.WebElement (session=\"ab032f832b19949112697a453b5ff0cb\", element=\"f4fe78bc-5935-415c-8cc8-edabdb88e1f0\")>,\n",
       " <selenium.webdriver.remote.webelement.WebElement (session=\"ab032f832b19949112697a453b5ff0cb\", element=\"9ee8e4d0-a2a3-4064-a42e-bfd09268f4a4\")>,\n",
       " <selenium.webdriver.remote.webelement.WebElement (session=\"ab032f832b19949112697a453b5ff0cb\", element=\"3e83b43e-2a24-4414-ba5e-938c4d17dca6\")>,\n",
       " <selenium.webdriver.remote.webelement.WebElement (session=\"ab032f832b19949112697a453b5ff0cb\", element=\"d93f868e-c027-43c7-9004-d69b29013de3\")>,\n",
       " <selenium.webdriver.remote.webelement.WebElement (session=\"ab032f832b19949112697a453b5ff0cb\", element=\"e78edc1b-2e57-4533-b5eb-fe715430d402\")>,\n",
       " <selenium.webdriver.remote.webelement.WebElement (session=\"ab032f832b19949112697a453b5ff0cb\", element=\"522676b2-59fd-4454-a052-89f4a8f998d3\")>,\n",
       " <selenium.webdriver.remote.webelement.WebElement (session=\"ab032f832b19949112697a453b5ff0cb\", element=\"1d6ac7bf-8038-4a50-b18d-70a82f94d02d\")>,\n",
       " <selenium.webdriver.remote.webelement.WebElement (session=\"ab032f832b19949112697a453b5ff0cb\", element=\"9e0ea0c1-daf9-4402-b98a-150564a4f388\")>,\n",
       " <selenium.webdriver.remote.webelement.WebElement (session=\"ab032f832b19949112697a453b5ff0cb\", element=\"4cdd35f9-1f5f-4cf0-87ed-165ab7bd0f67\")>,\n",
       " <selenium.webdriver.remote.webelement.WebElement (session=\"ab032f832b19949112697a453b5ff0cb\", element=\"e53b1da7-9b79-40fa-87a0-444790b87a50\")>,\n",
       " <selenium.webdriver.remote.webelement.WebElement (session=\"ab032f832b19949112697a453b5ff0cb\", element=\"9f8644be-003f-4e00-bc5a-b815c3c2721f\")>,\n",
       " <selenium.webdriver.remote.webelement.WebElement (session=\"ab032f832b19949112697a453b5ff0cb\", element=\"4501586c-8c3b-49d8-8343-16fd30f3033e\")>,\n",
       " <selenium.webdriver.remote.webelement.WebElement (session=\"ab032f832b19949112697a453b5ff0cb\", element=\"98daf486-ca42-4e49-87ab-a7f42ef0777e\")>,\n",
       " <selenium.webdriver.remote.webelement.WebElement (session=\"ab032f832b19949112697a453b5ff0cb\", element=\"93ba7a09-752a-4237-9159-6375a057b879\")>,\n",
       " <selenium.webdriver.remote.webelement.WebElement (session=\"ab032f832b19949112697a453b5ff0cb\", element=\"f94374db-37d9-4341-88f7-90a58bc242c6\")>,\n",
       " <selenium.webdriver.remote.webelement.WebElement (session=\"ab032f832b19949112697a453b5ff0cb\", element=\"ef6c1849-32c9-4164-95b3-e53efc3db50f\")>,\n",
       " <selenium.webdriver.remote.webelement.WebElement (session=\"ab032f832b19949112697a453b5ff0cb\", element=\"f3a78786-640f-4177-ab0c-1e1a092983e7\")>,\n",
       " <selenium.webdriver.remote.webelement.WebElement (session=\"ab032f832b19949112697a453b5ff0cb\", element=\"d6180f8d-ca34-4f23-b061-999a255ac64a\")>,\n",
       " <selenium.webdriver.remote.webelement.WebElement (session=\"ab032f832b19949112697a453b5ff0cb\", element=\"cd4604fc-4113-4ce7-98ab-f26055a885d6\")>,\n",
       " <selenium.webdriver.remote.webelement.WebElement (session=\"ab032f832b19949112697a453b5ff0cb\", element=\"11c7e155-2321-4805-bda0-5ec5d800b6c3\")>,\n",
       " <selenium.webdriver.remote.webelement.WebElement (session=\"ab032f832b19949112697a453b5ff0cb\", element=\"cab062ed-21fe-48a3-8dd4-9e7b924ed054\")>,\n",
       " <selenium.webdriver.remote.webelement.WebElement (session=\"ab032f832b19949112697a453b5ff0cb\", element=\"52a9082d-551e-4e45-b154-badd175f3bf2\")>,\n",
       " <selenium.webdriver.remote.webelement.WebElement (session=\"ab032f832b19949112697a453b5ff0cb\", element=\"92d56524-8376-442d-b402-a0cf88f9cf4a\")>,\n",
       " <selenium.webdriver.remote.webelement.WebElement (session=\"ab032f832b19949112697a453b5ff0cb\", element=\"cb307309-9127-42f1-a9ba-b2bc4c07e0a1\")>,\n",
       " <selenium.webdriver.remote.webelement.WebElement (session=\"ab032f832b19949112697a453b5ff0cb\", element=\"a9315a10-fe51-4bf5-9053-c17b22d1b7a3\")>,\n",
       " <selenium.webdriver.remote.webelement.WebElement (session=\"ab032f832b19949112697a453b5ff0cb\", element=\"97f58c7c-da31-4c53-9e0e-71f209b3f441\")>,\n",
       " <selenium.webdriver.remote.webelement.WebElement (session=\"ab032f832b19949112697a453b5ff0cb\", element=\"14a725c4-6f0b-4dc5-8b4e-8010473acc61\")>,\n",
       " <selenium.webdriver.remote.webelement.WebElement (session=\"ab032f832b19949112697a453b5ff0cb\", element=\"16c12246-e0c8-43d0-b4bc-3d46bac48490\")>,\n",
       " <selenium.webdriver.remote.webelement.WebElement (session=\"ab032f832b19949112697a453b5ff0cb\", element=\"de3407f4-6443-4bff-9d47-e6b58731da37\")>,\n",
       " <selenium.webdriver.remote.webelement.WebElement (session=\"ab032f832b19949112697a453b5ff0cb\", element=\"e7cf8b37-cc61-4a71-8390-5c938e96d2d7\")>,\n",
       " <selenium.webdriver.remote.webelement.WebElement (session=\"ab032f832b19949112697a453b5ff0cb\", element=\"7131dca7-2169-4a8f-9141-947138cf3d71\")>,\n",
       " <selenium.webdriver.remote.webelement.WebElement (session=\"ab032f832b19949112697a453b5ff0cb\", element=\"56f21864-ddaa-4cec-81d3-c32d5d815c86\")>,\n",
       " <selenium.webdriver.remote.webelement.WebElement (session=\"ab032f832b19949112697a453b5ff0cb\", element=\"b8617948-1622-469d-a499-e27e8f1a57a3\")>,\n",
       " <selenium.webdriver.remote.webelement.WebElement (session=\"ab032f832b19949112697a453b5ff0cb\", element=\"59aa44b9-5da3-4ab2-b8af-7b11d7447c41\")>]"
      ]
     },
     "execution_count": 14,
     "metadata": {},
     "output_type": "execute_result"
    }
   ],
   "source": [
    "products_tags[0:100]"
   ]
  },
  {
   "cell_type": "markdown",
   "id": "e87db2b4",
   "metadata": {},
   "source": [
    "Now we have all the tags in which there are the product discrption.\n",
    "\n",
    "Now we will extract the text from these tags one by one by looping over these tags"
   ]
  },
  {
   "cell_type": "code",
   "execution_count": 15,
   "id": "103b516f",
   "metadata": {},
   "outputs": [
    {
     "data": {
      "text/plain": [
       "['Riding Glasses, UV Protection Clubmaster, Wayfarer Sung...',\n",
       " 'UV Protection Spectacle Sunglasses (Free Size)',\n",
       " 'UV Protection Round Sunglasses (54)',\n",
       " 'UV Protection Aviator Sunglasses (54)',\n",
       " 'UV Protection Rectangular Sunglasses (Free Size)',\n",
       " 'UV Protection Rectangular Sunglasses (Free Size)',\n",
       " 'UV Protection Wayfarer Sunglasses (Free Size)',\n",
       " 'UV Protection, Gradient Rectangular Sunglasses (Free Si...',\n",
       " 'Riding Glasses Wrap-around Sunglasses (Free Size)',\n",
       " 'UV Protection, Polarized Wayfarer Sunglasses (Free Size...',\n",
       " 'UV Protection Sports Sunglasses (Free Size)',\n",
       " 'Gradient Aviator Sunglasses (55)',\n",
       " 'UV Protection Rectangular Sunglasses (Free Size)',\n",
       " 'UV Protection, Polarized, Mirrored Rectangular Sunglass...',\n",
       " 'UV Protection Wayfarer Sunglasses (50)',\n",
       " 'UV Protection, Gradient Retro Square Sunglasses (Free S...',\n",
       " 'UV Protection Aviator Sunglasses (54)',\n",
       " 'Mirrored, UV Protection, Riding Glasses, Others Round S...',\n",
       " 'UV Protection Aviator Sunglasses (54)',\n",
       " 'UV Protection Aviator Sunglasses (62)',\n",
       " 'UV Protection Wayfarer Sunglasses (32)',\n",
       " 'Polarized, Riding Glasses Sports, Wrap-around Sunglasse...',\n",
       " 'Gradient, UV Protection Wayfarer Sunglasses (Free Size)',\n",
       " 'Polarized, UV Protection Sports Sunglasses (Free Size)',\n",
       " 'UV Protection, Riding Glasses, Mirrored Wayfarer Sungla...',\n",
       " 'UV Protection Aviator, Wayfarer Sunglasses (Free Size)',\n",
       " 'UV Protection Retro Square Sunglasses (53)',\n",
       " 'UV Protection, Night Vision, Riding Glasses Aviator Sun...',\n",
       " 'UV Protection Wayfarer Sunglasses (Free Size)',\n",
       " 'UV Protection, Polarized, Mirrored Retro Square Sunglas...',\n",
       " 'UV Protection Oval Sunglasses (57)',\n",
       " 'UV Protection Aviator Sunglasses (60)',\n",
       " 'UV Protection Wayfarer Sunglasses (55)',\n",
       " 'UV Protection Over-sized Sunglasses (65)',\n",
       " 'UV Protection Aviator Sunglasses (58)',\n",
       " 'UV Protection, Gradient Oval Sunglasses (58)',\n",
       " 'UV Protection Wayfarer Sunglasses (Free Size)',\n",
       " 'Riding Glasses, UV Protection, Others Aviator Sunglasse...',\n",
       " 'UV Protection Wayfarer Sunglasses (Free Size)',\n",
       " 'Polarized, Riding Glasses Sports, Wrap-around Sunglasse...',\n",
       " 'Riding Glasses, UV Protection Clubmaster, Wayfarer Sung...',\n",
       " 'UV Protection Spectacle Sunglasses (Free Size)',\n",
       " 'UV Protection Round Sunglasses (54)',\n",
       " 'UV Protection Aviator Sunglasses (54)',\n",
       " 'UV Protection Rectangular Sunglasses (Free Size)',\n",
       " 'UV Protection Rectangular Sunglasses (Free Size)',\n",
       " 'UV Protection Wayfarer Sunglasses (Free Size)',\n",
       " 'UV Protection, Gradient Rectangular Sunglasses (Free Si...',\n",
       " 'Riding Glasses Wrap-around Sunglasses (Free Size)',\n",
       " 'UV Protection, Polarized Wayfarer Sunglasses (Free Size...',\n",
       " 'UV Protection Sports Sunglasses (Free Size)',\n",
       " 'Gradient Aviator Sunglasses (55)',\n",
       " 'UV Protection Rectangular Sunglasses (Free Size)',\n",
       " 'UV Protection, Polarized, Mirrored Rectangular Sunglass...',\n",
       " 'UV Protection Wayfarer Sunglasses (50)',\n",
       " 'UV Protection, Gradient Retro Square Sunglasses (Free S...',\n",
       " 'UV Protection Aviator Sunglasses (54)',\n",
       " 'Mirrored, UV Protection, Riding Glasses, Others Round S...',\n",
       " 'UV Protection Aviator Sunglasses (54)',\n",
       " 'UV Protection Aviator Sunglasses (62)',\n",
       " 'UV Protection Wayfarer Sunglasses (32)',\n",
       " 'Polarized, Riding Glasses Sports, Wrap-around Sunglasse...',\n",
       " 'Gradient, UV Protection Wayfarer Sunglasses (Free Size)',\n",
       " 'Polarized, UV Protection Sports Sunglasses (Free Size)',\n",
       " 'UV Protection, Riding Glasses, Mirrored Wayfarer Sungla...',\n",
       " 'UV Protection Aviator, Wayfarer Sunglasses (Free Size)',\n",
       " 'UV Protection Retro Square Sunglasses (53)',\n",
       " 'UV Protection, Night Vision, Riding Glasses Aviator Sun...',\n",
       " 'UV Protection Wayfarer Sunglasses (Free Size)',\n",
       " 'UV Protection, Polarized, Mirrored Retro Square Sunglas...',\n",
       " 'UV Protection Oval Sunglasses (57)',\n",
       " 'UV Protection Aviator Sunglasses (60)',\n",
       " 'UV Protection Wayfarer Sunglasses (55)',\n",
       " 'UV Protection Over-sized Sunglasses (65)',\n",
       " 'UV Protection Aviator Sunglasses (58)',\n",
       " 'UV Protection, Gradient Oval Sunglasses (58)',\n",
       " 'UV Protection Wayfarer Sunglasses (Free Size)',\n",
       " 'Riding Glasses, UV Protection, Others Aviator Sunglasse...',\n",
       " 'UV Protection Wayfarer Sunglasses (Free Size)',\n",
       " 'Polarized, Riding Glasses Sports, Wrap-around Sunglasse...',\n",
       " 'Riding Glasses, UV Protection Clubmaster, Wayfarer Sung...',\n",
       " 'UV Protection Spectacle Sunglasses (Free Size)',\n",
       " 'UV Protection Round Sunglasses (54)',\n",
       " 'UV Protection Aviator Sunglasses (54)',\n",
       " 'UV Protection Rectangular Sunglasses (Free Size)',\n",
       " 'UV Protection Rectangular Sunglasses (Free Size)',\n",
       " 'UV Protection Wayfarer Sunglasses (Free Size)',\n",
       " 'UV Protection, Gradient Rectangular Sunglasses (Free Si...',\n",
       " 'Riding Glasses Wrap-around Sunglasses (Free Size)',\n",
       " 'UV Protection, Polarized Wayfarer Sunglasses (Free Size...',\n",
       " 'UV Protection Sports Sunglasses (Free Size)',\n",
       " 'Gradient Aviator Sunglasses (55)',\n",
       " 'UV Protection Rectangular Sunglasses (Free Size)',\n",
       " 'UV Protection, Polarized, Mirrored Rectangular Sunglass...',\n",
       " 'UV Protection Wayfarer Sunglasses (50)',\n",
       " 'UV Protection, Gradient Retro Square Sunglasses (Free S...',\n",
       " 'UV Protection Aviator Sunglasses (54)',\n",
       " 'Mirrored, UV Protection, Riding Glasses, Others Round S...',\n",
       " 'UV Protection Aviator Sunglasses (54)',\n",
       " 'UV Protection Aviator Sunglasses (62)']"
      ]
     },
     "execution_count": 15,
     "metadata": {},
     "output_type": "execute_result"
    }
   ],
   "source": [
    "for i in products_tags:\n",
    "    product=i.text\n",
    "    product_description.append(product)\n",
    "product_description[0:100]"
   ]
  },
  {
   "cell_type": "markdown",
   "id": "2b9236c3",
   "metadata": {},
   "source": [
    "Now we will extract all the tags where we have the product price. Let me first show you in which tags the product price are put on the webpage."
   ]
  },
  {
   "cell_type": "code",
   "execution_count": 16,
   "id": "e63d1572",
   "metadata": {},
   "outputs": [],
   "source": [
    "# so lets extract all the tags having the product price\n",
    "\n",
    "price_tags1=driver.find_elements_by_xpath(\"//div[@class='_30jeq3']\")\n",
    "\n",
    "price_tags2=driver.find_elements_by_xpath(\"//div[@class='_30jeq3']\")\n",
    "\n",
    "price_tags3=driver.find_elements_by_xpath(\"//div[@class='_30jeq3']\")\n",
    "\n",
    "price_tags=price_tags1 + price_tags2 + price_tags3"
   ]
  },
  {
   "cell_type": "code",
   "execution_count": 17,
   "id": "b5cda26c",
   "metadata": {},
   "outputs": [
    {
     "data": {
      "text/plain": [
       "[<selenium.webdriver.remote.webelement.WebElement (session=\"ab032f832b19949112697a453b5ff0cb\", element=\"865b94b6-c67a-4406-851d-a95e7654392b\")>,\n",
       " <selenium.webdriver.remote.webelement.WebElement (session=\"ab032f832b19949112697a453b5ff0cb\", element=\"7696bf13-3618-492d-ad28-f3595c7012ef\")>,\n",
       " <selenium.webdriver.remote.webelement.WebElement (session=\"ab032f832b19949112697a453b5ff0cb\", element=\"5c8a2121-69a4-4991-8f05-4822605801fc\")>,\n",
       " <selenium.webdriver.remote.webelement.WebElement (session=\"ab032f832b19949112697a453b5ff0cb\", element=\"312d38c6-3e46-4682-9b68-de4937d12e8a\")>,\n",
       " <selenium.webdriver.remote.webelement.WebElement (session=\"ab032f832b19949112697a453b5ff0cb\", element=\"8af68747-b6dd-46c4-bec2-4689f1452ab1\")>,\n",
       " <selenium.webdriver.remote.webelement.WebElement (session=\"ab032f832b19949112697a453b5ff0cb\", element=\"d626cc0d-9879-4eb7-8857-74fef861b8ae\")>,\n",
       " <selenium.webdriver.remote.webelement.WebElement (session=\"ab032f832b19949112697a453b5ff0cb\", element=\"eff6ab97-939e-4dca-9c05-97f64da3a441\")>,\n",
       " <selenium.webdriver.remote.webelement.WebElement (session=\"ab032f832b19949112697a453b5ff0cb\", element=\"b1cbc5aa-f526-4abe-b601-a11b7f8e13fe\")>,\n",
       " <selenium.webdriver.remote.webelement.WebElement (session=\"ab032f832b19949112697a453b5ff0cb\", element=\"46d83b31-8ef7-4ac7-9391-c828cf8a7a44\")>,\n",
       " <selenium.webdriver.remote.webelement.WebElement (session=\"ab032f832b19949112697a453b5ff0cb\", element=\"5a7aefa9-1634-4b66-a422-10ccde12b5d1\")>,\n",
       " <selenium.webdriver.remote.webelement.WebElement (session=\"ab032f832b19949112697a453b5ff0cb\", element=\"a8ba2738-c543-4050-8ffa-a8e588729408\")>,\n",
       " <selenium.webdriver.remote.webelement.WebElement (session=\"ab032f832b19949112697a453b5ff0cb\", element=\"9ff43be7-00fc-465f-8f75-aed72ef0a550\")>,\n",
       " <selenium.webdriver.remote.webelement.WebElement (session=\"ab032f832b19949112697a453b5ff0cb\", element=\"c5e135a7-7a74-4cbb-9df8-534920d05d96\")>,\n",
       " <selenium.webdriver.remote.webelement.WebElement (session=\"ab032f832b19949112697a453b5ff0cb\", element=\"8e108a70-c669-4f24-ab1a-0652f51aa622\")>,\n",
       " <selenium.webdriver.remote.webelement.WebElement (session=\"ab032f832b19949112697a453b5ff0cb\", element=\"0e8624be-5ffd-44e4-9fc8-51d9ef2b96e3\")>,\n",
       " <selenium.webdriver.remote.webelement.WebElement (session=\"ab032f832b19949112697a453b5ff0cb\", element=\"e7bed16c-7e94-46d4-b240-785a1fe17166\")>,\n",
       " <selenium.webdriver.remote.webelement.WebElement (session=\"ab032f832b19949112697a453b5ff0cb\", element=\"ed418d22-a762-4d60-819c-5f366a79f95d\")>,\n",
       " <selenium.webdriver.remote.webelement.WebElement (session=\"ab032f832b19949112697a453b5ff0cb\", element=\"b507da25-6131-4635-ab61-94e07845ae4f\")>,\n",
       " <selenium.webdriver.remote.webelement.WebElement (session=\"ab032f832b19949112697a453b5ff0cb\", element=\"43098779-b2d7-4667-9e1c-bdb205dde6b2\")>,\n",
       " <selenium.webdriver.remote.webelement.WebElement (session=\"ab032f832b19949112697a453b5ff0cb\", element=\"10493d60-78cf-4725-819f-42b5809f4a7f\")>,\n",
       " <selenium.webdriver.remote.webelement.WebElement (session=\"ab032f832b19949112697a453b5ff0cb\", element=\"1668741a-a06f-4e53-b9bc-78b0632f43b1\")>,\n",
       " <selenium.webdriver.remote.webelement.WebElement (session=\"ab032f832b19949112697a453b5ff0cb\", element=\"d231c835-5880-479e-8742-f2d0a6664d00\")>,\n",
       " <selenium.webdriver.remote.webelement.WebElement (session=\"ab032f832b19949112697a453b5ff0cb\", element=\"5c0104ca-1b22-46fc-8c97-0ad26d7c3ee1\")>,\n",
       " <selenium.webdriver.remote.webelement.WebElement (session=\"ab032f832b19949112697a453b5ff0cb\", element=\"d4251b02-2821-4d0a-8af6-19f0f5b85199\")>,\n",
       " <selenium.webdriver.remote.webelement.WebElement (session=\"ab032f832b19949112697a453b5ff0cb\", element=\"ec60292e-8de8-4db1-b2f6-6d998d605cf3\")>,\n",
       " <selenium.webdriver.remote.webelement.WebElement (session=\"ab032f832b19949112697a453b5ff0cb\", element=\"80a1aac2-fe31-46b9-a8a0-6d25c4b83cf4\")>,\n",
       " <selenium.webdriver.remote.webelement.WebElement (session=\"ab032f832b19949112697a453b5ff0cb\", element=\"c1c78cdf-c5b4-4d9a-a51d-64815188b149\")>,\n",
       " <selenium.webdriver.remote.webelement.WebElement (session=\"ab032f832b19949112697a453b5ff0cb\", element=\"d776a90b-347b-46e6-8a22-ec8995ab4075\")>,\n",
       " <selenium.webdriver.remote.webelement.WebElement (session=\"ab032f832b19949112697a453b5ff0cb\", element=\"4529273b-73ae-4785-a88c-33c38a2765ae\")>,\n",
       " <selenium.webdriver.remote.webelement.WebElement (session=\"ab032f832b19949112697a453b5ff0cb\", element=\"9c8e022e-439f-44ad-be5d-497f0beeaaea\")>,\n",
       " <selenium.webdriver.remote.webelement.WebElement (session=\"ab032f832b19949112697a453b5ff0cb\", element=\"df044fe1-de7f-4857-8871-beb6623c04d9\")>,\n",
       " <selenium.webdriver.remote.webelement.WebElement (session=\"ab032f832b19949112697a453b5ff0cb\", element=\"b2fc75dc-a070-4599-88dd-1e753f8a65cf\")>,\n",
       " <selenium.webdriver.remote.webelement.WebElement (session=\"ab032f832b19949112697a453b5ff0cb\", element=\"77d32713-09d6-4e80-9642-798a95a5815b\")>,\n",
       " <selenium.webdriver.remote.webelement.WebElement (session=\"ab032f832b19949112697a453b5ff0cb\", element=\"7571e1ce-7fe4-456a-87a3-0134883924c3\")>,\n",
       " <selenium.webdriver.remote.webelement.WebElement (session=\"ab032f832b19949112697a453b5ff0cb\", element=\"72b1c6e3-834c-40b1-8626-9ce8033b0728\")>,\n",
       " <selenium.webdriver.remote.webelement.WebElement (session=\"ab032f832b19949112697a453b5ff0cb\", element=\"f2aaa367-4326-4f98-b7cd-e11f025442f1\")>,\n",
       " <selenium.webdriver.remote.webelement.WebElement (session=\"ab032f832b19949112697a453b5ff0cb\", element=\"4a6d00df-8266-4698-acbd-87a1e3764496\")>,\n",
       " <selenium.webdriver.remote.webelement.WebElement (session=\"ab032f832b19949112697a453b5ff0cb\", element=\"5e238027-ed2f-4a5e-a882-faf6786a86aa\")>,\n",
       " <selenium.webdriver.remote.webelement.WebElement (session=\"ab032f832b19949112697a453b5ff0cb\", element=\"9d71d393-7a93-48c8-8f6b-8802c4cba992\")>,\n",
       " <selenium.webdriver.remote.webelement.WebElement (session=\"ab032f832b19949112697a453b5ff0cb\", element=\"795b0277-36a2-4b40-bb46-fd06a5541e3b\")>,\n",
       " <selenium.webdriver.remote.webelement.WebElement (session=\"ab032f832b19949112697a453b5ff0cb\", element=\"865b94b6-c67a-4406-851d-a95e7654392b\")>,\n",
       " <selenium.webdriver.remote.webelement.WebElement (session=\"ab032f832b19949112697a453b5ff0cb\", element=\"7696bf13-3618-492d-ad28-f3595c7012ef\")>,\n",
       " <selenium.webdriver.remote.webelement.WebElement (session=\"ab032f832b19949112697a453b5ff0cb\", element=\"5c8a2121-69a4-4991-8f05-4822605801fc\")>,\n",
       " <selenium.webdriver.remote.webelement.WebElement (session=\"ab032f832b19949112697a453b5ff0cb\", element=\"312d38c6-3e46-4682-9b68-de4937d12e8a\")>,\n",
       " <selenium.webdriver.remote.webelement.WebElement (session=\"ab032f832b19949112697a453b5ff0cb\", element=\"8af68747-b6dd-46c4-bec2-4689f1452ab1\")>,\n",
       " <selenium.webdriver.remote.webelement.WebElement (session=\"ab032f832b19949112697a453b5ff0cb\", element=\"d626cc0d-9879-4eb7-8857-74fef861b8ae\")>,\n",
       " <selenium.webdriver.remote.webelement.WebElement (session=\"ab032f832b19949112697a453b5ff0cb\", element=\"eff6ab97-939e-4dca-9c05-97f64da3a441\")>,\n",
       " <selenium.webdriver.remote.webelement.WebElement (session=\"ab032f832b19949112697a453b5ff0cb\", element=\"b1cbc5aa-f526-4abe-b601-a11b7f8e13fe\")>,\n",
       " <selenium.webdriver.remote.webelement.WebElement (session=\"ab032f832b19949112697a453b5ff0cb\", element=\"46d83b31-8ef7-4ac7-9391-c828cf8a7a44\")>,\n",
       " <selenium.webdriver.remote.webelement.WebElement (session=\"ab032f832b19949112697a453b5ff0cb\", element=\"5a7aefa9-1634-4b66-a422-10ccde12b5d1\")>,\n",
       " <selenium.webdriver.remote.webelement.WebElement (session=\"ab032f832b19949112697a453b5ff0cb\", element=\"a8ba2738-c543-4050-8ffa-a8e588729408\")>,\n",
       " <selenium.webdriver.remote.webelement.WebElement (session=\"ab032f832b19949112697a453b5ff0cb\", element=\"9ff43be7-00fc-465f-8f75-aed72ef0a550\")>,\n",
       " <selenium.webdriver.remote.webelement.WebElement (session=\"ab032f832b19949112697a453b5ff0cb\", element=\"c5e135a7-7a74-4cbb-9df8-534920d05d96\")>,\n",
       " <selenium.webdriver.remote.webelement.WebElement (session=\"ab032f832b19949112697a453b5ff0cb\", element=\"8e108a70-c669-4f24-ab1a-0652f51aa622\")>,\n",
       " <selenium.webdriver.remote.webelement.WebElement (session=\"ab032f832b19949112697a453b5ff0cb\", element=\"0e8624be-5ffd-44e4-9fc8-51d9ef2b96e3\")>,\n",
       " <selenium.webdriver.remote.webelement.WebElement (session=\"ab032f832b19949112697a453b5ff0cb\", element=\"e7bed16c-7e94-46d4-b240-785a1fe17166\")>,\n",
       " <selenium.webdriver.remote.webelement.WebElement (session=\"ab032f832b19949112697a453b5ff0cb\", element=\"ed418d22-a762-4d60-819c-5f366a79f95d\")>,\n",
       " <selenium.webdriver.remote.webelement.WebElement (session=\"ab032f832b19949112697a453b5ff0cb\", element=\"b507da25-6131-4635-ab61-94e07845ae4f\")>,\n",
       " <selenium.webdriver.remote.webelement.WebElement (session=\"ab032f832b19949112697a453b5ff0cb\", element=\"43098779-b2d7-4667-9e1c-bdb205dde6b2\")>,\n",
       " <selenium.webdriver.remote.webelement.WebElement (session=\"ab032f832b19949112697a453b5ff0cb\", element=\"10493d60-78cf-4725-819f-42b5809f4a7f\")>,\n",
       " <selenium.webdriver.remote.webelement.WebElement (session=\"ab032f832b19949112697a453b5ff0cb\", element=\"1668741a-a06f-4e53-b9bc-78b0632f43b1\")>,\n",
       " <selenium.webdriver.remote.webelement.WebElement (session=\"ab032f832b19949112697a453b5ff0cb\", element=\"d231c835-5880-479e-8742-f2d0a6664d00\")>,\n",
       " <selenium.webdriver.remote.webelement.WebElement (session=\"ab032f832b19949112697a453b5ff0cb\", element=\"5c0104ca-1b22-46fc-8c97-0ad26d7c3ee1\")>,\n",
       " <selenium.webdriver.remote.webelement.WebElement (session=\"ab032f832b19949112697a453b5ff0cb\", element=\"d4251b02-2821-4d0a-8af6-19f0f5b85199\")>,\n",
       " <selenium.webdriver.remote.webelement.WebElement (session=\"ab032f832b19949112697a453b5ff0cb\", element=\"ec60292e-8de8-4db1-b2f6-6d998d605cf3\")>,\n",
       " <selenium.webdriver.remote.webelement.WebElement (session=\"ab032f832b19949112697a453b5ff0cb\", element=\"80a1aac2-fe31-46b9-a8a0-6d25c4b83cf4\")>,\n",
       " <selenium.webdriver.remote.webelement.WebElement (session=\"ab032f832b19949112697a453b5ff0cb\", element=\"c1c78cdf-c5b4-4d9a-a51d-64815188b149\")>,\n",
       " <selenium.webdriver.remote.webelement.WebElement (session=\"ab032f832b19949112697a453b5ff0cb\", element=\"d776a90b-347b-46e6-8a22-ec8995ab4075\")>,\n",
       " <selenium.webdriver.remote.webelement.WebElement (session=\"ab032f832b19949112697a453b5ff0cb\", element=\"4529273b-73ae-4785-a88c-33c38a2765ae\")>,\n",
       " <selenium.webdriver.remote.webelement.WebElement (session=\"ab032f832b19949112697a453b5ff0cb\", element=\"9c8e022e-439f-44ad-be5d-497f0beeaaea\")>,\n",
       " <selenium.webdriver.remote.webelement.WebElement (session=\"ab032f832b19949112697a453b5ff0cb\", element=\"df044fe1-de7f-4857-8871-beb6623c04d9\")>,\n",
       " <selenium.webdriver.remote.webelement.WebElement (session=\"ab032f832b19949112697a453b5ff0cb\", element=\"b2fc75dc-a070-4599-88dd-1e753f8a65cf\")>,\n",
       " <selenium.webdriver.remote.webelement.WebElement (session=\"ab032f832b19949112697a453b5ff0cb\", element=\"77d32713-09d6-4e80-9642-798a95a5815b\")>,\n",
       " <selenium.webdriver.remote.webelement.WebElement (session=\"ab032f832b19949112697a453b5ff0cb\", element=\"7571e1ce-7fe4-456a-87a3-0134883924c3\")>,\n",
       " <selenium.webdriver.remote.webelement.WebElement (session=\"ab032f832b19949112697a453b5ff0cb\", element=\"72b1c6e3-834c-40b1-8626-9ce8033b0728\")>,\n",
       " <selenium.webdriver.remote.webelement.WebElement (session=\"ab032f832b19949112697a453b5ff0cb\", element=\"f2aaa367-4326-4f98-b7cd-e11f025442f1\")>,\n",
       " <selenium.webdriver.remote.webelement.WebElement (session=\"ab032f832b19949112697a453b5ff0cb\", element=\"4a6d00df-8266-4698-acbd-87a1e3764496\")>,\n",
       " <selenium.webdriver.remote.webelement.WebElement (session=\"ab032f832b19949112697a453b5ff0cb\", element=\"5e238027-ed2f-4a5e-a882-faf6786a86aa\")>,\n",
       " <selenium.webdriver.remote.webelement.WebElement (session=\"ab032f832b19949112697a453b5ff0cb\", element=\"9d71d393-7a93-48c8-8f6b-8802c4cba992\")>,\n",
       " <selenium.webdriver.remote.webelement.WebElement (session=\"ab032f832b19949112697a453b5ff0cb\", element=\"795b0277-36a2-4b40-bb46-fd06a5541e3b\")>,\n",
       " <selenium.webdriver.remote.webelement.WebElement (session=\"ab032f832b19949112697a453b5ff0cb\", element=\"865b94b6-c67a-4406-851d-a95e7654392b\")>,\n",
       " <selenium.webdriver.remote.webelement.WebElement (session=\"ab032f832b19949112697a453b5ff0cb\", element=\"7696bf13-3618-492d-ad28-f3595c7012ef\")>,\n",
       " <selenium.webdriver.remote.webelement.WebElement (session=\"ab032f832b19949112697a453b5ff0cb\", element=\"5c8a2121-69a4-4991-8f05-4822605801fc\")>,\n",
       " <selenium.webdriver.remote.webelement.WebElement (session=\"ab032f832b19949112697a453b5ff0cb\", element=\"312d38c6-3e46-4682-9b68-de4937d12e8a\")>,\n",
       " <selenium.webdriver.remote.webelement.WebElement (session=\"ab032f832b19949112697a453b5ff0cb\", element=\"8af68747-b6dd-46c4-bec2-4689f1452ab1\")>,\n",
       " <selenium.webdriver.remote.webelement.WebElement (session=\"ab032f832b19949112697a453b5ff0cb\", element=\"d626cc0d-9879-4eb7-8857-74fef861b8ae\")>,\n",
       " <selenium.webdriver.remote.webelement.WebElement (session=\"ab032f832b19949112697a453b5ff0cb\", element=\"eff6ab97-939e-4dca-9c05-97f64da3a441\")>,\n",
       " <selenium.webdriver.remote.webelement.WebElement (session=\"ab032f832b19949112697a453b5ff0cb\", element=\"b1cbc5aa-f526-4abe-b601-a11b7f8e13fe\")>,\n",
       " <selenium.webdriver.remote.webelement.WebElement (session=\"ab032f832b19949112697a453b5ff0cb\", element=\"46d83b31-8ef7-4ac7-9391-c828cf8a7a44\")>,\n",
       " <selenium.webdriver.remote.webelement.WebElement (session=\"ab032f832b19949112697a453b5ff0cb\", element=\"5a7aefa9-1634-4b66-a422-10ccde12b5d1\")>,\n",
       " <selenium.webdriver.remote.webelement.WebElement (session=\"ab032f832b19949112697a453b5ff0cb\", element=\"a8ba2738-c543-4050-8ffa-a8e588729408\")>,\n",
       " <selenium.webdriver.remote.webelement.WebElement (session=\"ab032f832b19949112697a453b5ff0cb\", element=\"9ff43be7-00fc-465f-8f75-aed72ef0a550\")>,\n",
       " <selenium.webdriver.remote.webelement.WebElement (session=\"ab032f832b19949112697a453b5ff0cb\", element=\"c5e135a7-7a74-4cbb-9df8-534920d05d96\")>,\n",
       " <selenium.webdriver.remote.webelement.WebElement (session=\"ab032f832b19949112697a453b5ff0cb\", element=\"8e108a70-c669-4f24-ab1a-0652f51aa622\")>,\n",
       " <selenium.webdriver.remote.webelement.WebElement (session=\"ab032f832b19949112697a453b5ff0cb\", element=\"0e8624be-5ffd-44e4-9fc8-51d9ef2b96e3\")>,\n",
       " <selenium.webdriver.remote.webelement.WebElement (session=\"ab032f832b19949112697a453b5ff0cb\", element=\"e7bed16c-7e94-46d4-b240-785a1fe17166\")>,\n",
       " <selenium.webdriver.remote.webelement.WebElement (session=\"ab032f832b19949112697a453b5ff0cb\", element=\"ed418d22-a762-4d60-819c-5f366a79f95d\")>,\n",
       " <selenium.webdriver.remote.webelement.WebElement (session=\"ab032f832b19949112697a453b5ff0cb\", element=\"b507da25-6131-4635-ab61-94e07845ae4f\")>,\n",
       " <selenium.webdriver.remote.webelement.WebElement (session=\"ab032f832b19949112697a453b5ff0cb\", element=\"43098779-b2d7-4667-9e1c-bdb205dde6b2\")>,\n",
       " <selenium.webdriver.remote.webelement.WebElement (session=\"ab032f832b19949112697a453b5ff0cb\", element=\"10493d60-78cf-4725-819f-42b5809f4a7f\")>]"
      ]
     },
     "execution_count": 17,
     "metadata": {},
     "output_type": "execute_result"
    }
   ],
   "source": [
    "price_tags[0:100]"
   ]
  },
  {
   "cell_type": "markdown",
   "id": "9649b53c",
   "metadata": {},
   "source": [
    "Now we have all the tags in which there are the product price.\n",
    "\n",
    "Now we will extract the text from these tags one by one by looping over these tags"
   ]
  },
  {
   "cell_type": "code",
   "execution_count": 18,
   "id": "c03d21ad",
   "metadata": {},
   "outputs": [
    {
     "data": {
      "text/plain": [
       "['₹299',\n",
       " '₹399',\n",
       " '₹295',\n",
       " '₹249',\n",
       " '₹265',\n",
       " '₹639',\n",
       " '₹719',\n",
       " '₹449',\n",
       " '₹299',\n",
       " '₹283',\n",
       " '₹258',\n",
       " '₹224',\n",
       " '₹219',\n",
       " '₹195',\n",
       " '₹250',\n",
       " '₹349',\n",
       " '₹249',\n",
       " '₹299',\n",
       " '₹249',\n",
       " '₹616',\n",
       " '₹225',\n",
       " '₹474',\n",
       " '₹639',\n",
       " '₹472',\n",
       " '₹209',\n",
       " '₹217',\n",
       " '₹315',\n",
       " '₹295',\n",
       " '₹719',\n",
       " '₹259',\n",
       " '₹649',\n",
       " '₹1,349',\n",
       " '₹719',\n",
       " '₹399',\n",
       " '₹1,099',\n",
       " '₹498',\n",
       " '₹699',\n",
       " '₹245',\n",
       " '₹639',\n",
       " '₹474',\n",
       " '₹299',\n",
       " '₹399',\n",
       " '₹295',\n",
       " '₹249',\n",
       " '₹265',\n",
       " '₹639',\n",
       " '₹719',\n",
       " '₹449',\n",
       " '₹299',\n",
       " '₹283',\n",
       " '₹258',\n",
       " '₹224',\n",
       " '₹219',\n",
       " '₹195',\n",
       " '₹250',\n",
       " '₹349',\n",
       " '₹249',\n",
       " '₹299',\n",
       " '₹249',\n",
       " '₹616',\n",
       " '₹225',\n",
       " '₹474',\n",
       " '₹639',\n",
       " '₹472',\n",
       " '₹209',\n",
       " '₹217',\n",
       " '₹315',\n",
       " '₹295',\n",
       " '₹719',\n",
       " '₹259',\n",
       " '₹649',\n",
       " '₹1,349',\n",
       " '₹719',\n",
       " '₹399',\n",
       " '₹1,099',\n",
       " '₹498',\n",
       " '₹699',\n",
       " '₹245',\n",
       " '₹639',\n",
       " '₹474',\n",
       " '₹299',\n",
       " '₹399',\n",
       " '₹295',\n",
       " '₹249',\n",
       " '₹265',\n",
       " '₹639',\n",
       " '₹719',\n",
       " '₹449',\n",
       " '₹299',\n",
       " '₹283',\n",
       " '₹258',\n",
       " '₹224',\n",
       " '₹219',\n",
       " '₹195',\n",
       " '₹250',\n",
       " '₹349',\n",
       " '₹249',\n",
       " '₹299',\n",
       " '₹249',\n",
       " '₹616']"
      ]
     },
     "execution_count": 18,
     "metadata": {},
     "output_type": "execute_result"
    }
   ],
   "source": [
    "for i in price_tags:\n",
    "    product_price=i.text\n",
    "    price.append(product_price)\n",
    "price[0:100]"
   ]
  },
  {
   "cell_type": "markdown",
   "id": "8b813def",
   "metadata": {},
   "source": [
    "So now we have extracted the data required from the webpage and stored them in the 10 lists mention above. Now before creating a dataframe from these lists. Lets first check the length of each of the list. Because if the length of all of the lists are not equal, then dataframe cannot be formed."
   ]
  },
  {
   "cell_type": "code",
   "execution_count": 19,
   "id": "29002345",
   "metadata": {},
   "outputs": [
    {
     "name": "stdout",
     "output_type": "stream",
     "text": [
      "120 120 120\n"
     ]
    }
   ],
   "source": [
    "print(len(brands),len(product_description),len(price))"
   ]
  },
  {
   "cell_type": "markdown",
   "id": "4b493d17",
   "metadata": {},
   "source": [
    "Now creating a DataFrame of the scraped data."
   ]
  },
  {
   "cell_type": "code",
   "execution_count": 20,
   "id": "53fe1bdd",
   "metadata": {},
   "outputs": [],
   "source": [
    "jobs=pd.DataFrame({})\n",
    "jobs['Sunglasses Brand']=brands\n",
    "jobs['Product Description']=product_description\n",
    "jobs['Product Price']=price"
   ]
  },
  {
   "cell_type": "code",
   "execution_count": 22,
   "id": "0ff2fda7",
   "metadata": {},
   "outputs": [
    {
     "data": {
      "text/html": [
       "<div>\n",
       "<style scoped>\n",
       "    .dataframe tbody tr th:only-of-type {\n",
       "        vertical-align: middle;\n",
       "    }\n",
       "\n",
       "    .dataframe tbody tr th {\n",
       "        vertical-align: top;\n",
       "    }\n",
       "\n",
       "    .dataframe thead th {\n",
       "        text-align: right;\n",
       "    }\n",
       "</style>\n",
       "<table border=\"1\" class=\"dataframe\">\n",
       "  <thead>\n",
       "    <tr style=\"text-align: right;\">\n",
       "      <th></th>\n",
       "      <th>Sunglasses Brand</th>\n",
       "      <th>Product Description</th>\n",
       "      <th>Product Price</th>\n",
       "    </tr>\n",
       "  </thead>\n",
       "  <tbody>\n",
       "    <tr>\n",
       "      <th>0</th>\n",
       "      <td>Singco India</td>\n",
       "      <td>Riding Glasses, UV Protection Clubmaster, Wayf...</td>\n",
       "      <td>₹299</td>\n",
       "    </tr>\n",
       "    <tr>\n",
       "      <th>1</th>\n",
       "      <td>ROZZETTA CRAFT</td>\n",
       "      <td>UV Protection Spectacle Sunglasses (Free Size)</td>\n",
       "      <td>₹399</td>\n",
       "    </tr>\n",
       "    <tr>\n",
       "      <th>2</th>\n",
       "      <td>Elligator</td>\n",
       "      <td>UV Protection Round Sunglasses (54)</td>\n",
       "      <td>₹295</td>\n",
       "    </tr>\n",
       "    <tr>\n",
       "      <th>3</th>\n",
       "      <td>PIRASO</td>\n",
       "      <td>UV Protection Aviator Sunglasses (54)</td>\n",
       "      <td>₹249</td>\n",
       "    </tr>\n",
       "    <tr>\n",
       "      <th>4</th>\n",
       "      <td>New Specs</td>\n",
       "      <td>UV Protection Rectangular Sunglasses (Free Size)</td>\n",
       "      <td>₹265</td>\n",
       "    </tr>\n",
       "    <tr>\n",
       "      <th>...</th>\n",
       "      <td>...</td>\n",
       "      <td>...</td>\n",
       "      <td>...</td>\n",
       "    </tr>\n",
       "    <tr>\n",
       "      <th>95</th>\n",
       "      <td>ROZZETTA CRAFT</td>\n",
       "      <td>UV Protection, Gradient Retro Square Sunglasse...</td>\n",
       "      <td>₹349</td>\n",
       "    </tr>\n",
       "    <tr>\n",
       "      <th>96</th>\n",
       "      <td>PIRASO</td>\n",
       "      <td>UV Protection Aviator Sunglasses (54)</td>\n",
       "      <td>₹249</td>\n",
       "    </tr>\n",
       "    <tr>\n",
       "      <th>97</th>\n",
       "      <td>New Specs</td>\n",
       "      <td>Mirrored, UV Protection, Riding Glasses, Other...</td>\n",
       "      <td>₹299</td>\n",
       "    </tr>\n",
       "    <tr>\n",
       "      <th>98</th>\n",
       "      <td>PIRASO</td>\n",
       "      <td>UV Protection Aviator Sunglasses (54)</td>\n",
       "      <td>₹249</td>\n",
       "    </tr>\n",
       "    <tr>\n",
       "      <th>99</th>\n",
       "      <td>ROZZETTA CRAFT</td>\n",
       "      <td>UV Protection Aviator Sunglasses (62)</td>\n",
       "      <td>₹616</td>\n",
       "    </tr>\n",
       "  </tbody>\n",
       "</table>\n",
       "<p>100 rows × 3 columns</p>\n",
       "</div>"
      ],
      "text/plain": [
       "   Sunglasses Brand                                Product Description  \\\n",
       "0      Singco India  Riding Glasses, UV Protection Clubmaster, Wayf...   \n",
       "1    ROZZETTA CRAFT     UV Protection Spectacle Sunglasses (Free Size)   \n",
       "2         Elligator                UV Protection Round Sunglasses (54)   \n",
       "3            PIRASO              UV Protection Aviator Sunglasses (54)   \n",
       "4         New Specs   UV Protection Rectangular Sunglasses (Free Size)   \n",
       "..              ...                                                ...   \n",
       "95   ROZZETTA CRAFT  UV Protection, Gradient Retro Square Sunglasse...   \n",
       "96           PIRASO              UV Protection Aviator Sunglasses (54)   \n",
       "97        New Specs  Mirrored, UV Protection, Riding Glasses, Other...   \n",
       "98           PIRASO              UV Protection Aviator Sunglasses (54)   \n",
       "99   ROZZETTA CRAFT              UV Protection Aviator Sunglasses (62)   \n",
       "\n",
       "   Product Price  \n",
       "0           ₹299  \n",
       "1           ₹399  \n",
       "2           ₹295  \n",
       "3           ₹249  \n",
       "4           ₹265  \n",
       "..           ...  \n",
       "95          ₹349  \n",
       "96          ₹249  \n",
       "97          ₹299  \n",
       "98          ₹249  \n",
       "99          ₹616  \n",
       "\n",
       "[100 rows x 3 columns]"
      ]
     },
     "execution_count": 22,
     "metadata": {},
     "output_type": "execute_result"
    }
   ],
   "source": [
    "jobs[0:100]"
   ]
  },
  {
   "cell_type": "code",
   "execution_count": null,
   "id": "f027ae4d",
   "metadata": {},
   "outputs": [],
   "source": []
  },
  {
   "cell_type": "markdown",
   "id": "c393b7c3",
   "metadata": {},
   "source": [
    "Q5: Scrape 100 reviews data from flipkart.com for iphone11 phone. You have to go the link: https://www.flipkart.com/apple-iphone-11-black-64-gb-includes- earpods-power- adapter/p/itm0f37c2240b217?pid=MOBFKCTSVZAXUHGR&lid=LSTMOBFKC TSVZAXUHGREPBFGI&marketplace.\n",
    "When you will open the above link you will reach to the below shown webpage .\n",
    "As shown in the above page you have to scrape the tick marked attributes.These are:\n",
    "1. Rating\n",
    "2. Review summary\n",
    "3. Full review\n",
    "4. You have to scrape this data for first 100 reviews.\n",
    "\n",
    "Ans  :- "
   ]
  },
  {
   "cell_type": "code",
   "execution_count": 24,
   "id": "4fe58839",
   "metadata": {},
   "outputs": [],
   "source": [
    "# lets first connect to the web driver\n",
    "driver = webdriver.Chrome(r\"C:\\Users\\JAYASHRI\\Downloads\\chromedriver_win32\\chromedriver.exe\")"
   ]
  },
  {
   "cell_type": "code",
   "execution_count": 25,
   "id": "4530c617",
   "metadata": {},
   "outputs": [],
   "source": [
    "driver=webdriver.Chrome(\"chromedriver.exe\")\n",
    "time.sleep(2)"
   ]
  },
  {
   "cell_type": "code",
   "execution_count": 26,
   "id": "d8604044",
   "metadata": {},
   "outputs": [],
   "source": [
    "driver.get('https://www.flipkart.com/apple-iphone-11-black-64-gb-includes- earpods-power- adapter/p/itm0f37c2240b217?pid=MOBFKCTSVZAXUHGR&lid=LSTMOBFKC TSVZAXUHGREPBFGI&marketplace')"
   ]
  },
  {
   "cell_type": "code",
   "execution_count": 28,
   "id": "f81a8308",
   "metadata": {},
   "outputs": [],
   "source": [
    "#specifying the url of the webpage to be scraped\n",
    "url=\"https://www.flipkart.com/apple-iphone-11-black-64-gb-includes- earpods-power- adapter/p/itm0f37c2240b217?pid=MOBFKCTSVZAXUHGR&lid=LSTMOBFKC TSVZAXUHGREPBFGI&marketplace\""
   ]
  },
  {
   "cell_type": "code",
   "execution_count": 29,
   "id": "0cb8255f",
   "metadata": {},
   "outputs": [],
   "source": [
    "driver.get(url)"
   ]
  },
  {
   "cell_type": "markdown",
   "id": "db8e4ef2",
   "metadata": {},
   "source": [
    "Now we will see in the window opened by webdriver whether the webpage has opened or not. Lets check it\n",
    "\n",
    "So, now lets first creat 4 empty list. In these list the data will be stored while scraping. We have created 4 empty lists for 4 features which we have to exract\n",
    "\n",
    "1. Rating\n",
    "\n",
    "2. Review summary\n",
    "\n",
    "3. Full review"
   ]
  },
  {
   "cell_type": "code",
   "execution_count": 33,
   "id": "fca64bcc",
   "metadata": {},
   "outputs": [],
   "source": [
    "rating=[]\n",
    "review_summary=[]\n",
    "full_review=[]"
   ]
  },
  {
   "cell_type": "markdown",
   "id": "48829008",
   "metadata": {},
   "source": [
    "First, we will extract all the tags where we have the rating. Let me first show you on the webpage in which tags the ratings are put."
   ]
  },
  {
   "cell_type": "code",
   "execution_count": 49,
   "id": "9c35a514",
   "metadata": {},
   "outputs": [],
   "source": [
    "# so lets extract all the tags having the rating\n",
    "rating_tags1=driver.find_elements_by_xpath(\"//div[@class='_3LWZlK _1BLPMq']\")\n",
    "rating_tags2=driver.find_elements_by_xpath(\"//div[@class='_3LWZlK _1BLPMq']\")\n",
    "rating_tags3=driver.find_elements_by_xpath(\"//div[@class='_3LWZlK _1BLPMq']\")\n",
    "rating_tags4=driver.find_elements_by_xpath(\"//div[@class='_3LWZlK _1BLPMq']\")\n",
    "rating_tags5=driver.find_elements_by_xpath(\"//div[@class='_3LWZlK _1BLPMq']\")\n",
    "rating_tags6=driver.find_elements_by_xpath(\"//div[@class='_3LWZlK _1BLPMq']\")\n",
    "rating_tags7=driver.find_elements_by_xpath(\"//div[@class='_3LWZlK _1BLPMq']\")\n",
    "rating_tags8=driver.find_elements_by_xpath(\"//div[@class='_3LWZlK _1BLPMq']\")\n",
    "rating_tags9=driver.find_elements_by_xpath(\"//div[@class='_3LWZlK _1BLPMq']\")\n",
    "rating_tags10=driver.find_elements_by_xpath(\"//div[@class='_3LWZlK _1BLPMq']\")\n",
    "\n",
    "rating_tags=rating_tags1+rating_tags2+rating_tags3+rating_tags4+rating_tags5+rating_tags6+rating_tags7+rating_tags8+rating_tags9+rating_tags10"
   ]
  },
  {
   "cell_type": "code",
   "execution_count": 50,
   "id": "bfb1cc91",
   "metadata": {},
   "outputs": [
    {
     "data": {
      "text/plain": [
       "[<selenium.webdriver.remote.webelement.WebElement (session=\"da1da3443c2e8129d855615df11effc3\", element=\"4ad714fd-c87b-4dbf-9543-53fc5307e107\")>,\n",
       " <selenium.webdriver.remote.webelement.WebElement (session=\"da1da3443c2e8129d855615df11effc3\", element=\"b4948aff-dd6b-42b2-a7ae-9b4abad3733b\")>,\n",
       " <selenium.webdriver.remote.webelement.WebElement (session=\"da1da3443c2e8129d855615df11effc3\", element=\"0fd4f20d-5e00-4184-9f7c-66515e848479\")>,\n",
       " <selenium.webdriver.remote.webelement.WebElement (session=\"da1da3443c2e8129d855615df11effc3\", element=\"76168e2c-6fb5-4fae-a789-c9e8549c5100\")>,\n",
       " <selenium.webdriver.remote.webelement.WebElement (session=\"da1da3443c2e8129d855615df11effc3\", element=\"ee69c341-6133-48b3-af84-7e64be4d8ca9\")>,\n",
       " <selenium.webdriver.remote.webelement.WebElement (session=\"da1da3443c2e8129d855615df11effc3\", element=\"bca42822-033b-4d9b-b38c-570e0cf42295\")>,\n",
       " <selenium.webdriver.remote.webelement.WebElement (session=\"da1da3443c2e8129d855615df11effc3\", element=\"7ea75495-7804-469f-8138-594a47e2f33e\")>,\n",
       " <selenium.webdriver.remote.webelement.WebElement (session=\"da1da3443c2e8129d855615df11effc3\", element=\"dce6de8c-ed7b-47e7-8feb-155a1cac86d4\")>,\n",
       " <selenium.webdriver.remote.webelement.WebElement (session=\"da1da3443c2e8129d855615df11effc3\", element=\"efe3f7fc-8e3c-42fc-8d48-4d11834d5888\")>,\n",
       " <selenium.webdriver.remote.webelement.WebElement (session=\"da1da3443c2e8129d855615df11effc3\", element=\"68b47137-0cbc-4915-974c-8cce88470504\")>,\n",
       " <selenium.webdriver.remote.webelement.WebElement (session=\"da1da3443c2e8129d855615df11effc3\", element=\"4ad714fd-c87b-4dbf-9543-53fc5307e107\")>,\n",
       " <selenium.webdriver.remote.webelement.WebElement (session=\"da1da3443c2e8129d855615df11effc3\", element=\"b4948aff-dd6b-42b2-a7ae-9b4abad3733b\")>,\n",
       " <selenium.webdriver.remote.webelement.WebElement (session=\"da1da3443c2e8129d855615df11effc3\", element=\"0fd4f20d-5e00-4184-9f7c-66515e848479\")>,\n",
       " <selenium.webdriver.remote.webelement.WebElement (session=\"da1da3443c2e8129d855615df11effc3\", element=\"76168e2c-6fb5-4fae-a789-c9e8549c5100\")>,\n",
       " <selenium.webdriver.remote.webelement.WebElement (session=\"da1da3443c2e8129d855615df11effc3\", element=\"ee69c341-6133-48b3-af84-7e64be4d8ca9\")>,\n",
       " <selenium.webdriver.remote.webelement.WebElement (session=\"da1da3443c2e8129d855615df11effc3\", element=\"bca42822-033b-4d9b-b38c-570e0cf42295\")>,\n",
       " <selenium.webdriver.remote.webelement.WebElement (session=\"da1da3443c2e8129d855615df11effc3\", element=\"7ea75495-7804-469f-8138-594a47e2f33e\")>,\n",
       " <selenium.webdriver.remote.webelement.WebElement (session=\"da1da3443c2e8129d855615df11effc3\", element=\"dce6de8c-ed7b-47e7-8feb-155a1cac86d4\")>,\n",
       " <selenium.webdriver.remote.webelement.WebElement (session=\"da1da3443c2e8129d855615df11effc3\", element=\"efe3f7fc-8e3c-42fc-8d48-4d11834d5888\")>,\n",
       " <selenium.webdriver.remote.webelement.WebElement (session=\"da1da3443c2e8129d855615df11effc3\", element=\"68b47137-0cbc-4915-974c-8cce88470504\")>,\n",
       " <selenium.webdriver.remote.webelement.WebElement (session=\"da1da3443c2e8129d855615df11effc3\", element=\"4ad714fd-c87b-4dbf-9543-53fc5307e107\")>,\n",
       " <selenium.webdriver.remote.webelement.WebElement (session=\"da1da3443c2e8129d855615df11effc3\", element=\"b4948aff-dd6b-42b2-a7ae-9b4abad3733b\")>,\n",
       " <selenium.webdriver.remote.webelement.WebElement (session=\"da1da3443c2e8129d855615df11effc3\", element=\"0fd4f20d-5e00-4184-9f7c-66515e848479\")>,\n",
       " <selenium.webdriver.remote.webelement.WebElement (session=\"da1da3443c2e8129d855615df11effc3\", element=\"76168e2c-6fb5-4fae-a789-c9e8549c5100\")>,\n",
       " <selenium.webdriver.remote.webelement.WebElement (session=\"da1da3443c2e8129d855615df11effc3\", element=\"ee69c341-6133-48b3-af84-7e64be4d8ca9\")>,\n",
       " <selenium.webdriver.remote.webelement.WebElement (session=\"da1da3443c2e8129d855615df11effc3\", element=\"bca42822-033b-4d9b-b38c-570e0cf42295\")>,\n",
       " <selenium.webdriver.remote.webelement.WebElement (session=\"da1da3443c2e8129d855615df11effc3\", element=\"7ea75495-7804-469f-8138-594a47e2f33e\")>,\n",
       " <selenium.webdriver.remote.webelement.WebElement (session=\"da1da3443c2e8129d855615df11effc3\", element=\"dce6de8c-ed7b-47e7-8feb-155a1cac86d4\")>,\n",
       " <selenium.webdriver.remote.webelement.WebElement (session=\"da1da3443c2e8129d855615df11effc3\", element=\"efe3f7fc-8e3c-42fc-8d48-4d11834d5888\")>,\n",
       " <selenium.webdriver.remote.webelement.WebElement (session=\"da1da3443c2e8129d855615df11effc3\", element=\"68b47137-0cbc-4915-974c-8cce88470504\")>,\n",
       " <selenium.webdriver.remote.webelement.WebElement (session=\"da1da3443c2e8129d855615df11effc3\", element=\"4ad714fd-c87b-4dbf-9543-53fc5307e107\")>,\n",
       " <selenium.webdriver.remote.webelement.WebElement (session=\"da1da3443c2e8129d855615df11effc3\", element=\"b4948aff-dd6b-42b2-a7ae-9b4abad3733b\")>,\n",
       " <selenium.webdriver.remote.webelement.WebElement (session=\"da1da3443c2e8129d855615df11effc3\", element=\"0fd4f20d-5e00-4184-9f7c-66515e848479\")>,\n",
       " <selenium.webdriver.remote.webelement.WebElement (session=\"da1da3443c2e8129d855615df11effc3\", element=\"76168e2c-6fb5-4fae-a789-c9e8549c5100\")>,\n",
       " <selenium.webdriver.remote.webelement.WebElement (session=\"da1da3443c2e8129d855615df11effc3\", element=\"ee69c341-6133-48b3-af84-7e64be4d8ca9\")>,\n",
       " <selenium.webdriver.remote.webelement.WebElement (session=\"da1da3443c2e8129d855615df11effc3\", element=\"bca42822-033b-4d9b-b38c-570e0cf42295\")>,\n",
       " <selenium.webdriver.remote.webelement.WebElement (session=\"da1da3443c2e8129d855615df11effc3\", element=\"7ea75495-7804-469f-8138-594a47e2f33e\")>,\n",
       " <selenium.webdriver.remote.webelement.WebElement (session=\"da1da3443c2e8129d855615df11effc3\", element=\"dce6de8c-ed7b-47e7-8feb-155a1cac86d4\")>,\n",
       " <selenium.webdriver.remote.webelement.WebElement (session=\"da1da3443c2e8129d855615df11effc3\", element=\"efe3f7fc-8e3c-42fc-8d48-4d11834d5888\")>,\n",
       " <selenium.webdriver.remote.webelement.WebElement (session=\"da1da3443c2e8129d855615df11effc3\", element=\"68b47137-0cbc-4915-974c-8cce88470504\")>,\n",
       " <selenium.webdriver.remote.webelement.WebElement (session=\"da1da3443c2e8129d855615df11effc3\", element=\"4ad714fd-c87b-4dbf-9543-53fc5307e107\")>,\n",
       " <selenium.webdriver.remote.webelement.WebElement (session=\"da1da3443c2e8129d855615df11effc3\", element=\"b4948aff-dd6b-42b2-a7ae-9b4abad3733b\")>,\n",
       " <selenium.webdriver.remote.webelement.WebElement (session=\"da1da3443c2e8129d855615df11effc3\", element=\"0fd4f20d-5e00-4184-9f7c-66515e848479\")>,\n",
       " <selenium.webdriver.remote.webelement.WebElement (session=\"da1da3443c2e8129d855615df11effc3\", element=\"76168e2c-6fb5-4fae-a789-c9e8549c5100\")>,\n",
       " <selenium.webdriver.remote.webelement.WebElement (session=\"da1da3443c2e8129d855615df11effc3\", element=\"ee69c341-6133-48b3-af84-7e64be4d8ca9\")>,\n",
       " <selenium.webdriver.remote.webelement.WebElement (session=\"da1da3443c2e8129d855615df11effc3\", element=\"bca42822-033b-4d9b-b38c-570e0cf42295\")>,\n",
       " <selenium.webdriver.remote.webelement.WebElement (session=\"da1da3443c2e8129d855615df11effc3\", element=\"7ea75495-7804-469f-8138-594a47e2f33e\")>,\n",
       " <selenium.webdriver.remote.webelement.WebElement (session=\"da1da3443c2e8129d855615df11effc3\", element=\"dce6de8c-ed7b-47e7-8feb-155a1cac86d4\")>,\n",
       " <selenium.webdriver.remote.webelement.WebElement (session=\"da1da3443c2e8129d855615df11effc3\", element=\"efe3f7fc-8e3c-42fc-8d48-4d11834d5888\")>,\n",
       " <selenium.webdriver.remote.webelement.WebElement (session=\"da1da3443c2e8129d855615df11effc3\", element=\"68b47137-0cbc-4915-974c-8cce88470504\")>,\n",
       " <selenium.webdriver.remote.webelement.WebElement (session=\"da1da3443c2e8129d855615df11effc3\", element=\"4ad714fd-c87b-4dbf-9543-53fc5307e107\")>,\n",
       " <selenium.webdriver.remote.webelement.WebElement (session=\"da1da3443c2e8129d855615df11effc3\", element=\"b4948aff-dd6b-42b2-a7ae-9b4abad3733b\")>,\n",
       " <selenium.webdriver.remote.webelement.WebElement (session=\"da1da3443c2e8129d855615df11effc3\", element=\"0fd4f20d-5e00-4184-9f7c-66515e848479\")>,\n",
       " <selenium.webdriver.remote.webelement.WebElement (session=\"da1da3443c2e8129d855615df11effc3\", element=\"76168e2c-6fb5-4fae-a789-c9e8549c5100\")>,\n",
       " <selenium.webdriver.remote.webelement.WebElement (session=\"da1da3443c2e8129d855615df11effc3\", element=\"ee69c341-6133-48b3-af84-7e64be4d8ca9\")>,\n",
       " <selenium.webdriver.remote.webelement.WebElement (session=\"da1da3443c2e8129d855615df11effc3\", element=\"bca42822-033b-4d9b-b38c-570e0cf42295\")>,\n",
       " <selenium.webdriver.remote.webelement.WebElement (session=\"da1da3443c2e8129d855615df11effc3\", element=\"7ea75495-7804-469f-8138-594a47e2f33e\")>,\n",
       " <selenium.webdriver.remote.webelement.WebElement (session=\"da1da3443c2e8129d855615df11effc3\", element=\"dce6de8c-ed7b-47e7-8feb-155a1cac86d4\")>,\n",
       " <selenium.webdriver.remote.webelement.WebElement (session=\"da1da3443c2e8129d855615df11effc3\", element=\"efe3f7fc-8e3c-42fc-8d48-4d11834d5888\")>,\n",
       " <selenium.webdriver.remote.webelement.WebElement (session=\"da1da3443c2e8129d855615df11effc3\", element=\"68b47137-0cbc-4915-974c-8cce88470504\")>,\n",
       " <selenium.webdriver.remote.webelement.WebElement (session=\"da1da3443c2e8129d855615df11effc3\", element=\"4ad714fd-c87b-4dbf-9543-53fc5307e107\")>,\n",
       " <selenium.webdriver.remote.webelement.WebElement (session=\"da1da3443c2e8129d855615df11effc3\", element=\"b4948aff-dd6b-42b2-a7ae-9b4abad3733b\")>,\n",
       " <selenium.webdriver.remote.webelement.WebElement (session=\"da1da3443c2e8129d855615df11effc3\", element=\"0fd4f20d-5e00-4184-9f7c-66515e848479\")>,\n",
       " <selenium.webdriver.remote.webelement.WebElement (session=\"da1da3443c2e8129d855615df11effc3\", element=\"76168e2c-6fb5-4fae-a789-c9e8549c5100\")>,\n",
       " <selenium.webdriver.remote.webelement.WebElement (session=\"da1da3443c2e8129d855615df11effc3\", element=\"ee69c341-6133-48b3-af84-7e64be4d8ca9\")>,\n",
       " <selenium.webdriver.remote.webelement.WebElement (session=\"da1da3443c2e8129d855615df11effc3\", element=\"bca42822-033b-4d9b-b38c-570e0cf42295\")>,\n",
       " <selenium.webdriver.remote.webelement.WebElement (session=\"da1da3443c2e8129d855615df11effc3\", element=\"7ea75495-7804-469f-8138-594a47e2f33e\")>,\n",
       " <selenium.webdriver.remote.webelement.WebElement (session=\"da1da3443c2e8129d855615df11effc3\", element=\"dce6de8c-ed7b-47e7-8feb-155a1cac86d4\")>,\n",
       " <selenium.webdriver.remote.webelement.WebElement (session=\"da1da3443c2e8129d855615df11effc3\", element=\"efe3f7fc-8e3c-42fc-8d48-4d11834d5888\")>,\n",
       " <selenium.webdriver.remote.webelement.WebElement (session=\"da1da3443c2e8129d855615df11effc3\", element=\"68b47137-0cbc-4915-974c-8cce88470504\")>,\n",
       " <selenium.webdriver.remote.webelement.WebElement (session=\"da1da3443c2e8129d855615df11effc3\", element=\"4ad714fd-c87b-4dbf-9543-53fc5307e107\")>,\n",
       " <selenium.webdriver.remote.webelement.WebElement (session=\"da1da3443c2e8129d855615df11effc3\", element=\"b4948aff-dd6b-42b2-a7ae-9b4abad3733b\")>,\n",
       " <selenium.webdriver.remote.webelement.WebElement (session=\"da1da3443c2e8129d855615df11effc3\", element=\"0fd4f20d-5e00-4184-9f7c-66515e848479\")>,\n",
       " <selenium.webdriver.remote.webelement.WebElement (session=\"da1da3443c2e8129d855615df11effc3\", element=\"76168e2c-6fb5-4fae-a789-c9e8549c5100\")>,\n",
       " <selenium.webdriver.remote.webelement.WebElement (session=\"da1da3443c2e8129d855615df11effc3\", element=\"ee69c341-6133-48b3-af84-7e64be4d8ca9\")>,\n",
       " <selenium.webdriver.remote.webelement.WebElement (session=\"da1da3443c2e8129d855615df11effc3\", element=\"bca42822-033b-4d9b-b38c-570e0cf42295\")>,\n",
       " <selenium.webdriver.remote.webelement.WebElement (session=\"da1da3443c2e8129d855615df11effc3\", element=\"7ea75495-7804-469f-8138-594a47e2f33e\")>,\n",
       " <selenium.webdriver.remote.webelement.WebElement (session=\"da1da3443c2e8129d855615df11effc3\", element=\"dce6de8c-ed7b-47e7-8feb-155a1cac86d4\")>,\n",
       " <selenium.webdriver.remote.webelement.WebElement (session=\"da1da3443c2e8129d855615df11effc3\", element=\"efe3f7fc-8e3c-42fc-8d48-4d11834d5888\")>,\n",
       " <selenium.webdriver.remote.webelement.WebElement (session=\"da1da3443c2e8129d855615df11effc3\", element=\"68b47137-0cbc-4915-974c-8cce88470504\")>,\n",
       " <selenium.webdriver.remote.webelement.WebElement (session=\"da1da3443c2e8129d855615df11effc3\", element=\"4ad714fd-c87b-4dbf-9543-53fc5307e107\")>,\n",
       " <selenium.webdriver.remote.webelement.WebElement (session=\"da1da3443c2e8129d855615df11effc3\", element=\"b4948aff-dd6b-42b2-a7ae-9b4abad3733b\")>,\n",
       " <selenium.webdriver.remote.webelement.WebElement (session=\"da1da3443c2e8129d855615df11effc3\", element=\"0fd4f20d-5e00-4184-9f7c-66515e848479\")>,\n",
       " <selenium.webdriver.remote.webelement.WebElement (session=\"da1da3443c2e8129d855615df11effc3\", element=\"76168e2c-6fb5-4fae-a789-c9e8549c5100\")>,\n",
       " <selenium.webdriver.remote.webelement.WebElement (session=\"da1da3443c2e8129d855615df11effc3\", element=\"ee69c341-6133-48b3-af84-7e64be4d8ca9\")>,\n",
       " <selenium.webdriver.remote.webelement.WebElement (session=\"da1da3443c2e8129d855615df11effc3\", element=\"bca42822-033b-4d9b-b38c-570e0cf42295\")>,\n",
       " <selenium.webdriver.remote.webelement.WebElement (session=\"da1da3443c2e8129d855615df11effc3\", element=\"7ea75495-7804-469f-8138-594a47e2f33e\")>,\n",
       " <selenium.webdriver.remote.webelement.WebElement (session=\"da1da3443c2e8129d855615df11effc3\", element=\"dce6de8c-ed7b-47e7-8feb-155a1cac86d4\")>,\n",
       " <selenium.webdriver.remote.webelement.WebElement (session=\"da1da3443c2e8129d855615df11effc3\", element=\"efe3f7fc-8e3c-42fc-8d48-4d11834d5888\")>,\n",
       " <selenium.webdriver.remote.webelement.WebElement (session=\"da1da3443c2e8129d855615df11effc3\", element=\"68b47137-0cbc-4915-974c-8cce88470504\")>,\n",
       " <selenium.webdriver.remote.webelement.WebElement (session=\"da1da3443c2e8129d855615df11effc3\", element=\"4ad714fd-c87b-4dbf-9543-53fc5307e107\")>,\n",
       " <selenium.webdriver.remote.webelement.WebElement (session=\"da1da3443c2e8129d855615df11effc3\", element=\"b4948aff-dd6b-42b2-a7ae-9b4abad3733b\")>,\n",
       " <selenium.webdriver.remote.webelement.WebElement (session=\"da1da3443c2e8129d855615df11effc3\", element=\"0fd4f20d-5e00-4184-9f7c-66515e848479\")>,\n",
       " <selenium.webdriver.remote.webelement.WebElement (session=\"da1da3443c2e8129d855615df11effc3\", element=\"76168e2c-6fb5-4fae-a789-c9e8549c5100\")>,\n",
       " <selenium.webdriver.remote.webelement.WebElement (session=\"da1da3443c2e8129d855615df11effc3\", element=\"ee69c341-6133-48b3-af84-7e64be4d8ca9\")>,\n",
       " <selenium.webdriver.remote.webelement.WebElement (session=\"da1da3443c2e8129d855615df11effc3\", element=\"bca42822-033b-4d9b-b38c-570e0cf42295\")>,\n",
       " <selenium.webdriver.remote.webelement.WebElement (session=\"da1da3443c2e8129d855615df11effc3\", element=\"7ea75495-7804-469f-8138-594a47e2f33e\")>,\n",
       " <selenium.webdriver.remote.webelement.WebElement (session=\"da1da3443c2e8129d855615df11effc3\", element=\"dce6de8c-ed7b-47e7-8feb-155a1cac86d4\")>,\n",
       " <selenium.webdriver.remote.webelement.WebElement (session=\"da1da3443c2e8129d855615df11effc3\", element=\"efe3f7fc-8e3c-42fc-8d48-4d11834d5888\")>,\n",
       " <selenium.webdriver.remote.webelement.WebElement (session=\"da1da3443c2e8129d855615df11effc3\", element=\"68b47137-0cbc-4915-974c-8cce88470504\")>]"
      ]
     },
     "execution_count": 50,
     "metadata": {},
     "output_type": "execute_result"
    }
   ],
   "source": [
    "rating_tags"
   ]
  },
  {
   "cell_type": "markdown",
   "id": "cbbf35b7",
   "metadata": {},
   "source": [
    "Now we have all the tags in which there are the rating\n",
    "\n",
    "Now we will extract the text from these tags one by one by looping over these tags"
   ]
  },
  {
   "cell_type": "code",
   "execution_count": 65,
   "id": "23a8bad0",
   "metadata": {},
   "outputs": [
    {
     "data": {
      "text/plain": [
       "['5',\n",
       " '5',\n",
       " '4',\n",
       " '5',\n",
       " '5',\n",
       " '5',\n",
       " '5',\n",
       " '4',\n",
       " '5',\n",
       " '5',\n",
       " '4.6',\n",
       " '4.679,063 Ratings & 5,953 Reviews',\n",
       " '5',\n",
       " '5',\n",
       " '5',\n",
       " '5',\n",
       " '5',\n",
       " '5',\n",
       " '5',\n",
       " '5',\n",
       " '5',\n",
       " '4',\n",
       " '5',\n",
       " '5',\n",
       " '5',\n",
       " '5',\n",
       " '5',\n",
       " '5',\n",
       " '5',\n",
       " '5',\n",
       " '5',\n",
       " '4',\n",
       " '5',\n",
       " '5',\n",
       " '5',\n",
       " '5',\n",
       " '5',\n",
       " '5',\n",
       " '5',\n",
       " '5',\n",
       " '5',\n",
       " '4',\n",
       " '5',\n",
       " '5',\n",
       " '5',\n",
       " '5',\n",
       " '5',\n",
       " '5',\n",
       " '5',\n",
       " '5',\n",
       " '5',\n",
       " '4',\n",
       " '5',\n",
       " '5',\n",
       " '5',\n",
       " '5',\n",
       " '5',\n",
       " '5',\n",
       " '5',\n",
       " '5',\n",
       " '5',\n",
       " '4',\n",
       " '5',\n",
       " '5',\n",
       " '5',\n",
       " '5',\n",
       " '5',\n",
       " '5',\n",
       " '5',\n",
       " '5',\n",
       " '5',\n",
       " '4',\n",
       " '5',\n",
       " '5',\n",
       " '5',\n",
       " '5',\n",
       " '5',\n",
       " '5',\n",
       " '5',\n",
       " '5',\n",
       " '5',\n",
       " '4',\n",
       " '5',\n",
       " '5',\n",
       " '5',\n",
       " '5',\n",
       " '5',\n",
       " '5',\n",
       " '5',\n",
       " '5']"
      ]
     },
     "execution_count": 65,
     "metadata": {},
     "output_type": "execute_result"
    }
   ],
   "source": [
    "for i in rating_tags:\n",
    "    ratings=i.text\n",
    "    rating.append(ratings)\n",
    "rating[10:100]"
   ]
  },
  {
   "cell_type": "markdown",
   "id": "cdf48146",
   "metadata": {},
   "source": [
    "Now we will extract all the tags where we have the review summary. Let me first show you in which tags the review summary are put on the webpage."
   ]
  },
  {
   "cell_type": "code",
   "execution_count": 55,
   "id": "c54e760a",
   "metadata": {},
   "outputs": [],
   "source": [
    "# so lets extract all the tags having the job-titles\n",
    "review_summary_tags1=driver.find_elements_by_xpath(\"//p[@class='_2-N8zT']\")\n",
    "review_summary_tags2=driver.find_elements_by_xpath(\"//p[@class='_2-N8zT']\")\n",
    "review_summary_tags3=driver.find_elements_by_xpath(\"//p[@class='_2-N8zT']\")\n",
    "review_summary_tags4=driver.find_elements_by_xpath(\"//p[@class='_2-N8zT']\")\n",
    "review_summary_tags5=driver.find_elements_by_xpath(\"//p[@class='_2-N8zT']\")\n",
    "review_summary_tags6=driver.find_elements_by_xpath(\"//p[@class='_2-N8zT']\")\n",
    "review_summary_tags7=driver.find_elements_by_xpath(\"//p[@class='_2-N8zT']\")\n",
    "review_summary_tags8=driver.find_elements_by_xpath(\"//p[@class='_2-N8zT']\")\n",
    "review_summary_tags9=driver.find_elements_by_xpath(\"//p[@class='_2-N8zT']\")\n",
    "review_summary_tags10=driver.find_elements_by_xpath(\"//p[@class='_2-N8zT']\")\n",
    "\n",
    "review_summary_tags=review_summary_tags1+review_summary_tags2+review_summary_tags3+review_summary_tags4+review_summary_tags5+review_summary_tags6+review_summary_tags7+review_summary_tags7+review_summary_tags8+review_summary_tags9+review_summary_tags10"
   ]
  },
  {
   "cell_type": "code",
   "execution_count": 56,
   "id": "be4315b6",
   "metadata": {},
   "outputs": [
    {
     "data": {
      "text/plain": [
       "[<selenium.webdriver.remote.webelement.WebElement (session=\"da1da3443c2e8129d855615df11effc3\", element=\"83fa0c19-bd8c-4f3b-829a-0791a2692cf9\")>,\n",
       " <selenium.webdriver.remote.webelement.WebElement (session=\"da1da3443c2e8129d855615df11effc3\", element=\"8321fc5e-c687-4dc7-9508-aedbc56e47e8\")>,\n",
       " <selenium.webdriver.remote.webelement.WebElement (session=\"da1da3443c2e8129d855615df11effc3\", element=\"29171e80-f3e9-4493-b697-8d94d95a0d5f\")>,\n",
       " <selenium.webdriver.remote.webelement.WebElement (session=\"da1da3443c2e8129d855615df11effc3\", element=\"7cec3cca-1178-45c0-a41f-48a4e6bfd1d9\")>,\n",
       " <selenium.webdriver.remote.webelement.WebElement (session=\"da1da3443c2e8129d855615df11effc3\", element=\"e52200d0-31bf-429a-9122-d539e67f045e\")>,\n",
       " <selenium.webdriver.remote.webelement.WebElement (session=\"da1da3443c2e8129d855615df11effc3\", element=\"f2d35bf1-e621-43d1-8275-47c28ea08aa9\")>,\n",
       " <selenium.webdriver.remote.webelement.WebElement (session=\"da1da3443c2e8129d855615df11effc3\", element=\"27439b84-6638-4311-859c-c5897116370b\")>,\n",
       " <selenium.webdriver.remote.webelement.WebElement (session=\"da1da3443c2e8129d855615df11effc3\", element=\"517d8020-0a69-49e0-abce-1c54bf6fa20a\")>,\n",
       " <selenium.webdriver.remote.webelement.WebElement (session=\"da1da3443c2e8129d855615df11effc3\", element=\"0db2697d-8394-4cf1-a4ff-d00911501907\")>,\n",
       " <selenium.webdriver.remote.webelement.WebElement (session=\"da1da3443c2e8129d855615df11effc3\", element=\"c6c8e028-65db-4385-acdc-9d2d8b651482\")>,\n",
       " <selenium.webdriver.remote.webelement.WebElement (session=\"da1da3443c2e8129d855615df11effc3\", element=\"83fa0c19-bd8c-4f3b-829a-0791a2692cf9\")>,\n",
       " <selenium.webdriver.remote.webelement.WebElement (session=\"da1da3443c2e8129d855615df11effc3\", element=\"8321fc5e-c687-4dc7-9508-aedbc56e47e8\")>,\n",
       " <selenium.webdriver.remote.webelement.WebElement (session=\"da1da3443c2e8129d855615df11effc3\", element=\"29171e80-f3e9-4493-b697-8d94d95a0d5f\")>,\n",
       " <selenium.webdriver.remote.webelement.WebElement (session=\"da1da3443c2e8129d855615df11effc3\", element=\"7cec3cca-1178-45c0-a41f-48a4e6bfd1d9\")>,\n",
       " <selenium.webdriver.remote.webelement.WebElement (session=\"da1da3443c2e8129d855615df11effc3\", element=\"e52200d0-31bf-429a-9122-d539e67f045e\")>,\n",
       " <selenium.webdriver.remote.webelement.WebElement (session=\"da1da3443c2e8129d855615df11effc3\", element=\"f2d35bf1-e621-43d1-8275-47c28ea08aa9\")>,\n",
       " <selenium.webdriver.remote.webelement.WebElement (session=\"da1da3443c2e8129d855615df11effc3\", element=\"27439b84-6638-4311-859c-c5897116370b\")>,\n",
       " <selenium.webdriver.remote.webelement.WebElement (session=\"da1da3443c2e8129d855615df11effc3\", element=\"517d8020-0a69-49e0-abce-1c54bf6fa20a\")>,\n",
       " <selenium.webdriver.remote.webelement.WebElement (session=\"da1da3443c2e8129d855615df11effc3\", element=\"0db2697d-8394-4cf1-a4ff-d00911501907\")>,\n",
       " <selenium.webdriver.remote.webelement.WebElement (session=\"da1da3443c2e8129d855615df11effc3\", element=\"c6c8e028-65db-4385-acdc-9d2d8b651482\")>,\n",
       " <selenium.webdriver.remote.webelement.WebElement (session=\"da1da3443c2e8129d855615df11effc3\", element=\"83fa0c19-bd8c-4f3b-829a-0791a2692cf9\")>,\n",
       " <selenium.webdriver.remote.webelement.WebElement (session=\"da1da3443c2e8129d855615df11effc3\", element=\"8321fc5e-c687-4dc7-9508-aedbc56e47e8\")>,\n",
       " <selenium.webdriver.remote.webelement.WebElement (session=\"da1da3443c2e8129d855615df11effc3\", element=\"29171e80-f3e9-4493-b697-8d94d95a0d5f\")>,\n",
       " <selenium.webdriver.remote.webelement.WebElement (session=\"da1da3443c2e8129d855615df11effc3\", element=\"7cec3cca-1178-45c0-a41f-48a4e6bfd1d9\")>,\n",
       " <selenium.webdriver.remote.webelement.WebElement (session=\"da1da3443c2e8129d855615df11effc3\", element=\"e52200d0-31bf-429a-9122-d539e67f045e\")>,\n",
       " <selenium.webdriver.remote.webelement.WebElement (session=\"da1da3443c2e8129d855615df11effc3\", element=\"f2d35bf1-e621-43d1-8275-47c28ea08aa9\")>,\n",
       " <selenium.webdriver.remote.webelement.WebElement (session=\"da1da3443c2e8129d855615df11effc3\", element=\"27439b84-6638-4311-859c-c5897116370b\")>,\n",
       " <selenium.webdriver.remote.webelement.WebElement (session=\"da1da3443c2e8129d855615df11effc3\", element=\"517d8020-0a69-49e0-abce-1c54bf6fa20a\")>,\n",
       " <selenium.webdriver.remote.webelement.WebElement (session=\"da1da3443c2e8129d855615df11effc3\", element=\"0db2697d-8394-4cf1-a4ff-d00911501907\")>,\n",
       " <selenium.webdriver.remote.webelement.WebElement (session=\"da1da3443c2e8129d855615df11effc3\", element=\"c6c8e028-65db-4385-acdc-9d2d8b651482\")>,\n",
       " <selenium.webdriver.remote.webelement.WebElement (session=\"da1da3443c2e8129d855615df11effc3\", element=\"83fa0c19-bd8c-4f3b-829a-0791a2692cf9\")>,\n",
       " <selenium.webdriver.remote.webelement.WebElement (session=\"da1da3443c2e8129d855615df11effc3\", element=\"8321fc5e-c687-4dc7-9508-aedbc56e47e8\")>,\n",
       " <selenium.webdriver.remote.webelement.WebElement (session=\"da1da3443c2e8129d855615df11effc3\", element=\"29171e80-f3e9-4493-b697-8d94d95a0d5f\")>,\n",
       " <selenium.webdriver.remote.webelement.WebElement (session=\"da1da3443c2e8129d855615df11effc3\", element=\"7cec3cca-1178-45c0-a41f-48a4e6bfd1d9\")>,\n",
       " <selenium.webdriver.remote.webelement.WebElement (session=\"da1da3443c2e8129d855615df11effc3\", element=\"e52200d0-31bf-429a-9122-d539e67f045e\")>,\n",
       " <selenium.webdriver.remote.webelement.WebElement (session=\"da1da3443c2e8129d855615df11effc3\", element=\"f2d35bf1-e621-43d1-8275-47c28ea08aa9\")>,\n",
       " <selenium.webdriver.remote.webelement.WebElement (session=\"da1da3443c2e8129d855615df11effc3\", element=\"27439b84-6638-4311-859c-c5897116370b\")>,\n",
       " <selenium.webdriver.remote.webelement.WebElement (session=\"da1da3443c2e8129d855615df11effc3\", element=\"517d8020-0a69-49e0-abce-1c54bf6fa20a\")>,\n",
       " <selenium.webdriver.remote.webelement.WebElement (session=\"da1da3443c2e8129d855615df11effc3\", element=\"0db2697d-8394-4cf1-a4ff-d00911501907\")>,\n",
       " <selenium.webdriver.remote.webelement.WebElement (session=\"da1da3443c2e8129d855615df11effc3\", element=\"c6c8e028-65db-4385-acdc-9d2d8b651482\")>,\n",
       " <selenium.webdriver.remote.webelement.WebElement (session=\"da1da3443c2e8129d855615df11effc3\", element=\"83fa0c19-bd8c-4f3b-829a-0791a2692cf9\")>,\n",
       " <selenium.webdriver.remote.webelement.WebElement (session=\"da1da3443c2e8129d855615df11effc3\", element=\"8321fc5e-c687-4dc7-9508-aedbc56e47e8\")>,\n",
       " <selenium.webdriver.remote.webelement.WebElement (session=\"da1da3443c2e8129d855615df11effc3\", element=\"29171e80-f3e9-4493-b697-8d94d95a0d5f\")>,\n",
       " <selenium.webdriver.remote.webelement.WebElement (session=\"da1da3443c2e8129d855615df11effc3\", element=\"7cec3cca-1178-45c0-a41f-48a4e6bfd1d9\")>,\n",
       " <selenium.webdriver.remote.webelement.WebElement (session=\"da1da3443c2e8129d855615df11effc3\", element=\"e52200d0-31bf-429a-9122-d539e67f045e\")>,\n",
       " <selenium.webdriver.remote.webelement.WebElement (session=\"da1da3443c2e8129d855615df11effc3\", element=\"f2d35bf1-e621-43d1-8275-47c28ea08aa9\")>,\n",
       " <selenium.webdriver.remote.webelement.WebElement (session=\"da1da3443c2e8129d855615df11effc3\", element=\"27439b84-6638-4311-859c-c5897116370b\")>,\n",
       " <selenium.webdriver.remote.webelement.WebElement (session=\"da1da3443c2e8129d855615df11effc3\", element=\"517d8020-0a69-49e0-abce-1c54bf6fa20a\")>,\n",
       " <selenium.webdriver.remote.webelement.WebElement (session=\"da1da3443c2e8129d855615df11effc3\", element=\"0db2697d-8394-4cf1-a4ff-d00911501907\")>,\n",
       " <selenium.webdriver.remote.webelement.WebElement (session=\"da1da3443c2e8129d855615df11effc3\", element=\"c6c8e028-65db-4385-acdc-9d2d8b651482\")>,\n",
       " <selenium.webdriver.remote.webelement.WebElement (session=\"da1da3443c2e8129d855615df11effc3\", element=\"83fa0c19-bd8c-4f3b-829a-0791a2692cf9\")>,\n",
       " <selenium.webdriver.remote.webelement.WebElement (session=\"da1da3443c2e8129d855615df11effc3\", element=\"8321fc5e-c687-4dc7-9508-aedbc56e47e8\")>,\n",
       " <selenium.webdriver.remote.webelement.WebElement (session=\"da1da3443c2e8129d855615df11effc3\", element=\"29171e80-f3e9-4493-b697-8d94d95a0d5f\")>,\n",
       " <selenium.webdriver.remote.webelement.WebElement (session=\"da1da3443c2e8129d855615df11effc3\", element=\"7cec3cca-1178-45c0-a41f-48a4e6bfd1d9\")>,\n",
       " <selenium.webdriver.remote.webelement.WebElement (session=\"da1da3443c2e8129d855615df11effc3\", element=\"e52200d0-31bf-429a-9122-d539e67f045e\")>,\n",
       " <selenium.webdriver.remote.webelement.WebElement (session=\"da1da3443c2e8129d855615df11effc3\", element=\"f2d35bf1-e621-43d1-8275-47c28ea08aa9\")>,\n",
       " <selenium.webdriver.remote.webelement.WebElement (session=\"da1da3443c2e8129d855615df11effc3\", element=\"27439b84-6638-4311-859c-c5897116370b\")>,\n",
       " <selenium.webdriver.remote.webelement.WebElement (session=\"da1da3443c2e8129d855615df11effc3\", element=\"517d8020-0a69-49e0-abce-1c54bf6fa20a\")>,\n",
       " <selenium.webdriver.remote.webelement.WebElement (session=\"da1da3443c2e8129d855615df11effc3\", element=\"0db2697d-8394-4cf1-a4ff-d00911501907\")>,\n",
       " <selenium.webdriver.remote.webelement.WebElement (session=\"da1da3443c2e8129d855615df11effc3\", element=\"c6c8e028-65db-4385-acdc-9d2d8b651482\")>,\n",
       " <selenium.webdriver.remote.webelement.WebElement (session=\"da1da3443c2e8129d855615df11effc3\", element=\"83fa0c19-bd8c-4f3b-829a-0791a2692cf9\")>,\n",
       " <selenium.webdriver.remote.webelement.WebElement (session=\"da1da3443c2e8129d855615df11effc3\", element=\"8321fc5e-c687-4dc7-9508-aedbc56e47e8\")>,\n",
       " <selenium.webdriver.remote.webelement.WebElement (session=\"da1da3443c2e8129d855615df11effc3\", element=\"29171e80-f3e9-4493-b697-8d94d95a0d5f\")>,\n",
       " <selenium.webdriver.remote.webelement.WebElement (session=\"da1da3443c2e8129d855615df11effc3\", element=\"7cec3cca-1178-45c0-a41f-48a4e6bfd1d9\")>,\n",
       " <selenium.webdriver.remote.webelement.WebElement (session=\"da1da3443c2e8129d855615df11effc3\", element=\"e52200d0-31bf-429a-9122-d539e67f045e\")>,\n",
       " <selenium.webdriver.remote.webelement.WebElement (session=\"da1da3443c2e8129d855615df11effc3\", element=\"f2d35bf1-e621-43d1-8275-47c28ea08aa9\")>,\n",
       " <selenium.webdriver.remote.webelement.WebElement (session=\"da1da3443c2e8129d855615df11effc3\", element=\"27439b84-6638-4311-859c-c5897116370b\")>,\n",
       " <selenium.webdriver.remote.webelement.WebElement (session=\"da1da3443c2e8129d855615df11effc3\", element=\"517d8020-0a69-49e0-abce-1c54bf6fa20a\")>,\n",
       " <selenium.webdriver.remote.webelement.WebElement (session=\"da1da3443c2e8129d855615df11effc3\", element=\"0db2697d-8394-4cf1-a4ff-d00911501907\")>,\n",
       " <selenium.webdriver.remote.webelement.WebElement (session=\"da1da3443c2e8129d855615df11effc3\", element=\"c6c8e028-65db-4385-acdc-9d2d8b651482\")>,\n",
       " <selenium.webdriver.remote.webelement.WebElement (session=\"da1da3443c2e8129d855615df11effc3\", element=\"83fa0c19-bd8c-4f3b-829a-0791a2692cf9\")>,\n",
       " <selenium.webdriver.remote.webelement.WebElement (session=\"da1da3443c2e8129d855615df11effc3\", element=\"8321fc5e-c687-4dc7-9508-aedbc56e47e8\")>,\n",
       " <selenium.webdriver.remote.webelement.WebElement (session=\"da1da3443c2e8129d855615df11effc3\", element=\"29171e80-f3e9-4493-b697-8d94d95a0d5f\")>,\n",
       " <selenium.webdriver.remote.webelement.WebElement (session=\"da1da3443c2e8129d855615df11effc3\", element=\"7cec3cca-1178-45c0-a41f-48a4e6bfd1d9\")>,\n",
       " <selenium.webdriver.remote.webelement.WebElement (session=\"da1da3443c2e8129d855615df11effc3\", element=\"e52200d0-31bf-429a-9122-d539e67f045e\")>,\n",
       " <selenium.webdriver.remote.webelement.WebElement (session=\"da1da3443c2e8129d855615df11effc3\", element=\"f2d35bf1-e621-43d1-8275-47c28ea08aa9\")>,\n",
       " <selenium.webdriver.remote.webelement.WebElement (session=\"da1da3443c2e8129d855615df11effc3\", element=\"27439b84-6638-4311-859c-c5897116370b\")>,\n",
       " <selenium.webdriver.remote.webelement.WebElement (session=\"da1da3443c2e8129d855615df11effc3\", element=\"517d8020-0a69-49e0-abce-1c54bf6fa20a\")>,\n",
       " <selenium.webdriver.remote.webelement.WebElement (session=\"da1da3443c2e8129d855615df11effc3\", element=\"0db2697d-8394-4cf1-a4ff-d00911501907\")>,\n",
       " <selenium.webdriver.remote.webelement.WebElement (session=\"da1da3443c2e8129d855615df11effc3\", element=\"c6c8e028-65db-4385-acdc-9d2d8b651482\")>,\n",
       " <selenium.webdriver.remote.webelement.WebElement (session=\"da1da3443c2e8129d855615df11effc3\", element=\"83fa0c19-bd8c-4f3b-829a-0791a2692cf9\")>,\n",
       " <selenium.webdriver.remote.webelement.WebElement (session=\"da1da3443c2e8129d855615df11effc3\", element=\"8321fc5e-c687-4dc7-9508-aedbc56e47e8\")>,\n",
       " <selenium.webdriver.remote.webelement.WebElement (session=\"da1da3443c2e8129d855615df11effc3\", element=\"29171e80-f3e9-4493-b697-8d94d95a0d5f\")>,\n",
       " <selenium.webdriver.remote.webelement.WebElement (session=\"da1da3443c2e8129d855615df11effc3\", element=\"7cec3cca-1178-45c0-a41f-48a4e6bfd1d9\")>,\n",
       " <selenium.webdriver.remote.webelement.WebElement (session=\"da1da3443c2e8129d855615df11effc3\", element=\"e52200d0-31bf-429a-9122-d539e67f045e\")>,\n",
       " <selenium.webdriver.remote.webelement.WebElement (session=\"da1da3443c2e8129d855615df11effc3\", element=\"f2d35bf1-e621-43d1-8275-47c28ea08aa9\")>,\n",
       " <selenium.webdriver.remote.webelement.WebElement (session=\"da1da3443c2e8129d855615df11effc3\", element=\"27439b84-6638-4311-859c-c5897116370b\")>,\n",
       " <selenium.webdriver.remote.webelement.WebElement (session=\"da1da3443c2e8129d855615df11effc3\", element=\"517d8020-0a69-49e0-abce-1c54bf6fa20a\")>,\n",
       " <selenium.webdriver.remote.webelement.WebElement (session=\"da1da3443c2e8129d855615df11effc3\", element=\"0db2697d-8394-4cf1-a4ff-d00911501907\")>,\n",
       " <selenium.webdriver.remote.webelement.WebElement (session=\"da1da3443c2e8129d855615df11effc3\", element=\"c6c8e028-65db-4385-acdc-9d2d8b651482\")>,\n",
       " <selenium.webdriver.remote.webelement.WebElement (session=\"da1da3443c2e8129d855615df11effc3\", element=\"83fa0c19-bd8c-4f3b-829a-0791a2692cf9\")>,\n",
       " <selenium.webdriver.remote.webelement.WebElement (session=\"da1da3443c2e8129d855615df11effc3\", element=\"8321fc5e-c687-4dc7-9508-aedbc56e47e8\")>,\n",
       " <selenium.webdriver.remote.webelement.WebElement (session=\"da1da3443c2e8129d855615df11effc3\", element=\"29171e80-f3e9-4493-b697-8d94d95a0d5f\")>,\n",
       " <selenium.webdriver.remote.webelement.WebElement (session=\"da1da3443c2e8129d855615df11effc3\", element=\"7cec3cca-1178-45c0-a41f-48a4e6bfd1d9\")>,\n",
       " <selenium.webdriver.remote.webelement.WebElement (session=\"da1da3443c2e8129d855615df11effc3\", element=\"e52200d0-31bf-429a-9122-d539e67f045e\")>,\n",
       " <selenium.webdriver.remote.webelement.WebElement (session=\"da1da3443c2e8129d855615df11effc3\", element=\"f2d35bf1-e621-43d1-8275-47c28ea08aa9\")>,\n",
       " <selenium.webdriver.remote.webelement.WebElement (session=\"da1da3443c2e8129d855615df11effc3\", element=\"27439b84-6638-4311-859c-c5897116370b\")>,\n",
       " <selenium.webdriver.remote.webelement.WebElement (session=\"da1da3443c2e8129d855615df11effc3\", element=\"517d8020-0a69-49e0-abce-1c54bf6fa20a\")>,\n",
       " <selenium.webdriver.remote.webelement.WebElement (session=\"da1da3443c2e8129d855615df11effc3\", element=\"0db2697d-8394-4cf1-a4ff-d00911501907\")>,\n",
       " <selenium.webdriver.remote.webelement.WebElement (session=\"da1da3443c2e8129d855615df11effc3\", element=\"c6c8e028-65db-4385-acdc-9d2d8b651482\")>]"
      ]
     },
     "execution_count": 56,
     "metadata": {},
     "output_type": "execute_result"
    }
   ],
   "source": [
    "review_summary_tags[0:100]"
   ]
  },
  {
   "cell_type": "markdown",
   "id": "5e867d76",
   "metadata": {},
   "source": [
    "Now we have all the tags in which there are the review summary\n",
    "\n",
    "Now we will extract the text from these tags one by one by looping over these tags"
   ]
  },
  {
   "cell_type": "code",
   "execution_count": 57,
   "id": "62086a82",
   "metadata": {},
   "outputs": [
    {
     "data": {
      "text/plain": [
       "['Perfect product!',\n",
       " 'Simply awesome',\n",
       " 'Wonderful',\n",
       " 'Terrific purchase',\n",
       " 'Terrific purchase',\n",
       " 'Great product',\n",
       " 'Mind-blowing purchase',\n",
       " 'Excellent',\n",
       " 'Simply awesome',\n",
       " 'Good quality product',\n",
       " 'Perfect product!',\n",
       " 'Simply awesome',\n",
       " 'Wonderful',\n",
       " 'Terrific purchase',\n",
       " 'Terrific purchase',\n",
       " 'Great product',\n",
       " 'Mind-blowing purchase',\n",
       " 'Excellent',\n",
       " 'Simply awesome',\n",
       " 'Good quality product',\n",
       " 'Perfect product!',\n",
       " 'Simply awesome',\n",
       " 'Wonderful',\n",
       " 'Terrific purchase',\n",
       " 'Terrific purchase',\n",
       " 'Great product',\n",
       " 'Mind-blowing purchase',\n",
       " 'Excellent',\n",
       " 'Simply awesome',\n",
       " 'Good quality product',\n",
       " 'Perfect product!',\n",
       " 'Simply awesome',\n",
       " 'Wonderful',\n",
       " 'Terrific purchase',\n",
       " 'Terrific purchase',\n",
       " 'Great product',\n",
       " 'Mind-blowing purchase',\n",
       " 'Excellent',\n",
       " 'Simply awesome',\n",
       " 'Good quality product',\n",
       " 'Perfect product!',\n",
       " 'Simply awesome',\n",
       " 'Wonderful',\n",
       " 'Terrific purchase',\n",
       " 'Terrific purchase',\n",
       " 'Great product',\n",
       " 'Mind-blowing purchase',\n",
       " 'Excellent',\n",
       " 'Simply awesome',\n",
       " 'Good quality product',\n",
       " 'Perfect product!',\n",
       " 'Simply awesome',\n",
       " 'Wonderful',\n",
       " 'Terrific purchase',\n",
       " 'Terrific purchase',\n",
       " 'Great product',\n",
       " 'Mind-blowing purchase',\n",
       " 'Excellent',\n",
       " 'Simply awesome',\n",
       " 'Good quality product',\n",
       " 'Perfect product!',\n",
       " 'Simply awesome',\n",
       " 'Wonderful',\n",
       " 'Terrific purchase',\n",
       " 'Terrific purchase',\n",
       " 'Great product',\n",
       " 'Mind-blowing purchase',\n",
       " 'Excellent',\n",
       " 'Simply awesome',\n",
       " 'Good quality product',\n",
       " 'Perfect product!',\n",
       " 'Simply awesome',\n",
       " 'Wonderful',\n",
       " 'Terrific purchase',\n",
       " 'Terrific purchase',\n",
       " 'Great product',\n",
       " 'Mind-blowing purchase',\n",
       " 'Excellent',\n",
       " 'Simply awesome',\n",
       " 'Good quality product',\n",
       " 'Perfect product!',\n",
       " 'Simply awesome',\n",
       " 'Wonderful',\n",
       " 'Terrific purchase',\n",
       " 'Terrific purchase',\n",
       " 'Great product',\n",
       " 'Mind-blowing purchase',\n",
       " 'Excellent',\n",
       " 'Simply awesome',\n",
       " 'Good quality product',\n",
       " 'Perfect product!',\n",
       " 'Simply awesome',\n",
       " 'Wonderful',\n",
       " 'Terrific purchase',\n",
       " 'Terrific purchase',\n",
       " 'Great product',\n",
       " 'Mind-blowing purchase',\n",
       " 'Excellent',\n",
       " 'Simply awesome',\n",
       " 'Good quality product']"
      ]
     },
     "execution_count": 57,
     "metadata": {},
     "output_type": "execute_result"
    }
   ],
   "source": [
    "for i in review_summary_tags:\n",
    "    reviews=i.text\n",
    "    review_summary.append(reviews)\n",
    "review_summary[0:100]"
   ]
  },
  {
   "cell_type": "markdown",
   "id": "17a88d41",
   "metadata": {},
   "source": [
    "Now we will extract all the tags where we have the full review. Let me first show you in which tags the full review are put on the webpage."
   ]
  },
  {
   "cell_type": "code",
   "execution_count": 60,
   "id": "516fca6f",
   "metadata": {},
   "outputs": [],
   "source": [
    "# so lets extract all the tags having the job-titles\n",
    "full_review_tags1=driver.find_elements_by_xpath(\"//div[@class='t-ZTKy']\")\n",
    "full_review_tags2=driver.find_elements_by_xpath(\"//div[@class='t-ZTKy']\")\n",
    "full_review_tags3=driver.find_elements_by_xpath(\"//div[@class='t-ZTKy']\")\n",
    "full_review_tags4=driver.find_elements_by_xpath(\"//div[@class='t-ZTKy']\")\n",
    "full_review_tags5=driver.find_elements_by_xpath(\"//div[@class='t-ZTKy']\")\n",
    "full_review_tags6=driver.find_elements_by_xpath(\"//div[@class='t-ZTKy']\")\n",
    "full_review_tags7=driver.find_elements_by_xpath(\"//div[@class='t-ZTKy']\")\n",
    "full_review_tags8=driver.find_elements_by_xpath(\"//div[@class='t-ZTKy']\")\n",
    "full_review_tags9=driver.find_elements_by_xpath(\"//div[@class='t-ZTKy']\")\n",
    "full_review_tags10=driver.find_elements_by_xpath(\"//div[@class='t-ZTKy']\")\n",
    "\n",
    "full_review_tags=full_review_tags1+full_review_tags2+full_review_tags3+full_review_tags4+full_review_tags5+full_review_tags6+full_review_tags7+full_review_tags8+full_review_tags9+full_review_tags10"
   ]
  },
  {
   "cell_type": "code",
   "execution_count": 61,
   "id": "365a0710",
   "metadata": {},
   "outputs": [
    {
     "data": {
      "text/plain": [
       "[<selenium.webdriver.remote.webelement.WebElement (session=\"da1da3443c2e8129d855615df11effc3\", element=\"eae91171-9217-4b72-99e9-88536b362526\")>,\n",
       " <selenium.webdriver.remote.webelement.WebElement (session=\"da1da3443c2e8129d855615df11effc3\", element=\"5524a59f-0175-44f1-90dc-450269dde7f3\")>,\n",
       " <selenium.webdriver.remote.webelement.WebElement (session=\"da1da3443c2e8129d855615df11effc3\", element=\"b321b873-0978-4f3c-9428-cbe9b3c14e71\")>,\n",
       " <selenium.webdriver.remote.webelement.WebElement (session=\"da1da3443c2e8129d855615df11effc3\", element=\"e13785d2-78f2-47bd-b805-3bc91f6ab248\")>,\n",
       " <selenium.webdriver.remote.webelement.WebElement (session=\"da1da3443c2e8129d855615df11effc3\", element=\"7ea0b649-c872-4f30-b726-03a1cf2a220e\")>,\n",
       " <selenium.webdriver.remote.webelement.WebElement (session=\"da1da3443c2e8129d855615df11effc3\", element=\"f5abea02-547d-46ba-b2c2-57d9fc91e3a1\")>,\n",
       " <selenium.webdriver.remote.webelement.WebElement (session=\"da1da3443c2e8129d855615df11effc3\", element=\"21071faf-3f10-4b51-9c40-87a75f6227e1\")>,\n",
       " <selenium.webdriver.remote.webelement.WebElement (session=\"da1da3443c2e8129d855615df11effc3\", element=\"0e3529e6-31eb-48f0-b808-0d6c248d6bf9\")>,\n",
       " <selenium.webdriver.remote.webelement.WebElement (session=\"da1da3443c2e8129d855615df11effc3\", element=\"26824c72-5899-4e95-96ee-35fb757c8f5b\")>,\n",
       " <selenium.webdriver.remote.webelement.WebElement (session=\"da1da3443c2e8129d855615df11effc3\", element=\"3e418507-06b6-462b-805b-42c1eb10968a\")>,\n",
       " <selenium.webdriver.remote.webelement.WebElement (session=\"da1da3443c2e8129d855615df11effc3\", element=\"eae91171-9217-4b72-99e9-88536b362526\")>,\n",
       " <selenium.webdriver.remote.webelement.WebElement (session=\"da1da3443c2e8129d855615df11effc3\", element=\"5524a59f-0175-44f1-90dc-450269dde7f3\")>,\n",
       " <selenium.webdriver.remote.webelement.WebElement (session=\"da1da3443c2e8129d855615df11effc3\", element=\"b321b873-0978-4f3c-9428-cbe9b3c14e71\")>,\n",
       " <selenium.webdriver.remote.webelement.WebElement (session=\"da1da3443c2e8129d855615df11effc3\", element=\"e13785d2-78f2-47bd-b805-3bc91f6ab248\")>,\n",
       " <selenium.webdriver.remote.webelement.WebElement (session=\"da1da3443c2e8129d855615df11effc3\", element=\"7ea0b649-c872-4f30-b726-03a1cf2a220e\")>,\n",
       " <selenium.webdriver.remote.webelement.WebElement (session=\"da1da3443c2e8129d855615df11effc3\", element=\"f5abea02-547d-46ba-b2c2-57d9fc91e3a1\")>,\n",
       " <selenium.webdriver.remote.webelement.WebElement (session=\"da1da3443c2e8129d855615df11effc3\", element=\"21071faf-3f10-4b51-9c40-87a75f6227e1\")>,\n",
       " <selenium.webdriver.remote.webelement.WebElement (session=\"da1da3443c2e8129d855615df11effc3\", element=\"0e3529e6-31eb-48f0-b808-0d6c248d6bf9\")>,\n",
       " <selenium.webdriver.remote.webelement.WebElement (session=\"da1da3443c2e8129d855615df11effc3\", element=\"26824c72-5899-4e95-96ee-35fb757c8f5b\")>,\n",
       " <selenium.webdriver.remote.webelement.WebElement (session=\"da1da3443c2e8129d855615df11effc3\", element=\"3e418507-06b6-462b-805b-42c1eb10968a\")>,\n",
       " <selenium.webdriver.remote.webelement.WebElement (session=\"da1da3443c2e8129d855615df11effc3\", element=\"eae91171-9217-4b72-99e9-88536b362526\")>,\n",
       " <selenium.webdriver.remote.webelement.WebElement (session=\"da1da3443c2e8129d855615df11effc3\", element=\"5524a59f-0175-44f1-90dc-450269dde7f3\")>,\n",
       " <selenium.webdriver.remote.webelement.WebElement (session=\"da1da3443c2e8129d855615df11effc3\", element=\"b321b873-0978-4f3c-9428-cbe9b3c14e71\")>,\n",
       " <selenium.webdriver.remote.webelement.WebElement (session=\"da1da3443c2e8129d855615df11effc3\", element=\"e13785d2-78f2-47bd-b805-3bc91f6ab248\")>,\n",
       " <selenium.webdriver.remote.webelement.WebElement (session=\"da1da3443c2e8129d855615df11effc3\", element=\"7ea0b649-c872-4f30-b726-03a1cf2a220e\")>,\n",
       " <selenium.webdriver.remote.webelement.WebElement (session=\"da1da3443c2e8129d855615df11effc3\", element=\"f5abea02-547d-46ba-b2c2-57d9fc91e3a1\")>,\n",
       " <selenium.webdriver.remote.webelement.WebElement (session=\"da1da3443c2e8129d855615df11effc3\", element=\"21071faf-3f10-4b51-9c40-87a75f6227e1\")>,\n",
       " <selenium.webdriver.remote.webelement.WebElement (session=\"da1da3443c2e8129d855615df11effc3\", element=\"0e3529e6-31eb-48f0-b808-0d6c248d6bf9\")>,\n",
       " <selenium.webdriver.remote.webelement.WebElement (session=\"da1da3443c2e8129d855615df11effc3\", element=\"26824c72-5899-4e95-96ee-35fb757c8f5b\")>,\n",
       " <selenium.webdriver.remote.webelement.WebElement (session=\"da1da3443c2e8129d855615df11effc3\", element=\"3e418507-06b6-462b-805b-42c1eb10968a\")>,\n",
       " <selenium.webdriver.remote.webelement.WebElement (session=\"da1da3443c2e8129d855615df11effc3\", element=\"eae91171-9217-4b72-99e9-88536b362526\")>,\n",
       " <selenium.webdriver.remote.webelement.WebElement (session=\"da1da3443c2e8129d855615df11effc3\", element=\"5524a59f-0175-44f1-90dc-450269dde7f3\")>,\n",
       " <selenium.webdriver.remote.webelement.WebElement (session=\"da1da3443c2e8129d855615df11effc3\", element=\"b321b873-0978-4f3c-9428-cbe9b3c14e71\")>,\n",
       " <selenium.webdriver.remote.webelement.WebElement (session=\"da1da3443c2e8129d855615df11effc3\", element=\"e13785d2-78f2-47bd-b805-3bc91f6ab248\")>,\n",
       " <selenium.webdriver.remote.webelement.WebElement (session=\"da1da3443c2e8129d855615df11effc3\", element=\"7ea0b649-c872-4f30-b726-03a1cf2a220e\")>,\n",
       " <selenium.webdriver.remote.webelement.WebElement (session=\"da1da3443c2e8129d855615df11effc3\", element=\"f5abea02-547d-46ba-b2c2-57d9fc91e3a1\")>,\n",
       " <selenium.webdriver.remote.webelement.WebElement (session=\"da1da3443c2e8129d855615df11effc3\", element=\"21071faf-3f10-4b51-9c40-87a75f6227e1\")>,\n",
       " <selenium.webdriver.remote.webelement.WebElement (session=\"da1da3443c2e8129d855615df11effc3\", element=\"0e3529e6-31eb-48f0-b808-0d6c248d6bf9\")>,\n",
       " <selenium.webdriver.remote.webelement.WebElement (session=\"da1da3443c2e8129d855615df11effc3\", element=\"26824c72-5899-4e95-96ee-35fb757c8f5b\")>,\n",
       " <selenium.webdriver.remote.webelement.WebElement (session=\"da1da3443c2e8129d855615df11effc3\", element=\"3e418507-06b6-462b-805b-42c1eb10968a\")>,\n",
       " <selenium.webdriver.remote.webelement.WebElement (session=\"da1da3443c2e8129d855615df11effc3\", element=\"eae91171-9217-4b72-99e9-88536b362526\")>,\n",
       " <selenium.webdriver.remote.webelement.WebElement (session=\"da1da3443c2e8129d855615df11effc3\", element=\"5524a59f-0175-44f1-90dc-450269dde7f3\")>,\n",
       " <selenium.webdriver.remote.webelement.WebElement (session=\"da1da3443c2e8129d855615df11effc3\", element=\"b321b873-0978-4f3c-9428-cbe9b3c14e71\")>,\n",
       " <selenium.webdriver.remote.webelement.WebElement (session=\"da1da3443c2e8129d855615df11effc3\", element=\"e13785d2-78f2-47bd-b805-3bc91f6ab248\")>,\n",
       " <selenium.webdriver.remote.webelement.WebElement (session=\"da1da3443c2e8129d855615df11effc3\", element=\"7ea0b649-c872-4f30-b726-03a1cf2a220e\")>,\n",
       " <selenium.webdriver.remote.webelement.WebElement (session=\"da1da3443c2e8129d855615df11effc3\", element=\"f5abea02-547d-46ba-b2c2-57d9fc91e3a1\")>,\n",
       " <selenium.webdriver.remote.webelement.WebElement (session=\"da1da3443c2e8129d855615df11effc3\", element=\"21071faf-3f10-4b51-9c40-87a75f6227e1\")>,\n",
       " <selenium.webdriver.remote.webelement.WebElement (session=\"da1da3443c2e8129d855615df11effc3\", element=\"0e3529e6-31eb-48f0-b808-0d6c248d6bf9\")>,\n",
       " <selenium.webdriver.remote.webelement.WebElement (session=\"da1da3443c2e8129d855615df11effc3\", element=\"26824c72-5899-4e95-96ee-35fb757c8f5b\")>,\n",
       " <selenium.webdriver.remote.webelement.WebElement (session=\"da1da3443c2e8129d855615df11effc3\", element=\"3e418507-06b6-462b-805b-42c1eb10968a\")>,\n",
       " <selenium.webdriver.remote.webelement.WebElement (session=\"da1da3443c2e8129d855615df11effc3\", element=\"eae91171-9217-4b72-99e9-88536b362526\")>,\n",
       " <selenium.webdriver.remote.webelement.WebElement (session=\"da1da3443c2e8129d855615df11effc3\", element=\"5524a59f-0175-44f1-90dc-450269dde7f3\")>,\n",
       " <selenium.webdriver.remote.webelement.WebElement (session=\"da1da3443c2e8129d855615df11effc3\", element=\"b321b873-0978-4f3c-9428-cbe9b3c14e71\")>,\n",
       " <selenium.webdriver.remote.webelement.WebElement (session=\"da1da3443c2e8129d855615df11effc3\", element=\"e13785d2-78f2-47bd-b805-3bc91f6ab248\")>,\n",
       " <selenium.webdriver.remote.webelement.WebElement (session=\"da1da3443c2e8129d855615df11effc3\", element=\"7ea0b649-c872-4f30-b726-03a1cf2a220e\")>,\n",
       " <selenium.webdriver.remote.webelement.WebElement (session=\"da1da3443c2e8129d855615df11effc3\", element=\"f5abea02-547d-46ba-b2c2-57d9fc91e3a1\")>,\n",
       " <selenium.webdriver.remote.webelement.WebElement (session=\"da1da3443c2e8129d855615df11effc3\", element=\"21071faf-3f10-4b51-9c40-87a75f6227e1\")>,\n",
       " <selenium.webdriver.remote.webelement.WebElement (session=\"da1da3443c2e8129d855615df11effc3\", element=\"0e3529e6-31eb-48f0-b808-0d6c248d6bf9\")>,\n",
       " <selenium.webdriver.remote.webelement.WebElement (session=\"da1da3443c2e8129d855615df11effc3\", element=\"26824c72-5899-4e95-96ee-35fb757c8f5b\")>,\n",
       " <selenium.webdriver.remote.webelement.WebElement (session=\"da1da3443c2e8129d855615df11effc3\", element=\"3e418507-06b6-462b-805b-42c1eb10968a\")>,\n",
       " <selenium.webdriver.remote.webelement.WebElement (session=\"da1da3443c2e8129d855615df11effc3\", element=\"eae91171-9217-4b72-99e9-88536b362526\")>,\n",
       " <selenium.webdriver.remote.webelement.WebElement (session=\"da1da3443c2e8129d855615df11effc3\", element=\"5524a59f-0175-44f1-90dc-450269dde7f3\")>,\n",
       " <selenium.webdriver.remote.webelement.WebElement (session=\"da1da3443c2e8129d855615df11effc3\", element=\"b321b873-0978-4f3c-9428-cbe9b3c14e71\")>,\n",
       " <selenium.webdriver.remote.webelement.WebElement (session=\"da1da3443c2e8129d855615df11effc3\", element=\"e13785d2-78f2-47bd-b805-3bc91f6ab248\")>,\n",
       " <selenium.webdriver.remote.webelement.WebElement (session=\"da1da3443c2e8129d855615df11effc3\", element=\"7ea0b649-c872-4f30-b726-03a1cf2a220e\")>,\n",
       " <selenium.webdriver.remote.webelement.WebElement (session=\"da1da3443c2e8129d855615df11effc3\", element=\"f5abea02-547d-46ba-b2c2-57d9fc91e3a1\")>,\n",
       " <selenium.webdriver.remote.webelement.WebElement (session=\"da1da3443c2e8129d855615df11effc3\", element=\"21071faf-3f10-4b51-9c40-87a75f6227e1\")>,\n",
       " <selenium.webdriver.remote.webelement.WebElement (session=\"da1da3443c2e8129d855615df11effc3\", element=\"0e3529e6-31eb-48f0-b808-0d6c248d6bf9\")>,\n",
       " <selenium.webdriver.remote.webelement.WebElement (session=\"da1da3443c2e8129d855615df11effc3\", element=\"26824c72-5899-4e95-96ee-35fb757c8f5b\")>,\n",
       " <selenium.webdriver.remote.webelement.WebElement (session=\"da1da3443c2e8129d855615df11effc3\", element=\"3e418507-06b6-462b-805b-42c1eb10968a\")>,\n",
       " <selenium.webdriver.remote.webelement.WebElement (session=\"da1da3443c2e8129d855615df11effc3\", element=\"eae91171-9217-4b72-99e9-88536b362526\")>,\n",
       " <selenium.webdriver.remote.webelement.WebElement (session=\"da1da3443c2e8129d855615df11effc3\", element=\"5524a59f-0175-44f1-90dc-450269dde7f3\")>,\n",
       " <selenium.webdriver.remote.webelement.WebElement (session=\"da1da3443c2e8129d855615df11effc3\", element=\"b321b873-0978-4f3c-9428-cbe9b3c14e71\")>,\n",
       " <selenium.webdriver.remote.webelement.WebElement (session=\"da1da3443c2e8129d855615df11effc3\", element=\"e13785d2-78f2-47bd-b805-3bc91f6ab248\")>,\n",
       " <selenium.webdriver.remote.webelement.WebElement (session=\"da1da3443c2e8129d855615df11effc3\", element=\"7ea0b649-c872-4f30-b726-03a1cf2a220e\")>,\n",
       " <selenium.webdriver.remote.webelement.WebElement (session=\"da1da3443c2e8129d855615df11effc3\", element=\"f5abea02-547d-46ba-b2c2-57d9fc91e3a1\")>,\n",
       " <selenium.webdriver.remote.webelement.WebElement (session=\"da1da3443c2e8129d855615df11effc3\", element=\"21071faf-3f10-4b51-9c40-87a75f6227e1\")>,\n",
       " <selenium.webdriver.remote.webelement.WebElement (session=\"da1da3443c2e8129d855615df11effc3\", element=\"0e3529e6-31eb-48f0-b808-0d6c248d6bf9\")>,\n",
       " <selenium.webdriver.remote.webelement.WebElement (session=\"da1da3443c2e8129d855615df11effc3\", element=\"26824c72-5899-4e95-96ee-35fb757c8f5b\")>,\n",
       " <selenium.webdriver.remote.webelement.WebElement (session=\"da1da3443c2e8129d855615df11effc3\", element=\"3e418507-06b6-462b-805b-42c1eb10968a\")>,\n",
       " <selenium.webdriver.remote.webelement.WebElement (session=\"da1da3443c2e8129d855615df11effc3\", element=\"eae91171-9217-4b72-99e9-88536b362526\")>,\n",
       " <selenium.webdriver.remote.webelement.WebElement (session=\"da1da3443c2e8129d855615df11effc3\", element=\"5524a59f-0175-44f1-90dc-450269dde7f3\")>,\n",
       " <selenium.webdriver.remote.webelement.WebElement (session=\"da1da3443c2e8129d855615df11effc3\", element=\"b321b873-0978-4f3c-9428-cbe9b3c14e71\")>,\n",
       " <selenium.webdriver.remote.webelement.WebElement (session=\"da1da3443c2e8129d855615df11effc3\", element=\"e13785d2-78f2-47bd-b805-3bc91f6ab248\")>,\n",
       " <selenium.webdriver.remote.webelement.WebElement (session=\"da1da3443c2e8129d855615df11effc3\", element=\"7ea0b649-c872-4f30-b726-03a1cf2a220e\")>,\n",
       " <selenium.webdriver.remote.webelement.WebElement (session=\"da1da3443c2e8129d855615df11effc3\", element=\"f5abea02-547d-46ba-b2c2-57d9fc91e3a1\")>,\n",
       " <selenium.webdriver.remote.webelement.WebElement (session=\"da1da3443c2e8129d855615df11effc3\", element=\"21071faf-3f10-4b51-9c40-87a75f6227e1\")>,\n",
       " <selenium.webdriver.remote.webelement.WebElement (session=\"da1da3443c2e8129d855615df11effc3\", element=\"0e3529e6-31eb-48f0-b808-0d6c248d6bf9\")>,\n",
       " <selenium.webdriver.remote.webelement.WebElement (session=\"da1da3443c2e8129d855615df11effc3\", element=\"26824c72-5899-4e95-96ee-35fb757c8f5b\")>,\n",
       " <selenium.webdriver.remote.webelement.WebElement (session=\"da1da3443c2e8129d855615df11effc3\", element=\"3e418507-06b6-462b-805b-42c1eb10968a\")>,\n",
       " <selenium.webdriver.remote.webelement.WebElement (session=\"da1da3443c2e8129d855615df11effc3\", element=\"eae91171-9217-4b72-99e9-88536b362526\")>,\n",
       " <selenium.webdriver.remote.webelement.WebElement (session=\"da1da3443c2e8129d855615df11effc3\", element=\"5524a59f-0175-44f1-90dc-450269dde7f3\")>,\n",
       " <selenium.webdriver.remote.webelement.WebElement (session=\"da1da3443c2e8129d855615df11effc3\", element=\"b321b873-0978-4f3c-9428-cbe9b3c14e71\")>,\n",
       " <selenium.webdriver.remote.webelement.WebElement (session=\"da1da3443c2e8129d855615df11effc3\", element=\"e13785d2-78f2-47bd-b805-3bc91f6ab248\")>,\n",
       " <selenium.webdriver.remote.webelement.WebElement (session=\"da1da3443c2e8129d855615df11effc3\", element=\"7ea0b649-c872-4f30-b726-03a1cf2a220e\")>,\n",
       " <selenium.webdriver.remote.webelement.WebElement (session=\"da1da3443c2e8129d855615df11effc3\", element=\"f5abea02-547d-46ba-b2c2-57d9fc91e3a1\")>,\n",
       " <selenium.webdriver.remote.webelement.WebElement (session=\"da1da3443c2e8129d855615df11effc3\", element=\"21071faf-3f10-4b51-9c40-87a75f6227e1\")>,\n",
       " <selenium.webdriver.remote.webelement.WebElement (session=\"da1da3443c2e8129d855615df11effc3\", element=\"0e3529e6-31eb-48f0-b808-0d6c248d6bf9\")>,\n",
       " <selenium.webdriver.remote.webelement.WebElement (session=\"da1da3443c2e8129d855615df11effc3\", element=\"26824c72-5899-4e95-96ee-35fb757c8f5b\")>,\n",
       " <selenium.webdriver.remote.webelement.WebElement (session=\"da1da3443c2e8129d855615df11effc3\", element=\"3e418507-06b6-462b-805b-42c1eb10968a\")>]"
      ]
     },
     "execution_count": 61,
     "metadata": {},
     "output_type": "execute_result"
    }
   ],
   "source": [
    "full_review_tags"
   ]
  },
  {
   "cell_type": "code",
   "execution_count": null,
   "id": "65123d8c",
   "metadata": {},
   "outputs": [],
   "source": [
    "Now we have all the tags in which there are the review summary\n",
    "\n",
    "Now we will extract the text from these tags one by one by looping over these tags"
   ]
  },
  {
   "cell_type": "code",
   "execution_count": 62,
   "id": "e4cd12f1",
   "metadata": {},
   "outputs": [
    {
     "data": {
      "text/plain": [
       "['After 1 month use I found camera quality best compared to my previous Samsung note 10+.Display not good as note 10 also charging too slow.Apple should add fast charger like 11 plus and pro.Best phone for daily use',\n",
       " \"It's very high performances devise i am like the service of flipkart delevary very fast and packing very nice perfect phone\",\n",
       " 'I just directly switch from iphone 6s to iphone 11 .The best premium smartphone I recommend to everyone. Excellent quality and colors the iphone have in 11 series.\\nCamera quality is just awesome and the major feel when we hold in our hands. The sound quality and volume is also higher then the previous models.\\nI will recommend to buy iphone 11 instead of pro models , there is nothing much difference as this model contains everything which fulfill our needs.\\n\\nOnly one thing that I dislike abo...\\nREAD MORE',\n",
       " 'Upgraded from iphone 6 to 11 best phone for iphone users battery is much better than other iphones camera is awesome love to use it.camera is so clear in night.',\n",
       " 'The built quality is not very premium.\\nThe battery back is great .\\nThe LCD panel is not so sharp but the brightness level is very High .\\nCamera is super duper awesome.\\nThe red colour which people think is bright is actually very soothing and excellent colour to choose from .\\nThe A13 Bionic chip is really a flagship processor and can beat any phone which even has 12 gb ram .\\nCamera module is very great and looks very stylish.',\n",
       " 'Well you all know the specifications . One of a kind. Best iPhone till date. Many enhancements to the camera app with many options. Love the glass body with matte finish in the lens area on the back. Lovely colours to choose from. Best battery in an iPhone till date, enough to last more than a day in normal usage. I tested my iPhone 11 battery and lasted for than 24 hours after full charge still with 30% battery charge left. Watched movies for some time. Normal usage on calls, browsing, musi...\\nREAD MORE',\n",
       " 'This will help you more. See if you are planning to buy iPhone 11. I will say. Yes. But there are some plans I just want to disclose before you buy. 1) If you are an existing iPhone X/XS/XS Max/ XR user, better you guys do not think it to buy. You guys have more or less better gadget. 2) If you are an android user and planning to buy premium phone. I will suggest them to please buy iPhone instead of buying an Android. I bet you will never go back to android after using IOS. Now I want to shar...\\nREAD MORE',\n",
       " 'Amazing camera and feel super machine I am not describe my feeling but this is amazing Phone I am so lucky I have this',\n",
       " 'Really good actually this is my first apple product am using its really awesome performance wise excellent. Am really happy with this iphone11',\n",
       " 'it is very good at performance. Camera is best like before and very smooth response even in water. Don’t buy 12 mini buy iPhone 11 , it is far better than 12 mini believe me ! Have a nice day \\uf8ff ☺️',\n",
       " 'After 1 month use I found camera quality best compared to my previous Samsung note 10+.Display not good as note 10 also charging too slow.Apple should add fast charger like 11 plus and pro.Best phone for daily use',\n",
       " \"It's very high performances devise i am like the service of flipkart delevary very fast and packing very nice perfect phone\",\n",
       " 'I just directly switch from iphone 6s to iphone 11 .The best premium smartphone I recommend to everyone. Excellent quality and colors the iphone have in 11 series.\\nCamera quality is just awesome and the major feel when we hold in our hands. The sound quality and volume is also higher then the previous models.\\nI will recommend to buy iphone 11 instead of pro models , there is nothing much difference as this model contains everything which fulfill our needs.\\n\\nOnly one thing that I dislike abo...\\nREAD MORE',\n",
       " 'Upgraded from iphone 6 to 11 best phone for iphone users battery is much better than other iphones camera is awesome love to use it.camera is so clear in night.',\n",
       " 'The built quality is not very premium.\\nThe battery back is great .\\nThe LCD panel is not so sharp but the brightness level is very High .\\nCamera is super duper awesome.\\nThe red colour which people think is bright is actually very soothing and excellent colour to choose from .\\nThe A13 Bionic chip is really a flagship processor and can beat any phone which even has 12 gb ram .\\nCamera module is very great and looks very stylish.',\n",
       " 'Well you all know the specifications . One of a kind. Best iPhone till date. Many enhancements to the camera app with many options. Love the glass body with matte finish in the lens area on the back. Lovely colours to choose from. Best battery in an iPhone till date, enough to last more than a day in normal usage. I tested my iPhone 11 battery and lasted for than 24 hours after full charge still with 30% battery charge left. Watched movies for some time. Normal usage on calls, browsing, musi...\\nREAD MORE',\n",
       " 'This will help you more. See if you are planning to buy iPhone 11. I will say. Yes. But there are some plans I just want to disclose before you buy. 1) If you are an existing iPhone X/XS/XS Max/ XR user, better you guys do not think it to buy. You guys have more or less better gadget. 2) If you are an android user and planning to buy premium phone. I will suggest them to please buy iPhone instead of buying an Android. I bet you will never go back to android after using IOS. Now I want to shar...\\nREAD MORE',\n",
       " 'Amazing camera and feel super machine I am not describe my feeling but this is amazing Phone I am so lucky I have this',\n",
       " 'Really good actually this is my first apple product am using its really awesome performance wise excellent. Am really happy with this iphone11',\n",
       " 'it is very good at performance. Camera is best like before and very smooth response even in water. Don’t buy 12 mini buy iPhone 11 , it is far better than 12 mini believe me ! Have a nice day \\uf8ff ☺️',\n",
       " 'After 1 month use I found camera quality best compared to my previous Samsung note 10+.Display not good as note 10 also charging too slow.Apple should add fast charger like 11 plus and pro.Best phone for daily use',\n",
       " \"It's very high performances devise i am like the service of flipkart delevary very fast and packing very nice perfect phone\",\n",
       " 'I just directly switch from iphone 6s to iphone 11 .The best premium smartphone I recommend to everyone. Excellent quality and colors the iphone have in 11 series.\\nCamera quality is just awesome and the major feel when we hold in our hands. The sound quality and volume is also higher then the previous models.\\nI will recommend to buy iphone 11 instead of pro models , there is nothing much difference as this model contains everything which fulfill our needs.\\n\\nOnly one thing that I dislike abo...\\nREAD MORE',\n",
       " 'Upgraded from iphone 6 to 11 best phone for iphone users battery is much better than other iphones camera is awesome love to use it.camera is so clear in night.',\n",
       " 'The built quality is not very premium.\\nThe battery back is great .\\nThe LCD panel is not so sharp but the brightness level is very High .\\nCamera is super duper awesome.\\nThe red colour which people think is bright is actually very soothing and excellent colour to choose from .\\nThe A13 Bionic chip is really a flagship processor and can beat any phone which even has 12 gb ram .\\nCamera module is very great and looks very stylish.',\n",
       " 'Well you all know the specifications . One of a kind. Best iPhone till date. Many enhancements to the camera app with many options. Love the glass body with matte finish in the lens area on the back. Lovely colours to choose from. Best battery in an iPhone till date, enough to last more than a day in normal usage. I tested my iPhone 11 battery and lasted for than 24 hours after full charge still with 30% battery charge left. Watched movies for some time. Normal usage on calls, browsing, musi...\\nREAD MORE',\n",
       " 'This will help you more. See if you are planning to buy iPhone 11. I will say. Yes. But there are some plans I just want to disclose before you buy. 1) If you are an existing iPhone X/XS/XS Max/ XR user, better you guys do not think it to buy. You guys have more or less better gadget. 2) If you are an android user and planning to buy premium phone. I will suggest them to please buy iPhone instead of buying an Android. I bet you will never go back to android after using IOS. Now I want to shar...\\nREAD MORE',\n",
       " 'Amazing camera and feel super machine I am not describe my feeling but this is amazing Phone I am so lucky I have this',\n",
       " 'Really good actually this is my first apple product am using its really awesome performance wise excellent. Am really happy with this iphone11',\n",
       " 'it is very good at performance. Camera is best like before and very smooth response even in water. Don’t buy 12 mini buy iPhone 11 , it is far better than 12 mini believe me ! Have a nice day \\uf8ff ☺️',\n",
       " 'After 1 month use I found camera quality best compared to my previous Samsung note 10+.Display not good as note 10 also charging too slow.Apple should add fast charger like 11 plus and pro.Best phone for daily use',\n",
       " \"It's very high performances devise i am like the service of flipkart delevary very fast and packing very nice perfect phone\",\n",
       " 'I just directly switch from iphone 6s to iphone 11 .The best premium smartphone I recommend to everyone. Excellent quality and colors the iphone have in 11 series.\\nCamera quality is just awesome and the major feel when we hold in our hands. The sound quality and volume is also higher then the previous models.\\nI will recommend to buy iphone 11 instead of pro models , there is nothing much difference as this model contains everything which fulfill our needs.\\n\\nOnly one thing that I dislike abo...\\nREAD MORE',\n",
       " 'Upgraded from iphone 6 to 11 best phone for iphone users battery is much better than other iphones camera is awesome love to use it.camera is so clear in night.',\n",
       " 'The built quality is not very premium.\\nThe battery back is great .\\nThe LCD panel is not so sharp but the brightness level is very High .\\nCamera is super duper awesome.\\nThe red colour which people think is bright is actually very soothing and excellent colour to choose from .\\nThe A13 Bionic chip is really a flagship processor and can beat any phone which even has 12 gb ram .\\nCamera module is very great and looks very stylish.',\n",
       " 'Well you all know the specifications . One of a kind. Best iPhone till date. Many enhancements to the camera app with many options. Love the glass body with matte finish in the lens area on the back. Lovely colours to choose from. Best battery in an iPhone till date, enough to last more than a day in normal usage. I tested my iPhone 11 battery and lasted for than 24 hours after full charge still with 30% battery charge left. Watched movies for some time. Normal usage on calls, browsing, musi...\\nREAD MORE',\n",
       " 'This will help you more. See if you are planning to buy iPhone 11. I will say. Yes. But there are some plans I just want to disclose before you buy. 1) If you are an existing iPhone X/XS/XS Max/ XR user, better you guys do not think it to buy. You guys have more or less better gadget. 2) If you are an android user and planning to buy premium phone. I will suggest them to please buy iPhone instead of buying an Android. I bet you will never go back to android after using IOS. Now I want to shar...\\nREAD MORE',\n",
       " 'Amazing camera and feel super machine I am not describe my feeling but this is amazing Phone I am so lucky I have this',\n",
       " 'Really good actually this is my first apple product am using its really awesome performance wise excellent. Am really happy with this iphone11',\n",
       " 'it is very good at performance. Camera is best like before and very smooth response even in water. Don’t buy 12 mini buy iPhone 11 , it is far better than 12 mini believe me ! Have a nice day \\uf8ff ☺️',\n",
       " 'After 1 month use I found camera quality best compared to my previous Samsung note 10+.Display not good as note 10 also charging too slow.Apple should add fast charger like 11 plus and pro.Best phone for daily use',\n",
       " \"It's very high performances devise i am like the service of flipkart delevary very fast and packing very nice perfect phone\",\n",
       " 'I just directly switch from iphone 6s to iphone 11 .The best premium smartphone I recommend to everyone. Excellent quality and colors the iphone have in 11 series.\\nCamera quality is just awesome and the major feel when we hold in our hands. The sound quality and volume is also higher then the previous models.\\nI will recommend to buy iphone 11 instead of pro models , there is nothing much difference as this model contains everything which fulfill our needs.\\n\\nOnly one thing that I dislike abo...\\nREAD MORE',\n",
       " 'Upgraded from iphone 6 to 11 best phone for iphone users battery is much better than other iphones camera is awesome love to use it.camera is so clear in night.',\n",
       " 'The built quality is not very premium.\\nThe battery back is great .\\nThe LCD panel is not so sharp but the brightness level is very High .\\nCamera is super duper awesome.\\nThe red colour which people think is bright is actually very soothing and excellent colour to choose from .\\nThe A13 Bionic chip is really a flagship processor and can beat any phone which even has 12 gb ram .\\nCamera module is very great and looks very stylish.',\n",
       " 'Well you all know the specifications . One of a kind. Best iPhone till date. Many enhancements to the camera app with many options. Love the glass body with matte finish in the lens area on the back. Lovely colours to choose from. Best battery in an iPhone till date, enough to last more than a day in normal usage. I tested my iPhone 11 battery and lasted for than 24 hours after full charge still with 30% battery charge left. Watched movies for some time. Normal usage on calls, browsing, musi...\\nREAD MORE',\n",
       " 'This will help you more. See if you are planning to buy iPhone 11. I will say. Yes. But there are some plans I just want to disclose before you buy. 1) If you are an existing iPhone X/XS/XS Max/ XR user, better you guys do not think it to buy. You guys have more or less better gadget. 2) If you are an android user and planning to buy premium phone. I will suggest them to please buy iPhone instead of buying an Android. I bet you will never go back to android after using IOS. Now I want to shar...\\nREAD MORE',\n",
       " 'Amazing camera and feel super machine I am not describe my feeling but this is amazing Phone I am so lucky I have this',\n",
       " 'Really good actually this is my first apple product am using its really awesome performance wise excellent. Am really happy with this iphone11',\n",
       " 'it is very good at performance. Camera is best like before and very smooth response even in water. Don’t buy 12 mini buy iPhone 11 , it is far better than 12 mini believe me ! Have a nice day \\uf8ff ☺️',\n",
       " 'After 1 month use I found camera quality best compared to my previous Samsung note 10+.Display not good as note 10 also charging too slow.Apple should add fast charger like 11 plus and pro.Best phone for daily use',\n",
       " \"It's very high performances devise i am like the service of flipkart delevary very fast and packing very nice perfect phone\",\n",
       " 'I just directly switch from iphone 6s to iphone 11 .The best premium smartphone I recommend to everyone. Excellent quality and colors the iphone have in 11 series.\\nCamera quality is just awesome and the major feel when we hold in our hands. The sound quality and volume is also higher then the previous models.\\nI will recommend to buy iphone 11 instead of pro models , there is nothing much difference as this model contains everything which fulfill our needs.\\n\\nOnly one thing that I dislike abo...\\nREAD MORE',\n",
       " 'Upgraded from iphone 6 to 11 best phone for iphone users battery is much better than other iphones camera is awesome love to use it.camera is so clear in night.',\n",
       " 'The built quality is not very premium.\\nThe battery back is great .\\nThe LCD panel is not so sharp but the brightness level is very High .\\nCamera is super duper awesome.\\nThe red colour which people think is bright is actually very soothing and excellent colour to choose from .\\nThe A13 Bionic chip is really a flagship processor and can beat any phone which even has 12 gb ram .\\nCamera module is very great and looks very stylish.',\n",
       " 'Well you all know the specifications . One of a kind. Best iPhone till date. Many enhancements to the camera app with many options. Love the glass body with matte finish in the lens area on the back. Lovely colours to choose from. Best battery in an iPhone till date, enough to last more than a day in normal usage. I tested my iPhone 11 battery and lasted for than 24 hours after full charge still with 30% battery charge left. Watched movies for some time. Normal usage on calls, browsing, musi...\\nREAD MORE',\n",
       " 'This will help you more. See if you are planning to buy iPhone 11. I will say. Yes. But there are some plans I just want to disclose before you buy. 1) If you are an existing iPhone X/XS/XS Max/ XR user, better you guys do not think it to buy. You guys have more or less better gadget. 2) If you are an android user and planning to buy premium phone. I will suggest them to please buy iPhone instead of buying an Android. I bet you will never go back to android after using IOS. Now I want to shar...\\nREAD MORE',\n",
       " 'Amazing camera and feel super machine I am not describe my feeling but this is amazing Phone I am so lucky I have this',\n",
       " 'Really good actually this is my first apple product am using its really awesome performance wise excellent. Am really happy with this iphone11',\n",
       " 'it is very good at performance. Camera is best like before and very smooth response even in water. Don’t buy 12 mini buy iPhone 11 , it is far better than 12 mini believe me ! Have a nice day \\uf8ff ☺️',\n",
       " 'After 1 month use I found camera quality best compared to my previous Samsung note 10+.Display not good as note 10 also charging too slow.Apple should add fast charger like 11 plus and pro.Best phone for daily use',\n",
       " \"It's very high performances devise i am like the service of flipkart delevary very fast and packing very nice perfect phone\",\n",
       " 'I just directly switch from iphone 6s to iphone 11 .The best premium smartphone I recommend to everyone. Excellent quality and colors the iphone have in 11 series.\\nCamera quality is just awesome and the major feel when we hold in our hands. The sound quality and volume is also higher then the previous models.\\nI will recommend to buy iphone 11 instead of pro models , there is nothing much difference as this model contains everything which fulfill our needs.\\n\\nOnly one thing that I dislike abo...\\nREAD MORE',\n",
       " 'Upgraded from iphone 6 to 11 best phone for iphone users battery is much better than other iphones camera is awesome love to use it.camera is so clear in night.',\n",
       " 'The built quality is not very premium.\\nThe battery back is great .\\nThe LCD panel is not so sharp but the brightness level is very High .\\nCamera is super duper awesome.\\nThe red colour which people think is bright is actually very soothing and excellent colour to choose from .\\nThe A13 Bionic chip is really a flagship processor and can beat any phone which even has 12 gb ram .\\nCamera module is very great and looks very stylish.',\n",
       " 'Well you all know the specifications . One of a kind. Best iPhone till date. Many enhancements to the camera app with many options. Love the glass body with matte finish in the lens area on the back. Lovely colours to choose from. Best battery in an iPhone till date, enough to last more than a day in normal usage. I tested my iPhone 11 battery and lasted for than 24 hours after full charge still with 30% battery charge left. Watched movies for some time. Normal usage on calls, browsing, musi...\\nREAD MORE',\n",
       " 'This will help you more. See if you are planning to buy iPhone 11. I will say. Yes. But there are some plans I just want to disclose before you buy. 1) If you are an existing iPhone X/XS/XS Max/ XR user, better you guys do not think it to buy. You guys have more or less better gadget. 2) If you are an android user and planning to buy premium phone. I will suggest them to please buy iPhone instead of buying an Android. I bet you will never go back to android after using IOS. Now I want to shar...\\nREAD MORE',\n",
       " 'Amazing camera and feel super machine I am not describe my feeling but this is amazing Phone I am so lucky I have this',\n",
       " 'Really good actually this is my first apple product am using its really awesome performance wise excellent. Am really happy with this iphone11',\n",
       " 'it is very good at performance. Camera is best like before and very smooth response even in water. Don’t buy 12 mini buy iPhone 11 , it is far better than 12 mini believe me ! Have a nice day \\uf8ff ☺️',\n",
       " 'After 1 month use I found camera quality best compared to my previous Samsung note 10+.Display not good as note 10 also charging too slow.Apple should add fast charger like 11 plus and pro.Best phone for daily use',\n",
       " \"It's very high performances devise i am like the service of flipkart delevary very fast and packing very nice perfect phone\",\n",
       " 'I just directly switch from iphone 6s to iphone 11 .The best premium smartphone I recommend to everyone. Excellent quality and colors the iphone have in 11 series.\\nCamera quality is just awesome and the major feel when we hold in our hands. The sound quality and volume is also higher then the previous models.\\nI will recommend to buy iphone 11 instead of pro models , there is nothing much difference as this model contains everything which fulfill our needs.\\n\\nOnly one thing that I dislike abo...\\nREAD MORE',\n",
       " 'Upgraded from iphone 6 to 11 best phone for iphone users battery is much better than other iphones camera is awesome love to use it.camera is so clear in night.',\n",
       " 'The built quality is not very premium.\\nThe battery back is great .\\nThe LCD panel is not so sharp but the brightness level is very High .\\nCamera is super duper awesome.\\nThe red colour which people think is bright is actually very soothing and excellent colour to choose from .\\nThe A13 Bionic chip is really a flagship processor and can beat any phone which even has 12 gb ram .\\nCamera module is very great and looks very stylish.',\n",
       " 'Well you all know the specifications . One of a kind. Best iPhone till date. Many enhancements to the camera app with many options. Love the glass body with matte finish in the lens area on the back. Lovely colours to choose from. Best battery in an iPhone till date, enough to last more than a day in normal usage. I tested my iPhone 11 battery and lasted for than 24 hours after full charge still with 30% battery charge left. Watched movies for some time. Normal usage on calls, browsing, musi...\\nREAD MORE',\n",
       " 'This will help you more. See if you are planning to buy iPhone 11. I will say. Yes. But there are some plans I just want to disclose before you buy. 1) If you are an existing iPhone X/XS/XS Max/ XR user, better you guys do not think it to buy. You guys have more or less better gadget. 2) If you are an android user and planning to buy premium phone. I will suggest them to please buy iPhone instead of buying an Android. I bet you will never go back to android after using IOS. Now I want to shar...\\nREAD MORE',\n",
       " 'Amazing camera and feel super machine I am not describe my feeling but this is amazing Phone I am so lucky I have this',\n",
       " 'Really good actually this is my first apple product am using its really awesome performance wise excellent. Am really happy with this iphone11',\n",
       " 'it is very good at performance. Camera is best like before and very smooth response even in water. Don’t buy 12 mini buy iPhone 11 , it is far better than 12 mini believe me ! Have a nice day \\uf8ff ☺️',\n",
       " 'After 1 month use I found camera quality best compared to my previous Samsung note 10+.Display not good as note 10 also charging too slow.Apple should add fast charger like 11 plus and pro.Best phone for daily use',\n",
       " \"It's very high performances devise i am like the service of flipkart delevary very fast and packing very nice perfect phone\",\n",
       " 'I just directly switch from iphone 6s to iphone 11 .The best premium smartphone I recommend to everyone. Excellent quality and colors the iphone have in 11 series.\\nCamera quality is just awesome and the major feel when we hold in our hands. The sound quality and volume is also higher then the previous models.\\nI will recommend to buy iphone 11 instead of pro models , there is nothing much difference as this model contains everything which fulfill our needs.\\n\\nOnly one thing that I dislike abo...\\nREAD MORE',\n",
       " 'Upgraded from iphone 6 to 11 best phone for iphone users battery is much better than other iphones camera is awesome love to use it.camera is so clear in night.',\n",
       " 'The built quality is not very premium.\\nThe battery back is great .\\nThe LCD panel is not so sharp but the brightness level is very High .\\nCamera is super duper awesome.\\nThe red colour which people think is bright is actually very soothing and excellent colour to choose from .\\nThe A13 Bionic chip is really a flagship processor and can beat any phone which even has 12 gb ram .\\nCamera module is very great and looks very stylish.',\n",
       " 'Well you all know the specifications . One of a kind. Best iPhone till date. Many enhancements to the camera app with many options. Love the glass body with matte finish in the lens area on the back. Lovely colours to choose from. Best battery in an iPhone till date, enough to last more than a day in normal usage. I tested my iPhone 11 battery and lasted for than 24 hours after full charge still with 30% battery charge left. Watched movies for some time. Normal usage on calls, browsing, musi...\\nREAD MORE',\n",
       " 'This will help you more. See if you are planning to buy iPhone 11. I will say. Yes. But there are some plans I just want to disclose before you buy. 1) If you are an existing iPhone X/XS/XS Max/ XR user, better you guys do not think it to buy. You guys have more or less better gadget. 2) If you are an android user and planning to buy premium phone. I will suggest them to please buy iPhone instead of buying an Android. I bet you will never go back to android after using IOS. Now I want to shar...\\nREAD MORE',\n",
       " 'Amazing camera and feel super machine I am not describe my feeling but this is amazing Phone I am so lucky I have this',\n",
       " 'Really good actually this is my first apple product am using its really awesome performance wise excellent. Am really happy with this iphone11',\n",
       " 'it is very good at performance. Camera is best like before and very smooth response even in water. Don’t buy 12 mini buy iPhone 11 , it is far better than 12 mini believe me ! Have a nice day \\uf8ff ☺️',\n",
       " 'After 1 month use I found camera quality best compared to my previous Samsung note 10+.Display not good as note 10 also charging too slow.Apple should add fast charger like 11 plus and pro.Best phone for daily use',\n",
       " \"It's very high performances devise i am like the service of flipkart delevary very fast and packing very nice perfect phone\",\n",
       " 'I just directly switch from iphone 6s to iphone 11 .The best premium smartphone I recommend to everyone. Excellent quality and colors the iphone have in 11 series.\\nCamera quality is just awesome and the major feel when we hold in our hands. The sound quality and volume is also higher then the previous models.\\nI will recommend to buy iphone 11 instead of pro models , there is nothing much difference as this model contains everything which fulfill our needs.\\n\\nOnly one thing that I dislike abo...\\nREAD MORE',\n",
       " 'Upgraded from iphone 6 to 11 best phone for iphone users battery is much better than other iphones camera is awesome love to use it.camera is so clear in night.',\n",
       " 'The built quality is not very premium.\\nThe battery back is great .\\nThe LCD panel is not so sharp but the brightness level is very High .\\nCamera is super duper awesome.\\nThe red colour which people think is bright is actually very soothing and excellent colour to choose from .\\nThe A13 Bionic chip is really a flagship processor and can beat any phone which even has 12 gb ram .\\nCamera module is very great and looks very stylish.',\n",
       " 'Well you all know the specifications . One of a kind. Best iPhone till date. Many enhancements to the camera app with many options. Love the glass body with matte finish in the lens area on the back. Lovely colours to choose from. Best battery in an iPhone till date, enough to last more than a day in normal usage. I tested my iPhone 11 battery and lasted for than 24 hours after full charge still with 30% battery charge left. Watched movies for some time. Normal usage on calls, browsing, musi...\\nREAD MORE',\n",
       " 'This will help you more. See if you are planning to buy iPhone 11. I will say. Yes. But there are some plans I just want to disclose before you buy. 1) If you are an existing iPhone X/XS/XS Max/ XR user, better you guys do not think it to buy. You guys have more or less better gadget. 2) If you are an android user and planning to buy premium phone. I will suggest them to please buy iPhone instead of buying an Android. I bet you will never go back to android after using IOS. Now I want to shar...\\nREAD MORE',\n",
       " 'Amazing camera and feel super machine I am not describe my feeling but this is amazing Phone I am so lucky I have this',\n",
       " 'Really good actually this is my first apple product am using its really awesome performance wise excellent. Am really happy with this iphone11',\n",
       " 'it is very good at performance. Camera is best like before and very smooth response even in water. Don’t buy 12 mini buy iPhone 11 , it is far better than 12 mini believe me ! Have a nice day \\uf8ff ☺️']"
      ]
     },
     "execution_count": 62,
     "metadata": {},
     "output_type": "execute_result"
    }
   ],
   "source": [
    "for i in full_review_tags:\n",
    "    fulreviews=i.text\n",
    "    full_review.append(fulreviews)\n",
    "full_review[0:100]"
   ]
  },
  {
   "cell_type": "code",
   "execution_count": null,
   "id": "90a9f92e",
   "metadata": {},
   "outputs": [],
   "source": []
  },
  {
   "cell_type": "markdown",
   "id": "0eecc023",
   "metadata": {},
   "source": [
    "Q6: Scrape data for first 100 sneakers you find when you visit flipkart.com andsearch for “sneakers” in the search field.\n",
    "You have to scrape 4 attributes of each sneaker:\n",
    "1. Brand\n",
    "2. Product Description\n",
    "3. Price\n",
    "\n",
    "As shown in the below image, you have to scrape the tick marked attributes.\n",
    "\n",
    "Ans  :-"
   ]
  },
  {
   "cell_type": "code",
   "execution_count": 3,
   "id": "feb50ead",
   "metadata": {},
   "outputs": [],
   "source": [
    "# lets first connect to the web driver\n",
    "driver = webdriver.Chrome(r\"C:\\Users\\JAYASHRI\\Downloads\\chromedriver_win32\\chromedriver.exe\")"
   ]
  },
  {
   "cell_type": "code",
   "execution_count": 4,
   "id": "f14795a4",
   "metadata": {},
   "outputs": [],
   "source": [
    "driver=webdriver.Chrome(\"chromedriver.exe\")\n",
    "time.sleep(2)"
   ]
  },
  {
   "cell_type": "code",
   "execution_count": 5,
   "id": "e2b69c2d",
   "metadata": {},
   "outputs": [],
   "source": [
    "driver.get('https://www.flipkart.com/')"
   ]
  },
  {
   "cell_type": "code",
   "execution_count": 6,
   "id": "e6fa4ed3",
   "metadata": {},
   "outputs": [],
   "source": [
    "search_products_brands=driver.find_element_by_class_name(\"_3704LK\")\n",
    "search_products_brands.send_keys(\"sneakers\")"
   ]
  },
  {
   "cell_type": "code",
   "execution_count": 7,
   "id": "9376e8af",
   "metadata": {},
   "outputs": [],
   "source": [
    "search_button=driver.find_element_by_xpath(\"/html/body/div[1]/div/div[1]/div[1]/div[2]/div[2]/form/div/button\")\n",
    "search_button.click()"
   ]
  },
  {
   "cell_type": "code",
   "execution_count": 8,
   "id": "e06dfce3",
   "metadata": {},
   "outputs": [],
   "source": [
    "#specifying the url of the webpage to be scraped\n",
    "url=\"https://www.flipkart.com/search?q=sneakers&otracker=search&otracker1=search&marketplace=FLIPKART&as-show=on&as=off\""
   ]
  },
  {
   "cell_type": "code",
   "execution_count": 9,
   "id": "7daa7bf6",
   "metadata": {},
   "outputs": [],
   "source": [
    "driver.get(url)"
   ]
  },
  {
   "cell_type": "markdown",
   "id": "538f9efa",
   "metadata": {},
   "source": [
    "Now we will see in the window opened by webdriver whether the webpage has opened or not. Lets check it\n",
    "\n",
    "So, now lets first creat 4 empty list. In these list the data will be stored while scraping. We have created 4 empty lists for 4 features which we have to exract\n",
    "\n",
    "1. Brand\n",
    "2. Product Description\n",
    "3. Price\n",
    "4. Discount"
   ]
  },
  {
   "cell_type": "code",
   "execution_count": 10,
   "id": "8aa80664",
   "metadata": {},
   "outputs": [],
   "source": [
    "brands=[]\n",
    "product_description=[]\n",
    "price=[]\n",
    "discount=[]"
   ]
  },
  {
   "cell_type": "markdown",
   "id": "84e07066",
   "metadata": {},
   "source": [
    "First, we will extract all the tags where we have the brands. Let me first show you on the webpage in which tags the brands are put."
   ]
  },
  {
   "cell_type": "code",
   "execution_count": 11,
   "id": "258f3b9c",
   "metadata": {},
   "outputs": [],
   "source": [
    "# so lets extract all the tags having the brand\n",
    "\n",
    "brand_tags1=driver.find_elements_by_xpath(\"//div[@class='_2WkVRV']\")\n",
    "\n",
    "brand_tags2=driver.find_elements_by_xpath(\"//div[@class='_2WkVRV']\")\n",
    "\n",
    "brand_tags3=driver.find_elements_by_xpath(\"//div[@class='_2WkVRV']\")\n",
    "\n",
    "brand_tags=brand_tags1 + brand_tags2 + brand_tags3"
   ]
  },
  {
   "cell_type": "code",
   "execution_count": 12,
   "id": "f5222d98",
   "metadata": {},
   "outputs": [
    {
     "data": {
      "text/plain": [
       "[<selenium.webdriver.remote.webelement.WebElement (session=\"5672c2df727a8d1bdfa4505c42b3feea\", element=\"46e90bc8-76d8-4491-abf7-407647eaad41\")>,\n",
       " <selenium.webdriver.remote.webelement.WebElement (session=\"5672c2df727a8d1bdfa4505c42b3feea\", element=\"5b1175f5-89de-4bd3-9377-355e76aca598\")>,\n",
       " <selenium.webdriver.remote.webelement.WebElement (session=\"5672c2df727a8d1bdfa4505c42b3feea\", element=\"15664128-f4ed-46e7-b608-0b875514aaaf\")>,\n",
       " <selenium.webdriver.remote.webelement.WebElement (session=\"5672c2df727a8d1bdfa4505c42b3feea\", element=\"8961f1d4-76b9-4967-abf6-6bdb53fd1876\")>,\n",
       " <selenium.webdriver.remote.webelement.WebElement (session=\"5672c2df727a8d1bdfa4505c42b3feea\", element=\"a73ba95f-8057-4568-8238-35c3b3677613\")>,\n",
       " <selenium.webdriver.remote.webelement.WebElement (session=\"5672c2df727a8d1bdfa4505c42b3feea\", element=\"172c8946-ee95-43bb-917c-8758b303d5f0\")>,\n",
       " <selenium.webdriver.remote.webelement.WebElement (session=\"5672c2df727a8d1bdfa4505c42b3feea\", element=\"1541969b-63b2-4ad6-9948-05fde90f97b0\")>,\n",
       " <selenium.webdriver.remote.webelement.WebElement (session=\"5672c2df727a8d1bdfa4505c42b3feea\", element=\"1c696f2c-a825-45e7-a7ed-0887e924ad18\")>,\n",
       " <selenium.webdriver.remote.webelement.WebElement (session=\"5672c2df727a8d1bdfa4505c42b3feea\", element=\"60e7a27f-0d2b-4162-ba1c-ef6f01c1d1a7\")>,\n",
       " <selenium.webdriver.remote.webelement.WebElement (session=\"5672c2df727a8d1bdfa4505c42b3feea\", element=\"9b855f56-d1b0-494d-890f-cc2e746972b8\")>,\n",
       " <selenium.webdriver.remote.webelement.WebElement (session=\"5672c2df727a8d1bdfa4505c42b3feea\", element=\"7a8f1063-ce59-42f2-95b4-966c4fa187bc\")>,\n",
       " <selenium.webdriver.remote.webelement.WebElement (session=\"5672c2df727a8d1bdfa4505c42b3feea\", element=\"28db2769-7ae1-489e-915c-0725e2e33f54\")>,\n",
       " <selenium.webdriver.remote.webelement.WebElement (session=\"5672c2df727a8d1bdfa4505c42b3feea\", element=\"8d0fc9a4-199c-47a2-9ea2-a72a4385c1c9\")>,\n",
       " <selenium.webdriver.remote.webelement.WebElement (session=\"5672c2df727a8d1bdfa4505c42b3feea\", element=\"6c5d78a1-010e-4f45-824f-a5742d726f90\")>,\n",
       " <selenium.webdriver.remote.webelement.WebElement (session=\"5672c2df727a8d1bdfa4505c42b3feea\", element=\"53f76e95-3255-4da5-b4d2-b2be1b9e257b\")>,\n",
       " <selenium.webdriver.remote.webelement.WebElement (session=\"5672c2df727a8d1bdfa4505c42b3feea\", element=\"a522b45d-c6d8-445e-8b96-db7d4e78b4e2\")>,\n",
       " <selenium.webdriver.remote.webelement.WebElement (session=\"5672c2df727a8d1bdfa4505c42b3feea\", element=\"582e3b6f-c4da-4668-ba76-5e720270eea6\")>,\n",
       " <selenium.webdriver.remote.webelement.WebElement (session=\"5672c2df727a8d1bdfa4505c42b3feea\", element=\"0a408c4f-c735-46d4-a41d-b0c3e014f250\")>,\n",
       " <selenium.webdriver.remote.webelement.WebElement (session=\"5672c2df727a8d1bdfa4505c42b3feea\", element=\"bb05eded-8819-4114-a6f3-c66bde4031bc\")>,\n",
       " <selenium.webdriver.remote.webelement.WebElement (session=\"5672c2df727a8d1bdfa4505c42b3feea\", element=\"e2382183-9edb-4b3e-ae5b-e182006fd40e\")>,\n",
       " <selenium.webdriver.remote.webelement.WebElement (session=\"5672c2df727a8d1bdfa4505c42b3feea\", element=\"bd8c3533-6ac5-468a-98d6-e7a72079715b\")>,\n",
       " <selenium.webdriver.remote.webelement.WebElement (session=\"5672c2df727a8d1bdfa4505c42b3feea\", element=\"39269b9a-f5a2-4491-a61c-5728a6512645\")>,\n",
       " <selenium.webdriver.remote.webelement.WebElement (session=\"5672c2df727a8d1bdfa4505c42b3feea\", element=\"05aba4a5-073a-4ccf-a759-48997cc43bb4\")>,\n",
       " <selenium.webdriver.remote.webelement.WebElement (session=\"5672c2df727a8d1bdfa4505c42b3feea\", element=\"92321e4a-0bd9-41ee-8c0f-2d32fb3229b5\")>,\n",
       " <selenium.webdriver.remote.webelement.WebElement (session=\"5672c2df727a8d1bdfa4505c42b3feea\", element=\"c5c79664-9575-40e7-b052-ed899cf62543\")>,\n",
       " <selenium.webdriver.remote.webelement.WebElement (session=\"5672c2df727a8d1bdfa4505c42b3feea\", element=\"5da305b1-deab-4ef3-afeb-871846b51fa8\")>,\n",
       " <selenium.webdriver.remote.webelement.WebElement (session=\"5672c2df727a8d1bdfa4505c42b3feea\", element=\"28531461-1f5e-422d-b9af-9e3bd2577f44\")>,\n",
       " <selenium.webdriver.remote.webelement.WebElement (session=\"5672c2df727a8d1bdfa4505c42b3feea\", element=\"ddfec7ca-3160-4b73-b49d-1550c8e99fac\")>,\n",
       " <selenium.webdriver.remote.webelement.WebElement (session=\"5672c2df727a8d1bdfa4505c42b3feea\", element=\"75a73709-a24f-400e-8e1f-95944f62a4d1\")>,\n",
       " <selenium.webdriver.remote.webelement.WebElement (session=\"5672c2df727a8d1bdfa4505c42b3feea\", element=\"ca4b47cf-9955-473e-8281-3c1ee52b739c\")>,\n",
       " <selenium.webdriver.remote.webelement.WebElement (session=\"5672c2df727a8d1bdfa4505c42b3feea\", element=\"34ca8274-7dd4-42f4-a0b0-409bfc6011ca\")>,\n",
       " <selenium.webdriver.remote.webelement.WebElement (session=\"5672c2df727a8d1bdfa4505c42b3feea\", element=\"3cad687a-165e-44cf-8348-929698261706\")>,\n",
       " <selenium.webdriver.remote.webelement.WebElement (session=\"5672c2df727a8d1bdfa4505c42b3feea\", element=\"205be1df-069f-4c09-a96a-ed2d0e1c39f8\")>,\n",
       " <selenium.webdriver.remote.webelement.WebElement (session=\"5672c2df727a8d1bdfa4505c42b3feea\", element=\"ecb3612f-1747-4fe5-92fe-15a0dfa3abb3\")>,\n",
       " <selenium.webdriver.remote.webelement.WebElement (session=\"5672c2df727a8d1bdfa4505c42b3feea\", element=\"878dcc32-cdb2-4afb-83fe-a1e93c9c636c\")>,\n",
       " <selenium.webdriver.remote.webelement.WebElement (session=\"5672c2df727a8d1bdfa4505c42b3feea\", element=\"59a88fbf-c8b4-4c77-9b54-7a985d692b7e\")>,\n",
       " <selenium.webdriver.remote.webelement.WebElement (session=\"5672c2df727a8d1bdfa4505c42b3feea\", element=\"dfac3fb4-2d33-4ace-93e6-86350f04217f\")>,\n",
       " <selenium.webdriver.remote.webelement.WebElement (session=\"5672c2df727a8d1bdfa4505c42b3feea\", element=\"96933382-2432-41cc-8b74-26b87855c464\")>,\n",
       " <selenium.webdriver.remote.webelement.WebElement (session=\"5672c2df727a8d1bdfa4505c42b3feea\", element=\"3e40bcbb-765a-469b-b564-6da33ac3e7f9\")>,\n",
       " <selenium.webdriver.remote.webelement.WebElement (session=\"5672c2df727a8d1bdfa4505c42b3feea\", element=\"5ad53856-cff3-4a5f-a93a-332968cbbe5a\")>,\n",
       " <selenium.webdriver.remote.webelement.WebElement (session=\"5672c2df727a8d1bdfa4505c42b3feea\", element=\"46e90bc8-76d8-4491-abf7-407647eaad41\")>,\n",
       " <selenium.webdriver.remote.webelement.WebElement (session=\"5672c2df727a8d1bdfa4505c42b3feea\", element=\"5b1175f5-89de-4bd3-9377-355e76aca598\")>,\n",
       " <selenium.webdriver.remote.webelement.WebElement (session=\"5672c2df727a8d1bdfa4505c42b3feea\", element=\"15664128-f4ed-46e7-b608-0b875514aaaf\")>,\n",
       " <selenium.webdriver.remote.webelement.WebElement (session=\"5672c2df727a8d1bdfa4505c42b3feea\", element=\"8961f1d4-76b9-4967-abf6-6bdb53fd1876\")>,\n",
       " <selenium.webdriver.remote.webelement.WebElement (session=\"5672c2df727a8d1bdfa4505c42b3feea\", element=\"a73ba95f-8057-4568-8238-35c3b3677613\")>,\n",
       " <selenium.webdriver.remote.webelement.WebElement (session=\"5672c2df727a8d1bdfa4505c42b3feea\", element=\"172c8946-ee95-43bb-917c-8758b303d5f0\")>,\n",
       " <selenium.webdriver.remote.webelement.WebElement (session=\"5672c2df727a8d1bdfa4505c42b3feea\", element=\"1541969b-63b2-4ad6-9948-05fde90f97b0\")>,\n",
       " <selenium.webdriver.remote.webelement.WebElement (session=\"5672c2df727a8d1bdfa4505c42b3feea\", element=\"1c696f2c-a825-45e7-a7ed-0887e924ad18\")>,\n",
       " <selenium.webdriver.remote.webelement.WebElement (session=\"5672c2df727a8d1bdfa4505c42b3feea\", element=\"60e7a27f-0d2b-4162-ba1c-ef6f01c1d1a7\")>,\n",
       " <selenium.webdriver.remote.webelement.WebElement (session=\"5672c2df727a8d1bdfa4505c42b3feea\", element=\"9b855f56-d1b0-494d-890f-cc2e746972b8\")>,\n",
       " <selenium.webdriver.remote.webelement.WebElement (session=\"5672c2df727a8d1bdfa4505c42b3feea\", element=\"7a8f1063-ce59-42f2-95b4-966c4fa187bc\")>,\n",
       " <selenium.webdriver.remote.webelement.WebElement (session=\"5672c2df727a8d1bdfa4505c42b3feea\", element=\"28db2769-7ae1-489e-915c-0725e2e33f54\")>,\n",
       " <selenium.webdriver.remote.webelement.WebElement (session=\"5672c2df727a8d1bdfa4505c42b3feea\", element=\"8d0fc9a4-199c-47a2-9ea2-a72a4385c1c9\")>,\n",
       " <selenium.webdriver.remote.webelement.WebElement (session=\"5672c2df727a8d1bdfa4505c42b3feea\", element=\"6c5d78a1-010e-4f45-824f-a5742d726f90\")>,\n",
       " <selenium.webdriver.remote.webelement.WebElement (session=\"5672c2df727a8d1bdfa4505c42b3feea\", element=\"53f76e95-3255-4da5-b4d2-b2be1b9e257b\")>,\n",
       " <selenium.webdriver.remote.webelement.WebElement (session=\"5672c2df727a8d1bdfa4505c42b3feea\", element=\"a522b45d-c6d8-445e-8b96-db7d4e78b4e2\")>,\n",
       " <selenium.webdriver.remote.webelement.WebElement (session=\"5672c2df727a8d1bdfa4505c42b3feea\", element=\"582e3b6f-c4da-4668-ba76-5e720270eea6\")>,\n",
       " <selenium.webdriver.remote.webelement.WebElement (session=\"5672c2df727a8d1bdfa4505c42b3feea\", element=\"0a408c4f-c735-46d4-a41d-b0c3e014f250\")>,\n",
       " <selenium.webdriver.remote.webelement.WebElement (session=\"5672c2df727a8d1bdfa4505c42b3feea\", element=\"bb05eded-8819-4114-a6f3-c66bde4031bc\")>,\n",
       " <selenium.webdriver.remote.webelement.WebElement (session=\"5672c2df727a8d1bdfa4505c42b3feea\", element=\"e2382183-9edb-4b3e-ae5b-e182006fd40e\")>,\n",
       " <selenium.webdriver.remote.webelement.WebElement (session=\"5672c2df727a8d1bdfa4505c42b3feea\", element=\"bd8c3533-6ac5-468a-98d6-e7a72079715b\")>,\n",
       " <selenium.webdriver.remote.webelement.WebElement (session=\"5672c2df727a8d1bdfa4505c42b3feea\", element=\"39269b9a-f5a2-4491-a61c-5728a6512645\")>,\n",
       " <selenium.webdriver.remote.webelement.WebElement (session=\"5672c2df727a8d1bdfa4505c42b3feea\", element=\"05aba4a5-073a-4ccf-a759-48997cc43bb4\")>,\n",
       " <selenium.webdriver.remote.webelement.WebElement (session=\"5672c2df727a8d1bdfa4505c42b3feea\", element=\"92321e4a-0bd9-41ee-8c0f-2d32fb3229b5\")>,\n",
       " <selenium.webdriver.remote.webelement.WebElement (session=\"5672c2df727a8d1bdfa4505c42b3feea\", element=\"c5c79664-9575-40e7-b052-ed899cf62543\")>,\n",
       " <selenium.webdriver.remote.webelement.WebElement (session=\"5672c2df727a8d1bdfa4505c42b3feea\", element=\"5da305b1-deab-4ef3-afeb-871846b51fa8\")>,\n",
       " <selenium.webdriver.remote.webelement.WebElement (session=\"5672c2df727a8d1bdfa4505c42b3feea\", element=\"28531461-1f5e-422d-b9af-9e3bd2577f44\")>,\n",
       " <selenium.webdriver.remote.webelement.WebElement (session=\"5672c2df727a8d1bdfa4505c42b3feea\", element=\"ddfec7ca-3160-4b73-b49d-1550c8e99fac\")>,\n",
       " <selenium.webdriver.remote.webelement.WebElement (session=\"5672c2df727a8d1bdfa4505c42b3feea\", element=\"75a73709-a24f-400e-8e1f-95944f62a4d1\")>,\n",
       " <selenium.webdriver.remote.webelement.WebElement (session=\"5672c2df727a8d1bdfa4505c42b3feea\", element=\"ca4b47cf-9955-473e-8281-3c1ee52b739c\")>,\n",
       " <selenium.webdriver.remote.webelement.WebElement (session=\"5672c2df727a8d1bdfa4505c42b3feea\", element=\"34ca8274-7dd4-42f4-a0b0-409bfc6011ca\")>,\n",
       " <selenium.webdriver.remote.webelement.WebElement (session=\"5672c2df727a8d1bdfa4505c42b3feea\", element=\"3cad687a-165e-44cf-8348-929698261706\")>,\n",
       " <selenium.webdriver.remote.webelement.WebElement (session=\"5672c2df727a8d1bdfa4505c42b3feea\", element=\"205be1df-069f-4c09-a96a-ed2d0e1c39f8\")>,\n",
       " <selenium.webdriver.remote.webelement.WebElement (session=\"5672c2df727a8d1bdfa4505c42b3feea\", element=\"ecb3612f-1747-4fe5-92fe-15a0dfa3abb3\")>,\n",
       " <selenium.webdriver.remote.webelement.WebElement (session=\"5672c2df727a8d1bdfa4505c42b3feea\", element=\"878dcc32-cdb2-4afb-83fe-a1e93c9c636c\")>,\n",
       " <selenium.webdriver.remote.webelement.WebElement (session=\"5672c2df727a8d1bdfa4505c42b3feea\", element=\"59a88fbf-c8b4-4c77-9b54-7a985d692b7e\")>,\n",
       " <selenium.webdriver.remote.webelement.WebElement (session=\"5672c2df727a8d1bdfa4505c42b3feea\", element=\"dfac3fb4-2d33-4ace-93e6-86350f04217f\")>,\n",
       " <selenium.webdriver.remote.webelement.WebElement (session=\"5672c2df727a8d1bdfa4505c42b3feea\", element=\"96933382-2432-41cc-8b74-26b87855c464\")>,\n",
       " <selenium.webdriver.remote.webelement.WebElement (session=\"5672c2df727a8d1bdfa4505c42b3feea\", element=\"3e40bcbb-765a-469b-b564-6da33ac3e7f9\")>,\n",
       " <selenium.webdriver.remote.webelement.WebElement (session=\"5672c2df727a8d1bdfa4505c42b3feea\", element=\"5ad53856-cff3-4a5f-a93a-332968cbbe5a\")>,\n",
       " <selenium.webdriver.remote.webelement.WebElement (session=\"5672c2df727a8d1bdfa4505c42b3feea\", element=\"46e90bc8-76d8-4491-abf7-407647eaad41\")>,\n",
       " <selenium.webdriver.remote.webelement.WebElement (session=\"5672c2df727a8d1bdfa4505c42b3feea\", element=\"5b1175f5-89de-4bd3-9377-355e76aca598\")>,\n",
       " <selenium.webdriver.remote.webelement.WebElement (session=\"5672c2df727a8d1bdfa4505c42b3feea\", element=\"15664128-f4ed-46e7-b608-0b875514aaaf\")>,\n",
       " <selenium.webdriver.remote.webelement.WebElement (session=\"5672c2df727a8d1bdfa4505c42b3feea\", element=\"8961f1d4-76b9-4967-abf6-6bdb53fd1876\")>,\n",
       " <selenium.webdriver.remote.webelement.WebElement (session=\"5672c2df727a8d1bdfa4505c42b3feea\", element=\"a73ba95f-8057-4568-8238-35c3b3677613\")>,\n",
       " <selenium.webdriver.remote.webelement.WebElement (session=\"5672c2df727a8d1bdfa4505c42b3feea\", element=\"172c8946-ee95-43bb-917c-8758b303d5f0\")>,\n",
       " <selenium.webdriver.remote.webelement.WebElement (session=\"5672c2df727a8d1bdfa4505c42b3feea\", element=\"1541969b-63b2-4ad6-9948-05fde90f97b0\")>,\n",
       " <selenium.webdriver.remote.webelement.WebElement (session=\"5672c2df727a8d1bdfa4505c42b3feea\", element=\"1c696f2c-a825-45e7-a7ed-0887e924ad18\")>,\n",
       " <selenium.webdriver.remote.webelement.WebElement (session=\"5672c2df727a8d1bdfa4505c42b3feea\", element=\"60e7a27f-0d2b-4162-ba1c-ef6f01c1d1a7\")>,\n",
       " <selenium.webdriver.remote.webelement.WebElement (session=\"5672c2df727a8d1bdfa4505c42b3feea\", element=\"9b855f56-d1b0-494d-890f-cc2e746972b8\")>,\n",
       " <selenium.webdriver.remote.webelement.WebElement (session=\"5672c2df727a8d1bdfa4505c42b3feea\", element=\"7a8f1063-ce59-42f2-95b4-966c4fa187bc\")>,\n",
       " <selenium.webdriver.remote.webelement.WebElement (session=\"5672c2df727a8d1bdfa4505c42b3feea\", element=\"28db2769-7ae1-489e-915c-0725e2e33f54\")>,\n",
       " <selenium.webdriver.remote.webelement.WebElement (session=\"5672c2df727a8d1bdfa4505c42b3feea\", element=\"8d0fc9a4-199c-47a2-9ea2-a72a4385c1c9\")>,\n",
       " <selenium.webdriver.remote.webelement.WebElement (session=\"5672c2df727a8d1bdfa4505c42b3feea\", element=\"6c5d78a1-010e-4f45-824f-a5742d726f90\")>,\n",
       " <selenium.webdriver.remote.webelement.WebElement (session=\"5672c2df727a8d1bdfa4505c42b3feea\", element=\"53f76e95-3255-4da5-b4d2-b2be1b9e257b\")>,\n",
       " <selenium.webdriver.remote.webelement.WebElement (session=\"5672c2df727a8d1bdfa4505c42b3feea\", element=\"a522b45d-c6d8-445e-8b96-db7d4e78b4e2\")>,\n",
       " <selenium.webdriver.remote.webelement.WebElement (session=\"5672c2df727a8d1bdfa4505c42b3feea\", element=\"582e3b6f-c4da-4668-ba76-5e720270eea6\")>,\n",
       " <selenium.webdriver.remote.webelement.WebElement (session=\"5672c2df727a8d1bdfa4505c42b3feea\", element=\"0a408c4f-c735-46d4-a41d-b0c3e014f250\")>,\n",
       " <selenium.webdriver.remote.webelement.WebElement (session=\"5672c2df727a8d1bdfa4505c42b3feea\", element=\"bb05eded-8819-4114-a6f3-c66bde4031bc\")>,\n",
       " <selenium.webdriver.remote.webelement.WebElement (session=\"5672c2df727a8d1bdfa4505c42b3feea\", element=\"e2382183-9edb-4b3e-ae5b-e182006fd40e\")>]"
      ]
     },
     "execution_count": 12,
     "metadata": {},
     "output_type": "execute_result"
    }
   ],
   "source": [
    "brand_tags[0:100]"
   ]
  },
  {
   "cell_type": "markdown",
   "id": "fe48fa71",
   "metadata": {},
   "source": [
    "Now we have all the tags in which there are the brands\n",
    "\n",
    "Now we will extract the text from these tags one by one by looping over these tags"
   ]
  },
  {
   "cell_type": "code",
   "execution_count": 13,
   "id": "12489287",
   "metadata": {},
   "outputs": [
    {
     "data": {
      "text/plain": [
       "['Roadster',\n",
       " 'Strollin',\n",
       " 'URBANBOX',\n",
       " 'aadi',\n",
       " 'corsac',\n",
       " 'Chevit',\n",
       " 'KWIK FIT',\n",
       " 'otoos',\n",
       " 'BRUTON',\n",
       " 'Labbin',\n",
       " 'ASTEROID',\n",
       " 'HRX by Hrithik Roshan',\n",
       " 'Magnolia',\n",
       " 'World Wear Footwear',\n",
       " 'D-SNEAKERZ',\n",
       " 'Roadster',\n",
       " 'Chevit',\n",
       " 'aadi',\n",
       " 'PUMA',\n",
       " 'KWIK FIT',\n",
       " 'aadi',\n",
       " 'ASTEROID',\n",
       " 'BRUTON',\n",
       " 'Arivo',\n",
       " 'World Wear Footwear',\n",
       " 'World Wear Footwear',\n",
       " 'BIRDE',\n",
       " 'RapidBox',\n",
       " 'World Wear Footwear',\n",
       " 'SCATCHITE',\n",
       " 'Arohi',\n",
       " 'HRX by Hrithik Roshan',\n",
       " 'D-SNEAKERZ',\n",
       " 'Hida',\n",
       " 'ONECENTRE',\n",
       " 'ROCKFIELD',\n",
       " 'CLYMB',\n",
       " 'corsac',\n",
       " 'Airland',\n",
       " 'RapidBox',\n",
       " 'Roadster',\n",
       " 'Strollin',\n",
       " 'URBANBOX',\n",
       " 'aadi',\n",
       " 'corsac',\n",
       " 'Chevit',\n",
       " 'KWIK FIT',\n",
       " 'otoos',\n",
       " 'BRUTON',\n",
       " 'Labbin',\n",
       " 'ASTEROID',\n",
       " 'HRX by Hrithik Roshan',\n",
       " 'Magnolia',\n",
       " 'World Wear Footwear',\n",
       " 'D-SNEAKERZ',\n",
       " 'Roadster',\n",
       " 'Chevit',\n",
       " 'aadi',\n",
       " 'PUMA',\n",
       " 'KWIK FIT',\n",
       " 'aadi',\n",
       " 'ASTEROID',\n",
       " 'BRUTON',\n",
       " 'Arivo',\n",
       " 'World Wear Footwear',\n",
       " 'World Wear Footwear',\n",
       " 'BIRDE',\n",
       " 'RapidBox',\n",
       " 'World Wear Footwear',\n",
       " 'SCATCHITE',\n",
       " 'Arohi',\n",
       " 'HRX by Hrithik Roshan',\n",
       " 'D-SNEAKERZ',\n",
       " 'Hida',\n",
       " 'ONECENTRE',\n",
       " 'ROCKFIELD',\n",
       " 'CLYMB',\n",
       " 'corsac',\n",
       " 'Airland',\n",
       " 'RapidBox',\n",
       " 'Roadster',\n",
       " 'Strollin',\n",
       " 'URBANBOX',\n",
       " 'aadi',\n",
       " 'corsac',\n",
       " 'Chevit',\n",
       " 'KWIK FIT',\n",
       " 'otoos',\n",
       " 'BRUTON',\n",
       " 'Labbin',\n",
       " 'ASTEROID',\n",
       " 'HRX by Hrithik Roshan',\n",
       " 'Magnolia',\n",
       " 'World Wear Footwear',\n",
       " 'D-SNEAKERZ',\n",
       " 'Roadster',\n",
       " 'Chevit',\n",
       " 'aadi',\n",
       " 'PUMA',\n",
       " 'KWIK FIT']"
      ]
     },
     "execution_count": 13,
     "metadata": {},
     "output_type": "execute_result"
    }
   ],
   "source": [
    "# Now the text of the brand is inside the tags extracted above\n",
    "\n",
    "# so we will run a loop to iterate over the tags extracted above \n",
    "\n",
    "for i in brand_tags:\n",
    "    brand=i.text\n",
    "    brands.append(brand)\n",
    "brands[0:100]"
   ]
  },
  {
   "cell_type": "markdown",
   "id": "5758c15c",
   "metadata": {},
   "source": [
    "Now we will extract all the tags where we have the product discription. Let me first show you in which tags the product discription are put on the webpage."
   ]
  },
  {
   "cell_type": "code",
   "execution_count": 14,
   "id": "5bba36da",
   "metadata": {},
   "outputs": [],
   "source": [
    "# so lets extract all the tags having the product discription\n",
    "\n",
    "products_tags1=driver.find_elements_by_xpath(\"//a[@class='IRpwTa']\")\n",
    "\n",
    "products_tags2=driver.find_elements_by_xpath(\"//a[@class='IRpwTa']\")\n",
    "\n",
    "products_tags3=driver.find_elements_by_xpath(\"//a[@class='IRpwTa']\")\n",
    "\n",
    "products_tags=products_tags1 + products_tags2 + products_tags3"
   ]
  },
  {
   "cell_type": "code",
   "execution_count": 15,
   "id": "8e69c9c2",
   "metadata": {},
   "outputs": [
    {
     "data": {
      "text/plain": [
       "[<selenium.webdriver.remote.webelement.WebElement (session=\"5672c2df727a8d1bdfa4505c42b3feea\", element=\"a42046d8-9e4d-4e85-bf1d-c1395cf5f16e\")>,\n",
       " <selenium.webdriver.remote.webelement.WebElement (session=\"5672c2df727a8d1bdfa4505c42b3feea\", element=\"b0470250-b17c-4215-a8b7-2bccc45e7e10\")>,\n",
       " <selenium.webdriver.remote.webelement.WebElement (session=\"5672c2df727a8d1bdfa4505c42b3feea\", element=\"8a419856-c3b4-4e03-afa6-5ad0168fa74c\")>,\n",
       " <selenium.webdriver.remote.webelement.WebElement (session=\"5672c2df727a8d1bdfa4505c42b3feea\", element=\"c9def357-503d-4d58-83df-a71277949b3c\")>,\n",
       " <selenium.webdriver.remote.webelement.WebElement (session=\"5672c2df727a8d1bdfa4505c42b3feea\", element=\"67aa459f-fb54-4df9-9561-c9ae6c07976c\")>,\n",
       " <selenium.webdriver.remote.webelement.WebElement (session=\"5672c2df727a8d1bdfa4505c42b3feea\", element=\"8cb6d632-deb0-4748-ae47-002e09554368\")>,\n",
       " <selenium.webdriver.remote.webelement.WebElement (session=\"5672c2df727a8d1bdfa4505c42b3feea\", element=\"0309cb5e-086e-4d8e-b28d-6f0603d084fe\")>,\n",
       " <selenium.webdriver.remote.webelement.WebElement (session=\"5672c2df727a8d1bdfa4505c42b3feea\", element=\"850a7116-b217-4beb-9424-88055ab37749\")>,\n",
       " <selenium.webdriver.remote.webelement.WebElement (session=\"5672c2df727a8d1bdfa4505c42b3feea\", element=\"3d1c41d9-672a-4b97-9d31-623c5f2fae31\")>,\n",
       " <selenium.webdriver.remote.webelement.WebElement (session=\"5672c2df727a8d1bdfa4505c42b3feea\", element=\"744a7aef-d214-4e7b-9b65-cf0e9a26736c\")>,\n",
       " <selenium.webdriver.remote.webelement.WebElement (session=\"5672c2df727a8d1bdfa4505c42b3feea\", element=\"c8103713-27ea-4830-84bd-13c8373abf34\")>,\n",
       " <selenium.webdriver.remote.webelement.WebElement (session=\"5672c2df727a8d1bdfa4505c42b3feea\", element=\"9eace9dc-804f-46e6-b5c6-82d7812dff34\")>,\n",
       " <selenium.webdriver.remote.webelement.WebElement (session=\"5672c2df727a8d1bdfa4505c42b3feea\", element=\"a17c071b-a7a6-4018-9b69-75cff5a77e43\")>,\n",
       " <selenium.webdriver.remote.webelement.WebElement (session=\"5672c2df727a8d1bdfa4505c42b3feea\", element=\"7864626c-9d97-40f2-898f-fff77a3c75eb\")>,\n",
       " <selenium.webdriver.remote.webelement.WebElement (session=\"5672c2df727a8d1bdfa4505c42b3feea\", element=\"30350e0b-e5e6-4c48-ba1f-83cf6b436ac0\")>,\n",
       " <selenium.webdriver.remote.webelement.WebElement (session=\"5672c2df727a8d1bdfa4505c42b3feea\", element=\"de31584e-e9ac-4684-b6d5-a8e323cb1f58\")>,\n",
       " <selenium.webdriver.remote.webelement.WebElement (session=\"5672c2df727a8d1bdfa4505c42b3feea\", element=\"e864e689-39ed-4eb9-aa72-32f7e0800fab\")>,\n",
       " <selenium.webdriver.remote.webelement.WebElement (session=\"5672c2df727a8d1bdfa4505c42b3feea\", element=\"1cdfcf9c-9a38-4690-b1f2-31e45cd539c5\")>,\n",
       " <selenium.webdriver.remote.webelement.WebElement (session=\"5672c2df727a8d1bdfa4505c42b3feea\", element=\"2cfbcfd2-1a6e-45a4-a957-7771dfa70359\")>,\n",
       " <selenium.webdriver.remote.webelement.WebElement (session=\"5672c2df727a8d1bdfa4505c42b3feea\", element=\"356ec627-9839-49f9-8ce4-991bda75f931\")>,\n",
       " <selenium.webdriver.remote.webelement.WebElement (session=\"5672c2df727a8d1bdfa4505c42b3feea\", element=\"dbbc33e7-b986-4967-a2f0-068ae99cf566\")>,\n",
       " <selenium.webdriver.remote.webelement.WebElement (session=\"5672c2df727a8d1bdfa4505c42b3feea\", element=\"e0be5c61-248c-43d6-896f-5089b43b8ca4\")>,\n",
       " <selenium.webdriver.remote.webelement.WebElement (session=\"5672c2df727a8d1bdfa4505c42b3feea\", element=\"fe9f90fb-e0a7-4d7b-b3c2-9647b53e9ca4\")>,\n",
       " <selenium.webdriver.remote.webelement.WebElement (session=\"5672c2df727a8d1bdfa4505c42b3feea\", element=\"407577b1-8300-4b1b-9908-8996c4f3f6ba\")>,\n",
       " <selenium.webdriver.remote.webelement.WebElement (session=\"5672c2df727a8d1bdfa4505c42b3feea\", element=\"a2aaff0e-4198-4d96-bafb-9ad6b444a6ef\")>,\n",
       " <selenium.webdriver.remote.webelement.WebElement (session=\"5672c2df727a8d1bdfa4505c42b3feea\", element=\"917e09c1-0d05-44fb-a662-45574564cfdd\")>,\n",
       " <selenium.webdriver.remote.webelement.WebElement (session=\"5672c2df727a8d1bdfa4505c42b3feea\", element=\"66ebd8eb-f2ac-4b42-8cfb-d0735b72df34\")>,\n",
       " <selenium.webdriver.remote.webelement.WebElement (session=\"5672c2df727a8d1bdfa4505c42b3feea\", element=\"5e62994a-0d07-4c33-b401-c3bfa1b98395\")>,\n",
       " <selenium.webdriver.remote.webelement.WebElement (session=\"5672c2df727a8d1bdfa4505c42b3feea\", element=\"843bebec-9c05-4bc0-9a0b-07d1f1ca8428\")>,\n",
       " <selenium.webdriver.remote.webelement.WebElement (session=\"5672c2df727a8d1bdfa4505c42b3feea\", element=\"7fbda9bd-8158-4535-9ced-d4d3cc503bd4\")>,\n",
       " <selenium.webdriver.remote.webelement.WebElement (session=\"5672c2df727a8d1bdfa4505c42b3feea\", element=\"66fa5ac8-86ad-42e4-94a7-1f8cfd802c4b\")>,\n",
       " <selenium.webdriver.remote.webelement.WebElement (session=\"5672c2df727a8d1bdfa4505c42b3feea\", element=\"dc974345-c214-496e-a175-724913f2c0e0\")>,\n",
       " <selenium.webdriver.remote.webelement.WebElement (session=\"5672c2df727a8d1bdfa4505c42b3feea\", element=\"a42046d8-9e4d-4e85-bf1d-c1395cf5f16e\")>,\n",
       " <selenium.webdriver.remote.webelement.WebElement (session=\"5672c2df727a8d1bdfa4505c42b3feea\", element=\"b0470250-b17c-4215-a8b7-2bccc45e7e10\")>,\n",
       " <selenium.webdriver.remote.webelement.WebElement (session=\"5672c2df727a8d1bdfa4505c42b3feea\", element=\"8a419856-c3b4-4e03-afa6-5ad0168fa74c\")>,\n",
       " <selenium.webdriver.remote.webelement.WebElement (session=\"5672c2df727a8d1bdfa4505c42b3feea\", element=\"c9def357-503d-4d58-83df-a71277949b3c\")>,\n",
       " <selenium.webdriver.remote.webelement.WebElement (session=\"5672c2df727a8d1bdfa4505c42b3feea\", element=\"67aa459f-fb54-4df9-9561-c9ae6c07976c\")>,\n",
       " <selenium.webdriver.remote.webelement.WebElement (session=\"5672c2df727a8d1bdfa4505c42b3feea\", element=\"8cb6d632-deb0-4748-ae47-002e09554368\")>,\n",
       " <selenium.webdriver.remote.webelement.WebElement (session=\"5672c2df727a8d1bdfa4505c42b3feea\", element=\"0309cb5e-086e-4d8e-b28d-6f0603d084fe\")>,\n",
       " <selenium.webdriver.remote.webelement.WebElement (session=\"5672c2df727a8d1bdfa4505c42b3feea\", element=\"850a7116-b217-4beb-9424-88055ab37749\")>,\n",
       " <selenium.webdriver.remote.webelement.WebElement (session=\"5672c2df727a8d1bdfa4505c42b3feea\", element=\"3d1c41d9-672a-4b97-9d31-623c5f2fae31\")>,\n",
       " <selenium.webdriver.remote.webelement.WebElement (session=\"5672c2df727a8d1bdfa4505c42b3feea\", element=\"744a7aef-d214-4e7b-9b65-cf0e9a26736c\")>,\n",
       " <selenium.webdriver.remote.webelement.WebElement (session=\"5672c2df727a8d1bdfa4505c42b3feea\", element=\"c8103713-27ea-4830-84bd-13c8373abf34\")>,\n",
       " <selenium.webdriver.remote.webelement.WebElement (session=\"5672c2df727a8d1bdfa4505c42b3feea\", element=\"9eace9dc-804f-46e6-b5c6-82d7812dff34\")>,\n",
       " <selenium.webdriver.remote.webelement.WebElement (session=\"5672c2df727a8d1bdfa4505c42b3feea\", element=\"a17c071b-a7a6-4018-9b69-75cff5a77e43\")>,\n",
       " <selenium.webdriver.remote.webelement.WebElement (session=\"5672c2df727a8d1bdfa4505c42b3feea\", element=\"7864626c-9d97-40f2-898f-fff77a3c75eb\")>,\n",
       " <selenium.webdriver.remote.webelement.WebElement (session=\"5672c2df727a8d1bdfa4505c42b3feea\", element=\"30350e0b-e5e6-4c48-ba1f-83cf6b436ac0\")>,\n",
       " <selenium.webdriver.remote.webelement.WebElement (session=\"5672c2df727a8d1bdfa4505c42b3feea\", element=\"de31584e-e9ac-4684-b6d5-a8e323cb1f58\")>,\n",
       " <selenium.webdriver.remote.webelement.WebElement (session=\"5672c2df727a8d1bdfa4505c42b3feea\", element=\"e864e689-39ed-4eb9-aa72-32f7e0800fab\")>,\n",
       " <selenium.webdriver.remote.webelement.WebElement (session=\"5672c2df727a8d1bdfa4505c42b3feea\", element=\"1cdfcf9c-9a38-4690-b1f2-31e45cd539c5\")>,\n",
       " <selenium.webdriver.remote.webelement.WebElement (session=\"5672c2df727a8d1bdfa4505c42b3feea\", element=\"2cfbcfd2-1a6e-45a4-a957-7771dfa70359\")>,\n",
       " <selenium.webdriver.remote.webelement.WebElement (session=\"5672c2df727a8d1bdfa4505c42b3feea\", element=\"356ec627-9839-49f9-8ce4-991bda75f931\")>,\n",
       " <selenium.webdriver.remote.webelement.WebElement (session=\"5672c2df727a8d1bdfa4505c42b3feea\", element=\"dbbc33e7-b986-4967-a2f0-068ae99cf566\")>,\n",
       " <selenium.webdriver.remote.webelement.WebElement (session=\"5672c2df727a8d1bdfa4505c42b3feea\", element=\"e0be5c61-248c-43d6-896f-5089b43b8ca4\")>,\n",
       " <selenium.webdriver.remote.webelement.WebElement (session=\"5672c2df727a8d1bdfa4505c42b3feea\", element=\"fe9f90fb-e0a7-4d7b-b3c2-9647b53e9ca4\")>,\n",
       " <selenium.webdriver.remote.webelement.WebElement (session=\"5672c2df727a8d1bdfa4505c42b3feea\", element=\"407577b1-8300-4b1b-9908-8996c4f3f6ba\")>,\n",
       " <selenium.webdriver.remote.webelement.WebElement (session=\"5672c2df727a8d1bdfa4505c42b3feea\", element=\"a2aaff0e-4198-4d96-bafb-9ad6b444a6ef\")>,\n",
       " <selenium.webdriver.remote.webelement.WebElement (session=\"5672c2df727a8d1bdfa4505c42b3feea\", element=\"917e09c1-0d05-44fb-a662-45574564cfdd\")>,\n",
       " <selenium.webdriver.remote.webelement.WebElement (session=\"5672c2df727a8d1bdfa4505c42b3feea\", element=\"66ebd8eb-f2ac-4b42-8cfb-d0735b72df34\")>,\n",
       " <selenium.webdriver.remote.webelement.WebElement (session=\"5672c2df727a8d1bdfa4505c42b3feea\", element=\"5e62994a-0d07-4c33-b401-c3bfa1b98395\")>,\n",
       " <selenium.webdriver.remote.webelement.WebElement (session=\"5672c2df727a8d1bdfa4505c42b3feea\", element=\"843bebec-9c05-4bc0-9a0b-07d1f1ca8428\")>,\n",
       " <selenium.webdriver.remote.webelement.WebElement (session=\"5672c2df727a8d1bdfa4505c42b3feea\", element=\"7fbda9bd-8158-4535-9ced-d4d3cc503bd4\")>,\n",
       " <selenium.webdriver.remote.webelement.WebElement (session=\"5672c2df727a8d1bdfa4505c42b3feea\", element=\"66fa5ac8-86ad-42e4-94a7-1f8cfd802c4b\")>,\n",
       " <selenium.webdriver.remote.webelement.WebElement (session=\"5672c2df727a8d1bdfa4505c42b3feea\", element=\"dc974345-c214-496e-a175-724913f2c0e0\")>,\n",
       " <selenium.webdriver.remote.webelement.WebElement (session=\"5672c2df727a8d1bdfa4505c42b3feea\", element=\"a42046d8-9e4d-4e85-bf1d-c1395cf5f16e\")>,\n",
       " <selenium.webdriver.remote.webelement.WebElement (session=\"5672c2df727a8d1bdfa4505c42b3feea\", element=\"b0470250-b17c-4215-a8b7-2bccc45e7e10\")>,\n",
       " <selenium.webdriver.remote.webelement.WebElement (session=\"5672c2df727a8d1bdfa4505c42b3feea\", element=\"8a419856-c3b4-4e03-afa6-5ad0168fa74c\")>,\n",
       " <selenium.webdriver.remote.webelement.WebElement (session=\"5672c2df727a8d1bdfa4505c42b3feea\", element=\"c9def357-503d-4d58-83df-a71277949b3c\")>,\n",
       " <selenium.webdriver.remote.webelement.WebElement (session=\"5672c2df727a8d1bdfa4505c42b3feea\", element=\"67aa459f-fb54-4df9-9561-c9ae6c07976c\")>,\n",
       " <selenium.webdriver.remote.webelement.WebElement (session=\"5672c2df727a8d1bdfa4505c42b3feea\", element=\"8cb6d632-deb0-4748-ae47-002e09554368\")>,\n",
       " <selenium.webdriver.remote.webelement.WebElement (session=\"5672c2df727a8d1bdfa4505c42b3feea\", element=\"0309cb5e-086e-4d8e-b28d-6f0603d084fe\")>,\n",
       " <selenium.webdriver.remote.webelement.WebElement (session=\"5672c2df727a8d1bdfa4505c42b3feea\", element=\"850a7116-b217-4beb-9424-88055ab37749\")>,\n",
       " <selenium.webdriver.remote.webelement.WebElement (session=\"5672c2df727a8d1bdfa4505c42b3feea\", element=\"3d1c41d9-672a-4b97-9d31-623c5f2fae31\")>,\n",
       " <selenium.webdriver.remote.webelement.WebElement (session=\"5672c2df727a8d1bdfa4505c42b3feea\", element=\"744a7aef-d214-4e7b-9b65-cf0e9a26736c\")>,\n",
       " <selenium.webdriver.remote.webelement.WebElement (session=\"5672c2df727a8d1bdfa4505c42b3feea\", element=\"c8103713-27ea-4830-84bd-13c8373abf34\")>,\n",
       " <selenium.webdriver.remote.webelement.WebElement (session=\"5672c2df727a8d1bdfa4505c42b3feea\", element=\"9eace9dc-804f-46e6-b5c6-82d7812dff34\")>,\n",
       " <selenium.webdriver.remote.webelement.WebElement (session=\"5672c2df727a8d1bdfa4505c42b3feea\", element=\"a17c071b-a7a6-4018-9b69-75cff5a77e43\")>,\n",
       " <selenium.webdriver.remote.webelement.WebElement (session=\"5672c2df727a8d1bdfa4505c42b3feea\", element=\"7864626c-9d97-40f2-898f-fff77a3c75eb\")>,\n",
       " <selenium.webdriver.remote.webelement.WebElement (session=\"5672c2df727a8d1bdfa4505c42b3feea\", element=\"30350e0b-e5e6-4c48-ba1f-83cf6b436ac0\")>,\n",
       " <selenium.webdriver.remote.webelement.WebElement (session=\"5672c2df727a8d1bdfa4505c42b3feea\", element=\"de31584e-e9ac-4684-b6d5-a8e323cb1f58\")>,\n",
       " <selenium.webdriver.remote.webelement.WebElement (session=\"5672c2df727a8d1bdfa4505c42b3feea\", element=\"e864e689-39ed-4eb9-aa72-32f7e0800fab\")>,\n",
       " <selenium.webdriver.remote.webelement.WebElement (session=\"5672c2df727a8d1bdfa4505c42b3feea\", element=\"1cdfcf9c-9a38-4690-b1f2-31e45cd539c5\")>,\n",
       " <selenium.webdriver.remote.webelement.WebElement (session=\"5672c2df727a8d1bdfa4505c42b3feea\", element=\"2cfbcfd2-1a6e-45a4-a957-7771dfa70359\")>,\n",
       " <selenium.webdriver.remote.webelement.WebElement (session=\"5672c2df727a8d1bdfa4505c42b3feea\", element=\"356ec627-9839-49f9-8ce4-991bda75f931\")>,\n",
       " <selenium.webdriver.remote.webelement.WebElement (session=\"5672c2df727a8d1bdfa4505c42b3feea\", element=\"dbbc33e7-b986-4967-a2f0-068ae99cf566\")>,\n",
       " <selenium.webdriver.remote.webelement.WebElement (session=\"5672c2df727a8d1bdfa4505c42b3feea\", element=\"e0be5c61-248c-43d6-896f-5089b43b8ca4\")>,\n",
       " <selenium.webdriver.remote.webelement.WebElement (session=\"5672c2df727a8d1bdfa4505c42b3feea\", element=\"fe9f90fb-e0a7-4d7b-b3c2-9647b53e9ca4\")>,\n",
       " <selenium.webdriver.remote.webelement.WebElement (session=\"5672c2df727a8d1bdfa4505c42b3feea\", element=\"407577b1-8300-4b1b-9908-8996c4f3f6ba\")>,\n",
       " <selenium.webdriver.remote.webelement.WebElement (session=\"5672c2df727a8d1bdfa4505c42b3feea\", element=\"a2aaff0e-4198-4d96-bafb-9ad6b444a6ef\")>,\n",
       " <selenium.webdriver.remote.webelement.WebElement (session=\"5672c2df727a8d1bdfa4505c42b3feea\", element=\"917e09c1-0d05-44fb-a662-45574564cfdd\")>,\n",
       " <selenium.webdriver.remote.webelement.WebElement (session=\"5672c2df727a8d1bdfa4505c42b3feea\", element=\"66ebd8eb-f2ac-4b42-8cfb-d0735b72df34\")>,\n",
       " <selenium.webdriver.remote.webelement.WebElement (session=\"5672c2df727a8d1bdfa4505c42b3feea\", element=\"5e62994a-0d07-4c33-b401-c3bfa1b98395\")>,\n",
       " <selenium.webdriver.remote.webelement.WebElement (session=\"5672c2df727a8d1bdfa4505c42b3feea\", element=\"843bebec-9c05-4bc0-9a0b-07d1f1ca8428\")>,\n",
       " <selenium.webdriver.remote.webelement.WebElement (session=\"5672c2df727a8d1bdfa4505c42b3feea\", element=\"7fbda9bd-8158-4535-9ced-d4d3cc503bd4\")>,\n",
       " <selenium.webdriver.remote.webelement.WebElement (session=\"5672c2df727a8d1bdfa4505c42b3feea\", element=\"66fa5ac8-86ad-42e4-94a7-1f8cfd802c4b\")>,\n",
       " <selenium.webdriver.remote.webelement.WebElement (session=\"5672c2df727a8d1bdfa4505c42b3feea\", element=\"dc974345-c214-496e-a175-724913f2c0e0\")>]"
      ]
     },
     "execution_count": 15,
     "metadata": {},
     "output_type": "execute_result"
    }
   ],
   "source": [
    "products_tags[0:100]"
   ]
  },
  {
   "cell_type": "markdown",
   "id": "e19a2c76",
   "metadata": {},
   "source": [
    "Now we have all the tags in which there are the product discrption.\n",
    "\n",
    "Now we will extract the text from these tags one by one by looping over these tags"
   ]
  },
  {
   "cell_type": "code",
   "execution_count": 16,
   "id": "a626c696",
   "metadata": {},
   "outputs": [
    {
     "data": {
      "text/plain": [
       "['Men White Solid Sneakers Sneakers For Men',\n",
       " 'Sneakers For Men',\n",
       " 'Sneakers For Men',\n",
       " 'STYLISH MENS BLACK SNEAKER Sneakers For Men',\n",
       " 'Kwik FIT casual sneaker shoes and partywear shoes Casua...',\n",
       " 'Canvas shoes for Men Sneakers For Men',\n",
       " 'Sneakers For Men',\n",
       " \"Luxury Branded Fashionable Men's Casual Walking Partywe...\",\n",
       " 'Men White Red Solid Sneakers Sneakers For Men',\n",
       " 'Sneakers For Men',\n",
       " '5011-Latest Collection Stylish & Trendy Casual Sneakers...',\n",
       " \"Casual , Partywear Sneakers Shoes For Men's And Boys Wh...\",\n",
       " 'Men Blue Solid Sneakers Sneakers For Men',\n",
       " 'Perfect Combo Pack of 03 Pairs Casual Sneakers Outdoor ...',\n",
       " 'Sneakers For Men',\n",
       " 'Blend Sneakers For Men',\n",
       " 'Casual Trendy Sneaker Casual Shoes For Men Sneakers For...',\n",
       " 'Sneakers For Men',\n",
       " \"Original Luxury Branded Fashionable Men's Casual Walkin...\",\n",
       " 'Lightweight Pack Of 1 Trendy Sneakers Sneakers For Men',\n",
       " '5013-Latest Collection Stylish & Trendy of casuals Snea...',\n",
       " 'Men 5014 Latest Collection Stylish Casual Sports Loafer...',\n",
       " 'Stylish Comfortable Lightweight, Breathable Walking Sho...',\n",
       " 'Latest Collection-1227 Stylish Casual Sports Sneakers F...',\n",
       " 'Sneakers Sneakers For Men',\n",
       " 'Sneakers For Men',\n",
       " 'Sneakers For Men',\n",
       " \"Casual , Partywear Sneakers Shoes For Men's And Boys Wh...\",\n",
       " 'Sneakers For Men',\n",
       " 'Sneakers For Men',\n",
       " 'STYLISH MENS BLACK TRENDY SNEAKER FOR MENS Sneakers For...',\n",
       " 'Sneakers For Men',\n",
       " 'Men White Solid Sneakers Sneakers For Men',\n",
       " 'Sneakers For Men',\n",
       " 'Sneakers For Men',\n",
       " 'STYLISH MENS BLACK SNEAKER Sneakers For Men',\n",
       " 'Kwik FIT casual sneaker shoes and partywear shoes Casua...',\n",
       " 'Canvas shoes for Men Sneakers For Men',\n",
       " 'Sneakers For Men',\n",
       " \"Luxury Branded Fashionable Men's Casual Walking Partywe...\",\n",
       " 'Men White Red Solid Sneakers Sneakers For Men',\n",
       " 'Sneakers For Men',\n",
       " '5011-Latest Collection Stylish & Trendy Casual Sneakers...',\n",
       " \"Casual , Partywear Sneakers Shoes For Men's And Boys Wh...\",\n",
       " 'Men Blue Solid Sneakers Sneakers For Men',\n",
       " 'Perfect Combo Pack of 03 Pairs Casual Sneakers Outdoor ...',\n",
       " 'Sneakers For Men',\n",
       " 'Blend Sneakers For Men',\n",
       " 'Casual Trendy Sneaker Casual Shoes For Men Sneakers For...',\n",
       " 'Sneakers For Men',\n",
       " \"Original Luxury Branded Fashionable Men's Casual Walkin...\",\n",
       " 'Lightweight Pack Of 1 Trendy Sneakers Sneakers For Men',\n",
       " '5013-Latest Collection Stylish & Trendy of casuals Snea...',\n",
       " 'Men 5014 Latest Collection Stylish Casual Sports Loafer...',\n",
       " 'Stylish Comfortable Lightweight, Breathable Walking Sho...',\n",
       " 'Latest Collection-1227 Stylish Casual Sports Sneakers F...',\n",
       " 'Sneakers Sneakers For Men',\n",
       " 'Sneakers For Men',\n",
       " 'Sneakers For Men',\n",
       " \"Casual , Partywear Sneakers Shoes For Men's And Boys Wh...\",\n",
       " 'Sneakers For Men',\n",
       " 'Sneakers For Men',\n",
       " 'STYLISH MENS BLACK TRENDY SNEAKER FOR MENS Sneakers For...',\n",
       " 'Sneakers For Men',\n",
       " 'Men White Solid Sneakers Sneakers For Men',\n",
       " 'Sneakers For Men',\n",
       " 'Sneakers For Men',\n",
       " 'STYLISH MENS BLACK SNEAKER Sneakers For Men',\n",
       " 'Kwik FIT casual sneaker shoes and partywear shoes Casua...',\n",
       " 'Canvas shoes for Men Sneakers For Men',\n",
       " 'Sneakers For Men',\n",
       " \"Luxury Branded Fashionable Men's Casual Walking Partywe...\",\n",
       " 'Men White Red Solid Sneakers Sneakers For Men',\n",
       " 'Sneakers For Men',\n",
       " '5011-Latest Collection Stylish & Trendy Casual Sneakers...',\n",
       " \"Casual , Partywear Sneakers Shoes For Men's And Boys Wh...\",\n",
       " 'Men Blue Solid Sneakers Sneakers For Men',\n",
       " 'Perfect Combo Pack of 03 Pairs Casual Sneakers Outdoor ...',\n",
       " 'Sneakers For Men',\n",
       " 'Blend Sneakers For Men',\n",
       " 'Casual Trendy Sneaker Casual Shoes For Men Sneakers For...',\n",
       " 'Sneakers For Men',\n",
       " \"Original Luxury Branded Fashionable Men's Casual Walkin...\",\n",
       " 'Lightweight Pack Of 1 Trendy Sneakers Sneakers For Men',\n",
       " '5013-Latest Collection Stylish & Trendy of casuals Snea...',\n",
       " 'Men 5014 Latest Collection Stylish Casual Sports Loafer...',\n",
       " 'Stylish Comfortable Lightweight, Breathable Walking Sho...',\n",
       " 'Latest Collection-1227 Stylish Casual Sports Sneakers F...',\n",
       " 'Sneakers Sneakers For Men',\n",
       " 'Sneakers For Men',\n",
       " 'Sneakers For Men',\n",
       " \"Casual , Partywear Sneakers Shoes For Men's And Boys Wh...\",\n",
       " 'Sneakers For Men',\n",
       " 'Sneakers For Men',\n",
       " 'STYLISH MENS BLACK TRENDY SNEAKER FOR MENS Sneakers For...',\n",
       " 'Sneakers For Men']"
      ]
     },
     "execution_count": 16,
     "metadata": {},
     "output_type": "execute_result"
    }
   ],
   "source": [
    "for i in products_tags:\n",
    "    product=i.text\n",
    "    product_description.append(product)\n",
    "product_description[0:100]"
   ]
  },
  {
   "cell_type": "markdown",
   "id": "014b7fd6",
   "metadata": {},
   "source": [
    "Now we will extract all the tags where we have the product price. Let me first show you in which tags the product price are put on the webpage."
   ]
  },
  {
   "cell_type": "code",
   "execution_count": 17,
   "id": "e5c1128a",
   "metadata": {},
   "outputs": [],
   "source": [
    "# so lets extract all the tags having the product price\n",
    "\n",
    "price_tags1=driver.find_elements_by_xpath(\"//div[@class='_30jeq3']\")\n",
    "\n",
    "price_tags2=driver.find_elements_by_xpath(\"//div[@class='_30jeq3']\")\n",
    "\n",
    "price_tags3=driver.find_elements_by_xpath(\"//div[@class='_30jeq3']\")\n",
    "\n",
    "price_tags=price_tags1 + price_tags2 + price_tags3"
   ]
  },
  {
   "cell_type": "code",
   "execution_count": 18,
   "id": "339f522d",
   "metadata": {},
   "outputs": [
    {
     "data": {
      "text/plain": [
       "[<selenium.webdriver.remote.webelement.WebElement (session=\"5672c2df727a8d1bdfa4505c42b3feea\", element=\"18244389-7d6c-4bbe-b1ae-58dbd10fbcb6\")>,\n",
       " <selenium.webdriver.remote.webelement.WebElement (session=\"5672c2df727a8d1bdfa4505c42b3feea\", element=\"a92aa79a-7662-4e91-a46a-e5d65dcb270e\")>,\n",
       " <selenium.webdriver.remote.webelement.WebElement (session=\"5672c2df727a8d1bdfa4505c42b3feea\", element=\"e532bdf5-c802-4dfb-ae4c-59402b9e8a2c\")>,\n",
       " <selenium.webdriver.remote.webelement.WebElement (session=\"5672c2df727a8d1bdfa4505c42b3feea\", element=\"ee8b3b48-dce3-489f-b658-72eb6dedaaa8\")>,\n",
       " <selenium.webdriver.remote.webelement.WebElement (session=\"5672c2df727a8d1bdfa4505c42b3feea\", element=\"3d34f39a-781f-453b-91f2-883686d75818\")>,\n",
       " <selenium.webdriver.remote.webelement.WebElement (session=\"5672c2df727a8d1bdfa4505c42b3feea\", element=\"abf54151-a795-480c-8dde-a4c863735752\")>,\n",
       " <selenium.webdriver.remote.webelement.WebElement (session=\"5672c2df727a8d1bdfa4505c42b3feea\", element=\"b9bfdfc6-eebc-4c62-bc64-490ac6937b8f\")>,\n",
       " <selenium.webdriver.remote.webelement.WebElement (session=\"5672c2df727a8d1bdfa4505c42b3feea\", element=\"38abd979-2fd2-4102-ac05-0b2ec220855c\")>,\n",
       " <selenium.webdriver.remote.webelement.WebElement (session=\"5672c2df727a8d1bdfa4505c42b3feea\", element=\"eca434f2-c770-47ac-b31a-ada2bd57d5ea\")>,\n",
       " <selenium.webdriver.remote.webelement.WebElement (session=\"5672c2df727a8d1bdfa4505c42b3feea\", element=\"ad426bd5-2010-4dc8-a41e-987680f2d986\")>,\n",
       " <selenium.webdriver.remote.webelement.WebElement (session=\"5672c2df727a8d1bdfa4505c42b3feea\", element=\"b3ef8ff1-930b-4761-8494-9ee1a26553ef\")>,\n",
       " <selenium.webdriver.remote.webelement.WebElement (session=\"5672c2df727a8d1bdfa4505c42b3feea\", element=\"7cae2610-e466-4473-8e9a-4dfc68cdd018\")>,\n",
       " <selenium.webdriver.remote.webelement.WebElement (session=\"5672c2df727a8d1bdfa4505c42b3feea\", element=\"1868b9e9-e56c-4f95-8930-3942fcb8b3ef\")>,\n",
       " <selenium.webdriver.remote.webelement.WebElement (session=\"5672c2df727a8d1bdfa4505c42b3feea\", element=\"767f323e-f52d-4708-a96a-67dd9ac6cf8b\")>,\n",
       " <selenium.webdriver.remote.webelement.WebElement (session=\"5672c2df727a8d1bdfa4505c42b3feea\", element=\"21c39a83-9733-4d9c-9eca-ff15efc7a15a\")>,\n",
       " <selenium.webdriver.remote.webelement.WebElement (session=\"5672c2df727a8d1bdfa4505c42b3feea\", element=\"ce6b0603-d623-4f7c-9469-b37db2e55f98\")>,\n",
       " <selenium.webdriver.remote.webelement.WebElement (session=\"5672c2df727a8d1bdfa4505c42b3feea\", element=\"94b7b823-834a-40ed-bf02-c43100aa42ae\")>,\n",
       " <selenium.webdriver.remote.webelement.WebElement (session=\"5672c2df727a8d1bdfa4505c42b3feea\", element=\"b1792deb-71ec-41a6-8429-1d883bdf335a\")>,\n",
       " <selenium.webdriver.remote.webelement.WebElement (session=\"5672c2df727a8d1bdfa4505c42b3feea\", element=\"7842f53a-1f28-4c5a-912e-70d056d85084\")>,\n",
       " <selenium.webdriver.remote.webelement.WebElement (session=\"5672c2df727a8d1bdfa4505c42b3feea\", element=\"494b2725-908d-4407-a00c-e7113153b025\")>,\n",
       " <selenium.webdriver.remote.webelement.WebElement (session=\"5672c2df727a8d1bdfa4505c42b3feea\", element=\"9da5d0d3-8198-4a9f-b6a9-8f8acf966593\")>,\n",
       " <selenium.webdriver.remote.webelement.WebElement (session=\"5672c2df727a8d1bdfa4505c42b3feea\", element=\"1fe92353-56cc-46c9-bdc6-3542e643b755\")>,\n",
       " <selenium.webdriver.remote.webelement.WebElement (session=\"5672c2df727a8d1bdfa4505c42b3feea\", element=\"ef71ad39-ac63-45c6-806b-ce45a0be8943\")>,\n",
       " <selenium.webdriver.remote.webelement.WebElement (session=\"5672c2df727a8d1bdfa4505c42b3feea\", element=\"f0807fc7-5377-4a61-8b0e-19de3328be29\")>,\n",
       " <selenium.webdriver.remote.webelement.WebElement (session=\"5672c2df727a8d1bdfa4505c42b3feea\", element=\"99ecba78-5396-4265-b568-77652d7e434f\")>,\n",
       " <selenium.webdriver.remote.webelement.WebElement (session=\"5672c2df727a8d1bdfa4505c42b3feea\", element=\"8a729003-5b7e-4308-9b18-4e6e8008b98d\")>,\n",
       " <selenium.webdriver.remote.webelement.WebElement (session=\"5672c2df727a8d1bdfa4505c42b3feea\", element=\"f15ed165-3f9f-416d-b8d9-9f3d99b4e76f\")>,\n",
       " <selenium.webdriver.remote.webelement.WebElement (session=\"5672c2df727a8d1bdfa4505c42b3feea\", element=\"6f211f1a-9883-4c4d-ad8c-ce4c6220d418\")>,\n",
       " <selenium.webdriver.remote.webelement.WebElement (session=\"5672c2df727a8d1bdfa4505c42b3feea\", element=\"46fdf1f2-59c9-461f-964b-1194fdfdd45c\")>,\n",
       " <selenium.webdriver.remote.webelement.WebElement (session=\"5672c2df727a8d1bdfa4505c42b3feea\", element=\"e0e8b0b3-28c4-4404-baf1-ccb26d470e81\")>,\n",
       " <selenium.webdriver.remote.webelement.WebElement (session=\"5672c2df727a8d1bdfa4505c42b3feea\", element=\"43cbd2b4-46bb-4f8e-b444-7feab4938f72\")>,\n",
       " <selenium.webdriver.remote.webelement.WebElement (session=\"5672c2df727a8d1bdfa4505c42b3feea\", element=\"8ce68921-cafa-4173-9ef3-dd9d2849c21d\")>,\n",
       " <selenium.webdriver.remote.webelement.WebElement (session=\"5672c2df727a8d1bdfa4505c42b3feea\", element=\"1629cb0d-8d26-4fa0-9c40-02f4f7d615d6\")>,\n",
       " <selenium.webdriver.remote.webelement.WebElement (session=\"5672c2df727a8d1bdfa4505c42b3feea\", element=\"aebbf6ed-02d0-4bc9-a9b9-9d536a5802c7\")>,\n",
       " <selenium.webdriver.remote.webelement.WebElement (session=\"5672c2df727a8d1bdfa4505c42b3feea\", element=\"d7a452c3-983d-49ed-9231-9235e26c9873\")>,\n",
       " <selenium.webdriver.remote.webelement.WebElement (session=\"5672c2df727a8d1bdfa4505c42b3feea\", element=\"49e13898-d3cc-409e-adbe-93eaf6d2ea80\")>,\n",
       " <selenium.webdriver.remote.webelement.WebElement (session=\"5672c2df727a8d1bdfa4505c42b3feea\", element=\"c81d63d4-a992-47df-843f-accbcfd597e2\")>,\n",
       " <selenium.webdriver.remote.webelement.WebElement (session=\"5672c2df727a8d1bdfa4505c42b3feea\", element=\"3b4faf64-810a-4d32-beb9-368da551a050\")>,\n",
       " <selenium.webdriver.remote.webelement.WebElement (session=\"5672c2df727a8d1bdfa4505c42b3feea\", element=\"beea9fef-5c86-4b24-992b-2b16c67b4e37\")>,\n",
       " <selenium.webdriver.remote.webelement.WebElement (session=\"5672c2df727a8d1bdfa4505c42b3feea\", element=\"4f6ddf79-3765-474c-bac3-39e380e9446e\")>,\n",
       " <selenium.webdriver.remote.webelement.WebElement (session=\"5672c2df727a8d1bdfa4505c42b3feea\", element=\"18244389-7d6c-4bbe-b1ae-58dbd10fbcb6\")>,\n",
       " <selenium.webdriver.remote.webelement.WebElement (session=\"5672c2df727a8d1bdfa4505c42b3feea\", element=\"a92aa79a-7662-4e91-a46a-e5d65dcb270e\")>,\n",
       " <selenium.webdriver.remote.webelement.WebElement (session=\"5672c2df727a8d1bdfa4505c42b3feea\", element=\"e532bdf5-c802-4dfb-ae4c-59402b9e8a2c\")>,\n",
       " <selenium.webdriver.remote.webelement.WebElement (session=\"5672c2df727a8d1bdfa4505c42b3feea\", element=\"ee8b3b48-dce3-489f-b658-72eb6dedaaa8\")>,\n",
       " <selenium.webdriver.remote.webelement.WebElement (session=\"5672c2df727a8d1bdfa4505c42b3feea\", element=\"3d34f39a-781f-453b-91f2-883686d75818\")>,\n",
       " <selenium.webdriver.remote.webelement.WebElement (session=\"5672c2df727a8d1bdfa4505c42b3feea\", element=\"abf54151-a795-480c-8dde-a4c863735752\")>,\n",
       " <selenium.webdriver.remote.webelement.WebElement (session=\"5672c2df727a8d1bdfa4505c42b3feea\", element=\"b9bfdfc6-eebc-4c62-bc64-490ac6937b8f\")>,\n",
       " <selenium.webdriver.remote.webelement.WebElement (session=\"5672c2df727a8d1bdfa4505c42b3feea\", element=\"38abd979-2fd2-4102-ac05-0b2ec220855c\")>,\n",
       " <selenium.webdriver.remote.webelement.WebElement (session=\"5672c2df727a8d1bdfa4505c42b3feea\", element=\"eca434f2-c770-47ac-b31a-ada2bd57d5ea\")>,\n",
       " <selenium.webdriver.remote.webelement.WebElement (session=\"5672c2df727a8d1bdfa4505c42b3feea\", element=\"ad426bd5-2010-4dc8-a41e-987680f2d986\")>,\n",
       " <selenium.webdriver.remote.webelement.WebElement (session=\"5672c2df727a8d1bdfa4505c42b3feea\", element=\"b3ef8ff1-930b-4761-8494-9ee1a26553ef\")>,\n",
       " <selenium.webdriver.remote.webelement.WebElement (session=\"5672c2df727a8d1bdfa4505c42b3feea\", element=\"7cae2610-e466-4473-8e9a-4dfc68cdd018\")>,\n",
       " <selenium.webdriver.remote.webelement.WebElement (session=\"5672c2df727a8d1bdfa4505c42b3feea\", element=\"1868b9e9-e56c-4f95-8930-3942fcb8b3ef\")>,\n",
       " <selenium.webdriver.remote.webelement.WebElement (session=\"5672c2df727a8d1bdfa4505c42b3feea\", element=\"767f323e-f52d-4708-a96a-67dd9ac6cf8b\")>,\n",
       " <selenium.webdriver.remote.webelement.WebElement (session=\"5672c2df727a8d1bdfa4505c42b3feea\", element=\"21c39a83-9733-4d9c-9eca-ff15efc7a15a\")>,\n",
       " <selenium.webdriver.remote.webelement.WebElement (session=\"5672c2df727a8d1bdfa4505c42b3feea\", element=\"ce6b0603-d623-4f7c-9469-b37db2e55f98\")>,\n",
       " <selenium.webdriver.remote.webelement.WebElement (session=\"5672c2df727a8d1bdfa4505c42b3feea\", element=\"94b7b823-834a-40ed-bf02-c43100aa42ae\")>,\n",
       " <selenium.webdriver.remote.webelement.WebElement (session=\"5672c2df727a8d1bdfa4505c42b3feea\", element=\"b1792deb-71ec-41a6-8429-1d883bdf335a\")>,\n",
       " <selenium.webdriver.remote.webelement.WebElement (session=\"5672c2df727a8d1bdfa4505c42b3feea\", element=\"7842f53a-1f28-4c5a-912e-70d056d85084\")>,\n",
       " <selenium.webdriver.remote.webelement.WebElement (session=\"5672c2df727a8d1bdfa4505c42b3feea\", element=\"494b2725-908d-4407-a00c-e7113153b025\")>,\n",
       " <selenium.webdriver.remote.webelement.WebElement (session=\"5672c2df727a8d1bdfa4505c42b3feea\", element=\"9da5d0d3-8198-4a9f-b6a9-8f8acf966593\")>,\n",
       " <selenium.webdriver.remote.webelement.WebElement (session=\"5672c2df727a8d1bdfa4505c42b3feea\", element=\"1fe92353-56cc-46c9-bdc6-3542e643b755\")>,\n",
       " <selenium.webdriver.remote.webelement.WebElement (session=\"5672c2df727a8d1bdfa4505c42b3feea\", element=\"ef71ad39-ac63-45c6-806b-ce45a0be8943\")>,\n",
       " <selenium.webdriver.remote.webelement.WebElement (session=\"5672c2df727a8d1bdfa4505c42b3feea\", element=\"f0807fc7-5377-4a61-8b0e-19de3328be29\")>,\n",
       " <selenium.webdriver.remote.webelement.WebElement (session=\"5672c2df727a8d1bdfa4505c42b3feea\", element=\"99ecba78-5396-4265-b568-77652d7e434f\")>,\n",
       " <selenium.webdriver.remote.webelement.WebElement (session=\"5672c2df727a8d1bdfa4505c42b3feea\", element=\"8a729003-5b7e-4308-9b18-4e6e8008b98d\")>,\n",
       " <selenium.webdriver.remote.webelement.WebElement (session=\"5672c2df727a8d1bdfa4505c42b3feea\", element=\"f15ed165-3f9f-416d-b8d9-9f3d99b4e76f\")>,\n",
       " <selenium.webdriver.remote.webelement.WebElement (session=\"5672c2df727a8d1bdfa4505c42b3feea\", element=\"6f211f1a-9883-4c4d-ad8c-ce4c6220d418\")>,\n",
       " <selenium.webdriver.remote.webelement.WebElement (session=\"5672c2df727a8d1bdfa4505c42b3feea\", element=\"46fdf1f2-59c9-461f-964b-1194fdfdd45c\")>,\n",
       " <selenium.webdriver.remote.webelement.WebElement (session=\"5672c2df727a8d1bdfa4505c42b3feea\", element=\"e0e8b0b3-28c4-4404-baf1-ccb26d470e81\")>,\n",
       " <selenium.webdriver.remote.webelement.WebElement (session=\"5672c2df727a8d1bdfa4505c42b3feea\", element=\"43cbd2b4-46bb-4f8e-b444-7feab4938f72\")>,\n",
       " <selenium.webdriver.remote.webelement.WebElement (session=\"5672c2df727a8d1bdfa4505c42b3feea\", element=\"8ce68921-cafa-4173-9ef3-dd9d2849c21d\")>,\n",
       " <selenium.webdriver.remote.webelement.WebElement (session=\"5672c2df727a8d1bdfa4505c42b3feea\", element=\"1629cb0d-8d26-4fa0-9c40-02f4f7d615d6\")>,\n",
       " <selenium.webdriver.remote.webelement.WebElement (session=\"5672c2df727a8d1bdfa4505c42b3feea\", element=\"aebbf6ed-02d0-4bc9-a9b9-9d536a5802c7\")>,\n",
       " <selenium.webdriver.remote.webelement.WebElement (session=\"5672c2df727a8d1bdfa4505c42b3feea\", element=\"d7a452c3-983d-49ed-9231-9235e26c9873\")>,\n",
       " <selenium.webdriver.remote.webelement.WebElement (session=\"5672c2df727a8d1bdfa4505c42b3feea\", element=\"49e13898-d3cc-409e-adbe-93eaf6d2ea80\")>,\n",
       " <selenium.webdriver.remote.webelement.WebElement (session=\"5672c2df727a8d1bdfa4505c42b3feea\", element=\"c81d63d4-a992-47df-843f-accbcfd597e2\")>,\n",
       " <selenium.webdriver.remote.webelement.WebElement (session=\"5672c2df727a8d1bdfa4505c42b3feea\", element=\"3b4faf64-810a-4d32-beb9-368da551a050\")>,\n",
       " <selenium.webdriver.remote.webelement.WebElement (session=\"5672c2df727a8d1bdfa4505c42b3feea\", element=\"beea9fef-5c86-4b24-992b-2b16c67b4e37\")>,\n",
       " <selenium.webdriver.remote.webelement.WebElement (session=\"5672c2df727a8d1bdfa4505c42b3feea\", element=\"4f6ddf79-3765-474c-bac3-39e380e9446e\")>,\n",
       " <selenium.webdriver.remote.webelement.WebElement (session=\"5672c2df727a8d1bdfa4505c42b3feea\", element=\"18244389-7d6c-4bbe-b1ae-58dbd10fbcb6\")>,\n",
       " <selenium.webdriver.remote.webelement.WebElement (session=\"5672c2df727a8d1bdfa4505c42b3feea\", element=\"a92aa79a-7662-4e91-a46a-e5d65dcb270e\")>,\n",
       " <selenium.webdriver.remote.webelement.WebElement (session=\"5672c2df727a8d1bdfa4505c42b3feea\", element=\"e532bdf5-c802-4dfb-ae4c-59402b9e8a2c\")>,\n",
       " <selenium.webdriver.remote.webelement.WebElement (session=\"5672c2df727a8d1bdfa4505c42b3feea\", element=\"ee8b3b48-dce3-489f-b658-72eb6dedaaa8\")>,\n",
       " <selenium.webdriver.remote.webelement.WebElement (session=\"5672c2df727a8d1bdfa4505c42b3feea\", element=\"3d34f39a-781f-453b-91f2-883686d75818\")>,\n",
       " <selenium.webdriver.remote.webelement.WebElement (session=\"5672c2df727a8d1bdfa4505c42b3feea\", element=\"abf54151-a795-480c-8dde-a4c863735752\")>,\n",
       " <selenium.webdriver.remote.webelement.WebElement (session=\"5672c2df727a8d1bdfa4505c42b3feea\", element=\"b9bfdfc6-eebc-4c62-bc64-490ac6937b8f\")>,\n",
       " <selenium.webdriver.remote.webelement.WebElement (session=\"5672c2df727a8d1bdfa4505c42b3feea\", element=\"38abd979-2fd2-4102-ac05-0b2ec220855c\")>,\n",
       " <selenium.webdriver.remote.webelement.WebElement (session=\"5672c2df727a8d1bdfa4505c42b3feea\", element=\"eca434f2-c770-47ac-b31a-ada2bd57d5ea\")>,\n",
       " <selenium.webdriver.remote.webelement.WebElement (session=\"5672c2df727a8d1bdfa4505c42b3feea\", element=\"ad426bd5-2010-4dc8-a41e-987680f2d986\")>,\n",
       " <selenium.webdriver.remote.webelement.WebElement (session=\"5672c2df727a8d1bdfa4505c42b3feea\", element=\"b3ef8ff1-930b-4761-8494-9ee1a26553ef\")>,\n",
       " <selenium.webdriver.remote.webelement.WebElement (session=\"5672c2df727a8d1bdfa4505c42b3feea\", element=\"7cae2610-e466-4473-8e9a-4dfc68cdd018\")>,\n",
       " <selenium.webdriver.remote.webelement.WebElement (session=\"5672c2df727a8d1bdfa4505c42b3feea\", element=\"1868b9e9-e56c-4f95-8930-3942fcb8b3ef\")>,\n",
       " <selenium.webdriver.remote.webelement.WebElement (session=\"5672c2df727a8d1bdfa4505c42b3feea\", element=\"767f323e-f52d-4708-a96a-67dd9ac6cf8b\")>,\n",
       " <selenium.webdriver.remote.webelement.WebElement (session=\"5672c2df727a8d1bdfa4505c42b3feea\", element=\"21c39a83-9733-4d9c-9eca-ff15efc7a15a\")>,\n",
       " <selenium.webdriver.remote.webelement.WebElement (session=\"5672c2df727a8d1bdfa4505c42b3feea\", element=\"ce6b0603-d623-4f7c-9469-b37db2e55f98\")>,\n",
       " <selenium.webdriver.remote.webelement.WebElement (session=\"5672c2df727a8d1bdfa4505c42b3feea\", element=\"94b7b823-834a-40ed-bf02-c43100aa42ae\")>,\n",
       " <selenium.webdriver.remote.webelement.WebElement (session=\"5672c2df727a8d1bdfa4505c42b3feea\", element=\"b1792deb-71ec-41a6-8429-1d883bdf335a\")>,\n",
       " <selenium.webdriver.remote.webelement.WebElement (session=\"5672c2df727a8d1bdfa4505c42b3feea\", element=\"7842f53a-1f28-4c5a-912e-70d056d85084\")>,\n",
       " <selenium.webdriver.remote.webelement.WebElement (session=\"5672c2df727a8d1bdfa4505c42b3feea\", element=\"494b2725-908d-4407-a00c-e7113153b025\")>]"
      ]
     },
     "execution_count": 18,
     "metadata": {},
     "output_type": "execute_result"
    }
   ],
   "source": [
    "price_tags[0:100]"
   ]
  },
  {
   "cell_type": "markdown",
   "id": "bf4581cd",
   "metadata": {},
   "source": [
    "Now we have all the tags in which there are the product price.\n",
    "\n",
    "Now we will extract the text from these tags one by one by looping over these tags"
   ]
  },
  {
   "cell_type": "code",
   "execution_count": 19,
   "id": "a35ced35",
   "metadata": {},
   "outputs": [
    {
     "data": {
      "text/plain": [
       "['₹1,549',\n",
       " '₹449',\n",
       " '₹158',\n",
       " '₹349',\n",
       " '₹424',\n",
       " '₹209',\n",
       " '₹349',\n",
       " '₹500',\n",
       " '₹249',\n",
       " '₹424',\n",
       " '₹449',\n",
       " '₹1,849',\n",
       " '₹422',\n",
       " '₹199',\n",
       " '₹349',\n",
       " '₹1,649',\n",
       " '₹579',\n",
       " '₹349',\n",
       " '₹1,749',\n",
       " '₹424',\n",
       " '₹349',\n",
       " '₹449',\n",
       " '₹158',\n",
       " '₹549',\n",
       " '₹199',\n",
       " '₹199',\n",
       " '₹329',\n",
       " '₹670',\n",
       " '₹199',\n",
       " '₹348',\n",
       " '₹379',\n",
       " '₹1,749',\n",
       " '₹384',\n",
       " '₹534',\n",
       " '₹250',\n",
       " '₹249',\n",
       " '₹599',\n",
       " '₹424',\n",
       " '₹209',\n",
       " '₹630',\n",
       " '₹1,549',\n",
       " '₹449',\n",
       " '₹158',\n",
       " '₹349',\n",
       " '₹424',\n",
       " '₹209',\n",
       " '₹349',\n",
       " '₹500',\n",
       " '₹249',\n",
       " '₹424',\n",
       " '₹449',\n",
       " '₹1,849',\n",
       " '₹422',\n",
       " '₹199',\n",
       " '₹349',\n",
       " '₹1,649',\n",
       " '₹579',\n",
       " '₹349',\n",
       " '₹1,749',\n",
       " '₹424',\n",
       " '₹349',\n",
       " '₹449',\n",
       " '₹158',\n",
       " '₹549',\n",
       " '₹199',\n",
       " '₹199',\n",
       " '₹329',\n",
       " '₹670',\n",
       " '₹199',\n",
       " '₹348',\n",
       " '₹379',\n",
       " '₹1,749',\n",
       " '₹384',\n",
       " '₹534',\n",
       " '₹250',\n",
       " '₹249',\n",
       " '₹599',\n",
       " '₹424',\n",
       " '₹209',\n",
       " '₹630',\n",
       " '₹1,549',\n",
       " '₹449',\n",
       " '₹158',\n",
       " '₹349',\n",
       " '₹424',\n",
       " '₹209',\n",
       " '₹349',\n",
       " '₹500',\n",
       " '₹249',\n",
       " '₹424',\n",
       " '₹449',\n",
       " '₹1,849',\n",
       " '₹422',\n",
       " '₹199',\n",
       " '₹349',\n",
       " '₹1,649',\n",
       " '₹579',\n",
       " '₹349',\n",
       " '₹1,749',\n",
       " '₹424']"
      ]
     },
     "execution_count": 19,
     "metadata": {},
     "output_type": "execute_result"
    }
   ],
   "source": [
    "for i in price_tags:\n",
    "    product_price=i.text\n",
    "    price.append(product_price)\n",
    "price[0:100]"
   ]
  },
  {
   "cell_type": "markdown",
   "id": "5d659d52",
   "metadata": {},
   "source": [
    "Now we will extract all the tags where we have the product discount. Let me first show you in which tags the product discount are put on the webpage."
   ]
  },
  {
   "cell_type": "code",
   "execution_count": 20,
   "id": "3ce99627",
   "metadata": {},
   "outputs": [],
   "source": [
    "# so lets extract all the tags having the product discount\n",
    "\n",
    "discount_tags1=driver.find_elements_by_xpath(\"//div[@class='_3Ay6Sb']/span[1]\")\n",
    "\n",
    "discount_tags2=driver.find_elements_by_xpath(\"//div[@class='_3Ay6Sb']/span[1]\")\n",
    "\n",
    "discount_tags3=driver.find_elements_by_xpath(\"//div[@class='_3Ay6Sb']/span[1]\")\n",
    "\n",
    "discount_tags=discount_tags1 + discount_tags2 + discount_tags3"
   ]
  },
  {
   "cell_type": "code",
   "execution_count": 21,
   "id": "1afaeeba",
   "metadata": {},
   "outputs": [
    {
     "data": {
      "text/plain": [
       "[<selenium.webdriver.remote.webelement.WebElement (session=\"5672c2df727a8d1bdfa4505c42b3feea\", element=\"0e858901-746d-465a-bb02-1840156a4125\")>,\n",
       " <selenium.webdriver.remote.webelement.WebElement (session=\"5672c2df727a8d1bdfa4505c42b3feea\", element=\"243dffa9-19b0-41f9-b2c2-8148caa95aa3\")>,\n",
       " <selenium.webdriver.remote.webelement.WebElement (session=\"5672c2df727a8d1bdfa4505c42b3feea\", element=\"2ce8296e-a3ac-48df-947c-075b5d7cdd99\")>,\n",
       " <selenium.webdriver.remote.webelement.WebElement (session=\"5672c2df727a8d1bdfa4505c42b3feea\", element=\"7ad50491-df41-4c66-859a-6587734f61eb\")>,\n",
       " <selenium.webdriver.remote.webelement.WebElement (session=\"5672c2df727a8d1bdfa4505c42b3feea\", element=\"92620844-db15-42f8-8487-f6639bab6cd3\")>,\n",
       " <selenium.webdriver.remote.webelement.WebElement (session=\"5672c2df727a8d1bdfa4505c42b3feea\", element=\"9f821e2a-807c-46a0-99f4-e2c820f31380\")>,\n",
       " <selenium.webdriver.remote.webelement.WebElement (session=\"5672c2df727a8d1bdfa4505c42b3feea\", element=\"24a300f2-f181-4bdd-89a2-6dd6984bade2\")>,\n",
       " <selenium.webdriver.remote.webelement.WebElement (session=\"5672c2df727a8d1bdfa4505c42b3feea\", element=\"142407bf-5354-4dfa-9735-70a086982ca0\")>,\n",
       " <selenium.webdriver.remote.webelement.WebElement (session=\"5672c2df727a8d1bdfa4505c42b3feea\", element=\"4aa2bd6f-c814-4290-a8b5-764e09e30578\")>,\n",
       " <selenium.webdriver.remote.webelement.WebElement (session=\"5672c2df727a8d1bdfa4505c42b3feea\", element=\"69351a76-7c25-4f49-ada2-56bca37a1176\")>,\n",
       " <selenium.webdriver.remote.webelement.WebElement (session=\"5672c2df727a8d1bdfa4505c42b3feea\", element=\"7cb3be81-6315-4de9-a89f-b2a29c937116\")>,\n",
       " <selenium.webdriver.remote.webelement.WebElement (session=\"5672c2df727a8d1bdfa4505c42b3feea\", element=\"ac2ba09e-655c-475f-9b0c-69f939f13636\")>,\n",
       " <selenium.webdriver.remote.webelement.WebElement (session=\"5672c2df727a8d1bdfa4505c42b3feea\", element=\"1ccb2e12-571f-4d1e-a885-1c868e8aac45\")>,\n",
       " <selenium.webdriver.remote.webelement.WebElement (session=\"5672c2df727a8d1bdfa4505c42b3feea\", element=\"771bed89-1f8a-4ca6-965d-563451bb34ed\")>,\n",
       " <selenium.webdriver.remote.webelement.WebElement (session=\"5672c2df727a8d1bdfa4505c42b3feea\", element=\"d7e4b83f-37b9-4db3-a0b8-32531bf8d6b9\")>,\n",
       " <selenium.webdriver.remote.webelement.WebElement (session=\"5672c2df727a8d1bdfa4505c42b3feea\", element=\"7cc5706c-e099-4eae-a26a-89a7e4054d87\")>,\n",
       " <selenium.webdriver.remote.webelement.WebElement (session=\"5672c2df727a8d1bdfa4505c42b3feea\", element=\"3e955008-c54f-4ef1-9f55-339d66b17f76\")>,\n",
       " <selenium.webdriver.remote.webelement.WebElement (session=\"5672c2df727a8d1bdfa4505c42b3feea\", element=\"9bbaf91f-d280-4aac-8476-ec71ba7fd096\")>,\n",
       " <selenium.webdriver.remote.webelement.WebElement (session=\"5672c2df727a8d1bdfa4505c42b3feea\", element=\"aeb80c26-03ad-4ff7-8550-e8c59679f438\")>,\n",
       " <selenium.webdriver.remote.webelement.WebElement (session=\"5672c2df727a8d1bdfa4505c42b3feea\", element=\"8555eba1-5fe1-4004-83dd-c680f16d4fa8\")>,\n",
       " <selenium.webdriver.remote.webelement.WebElement (session=\"5672c2df727a8d1bdfa4505c42b3feea\", element=\"2ec2dab5-0ae0-41d2-bec3-1a58d790e90f\")>,\n",
       " <selenium.webdriver.remote.webelement.WebElement (session=\"5672c2df727a8d1bdfa4505c42b3feea\", element=\"f63b6ec1-a9e4-4597-94be-e3b243c27c16\")>,\n",
       " <selenium.webdriver.remote.webelement.WebElement (session=\"5672c2df727a8d1bdfa4505c42b3feea\", element=\"9a24617c-0b12-4f2f-a085-d52d8d5b4d05\")>,\n",
       " <selenium.webdriver.remote.webelement.WebElement (session=\"5672c2df727a8d1bdfa4505c42b3feea\", element=\"82fafcd5-1619-4304-bfb3-ea193badfc61\")>,\n",
       " <selenium.webdriver.remote.webelement.WebElement (session=\"5672c2df727a8d1bdfa4505c42b3feea\", element=\"64e3153b-6d96-4aaa-8009-3e135bd1f9e7\")>,\n",
       " <selenium.webdriver.remote.webelement.WebElement (session=\"5672c2df727a8d1bdfa4505c42b3feea\", element=\"f260f013-0ce4-4f4b-9be1-d21f37468366\")>,\n",
       " <selenium.webdriver.remote.webelement.WebElement (session=\"5672c2df727a8d1bdfa4505c42b3feea\", element=\"877f78c9-ad3d-45a0-9b2d-72abea1028bd\")>,\n",
       " <selenium.webdriver.remote.webelement.WebElement (session=\"5672c2df727a8d1bdfa4505c42b3feea\", element=\"9f62897a-478f-4e44-9997-06c35a10c60e\")>,\n",
       " <selenium.webdriver.remote.webelement.WebElement (session=\"5672c2df727a8d1bdfa4505c42b3feea\", element=\"8d5ccdad-dcab-4edb-a9c9-40defb59d45d\")>,\n",
       " <selenium.webdriver.remote.webelement.WebElement (session=\"5672c2df727a8d1bdfa4505c42b3feea\", element=\"abc3f105-d2c7-4b46-80d1-9c85d5940b13\")>,\n",
       " <selenium.webdriver.remote.webelement.WebElement (session=\"5672c2df727a8d1bdfa4505c42b3feea\", element=\"d42050bd-51cb-4de2-b79b-35ea2b6b4f55\")>,\n",
       " <selenium.webdriver.remote.webelement.WebElement (session=\"5672c2df727a8d1bdfa4505c42b3feea\", element=\"2ad29451-9b37-4646-9f64-702ec14d4e61\")>,\n",
       " <selenium.webdriver.remote.webelement.WebElement (session=\"5672c2df727a8d1bdfa4505c42b3feea\", element=\"4cbadacd-a4a4-4222-93b9-bb9a20849711\")>,\n",
       " <selenium.webdriver.remote.webelement.WebElement (session=\"5672c2df727a8d1bdfa4505c42b3feea\", element=\"9c4d73a3-fa5d-4c28-9ea5-49af08bc6cb7\")>,\n",
       " <selenium.webdriver.remote.webelement.WebElement (session=\"5672c2df727a8d1bdfa4505c42b3feea\", element=\"0f16ca81-f681-4e21-b916-c6d722114dce\")>,\n",
       " <selenium.webdriver.remote.webelement.WebElement (session=\"5672c2df727a8d1bdfa4505c42b3feea\", element=\"3c0f9eb9-6c65-484b-b84e-572f50bb7cf9\")>,\n",
       " <selenium.webdriver.remote.webelement.WebElement (session=\"5672c2df727a8d1bdfa4505c42b3feea\", element=\"caec62d6-5cea-4c4b-bb5b-0d3986112b0c\")>,\n",
       " <selenium.webdriver.remote.webelement.WebElement (session=\"5672c2df727a8d1bdfa4505c42b3feea\", element=\"2d8f67fa-1b9f-43b1-89b9-e6e685c9c6ab\")>,\n",
       " <selenium.webdriver.remote.webelement.WebElement (session=\"5672c2df727a8d1bdfa4505c42b3feea\", element=\"e58aa3a3-38d8-4aa0-8aad-6e1da6989fe8\")>,\n",
       " <selenium.webdriver.remote.webelement.WebElement (session=\"5672c2df727a8d1bdfa4505c42b3feea\", element=\"f228ae8b-6c58-4f82-914e-446dce2ace7b\")>,\n",
       " <selenium.webdriver.remote.webelement.WebElement (session=\"5672c2df727a8d1bdfa4505c42b3feea\", element=\"0e858901-746d-465a-bb02-1840156a4125\")>,\n",
       " <selenium.webdriver.remote.webelement.WebElement (session=\"5672c2df727a8d1bdfa4505c42b3feea\", element=\"243dffa9-19b0-41f9-b2c2-8148caa95aa3\")>,\n",
       " <selenium.webdriver.remote.webelement.WebElement (session=\"5672c2df727a8d1bdfa4505c42b3feea\", element=\"2ce8296e-a3ac-48df-947c-075b5d7cdd99\")>,\n",
       " <selenium.webdriver.remote.webelement.WebElement (session=\"5672c2df727a8d1bdfa4505c42b3feea\", element=\"7ad50491-df41-4c66-859a-6587734f61eb\")>,\n",
       " <selenium.webdriver.remote.webelement.WebElement (session=\"5672c2df727a8d1bdfa4505c42b3feea\", element=\"92620844-db15-42f8-8487-f6639bab6cd3\")>,\n",
       " <selenium.webdriver.remote.webelement.WebElement (session=\"5672c2df727a8d1bdfa4505c42b3feea\", element=\"9f821e2a-807c-46a0-99f4-e2c820f31380\")>,\n",
       " <selenium.webdriver.remote.webelement.WebElement (session=\"5672c2df727a8d1bdfa4505c42b3feea\", element=\"24a300f2-f181-4bdd-89a2-6dd6984bade2\")>,\n",
       " <selenium.webdriver.remote.webelement.WebElement (session=\"5672c2df727a8d1bdfa4505c42b3feea\", element=\"142407bf-5354-4dfa-9735-70a086982ca0\")>,\n",
       " <selenium.webdriver.remote.webelement.WebElement (session=\"5672c2df727a8d1bdfa4505c42b3feea\", element=\"4aa2bd6f-c814-4290-a8b5-764e09e30578\")>,\n",
       " <selenium.webdriver.remote.webelement.WebElement (session=\"5672c2df727a8d1bdfa4505c42b3feea\", element=\"69351a76-7c25-4f49-ada2-56bca37a1176\")>,\n",
       " <selenium.webdriver.remote.webelement.WebElement (session=\"5672c2df727a8d1bdfa4505c42b3feea\", element=\"7cb3be81-6315-4de9-a89f-b2a29c937116\")>,\n",
       " <selenium.webdriver.remote.webelement.WebElement (session=\"5672c2df727a8d1bdfa4505c42b3feea\", element=\"ac2ba09e-655c-475f-9b0c-69f939f13636\")>,\n",
       " <selenium.webdriver.remote.webelement.WebElement (session=\"5672c2df727a8d1bdfa4505c42b3feea\", element=\"1ccb2e12-571f-4d1e-a885-1c868e8aac45\")>,\n",
       " <selenium.webdriver.remote.webelement.WebElement (session=\"5672c2df727a8d1bdfa4505c42b3feea\", element=\"771bed89-1f8a-4ca6-965d-563451bb34ed\")>,\n",
       " <selenium.webdriver.remote.webelement.WebElement (session=\"5672c2df727a8d1bdfa4505c42b3feea\", element=\"d7e4b83f-37b9-4db3-a0b8-32531bf8d6b9\")>,\n",
       " <selenium.webdriver.remote.webelement.WebElement (session=\"5672c2df727a8d1bdfa4505c42b3feea\", element=\"7cc5706c-e099-4eae-a26a-89a7e4054d87\")>,\n",
       " <selenium.webdriver.remote.webelement.WebElement (session=\"5672c2df727a8d1bdfa4505c42b3feea\", element=\"3e955008-c54f-4ef1-9f55-339d66b17f76\")>,\n",
       " <selenium.webdriver.remote.webelement.WebElement (session=\"5672c2df727a8d1bdfa4505c42b3feea\", element=\"9bbaf91f-d280-4aac-8476-ec71ba7fd096\")>,\n",
       " <selenium.webdriver.remote.webelement.WebElement (session=\"5672c2df727a8d1bdfa4505c42b3feea\", element=\"aeb80c26-03ad-4ff7-8550-e8c59679f438\")>,\n",
       " <selenium.webdriver.remote.webelement.WebElement (session=\"5672c2df727a8d1bdfa4505c42b3feea\", element=\"8555eba1-5fe1-4004-83dd-c680f16d4fa8\")>,\n",
       " <selenium.webdriver.remote.webelement.WebElement (session=\"5672c2df727a8d1bdfa4505c42b3feea\", element=\"2ec2dab5-0ae0-41d2-bec3-1a58d790e90f\")>,\n",
       " <selenium.webdriver.remote.webelement.WebElement (session=\"5672c2df727a8d1bdfa4505c42b3feea\", element=\"f63b6ec1-a9e4-4597-94be-e3b243c27c16\")>,\n",
       " <selenium.webdriver.remote.webelement.WebElement (session=\"5672c2df727a8d1bdfa4505c42b3feea\", element=\"9a24617c-0b12-4f2f-a085-d52d8d5b4d05\")>,\n",
       " <selenium.webdriver.remote.webelement.WebElement (session=\"5672c2df727a8d1bdfa4505c42b3feea\", element=\"82fafcd5-1619-4304-bfb3-ea193badfc61\")>,\n",
       " <selenium.webdriver.remote.webelement.WebElement (session=\"5672c2df727a8d1bdfa4505c42b3feea\", element=\"64e3153b-6d96-4aaa-8009-3e135bd1f9e7\")>,\n",
       " <selenium.webdriver.remote.webelement.WebElement (session=\"5672c2df727a8d1bdfa4505c42b3feea\", element=\"f260f013-0ce4-4f4b-9be1-d21f37468366\")>,\n",
       " <selenium.webdriver.remote.webelement.WebElement (session=\"5672c2df727a8d1bdfa4505c42b3feea\", element=\"877f78c9-ad3d-45a0-9b2d-72abea1028bd\")>,\n",
       " <selenium.webdriver.remote.webelement.WebElement (session=\"5672c2df727a8d1bdfa4505c42b3feea\", element=\"9f62897a-478f-4e44-9997-06c35a10c60e\")>,\n",
       " <selenium.webdriver.remote.webelement.WebElement (session=\"5672c2df727a8d1bdfa4505c42b3feea\", element=\"8d5ccdad-dcab-4edb-a9c9-40defb59d45d\")>,\n",
       " <selenium.webdriver.remote.webelement.WebElement (session=\"5672c2df727a8d1bdfa4505c42b3feea\", element=\"abc3f105-d2c7-4b46-80d1-9c85d5940b13\")>,\n",
       " <selenium.webdriver.remote.webelement.WebElement (session=\"5672c2df727a8d1bdfa4505c42b3feea\", element=\"d42050bd-51cb-4de2-b79b-35ea2b6b4f55\")>,\n",
       " <selenium.webdriver.remote.webelement.WebElement (session=\"5672c2df727a8d1bdfa4505c42b3feea\", element=\"2ad29451-9b37-4646-9f64-702ec14d4e61\")>,\n",
       " <selenium.webdriver.remote.webelement.WebElement (session=\"5672c2df727a8d1bdfa4505c42b3feea\", element=\"4cbadacd-a4a4-4222-93b9-bb9a20849711\")>,\n",
       " <selenium.webdriver.remote.webelement.WebElement (session=\"5672c2df727a8d1bdfa4505c42b3feea\", element=\"9c4d73a3-fa5d-4c28-9ea5-49af08bc6cb7\")>,\n",
       " <selenium.webdriver.remote.webelement.WebElement (session=\"5672c2df727a8d1bdfa4505c42b3feea\", element=\"0f16ca81-f681-4e21-b916-c6d722114dce\")>,\n",
       " <selenium.webdriver.remote.webelement.WebElement (session=\"5672c2df727a8d1bdfa4505c42b3feea\", element=\"3c0f9eb9-6c65-484b-b84e-572f50bb7cf9\")>,\n",
       " <selenium.webdriver.remote.webelement.WebElement (session=\"5672c2df727a8d1bdfa4505c42b3feea\", element=\"caec62d6-5cea-4c4b-bb5b-0d3986112b0c\")>,\n",
       " <selenium.webdriver.remote.webelement.WebElement (session=\"5672c2df727a8d1bdfa4505c42b3feea\", element=\"2d8f67fa-1b9f-43b1-89b9-e6e685c9c6ab\")>,\n",
       " <selenium.webdriver.remote.webelement.WebElement (session=\"5672c2df727a8d1bdfa4505c42b3feea\", element=\"e58aa3a3-38d8-4aa0-8aad-6e1da6989fe8\")>,\n",
       " <selenium.webdriver.remote.webelement.WebElement (session=\"5672c2df727a8d1bdfa4505c42b3feea\", element=\"f228ae8b-6c58-4f82-914e-446dce2ace7b\")>,\n",
       " <selenium.webdriver.remote.webelement.WebElement (session=\"5672c2df727a8d1bdfa4505c42b3feea\", element=\"0e858901-746d-465a-bb02-1840156a4125\")>,\n",
       " <selenium.webdriver.remote.webelement.WebElement (session=\"5672c2df727a8d1bdfa4505c42b3feea\", element=\"243dffa9-19b0-41f9-b2c2-8148caa95aa3\")>,\n",
       " <selenium.webdriver.remote.webelement.WebElement (session=\"5672c2df727a8d1bdfa4505c42b3feea\", element=\"2ce8296e-a3ac-48df-947c-075b5d7cdd99\")>,\n",
       " <selenium.webdriver.remote.webelement.WebElement (session=\"5672c2df727a8d1bdfa4505c42b3feea\", element=\"7ad50491-df41-4c66-859a-6587734f61eb\")>,\n",
       " <selenium.webdriver.remote.webelement.WebElement (session=\"5672c2df727a8d1bdfa4505c42b3feea\", element=\"92620844-db15-42f8-8487-f6639bab6cd3\")>,\n",
       " <selenium.webdriver.remote.webelement.WebElement (session=\"5672c2df727a8d1bdfa4505c42b3feea\", element=\"9f821e2a-807c-46a0-99f4-e2c820f31380\")>,\n",
       " <selenium.webdriver.remote.webelement.WebElement (session=\"5672c2df727a8d1bdfa4505c42b3feea\", element=\"24a300f2-f181-4bdd-89a2-6dd6984bade2\")>,\n",
       " <selenium.webdriver.remote.webelement.WebElement (session=\"5672c2df727a8d1bdfa4505c42b3feea\", element=\"142407bf-5354-4dfa-9735-70a086982ca0\")>,\n",
       " <selenium.webdriver.remote.webelement.WebElement (session=\"5672c2df727a8d1bdfa4505c42b3feea\", element=\"4aa2bd6f-c814-4290-a8b5-764e09e30578\")>,\n",
       " <selenium.webdriver.remote.webelement.WebElement (session=\"5672c2df727a8d1bdfa4505c42b3feea\", element=\"69351a76-7c25-4f49-ada2-56bca37a1176\")>,\n",
       " <selenium.webdriver.remote.webelement.WebElement (session=\"5672c2df727a8d1bdfa4505c42b3feea\", element=\"7cb3be81-6315-4de9-a89f-b2a29c937116\")>,\n",
       " <selenium.webdriver.remote.webelement.WebElement (session=\"5672c2df727a8d1bdfa4505c42b3feea\", element=\"ac2ba09e-655c-475f-9b0c-69f939f13636\")>,\n",
       " <selenium.webdriver.remote.webelement.WebElement (session=\"5672c2df727a8d1bdfa4505c42b3feea\", element=\"1ccb2e12-571f-4d1e-a885-1c868e8aac45\")>,\n",
       " <selenium.webdriver.remote.webelement.WebElement (session=\"5672c2df727a8d1bdfa4505c42b3feea\", element=\"771bed89-1f8a-4ca6-965d-563451bb34ed\")>,\n",
       " <selenium.webdriver.remote.webelement.WebElement (session=\"5672c2df727a8d1bdfa4505c42b3feea\", element=\"d7e4b83f-37b9-4db3-a0b8-32531bf8d6b9\")>,\n",
       " <selenium.webdriver.remote.webelement.WebElement (session=\"5672c2df727a8d1bdfa4505c42b3feea\", element=\"7cc5706c-e099-4eae-a26a-89a7e4054d87\")>,\n",
       " <selenium.webdriver.remote.webelement.WebElement (session=\"5672c2df727a8d1bdfa4505c42b3feea\", element=\"3e955008-c54f-4ef1-9f55-339d66b17f76\")>,\n",
       " <selenium.webdriver.remote.webelement.WebElement (session=\"5672c2df727a8d1bdfa4505c42b3feea\", element=\"9bbaf91f-d280-4aac-8476-ec71ba7fd096\")>,\n",
       " <selenium.webdriver.remote.webelement.WebElement (session=\"5672c2df727a8d1bdfa4505c42b3feea\", element=\"aeb80c26-03ad-4ff7-8550-e8c59679f438\")>,\n",
       " <selenium.webdriver.remote.webelement.WebElement (session=\"5672c2df727a8d1bdfa4505c42b3feea\", element=\"8555eba1-5fe1-4004-83dd-c680f16d4fa8\")>,\n",
       " <selenium.webdriver.remote.webelement.WebElement (session=\"5672c2df727a8d1bdfa4505c42b3feea\", element=\"2ec2dab5-0ae0-41d2-bec3-1a58d790e90f\")>,\n",
       " <selenium.webdriver.remote.webelement.WebElement (session=\"5672c2df727a8d1bdfa4505c42b3feea\", element=\"f63b6ec1-a9e4-4597-94be-e3b243c27c16\")>,\n",
       " <selenium.webdriver.remote.webelement.WebElement (session=\"5672c2df727a8d1bdfa4505c42b3feea\", element=\"9a24617c-0b12-4f2f-a085-d52d8d5b4d05\")>,\n",
       " <selenium.webdriver.remote.webelement.WebElement (session=\"5672c2df727a8d1bdfa4505c42b3feea\", element=\"82fafcd5-1619-4304-bfb3-ea193badfc61\")>,\n",
       " <selenium.webdriver.remote.webelement.WebElement (session=\"5672c2df727a8d1bdfa4505c42b3feea\", element=\"64e3153b-6d96-4aaa-8009-3e135bd1f9e7\")>,\n",
       " <selenium.webdriver.remote.webelement.WebElement (session=\"5672c2df727a8d1bdfa4505c42b3feea\", element=\"f260f013-0ce4-4f4b-9be1-d21f37468366\")>,\n",
       " <selenium.webdriver.remote.webelement.WebElement (session=\"5672c2df727a8d1bdfa4505c42b3feea\", element=\"877f78c9-ad3d-45a0-9b2d-72abea1028bd\")>,\n",
       " <selenium.webdriver.remote.webelement.WebElement (session=\"5672c2df727a8d1bdfa4505c42b3feea\", element=\"9f62897a-478f-4e44-9997-06c35a10c60e\")>,\n",
       " <selenium.webdriver.remote.webelement.WebElement (session=\"5672c2df727a8d1bdfa4505c42b3feea\", element=\"8d5ccdad-dcab-4edb-a9c9-40defb59d45d\")>,\n",
       " <selenium.webdriver.remote.webelement.WebElement (session=\"5672c2df727a8d1bdfa4505c42b3feea\", element=\"abc3f105-d2c7-4b46-80d1-9c85d5940b13\")>,\n",
       " <selenium.webdriver.remote.webelement.WebElement (session=\"5672c2df727a8d1bdfa4505c42b3feea\", element=\"d42050bd-51cb-4de2-b79b-35ea2b6b4f55\")>,\n",
       " <selenium.webdriver.remote.webelement.WebElement (session=\"5672c2df727a8d1bdfa4505c42b3feea\", element=\"2ad29451-9b37-4646-9f64-702ec14d4e61\")>,\n",
       " <selenium.webdriver.remote.webelement.WebElement (session=\"5672c2df727a8d1bdfa4505c42b3feea\", element=\"4cbadacd-a4a4-4222-93b9-bb9a20849711\")>,\n",
       " <selenium.webdriver.remote.webelement.WebElement (session=\"5672c2df727a8d1bdfa4505c42b3feea\", element=\"9c4d73a3-fa5d-4c28-9ea5-49af08bc6cb7\")>,\n",
       " <selenium.webdriver.remote.webelement.WebElement (session=\"5672c2df727a8d1bdfa4505c42b3feea\", element=\"0f16ca81-f681-4e21-b916-c6d722114dce\")>,\n",
       " <selenium.webdriver.remote.webelement.WebElement (session=\"5672c2df727a8d1bdfa4505c42b3feea\", element=\"3c0f9eb9-6c65-484b-b84e-572f50bb7cf9\")>,\n",
       " <selenium.webdriver.remote.webelement.WebElement (session=\"5672c2df727a8d1bdfa4505c42b3feea\", element=\"caec62d6-5cea-4c4b-bb5b-0d3986112b0c\")>,\n",
       " <selenium.webdriver.remote.webelement.WebElement (session=\"5672c2df727a8d1bdfa4505c42b3feea\", element=\"2d8f67fa-1b9f-43b1-89b9-e6e685c9c6ab\")>,\n",
       " <selenium.webdriver.remote.webelement.WebElement (session=\"5672c2df727a8d1bdfa4505c42b3feea\", element=\"e58aa3a3-38d8-4aa0-8aad-6e1da6989fe8\")>,\n",
       " <selenium.webdriver.remote.webelement.WebElement (session=\"5672c2df727a8d1bdfa4505c42b3feea\", element=\"f228ae8b-6c58-4f82-914e-446dce2ace7b\")>]"
      ]
     },
     "execution_count": 21,
     "metadata": {},
     "output_type": "execute_result"
    }
   ],
   "source": [
    "discount_tags"
   ]
  },
  {
   "cell_type": "markdown",
   "id": "f926c056",
   "metadata": {},
   "source": [
    "Now we have all the tags in which there are the product discount.\n",
    "\n",
    "Now we will extract the text from these tags one by one by looping over these tags"
   ]
  },
  {
   "cell_type": "code",
   "execution_count": 22,
   "id": "4084ef3d",
   "metadata": {},
   "outputs": [
    {
     "data": {
      "text/plain": [
       "['53% off',\n",
       " '77% off',\n",
       " '84% off',\n",
       " '65% off',\n",
       " '71% off',\n",
       " '73% off',\n",
       " '82% off',\n",
       " '74% off',\n",
       " '80% off',\n",
       " '57% off',\n",
       " '77% off',\n",
       " '52% off',\n",
       " '57% off',\n",
       " '60% off',\n",
       " '47% off',\n",
       " '50% off',\n",
       " '74% off',\n",
       " '82% off',\n",
       " '41% off',\n",
       " '78% off',\n",
       " '65% off',\n",
       " '55% off',\n",
       " '73% off',\n",
       " '72% off',\n",
       " '60% off',\n",
       " '60% off',\n",
       " '67% off',\n",
       " '32% off',\n",
       " '60% off',\n",
       " '65% off',\n",
       " '62% off',\n",
       " '46% off',\n",
       " '61% off',\n",
       " '46% off',\n",
       " '60% off',\n",
       " '75% off',\n",
       " '60% off',\n",
       " '71% off',\n",
       " '58% off',\n",
       " '36% off',\n",
       " '53% off',\n",
       " '77% off',\n",
       " '84% off',\n",
       " '65% off',\n",
       " '71% off',\n",
       " '73% off',\n",
       " '82% off',\n",
       " '74% off',\n",
       " '80% off',\n",
       " '57% off',\n",
       " '77% off',\n",
       " '52% off',\n",
       " '57% off',\n",
       " '60% off',\n",
       " '47% off',\n",
       " '50% off',\n",
       " '74% off',\n",
       " '82% off',\n",
       " '41% off',\n",
       " '78% off',\n",
       " '65% off',\n",
       " '55% off',\n",
       " '73% off',\n",
       " '72% off',\n",
       " '60% off',\n",
       " '60% off',\n",
       " '67% off',\n",
       " '32% off',\n",
       " '60% off',\n",
       " '65% off',\n",
       " '62% off',\n",
       " '46% off',\n",
       " '61% off',\n",
       " '46% off',\n",
       " '60% off',\n",
       " '75% off',\n",
       " '60% off',\n",
       " '71% off',\n",
       " '58% off',\n",
       " '36% off',\n",
       " '53% off',\n",
       " '77% off',\n",
       " '84% off',\n",
       " '65% off',\n",
       " '71% off',\n",
       " '73% off',\n",
       " '82% off',\n",
       " '74% off',\n",
       " '80% off',\n",
       " '57% off',\n",
       " '77% off',\n",
       " '52% off',\n",
       " '57% off',\n",
       " '60% off',\n",
       " '47% off',\n",
       " '50% off',\n",
       " '74% off',\n",
       " '82% off',\n",
       " '41% off',\n",
       " '78% off']"
      ]
     },
     "execution_count": 22,
     "metadata": {},
     "output_type": "execute_result"
    }
   ],
   "source": [
    "for i in discount_tags:\n",
    "    product_discount=i.text\n",
    "    discount.append(product_discount)\n",
    "discount[0:100]"
   ]
  },
  {
   "cell_type": "code",
   "execution_count": null,
   "id": "dab68345",
   "metadata": {},
   "outputs": [],
   "source": []
  },
  {
   "cell_type": "markdown",
   "id": "49ce4470",
   "metadata": {},
   "source": [
    "Q7: Go to the link - https://www.myntra.com/shoes\n",
    "Set Price filter to “Rs. 7149 to Rs. 14099 ” , Color filter to “Black”, as shown inthe below image.\n",
    "\n",
    "And then scrape First 100 shoes data you get. The data should include “Brand” of the shoes , Short Shoe description, price of the shoe as shown in the below image.\n",
    "\n",
    "Ans :-"
   ]
  },
  {
   "cell_type": "code",
   "execution_count": 26,
   "id": "91dda64e",
   "metadata": {},
   "outputs": [],
   "source": [
    "# lets first connect to the web driver\n",
    "driver = webdriver.Chrome(r\"C:\\Users\\JAYASHRI\\Downloads\\chromedriver_win32\\chromedriver.exe\")"
   ]
  },
  {
   "cell_type": "code",
   "execution_count": 27,
   "id": "4da00233",
   "metadata": {},
   "outputs": [],
   "source": [
    "driver=webdriver.Chrome(\"chromedriver.exe\")\n",
    "time.sleep(2)"
   ]
  },
  {
   "cell_type": "code",
   "execution_count": 28,
   "id": "cb77d6f5",
   "metadata": {},
   "outputs": [],
   "source": [
    "driver.get('https://www.myntra.com/shoes')"
   ]
  },
  {
   "cell_type": "code",
   "execution_count": 29,
   "id": "309482ab",
   "metadata": {},
   "outputs": [],
   "source": [
    "#specifying the url of the webpage to be scraped\n",
    "url=\"https://www.myntra.com/shoes?f=Color%3ABlack_36454f&rf=Price%3A7187.0_14125.0_7187.0%20TO%2014125.0\""
   ]
  },
  {
   "cell_type": "code",
   "execution_count": 30,
   "id": "b9cec2ce",
   "metadata": {},
   "outputs": [],
   "source": [
    "driver.get(url)"
   ]
  },
  {
   "cell_type": "markdown",
   "id": "6bb7ad12",
   "metadata": {},
   "source": [
    "Now we will see in the window opened by webdriver whether the webpage has opened or not. Lets check it\n",
    "\n",
    "So, now lets first create 3 empty list. In these list the data will be stored while scraping. We have created 3 empty lists for 3 features which we have to exract\n",
    "\n",
    "1.Brand\n",
    "\n",
    "2.Shoe Description\n",
    "\n",
    "3.Price"
   ]
  },
  {
   "cell_type": "code",
   "execution_count": 43,
   "id": "ad47ff03",
   "metadata": {},
   "outputs": [],
   "source": [
    "shoe_brand=[]\n",
    "shoe_description=[]\n",
    "shoe_price=[]"
   ]
  },
  {
   "cell_type": "markdown",
   "id": "8f95fdc2",
   "metadata": {},
   "source": [
    "First, we will extract all the tags where we have the shoe brands. Let me first show you on the webpage in which tags the shoe brands are put."
   ]
  },
  {
   "cell_type": "code",
   "execution_count": 44,
   "id": "9698b63d",
   "metadata": {},
   "outputs": [],
   "source": [
    "# so lets extract all the tags having the shoe brand\n",
    "\n",
    "brand_tags1=driver.find_elements_by_xpath(\"//div[@class='product-productMetaInfo']/h3[1]\")\n",
    "\n",
    "brand_tags2=driver.find_elements_by_xpath(\"//div[@class='product-productMetaInfo']/h3[1]\")\n",
    "\n",
    "shoe_brand_tags=brand_tags1 + brand_tags2"
   ]
  },
  {
   "cell_type": "code",
   "execution_count": 45,
   "id": "a7dfe221",
   "metadata": {},
   "outputs": [
    {
     "data": {
      "text/plain": [
       "[<selenium.webdriver.remote.webelement.WebElement (session=\"144862f178b73bdaf54486f6dfa251fc\", element=\"cf8ae047-495d-486d-bc97-985b7e5be0b5\")>,\n",
       " <selenium.webdriver.remote.webelement.WebElement (session=\"144862f178b73bdaf54486f6dfa251fc\", element=\"9517e3ab-090d-4d3e-97da-6fc89578b5b2\")>,\n",
       " <selenium.webdriver.remote.webelement.WebElement (session=\"144862f178b73bdaf54486f6dfa251fc\", element=\"4adea7a2-0875-4a30-9b2d-957ad14e0a7b\")>,\n",
       " <selenium.webdriver.remote.webelement.WebElement (session=\"144862f178b73bdaf54486f6dfa251fc\", element=\"9a8cf5fd-2f5e-488c-ae11-15fd8cfa937f\")>,\n",
       " <selenium.webdriver.remote.webelement.WebElement (session=\"144862f178b73bdaf54486f6dfa251fc\", element=\"30a51e5a-c195-46b3-8aec-064c3409bff0\")>,\n",
       " <selenium.webdriver.remote.webelement.WebElement (session=\"144862f178b73bdaf54486f6dfa251fc\", element=\"ec008775-bb13-40bb-a41c-3581279dc85f\")>,\n",
       " <selenium.webdriver.remote.webelement.WebElement (session=\"144862f178b73bdaf54486f6dfa251fc\", element=\"49798e59-a795-4cbf-a749-43fa4e09a138\")>,\n",
       " <selenium.webdriver.remote.webelement.WebElement (session=\"144862f178b73bdaf54486f6dfa251fc\", element=\"092ab831-8bc7-4741-af63-fdf55b837269\")>,\n",
       " <selenium.webdriver.remote.webelement.WebElement (session=\"144862f178b73bdaf54486f6dfa251fc\", element=\"8f813f6a-d8a9-4041-bc1d-520e3d54c0ba\")>,\n",
       " <selenium.webdriver.remote.webelement.WebElement (session=\"144862f178b73bdaf54486f6dfa251fc\", element=\"da869b3b-8647-48e7-a58c-3e3aaa3f1fc4\")>,\n",
       " <selenium.webdriver.remote.webelement.WebElement (session=\"144862f178b73bdaf54486f6dfa251fc\", element=\"eab32f70-e48c-4ec7-aefc-db31493550b9\")>,\n",
       " <selenium.webdriver.remote.webelement.WebElement (session=\"144862f178b73bdaf54486f6dfa251fc\", element=\"edf9d91b-501c-448e-a6e3-9841d154454b\")>,\n",
       " <selenium.webdriver.remote.webelement.WebElement (session=\"144862f178b73bdaf54486f6dfa251fc\", element=\"c0206635-a4e0-44e2-8a8b-ef0387556cfe\")>,\n",
       " <selenium.webdriver.remote.webelement.WebElement (session=\"144862f178b73bdaf54486f6dfa251fc\", element=\"72725701-0223-4ac3-b72a-5884c18100c7\")>,\n",
       " <selenium.webdriver.remote.webelement.WebElement (session=\"144862f178b73bdaf54486f6dfa251fc\", element=\"c7825b57-5002-4462-947a-04adf41c226e\")>,\n",
       " <selenium.webdriver.remote.webelement.WebElement (session=\"144862f178b73bdaf54486f6dfa251fc\", element=\"b2a45c23-0641-4cfa-af12-1fcb7ade1e41\")>,\n",
       " <selenium.webdriver.remote.webelement.WebElement (session=\"144862f178b73bdaf54486f6dfa251fc\", element=\"e3028123-831c-4175-a1cc-48fbb957c8d4\")>,\n",
       " <selenium.webdriver.remote.webelement.WebElement (session=\"144862f178b73bdaf54486f6dfa251fc\", element=\"5f89a612-3165-4a27-83c8-a87ec0017617\")>,\n",
       " <selenium.webdriver.remote.webelement.WebElement (session=\"144862f178b73bdaf54486f6dfa251fc\", element=\"412c67e8-4354-4c0a-a514-027aab204a2b\")>,\n",
       " <selenium.webdriver.remote.webelement.WebElement (session=\"144862f178b73bdaf54486f6dfa251fc\", element=\"dc687c15-90e9-465f-800c-8ae1fb7b68bf\")>,\n",
       " <selenium.webdriver.remote.webelement.WebElement (session=\"144862f178b73bdaf54486f6dfa251fc\", element=\"cfc5ab52-de87-4a5a-9967-78813c11ab3a\")>,\n",
       " <selenium.webdriver.remote.webelement.WebElement (session=\"144862f178b73bdaf54486f6dfa251fc\", element=\"f19e3381-df1f-4433-b3d6-3e63fca63b56\")>,\n",
       " <selenium.webdriver.remote.webelement.WebElement (session=\"144862f178b73bdaf54486f6dfa251fc\", element=\"8f90d055-a4be-42a1-a1f0-5d2e8fab765b\")>,\n",
       " <selenium.webdriver.remote.webelement.WebElement (session=\"144862f178b73bdaf54486f6dfa251fc\", element=\"186f2efd-7326-473f-83ae-172930325c0a\")>,\n",
       " <selenium.webdriver.remote.webelement.WebElement (session=\"144862f178b73bdaf54486f6dfa251fc\", element=\"b452e682-cfab-4e3a-a44a-c818a4720c8d\")>,\n",
       " <selenium.webdriver.remote.webelement.WebElement (session=\"144862f178b73bdaf54486f6dfa251fc\", element=\"a22ba1cf-e3d3-464b-802e-9745981f41ab\")>,\n",
       " <selenium.webdriver.remote.webelement.WebElement (session=\"144862f178b73bdaf54486f6dfa251fc\", element=\"1e140085-fad5-4ce0-ae09-8def65a290c7\")>,\n",
       " <selenium.webdriver.remote.webelement.WebElement (session=\"144862f178b73bdaf54486f6dfa251fc\", element=\"d786ff66-2854-4270-91d6-0cef457320cc\")>,\n",
       " <selenium.webdriver.remote.webelement.WebElement (session=\"144862f178b73bdaf54486f6dfa251fc\", element=\"3f78636d-78f7-41c6-8d54-9d99136430cc\")>,\n",
       " <selenium.webdriver.remote.webelement.WebElement (session=\"144862f178b73bdaf54486f6dfa251fc\", element=\"568683e0-c925-4364-9b41-f81ef72d4868\")>,\n",
       " <selenium.webdriver.remote.webelement.WebElement (session=\"144862f178b73bdaf54486f6dfa251fc\", element=\"1fea96ea-f4ee-43b2-a75f-fba9d92998c0\")>,\n",
       " <selenium.webdriver.remote.webelement.WebElement (session=\"144862f178b73bdaf54486f6dfa251fc\", element=\"a70d520d-2215-480a-8451-d771e461b3ee\")>,\n",
       " <selenium.webdriver.remote.webelement.WebElement (session=\"144862f178b73bdaf54486f6dfa251fc\", element=\"a0c7eac1-1114-4ad3-b7e3-c0c143c4932b\")>,\n",
       " <selenium.webdriver.remote.webelement.WebElement (session=\"144862f178b73bdaf54486f6dfa251fc\", element=\"5b764eee-8eec-4337-90e5-8997ff59e755\")>,\n",
       " <selenium.webdriver.remote.webelement.WebElement (session=\"144862f178b73bdaf54486f6dfa251fc\", element=\"2f8a8224-ebe6-4aa9-a392-0b7aab0177d3\")>,\n",
       " <selenium.webdriver.remote.webelement.WebElement (session=\"144862f178b73bdaf54486f6dfa251fc\", element=\"7c825fdc-9c3f-45a0-b36b-1fe54dac8256\")>,\n",
       " <selenium.webdriver.remote.webelement.WebElement (session=\"144862f178b73bdaf54486f6dfa251fc\", element=\"b883dfb1-83fe-4957-9031-2b6c4a4024db\")>,\n",
       " <selenium.webdriver.remote.webelement.WebElement (session=\"144862f178b73bdaf54486f6dfa251fc\", element=\"970f8576-98da-4c08-a539-28a20b747fc1\")>,\n",
       " <selenium.webdriver.remote.webelement.WebElement (session=\"144862f178b73bdaf54486f6dfa251fc\", element=\"088a6668-f236-43d7-9ff2-627a1ae50813\")>,\n",
       " <selenium.webdriver.remote.webelement.WebElement (session=\"144862f178b73bdaf54486f6dfa251fc\", element=\"40fda804-d4be-41b2-aa58-9d3591e0dfaa\")>,\n",
       " <selenium.webdriver.remote.webelement.WebElement (session=\"144862f178b73bdaf54486f6dfa251fc\", element=\"49de4452-c7e9-49b3-b42a-028ce1a959fa\")>,\n",
       " <selenium.webdriver.remote.webelement.WebElement (session=\"144862f178b73bdaf54486f6dfa251fc\", element=\"78cdacee-db75-42c1-abf7-7f674adfa421\")>,\n",
       " <selenium.webdriver.remote.webelement.WebElement (session=\"144862f178b73bdaf54486f6dfa251fc\", element=\"b66de039-754c-4ef6-afb1-e53ee49e4dd9\")>,\n",
       " <selenium.webdriver.remote.webelement.WebElement (session=\"144862f178b73bdaf54486f6dfa251fc\", element=\"c154b184-87da-421e-b7a5-aee211e3028a\")>,\n",
       " <selenium.webdriver.remote.webelement.WebElement (session=\"144862f178b73bdaf54486f6dfa251fc\", element=\"0a9cd40a-5e51-4200-805c-6b797faa9079\")>,\n",
       " <selenium.webdriver.remote.webelement.WebElement (session=\"144862f178b73bdaf54486f6dfa251fc\", element=\"04e97042-aea3-4ea9-b48d-b1f499352771\")>,\n",
       " <selenium.webdriver.remote.webelement.WebElement (session=\"144862f178b73bdaf54486f6dfa251fc\", element=\"f0b9098c-97c8-4ce2-a717-c1ffcea0a694\")>,\n",
       " <selenium.webdriver.remote.webelement.WebElement (session=\"144862f178b73bdaf54486f6dfa251fc\", element=\"77fd5963-0671-41c4-9af6-e2d2126c6627\")>,\n",
       " <selenium.webdriver.remote.webelement.WebElement (session=\"144862f178b73bdaf54486f6dfa251fc\", element=\"f1cf2b44-ebd3-4f06-9b77-f2954e0cc0c7\")>,\n",
       " <selenium.webdriver.remote.webelement.WebElement (session=\"144862f178b73bdaf54486f6dfa251fc\", element=\"bc8c69c6-6c4f-4e63-ae10-37e6551f2d50\")>,\n",
       " <selenium.webdriver.remote.webelement.WebElement (session=\"144862f178b73bdaf54486f6dfa251fc\", element=\"cf8ae047-495d-486d-bc97-985b7e5be0b5\")>,\n",
       " <selenium.webdriver.remote.webelement.WebElement (session=\"144862f178b73bdaf54486f6dfa251fc\", element=\"9517e3ab-090d-4d3e-97da-6fc89578b5b2\")>,\n",
       " <selenium.webdriver.remote.webelement.WebElement (session=\"144862f178b73bdaf54486f6dfa251fc\", element=\"4adea7a2-0875-4a30-9b2d-957ad14e0a7b\")>,\n",
       " <selenium.webdriver.remote.webelement.WebElement (session=\"144862f178b73bdaf54486f6dfa251fc\", element=\"9a8cf5fd-2f5e-488c-ae11-15fd8cfa937f\")>,\n",
       " <selenium.webdriver.remote.webelement.WebElement (session=\"144862f178b73bdaf54486f6dfa251fc\", element=\"30a51e5a-c195-46b3-8aec-064c3409bff0\")>,\n",
       " <selenium.webdriver.remote.webelement.WebElement (session=\"144862f178b73bdaf54486f6dfa251fc\", element=\"ec008775-bb13-40bb-a41c-3581279dc85f\")>,\n",
       " <selenium.webdriver.remote.webelement.WebElement (session=\"144862f178b73bdaf54486f6dfa251fc\", element=\"49798e59-a795-4cbf-a749-43fa4e09a138\")>,\n",
       " <selenium.webdriver.remote.webelement.WebElement (session=\"144862f178b73bdaf54486f6dfa251fc\", element=\"092ab831-8bc7-4741-af63-fdf55b837269\")>,\n",
       " <selenium.webdriver.remote.webelement.WebElement (session=\"144862f178b73bdaf54486f6dfa251fc\", element=\"8f813f6a-d8a9-4041-bc1d-520e3d54c0ba\")>,\n",
       " <selenium.webdriver.remote.webelement.WebElement (session=\"144862f178b73bdaf54486f6dfa251fc\", element=\"da869b3b-8647-48e7-a58c-3e3aaa3f1fc4\")>,\n",
       " <selenium.webdriver.remote.webelement.WebElement (session=\"144862f178b73bdaf54486f6dfa251fc\", element=\"eab32f70-e48c-4ec7-aefc-db31493550b9\")>,\n",
       " <selenium.webdriver.remote.webelement.WebElement (session=\"144862f178b73bdaf54486f6dfa251fc\", element=\"edf9d91b-501c-448e-a6e3-9841d154454b\")>,\n",
       " <selenium.webdriver.remote.webelement.WebElement (session=\"144862f178b73bdaf54486f6dfa251fc\", element=\"c0206635-a4e0-44e2-8a8b-ef0387556cfe\")>,\n",
       " <selenium.webdriver.remote.webelement.WebElement (session=\"144862f178b73bdaf54486f6dfa251fc\", element=\"72725701-0223-4ac3-b72a-5884c18100c7\")>,\n",
       " <selenium.webdriver.remote.webelement.WebElement (session=\"144862f178b73bdaf54486f6dfa251fc\", element=\"c7825b57-5002-4462-947a-04adf41c226e\")>,\n",
       " <selenium.webdriver.remote.webelement.WebElement (session=\"144862f178b73bdaf54486f6dfa251fc\", element=\"b2a45c23-0641-4cfa-af12-1fcb7ade1e41\")>,\n",
       " <selenium.webdriver.remote.webelement.WebElement (session=\"144862f178b73bdaf54486f6dfa251fc\", element=\"e3028123-831c-4175-a1cc-48fbb957c8d4\")>,\n",
       " <selenium.webdriver.remote.webelement.WebElement (session=\"144862f178b73bdaf54486f6dfa251fc\", element=\"5f89a612-3165-4a27-83c8-a87ec0017617\")>,\n",
       " <selenium.webdriver.remote.webelement.WebElement (session=\"144862f178b73bdaf54486f6dfa251fc\", element=\"412c67e8-4354-4c0a-a514-027aab204a2b\")>,\n",
       " <selenium.webdriver.remote.webelement.WebElement (session=\"144862f178b73bdaf54486f6dfa251fc\", element=\"dc687c15-90e9-465f-800c-8ae1fb7b68bf\")>,\n",
       " <selenium.webdriver.remote.webelement.WebElement (session=\"144862f178b73bdaf54486f6dfa251fc\", element=\"cfc5ab52-de87-4a5a-9967-78813c11ab3a\")>,\n",
       " <selenium.webdriver.remote.webelement.WebElement (session=\"144862f178b73bdaf54486f6dfa251fc\", element=\"f19e3381-df1f-4433-b3d6-3e63fca63b56\")>,\n",
       " <selenium.webdriver.remote.webelement.WebElement (session=\"144862f178b73bdaf54486f6dfa251fc\", element=\"8f90d055-a4be-42a1-a1f0-5d2e8fab765b\")>,\n",
       " <selenium.webdriver.remote.webelement.WebElement (session=\"144862f178b73bdaf54486f6dfa251fc\", element=\"186f2efd-7326-473f-83ae-172930325c0a\")>,\n",
       " <selenium.webdriver.remote.webelement.WebElement (session=\"144862f178b73bdaf54486f6dfa251fc\", element=\"b452e682-cfab-4e3a-a44a-c818a4720c8d\")>,\n",
       " <selenium.webdriver.remote.webelement.WebElement (session=\"144862f178b73bdaf54486f6dfa251fc\", element=\"a22ba1cf-e3d3-464b-802e-9745981f41ab\")>,\n",
       " <selenium.webdriver.remote.webelement.WebElement (session=\"144862f178b73bdaf54486f6dfa251fc\", element=\"1e140085-fad5-4ce0-ae09-8def65a290c7\")>,\n",
       " <selenium.webdriver.remote.webelement.WebElement (session=\"144862f178b73bdaf54486f6dfa251fc\", element=\"d786ff66-2854-4270-91d6-0cef457320cc\")>,\n",
       " <selenium.webdriver.remote.webelement.WebElement (session=\"144862f178b73bdaf54486f6dfa251fc\", element=\"3f78636d-78f7-41c6-8d54-9d99136430cc\")>,\n",
       " <selenium.webdriver.remote.webelement.WebElement (session=\"144862f178b73bdaf54486f6dfa251fc\", element=\"568683e0-c925-4364-9b41-f81ef72d4868\")>,\n",
       " <selenium.webdriver.remote.webelement.WebElement (session=\"144862f178b73bdaf54486f6dfa251fc\", element=\"1fea96ea-f4ee-43b2-a75f-fba9d92998c0\")>,\n",
       " <selenium.webdriver.remote.webelement.WebElement (session=\"144862f178b73bdaf54486f6dfa251fc\", element=\"a70d520d-2215-480a-8451-d771e461b3ee\")>,\n",
       " <selenium.webdriver.remote.webelement.WebElement (session=\"144862f178b73bdaf54486f6dfa251fc\", element=\"a0c7eac1-1114-4ad3-b7e3-c0c143c4932b\")>,\n",
       " <selenium.webdriver.remote.webelement.WebElement (session=\"144862f178b73bdaf54486f6dfa251fc\", element=\"5b764eee-8eec-4337-90e5-8997ff59e755\")>,\n",
       " <selenium.webdriver.remote.webelement.WebElement (session=\"144862f178b73bdaf54486f6dfa251fc\", element=\"2f8a8224-ebe6-4aa9-a392-0b7aab0177d3\")>,\n",
       " <selenium.webdriver.remote.webelement.WebElement (session=\"144862f178b73bdaf54486f6dfa251fc\", element=\"7c825fdc-9c3f-45a0-b36b-1fe54dac8256\")>,\n",
       " <selenium.webdriver.remote.webelement.WebElement (session=\"144862f178b73bdaf54486f6dfa251fc\", element=\"b883dfb1-83fe-4957-9031-2b6c4a4024db\")>,\n",
       " <selenium.webdriver.remote.webelement.WebElement (session=\"144862f178b73bdaf54486f6dfa251fc\", element=\"970f8576-98da-4c08-a539-28a20b747fc1\")>,\n",
       " <selenium.webdriver.remote.webelement.WebElement (session=\"144862f178b73bdaf54486f6dfa251fc\", element=\"088a6668-f236-43d7-9ff2-627a1ae50813\")>,\n",
       " <selenium.webdriver.remote.webelement.WebElement (session=\"144862f178b73bdaf54486f6dfa251fc\", element=\"40fda804-d4be-41b2-aa58-9d3591e0dfaa\")>,\n",
       " <selenium.webdriver.remote.webelement.WebElement (session=\"144862f178b73bdaf54486f6dfa251fc\", element=\"49de4452-c7e9-49b3-b42a-028ce1a959fa\")>,\n",
       " <selenium.webdriver.remote.webelement.WebElement (session=\"144862f178b73bdaf54486f6dfa251fc\", element=\"78cdacee-db75-42c1-abf7-7f674adfa421\")>,\n",
       " <selenium.webdriver.remote.webelement.WebElement (session=\"144862f178b73bdaf54486f6dfa251fc\", element=\"b66de039-754c-4ef6-afb1-e53ee49e4dd9\")>,\n",
       " <selenium.webdriver.remote.webelement.WebElement (session=\"144862f178b73bdaf54486f6dfa251fc\", element=\"c154b184-87da-421e-b7a5-aee211e3028a\")>,\n",
       " <selenium.webdriver.remote.webelement.WebElement (session=\"144862f178b73bdaf54486f6dfa251fc\", element=\"0a9cd40a-5e51-4200-805c-6b797faa9079\")>,\n",
       " <selenium.webdriver.remote.webelement.WebElement (session=\"144862f178b73bdaf54486f6dfa251fc\", element=\"04e97042-aea3-4ea9-b48d-b1f499352771\")>,\n",
       " <selenium.webdriver.remote.webelement.WebElement (session=\"144862f178b73bdaf54486f6dfa251fc\", element=\"f0b9098c-97c8-4ce2-a717-c1ffcea0a694\")>,\n",
       " <selenium.webdriver.remote.webelement.WebElement (session=\"144862f178b73bdaf54486f6dfa251fc\", element=\"77fd5963-0671-41c4-9af6-e2d2126c6627\")>,\n",
       " <selenium.webdriver.remote.webelement.WebElement (session=\"144862f178b73bdaf54486f6dfa251fc\", element=\"f1cf2b44-ebd3-4f06-9b77-f2954e0cc0c7\")>,\n",
       " <selenium.webdriver.remote.webelement.WebElement (session=\"144862f178b73bdaf54486f6dfa251fc\", element=\"bc8c69c6-6c4f-4e63-ae10-37e6551f2d50\")>]"
      ]
     },
     "execution_count": 45,
     "metadata": {},
     "output_type": "execute_result"
    }
   ],
   "source": [
    "shoe_brand_tags[0:100]"
   ]
  },
  {
   "cell_type": "markdown",
   "id": "5fed6056",
   "metadata": {},
   "source": [
    "Now we have all the tags in which there are the shoe brands\n",
    "\n",
    "Now we will extract the text from these tags one by one by looping over these tags"
   ]
  },
  {
   "cell_type": "code",
   "execution_count": 46,
   "id": "ccf5ffec",
   "metadata": {},
   "outputs": [
    {
     "data": {
      "text/plain": [
       "['Nike',\n",
       " 'Hush Puppies',\n",
       " 'Nike',\n",
       " 'ALDO',\n",
       " 'Nike',\n",
       " 'Puma',\n",
       " 'one8 x PUMA',\n",
       " 'ADIDAS',\n",
       " 'ALDO',\n",
       " 'UNDER ARMOUR',\n",
       " 'Skechers',\n",
       " 'UNDER ARMOUR',\n",
       " 'ADIDAS',\n",
       " 'ALDO',\n",
       " 'ALDO',\n",
       " 'Reebok',\n",
       " 'ALDO',\n",
       " 'Hush Puppies',\n",
       " 'PUMA Motorsport',\n",
       " 'PUMA Motorsport',\n",
       " 'Nike',\n",
       " 'Skechers',\n",
       " 'Bugatti',\n",
       " 'ADIDAS Originals',\n",
       " 'Nike',\n",
       " 'Skechers',\n",
       " 'Puma',\n",
       " 'Columbia',\n",
       " 'ADIDAS Originals',\n",
       " 'Puma',\n",
       " 'Skechers',\n",
       " 'Puma',\n",
       " 'Puma',\n",
       " 'Puma',\n",
       " 'ADIDAS',\n",
       " 'Bugatti',\n",
       " 'ADIDAS',\n",
       " 'Tommy Hilfiger',\n",
       " 'Puma',\n",
       " 'Puma',\n",
       " 'Hush Puppies',\n",
       " 'Puma',\n",
       " 'DAVINCHI',\n",
       " 'DEL MONDO',\n",
       " 'Bugatti',\n",
       " 'Hush Puppies',\n",
       " 'Tommy Hilfiger',\n",
       " 'Bugatti',\n",
       " 'Hush Puppies',\n",
       " 'Geox',\n",
       " 'Nike',\n",
       " 'Hush Puppies',\n",
       " 'Nike',\n",
       " 'ALDO',\n",
       " 'Nike',\n",
       " 'Puma',\n",
       " 'one8 x PUMA',\n",
       " 'ADIDAS',\n",
       " 'ALDO',\n",
       " 'UNDER ARMOUR',\n",
       " 'Skechers',\n",
       " 'UNDER ARMOUR',\n",
       " 'ADIDAS',\n",
       " 'ALDO',\n",
       " 'ALDO',\n",
       " 'Reebok',\n",
       " 'ALDO',\n",
       " 'Hush Puppies',\n",
       " 'PUMA Motorsport',\n",
       " 'PUMA Motorsport',\n",
       " 'Nike',\n",
       " 'Skechers',\n",
       " 'Bugatti',\n",
       " 'ADIDAS Originals',\n",
       " 'Nike',\n",
       " 'Skechers',\n",
       " 'Puma',\n",
       " 'Columbia',\n",
       " 'ADIDAS Originals',\n",
       " 'Puma',\n",
       " 'Skechers',\n",
       " 'Puma',\n",
       " 'Puma',\n",
       " 'Puma',\n",
       " 'ADIDAS',\n",
       " 'Bugatti',\n",
       " 'ADIDAS',\n",
       " 'Tommy Hilfiger',\n",
       " 'Puma',\n",
       " 'Puma',\n",
       " 'Hush Puppies',\n",
       " 'Puma',\n",
       " 'DAVINCHI',\n",
       " 'DEL MONDO',\n",
       " 'Bugatti',\n",
       " 'Hush Puppies',\n",
       " 'Tommy Hilfiger',\n",
       " 'Bugatti',\n",
       " 'Hush Puppies',\n",
       " 'Geox']"
      ]
     },
     "execution_count": 46,
     "metadata": {},
     "output_type": "execute_result"
    }
   ],
   "source": [
    "# Now the text of the brand is inside the tags extracted above\n",
    "\n",
    "# so we will run a loop to iterate over the tags extracted above \n",
    "\n",
    "for i in shoe_brand_tags:\n",
    "    brand=i.text\n",
    "    shoe_brand.append(brand)\n",
    "shoe_brand[0:100]"
   ]
  },
  {
   "cell_type": "markdown",
   "id": "e04ef16c",
   "metadata": {},
   "source": [
    "Now we will extract all the tags where we have the shoe description. Let me first show you in which tags the shoe description are put on the webpage."
   ]
  },
  {
   "cell_type": "code",
   "execution_count": 47,
   "id": "7af23b0a",
   "metadata": {},
   "outputs": [],
   "source": [
    "# so lets extract all the tags having the shoe description\n",
    "\n",
    "description_tags1=driver.find_elements_by_xpath(\"//div[@class='product-productMetaInfo']/h4[1]\")\n",
    "\n",
    "description_tags2=driver.find_elements_by_xpath(\"//div[@class='product-productMetaInfo']/h4[1]\")\n",
    "\n",
    "shoe_description_tags=description_tags1 + description_tags2"
   ]
  },
  {
   "cell_type": "code",
   "execution_count": 48,
   "id": "8b115282",
   "metadata": {},
   "outputs": [
    {
     "data": {
      "text/plain": [
       "[<selenium.webdriver.remote.webelement.WebElement (session=\"144862f178b73bdaf54486f6dfa251fc\", element=\"9e0ba6d6-0248-4aee-b03e-d3e7515dd436\")>,\n",
       " <selenium.webdriver.remote.webelement.WebElement (session=\"144862f178b73bdaf54486f6dfa251fc\", element=\"328adf3f-b0c0-4b8f-adc6-d29a3321e460\")>,\n",
       " <selenium.webdriver.remote.webelement.WebElement (session=\"144862f178b73bdaf54486f6dfa251fc\", element=\"9b3bd088-897c-4c97-8c4f-cdada5208a63\")>,\n",
       " <selenium.webdriver.remote.webelement.WebElement (session=\"144862f178b73bdaf54486f6dfa251fc\", element=\"e1466e5e-c057-46b9-b41a-9f43d195aa26\")>,\n",
       " <selenium.webdriver.remote.webelement.WebElement (session=\"144862f178b73bdaf54486f6dfa251fc\", element=\"a16acf9d-ac92-4074-9b6b-4f2178402932\")>,\n",
       " <selenium.webdriver.remote.webelement.WebElement (session=\"144862f178b73bdaf54486f6dfa251fc\", element=\"41a9704b-cbef-43d4-b7fd-f19bf706cd70\")>,\n",
       " <selenium.webdriver.remote.webelement.WebElement (session=\"144862f178b73bdaf54486f6dfa251fc\", element=\"fc0ae578-a6d0-4f93-829b-5b8c0a83057e\")>,\n",
       " <selenium.webdriver.remote.webelement.WebElement (session=\"144862f178b73bdaf54486f6dfa251fc\", element=\"20a454e0-9584-4ce5-8174-26a802dd0ad4\")>,\n",
       " <selenium.webdriver.remote.webelement.WebElement (session=\"144862f178b73bdaf54486f6dfa251fc\", element=\"18036294-db18-490d-9321-0cdd3e0b12f8\")>,\n",
       " <selenium.webdriver.remote.webelement.WebElement (session=\"144862f178b73bdaf54486f6dfa251fc\", element=\"a96541e3-cdcc-4ad8-a57d-0126e22c87bc\")>,\n",
       " <selenium.webdriver.remote.webelement.WebElement (session=\"144862f178b73bdaf54486f6dfa251fc\", element=\"b3f618af-086d-4e3b-a6fc-1f07246b5441\")>,\n",
       " <selenium.webdriver.remote.webelement.WebElement (session=\"144862f178b73bdaf54486f6dfa251fc\", element=\"669dc39d-7d9d-49d3-9ba1-b6a20689f709\")>,\n",
       " <selenium.webdriver.remote.webelement.WebElement (session=\"144862f178b73bdaf54486f6dfa251fc\", element=\"fc3bde05-b897-4041-8f7c-37cba4243e8a\")>,\n",
       " <selenium.webdriver.remote.webelement.WebElement (session=\"144862f178b73bdaf54486f6dfa251fc\", element=\"9316fa71-c040-4bd6-a9cb-20fe161d078c\")>,\n",
       " <selenium.webdriver.remote.webelement.WebElement (session=\"144862f178b73bdaf54486f6dfa251fc\", element=\"a730ca4b-e446-402c-b5f8-8ff93f8d1741\")>,\n",
       " <selenium.webdriver.remote.webelement.WebElement (session=\"144862f178b73bdaf54486f6dfa251fc\", element=\"28c100ed-ea2d-4fa1-91a9-33b77b10696c\")>,\n",
       " <selenium.webdriver.remote.webelement.WebElement (session=\"144862f178b73bdaf54486f6dfa251fc\", element=\"57633918-0f09-4df9-a829-034c1400f27f\")>,\n",
       " <selenium.webdriver.remote.webelement.WebElement (session=\"144862f178b73bdaf54486f6dfa251fc\", element=\"f64b9789-1abe-4554-b3a0-59349f1a8696\")>,\n",
       " <selenium.webdriver.remote.webelement.WebElement (session=\"144862f178b73bdaf54486f6dfa251fc\", element=\"0006f1ce-2128-4a49-b1d7-53f4f8b6f8c5\")>,\n",
       " <selenium.webdriver.remote.webelement.WebElement (session=\"144862f178b73bdaf54486f6dfa251fc\", element=\"583c53ff-82ed-4978-874f-27c1fb53702c\")>,\n",
       " <selenium.webdriver.remote.webelement.WebElement (session=\"144862f178b73bdaf54486f6dfa251fc\", element=\"03d0dfa2-9997-4c5f-8561-8f126e2a8e50\")>,\n",
       " <selenium.webdriver.remote.webelement.WebElement (session=\"144862f178b73bdaf54486f6dfa251fc\", element=\"c6fa37db-8c8e-43a0-9945-325b0b0cf4e5\")>,\n",
       " <selenium.webdriver.remote.webelement.WebElement (session=\"144862f178b73bdaf54486f6dfa251fc\", element=\"d6c3be6c-389e-42b7-ac1f-e2475df9a539\")>,\n",
       " <selenium.webdriver.remote.webelement.WebElement (session=\"144862f178b73bdaf54486f6dfa251fc\", element=\"a58788fe-f56d-4850-bf19-723d1628ca39\")>,\n",
       " <selenium.webdriver.remote.webelement.WebElement (session=\"144862f178b73bdaf54486f6dfa251fc\", element=\"aa189ada-b900-44f0-af2c-ee2c01de9eda\")>,\n",
       " <selenium.webdriver.remote.webelement.WebElement (session=\"144862f178b73bdaf54486f6dfa251fc\", element=\"b91d382b-15a2-49f9-bf20-d14d044bbe88\")>,\n",
       " <selenium.webdriver.remote.webelement.WebElement (session=\"144862f178b73bdaf54486f6dfa251fc\", element=\"24c49c9e-9e99-4e92-b35b-b97ce8ae02aa\")>,\n",
       " <selenium.webdriver.remote.webelement.WebElement (session=\"144862f178b73bdaf54486f6dfa251fc\", element=\"ab03df91-dac1-4908-825f-7d640858c876\")>,\n",
       " <selenium.webdriver.remote.webelement.WebElement (session=\"144862f178b73bdaf54486f6dfa251fc\", element=\"af27e84d-eaef-4319-be8a-bc5e1685b8b9\")>,\n",
       " <selenium.webdriver.remote.webelement.WebElement (session=\"144862f178b73bdaf54486f6dfa251fc\", element=\"5e06fdcf-7ead-4568-8088-ae0413ea97a7\")>,\n",
       " <selenium.webdriver.remote.webelement.WebElement (session=\"144862f178b73bdaf54486f6dfa251fc\", element=\"d46c413a-493c-4bb2-91e2-749f46fc7cc9\")>,\n",
       " <selenium.webdriver.remote.webelement.WebElement (session=\"144862f178b73bdaf54486f6dfa251fc\", element=\"0bb54b75-71c4-4b0d-8061-ad10ed815e4d\")>,\n",
       " <selenium.webdriver.remote.webelement.WebElement (session=\"144862f178b73bdaf54486f6dfa251fc\", element=\"7312604b-c4e7-4de7-8f7c-dd91526cd3e4\")>,\n",
       " <selenium.webdriver.remote.webelement.WebElement (session=\"144862f178b73bdaf54486f6dfa251fc\", element=\"8443a7a2-a47b-43d2-9eb1-8e3f637ada65\")>,\n",
       " <selenium.webdriver.remote.webelement.WebElement (session=\"144862f178b73bdaf54486f6dfa251fc\", element=\"e5ca7c06-a1a6-4378-b753-732ddcd9b780\")>,\n",
       " <selenium.webdriver.remote.webelement.WebElement (session=\"144862f178b73bdaf54486f6dfa251fc\", element=\"20b693d7-298c-4d11-b040-34e0a79742aa\")>,\n",
       " <selenium.webdriver.remote.webelement.WebElement (session=\"144862f178b73bdaf54486f6dfa251fc\", element=\"a12170bf-6aac-4e90-a59e-b10536a2b1ca\")>,\n",
       " <selenium.webdriver.remote.webelement.WebElement (session=\"144862f178b73bdaf54486f6dfa251fc\", element=\"5720d5b8-32ea-4438-92ed-77c453635bdd\")>,\n",
       " <selenium.webdriver.remote.webelement.WebElement (session=\"144862f178b73bdaf54486f6dfa251fc\", element=\"784e549e-9648-4fb0-b92c-92ee5c67cedd\")>,\n",
       " <selenium.webdriver.remote.webelement.WebElement (session=\"144862f178b73bdaf54486f6dfa251fc\", element=\"b8586d8f-c6ae-4b74-bcb7-e42caa592a3a\")>,\n",
       " <selenium.webdriver.remote.webelement.WebElement (session=\"144862f178b73bdaf54486f6dfa251fc\", element=\"0296a793-8d9c-4a2e-8344-725b6bfb7076\")>,\n",
       " <selenium.webdriver.remote.webelement.WebElement (session=\"144862f178b73bdaf54486f6dfa251fc\", element=\"1c616a14-cf54-4138-a96e-31efee614975\")>,\n",
       " <selenium.webdriver.remote.webelement.WebElement (session=\"144862f178b73bdaf54486f6dfa251fc\", element=\"a2012519-cfe1-401f-9ad4-6c36cb22683e\")>,\n",
       " <selenium.webdriver.remote.webelement.WebElement (session=\"144862f178b73bdaf54486f6dfa251fc\", element=\"5feffa3d-9387-42dd-8766-380db1e82ab4\")>,\n",
       " <selenium.webdriver.remote.webelement.WebElement (session=\"144862f178b73bdaf54486f6dfa251fc\", element=\"44e8c909-d99e-4eff-a1e9-a762dd4fe181\")>,\n",
       " <selenium.webdriver.remote.webelement.WebElement (session=\"144862f178b73bdaf54486f6dfa251fc\", element=\"f03481b5-5b78-4731-a427-5da418f18911\")>,\n",
       " <selenium.webdriver.remote.webelement.WebElement (session=\"144862f178b73bdaf54486f6dfa251fc\", element=\"4f7e8f26-d871-43fe-a65a-11fa7192a3d3\")>,\n",
       " <selenium.webdriver.remote.webelement.WebElement (session=\"144862f178b73bdaf54486f6dfa251fc\", element=\"4ff934d6-2792-401b-8ea3-c946b10c6a4e\")>,\n",
       " <selenium.webdriver.remote.webelement.WebElement (session=\"144862f178b73bdaf54486f6dfa251fc\", element=\"4c27db75-09c2-437f-824c-3b6138d5ff10\")>,\n",
       " <selenium.webdriver.remote.webelement.WebElement (session=\"144862f178b73bdaf54486f6dfa251fc\", element=\"295e7b98-5baa-4f92-a432-e65e32c7f155\")>,\n",
       " <selenium.webdriver.remote.webelement.WebElement (session=\"144862f178b73bdaf54486f6dfa251fc\", element=\"9e0ba6d6-0248-4aee-b03e-d3e7515dd436\")>,\n",
       " <selenium.webdriver.remote.webelement.WebElement (session=\"144862f178b73bdaf54486f6dfa251fc\", element=\"328adf3f-b0c0-4b8f-adc6-d29a3321e460\")>,\n",
       " <selenium.webdriver.remote.webelement.WebElement (session=\"144862f178b73bdaf54486f6dfa251fc\", element=\"9b3bd088-897c-4c97-8c4f-cdada5208a63\")>,\n",
       " <selenium.webdriver.remote.webelement.WebElement (session=\"144862f178b73bdaf54486f6dfa251fc\", element=\"e1466e5e-c057-46b9-b41a-9f43d195aa26\")>,\n",
       " <selenium.webdriver.remote.webelement.WebElement (session=\"144862f178b73bdaf54486f6dfa251fc\", element=\"a16acf9d-ac92-4074-9b6b-4f2178402932\")>,\n",
       " <selenium.webdriver.remote.webelement.WebElement (session=\"144862f178b73bdaf54486f6dfa251fc\", element=\"41a9704b-cbef-43d4-b7fd-f19bf706cd70\")>,\n",
       " <selenium.webdriver.remote.webelement.WebElement (session=\"144862f178b73bdaf54486f6dfa251fc\", element=\"fc0ae578-a6d0-4f93-829b-5b8c0a83057e\")>,\n",
       " <selenium.webdriver.remote.webelement.WebElement (session=\"144862f178b73bdaf54486f6dfa251fc\", element=\"20a454e0-9584-4ce5-8174-26a802dd0ad4\")>,\n",
       " <selenium.webdriver.remote.webelement.WebElement (session=\"144862f178b73bdaf54486f6dfa251fc\", element=\"18036294-db18-490d-9321-0cdd3e0b12f8\")>,\n",
       " <selenium.webdriver.remote.webelement.WebElement (session=\"144862f178b73bdaf54486f6dfa251fc\", element=\"a96541e3-cdcc-4ad8-a57d-0126e22c87bc\")>,\n",
       " <selenium.webdriver.remote.webelement.WebElement (session=\"144862f178b73bdaf54486f6dfa251fc\", element=\"b3f618af-086d-4e3b-a6fc-1f07246b5441\")>,\n",
       " <selenium.webdriver.remote.webelement.WebElement (session=\"144862f178b73bdaf54486f6dfa251fc\", element=\"669dc39d-7d9d-49d3-9ba1-b6a20689f709\")>,\n",
       " <selenium.webdriver.remote.webelement.WebElement (session=\"144862f178b73bdaf54486f6dfa251fc\", element=\"fc3bde05-b897-4041-8f7c-37cba4243e8a\")>,\n",
       " <selenium.webdriver.remote.webelement.WebElement (session=\"144862f178b73bdaf54486f6dfa251fc\", element=\"9316fa71-c040-4bd6-a9cb-20fe161d078c\")>,\n",
       " <selenium.webdriver.remote.webelement.WebElement (session=\"144862f178b73bdaf54486f6dfa251fc\", element=\"a730ca4b-e446-402c-b5f8-8ff93f8d1741\")>,\n",
       " <selenium.webdriver.remote.webelement.WebElement (session=\"144862f178b73bdaf54486f6dfa251fc\", element=\"28c100ed-ea2d-4fa1-91a9-33b77b10696c\")>,\n",
       " <selenium.webdriver.remote.webelement.WebElement (session=\"144862f178b73bdaf54486f6dfa251fc\", element=\"57633918-0f09-4df9-a829-034c1400f27f\")>,\n",
       " <selenium.webdriver.remote.webelement.WebElement (session=\"144862f178b73bdaf54486f6dfa251fc\", element=\"f64b9789-1abe-4554-b3a0-59349f1a8696\")>,\n",
       " <selenium.webdriver.remote.webelement.WebElement (session=\"144862f178b73bdaf54486f6dfa251fc\", element=\"0006f1ce-2128-4a49-b1d7-53f4f8b6f8c5\")>,\n",
       " <selenium.webdriver.remote.webelement.WebElement (session=\"144862f178b73bdaf54486f6dfa251fc\", element=\"583c53ff-82ed-4978-874f-27c1fb53702c\")>,\n",
       " <selenium.webdriver.remote.webelement.WebElement (session=\"144862f178b73bdaf54486f6dfa251fc\", element=\"03d0dfa2-9997-4c5f-8561-8f126e2a8e50\")>,\n",
       " <selenium.webdriver.remote.webelement.WebElement (session=\"144862f178b73bdaf54486f6dfa251fc\", element=\"c6fa37db-8c8e-43a0-9945-325b0b0cf4e5\")>,\n",
       " <selenium.webdriver.remote.webelement.WebElement (session=\"144862f178b73bdaf54486f6dfa251fc\", element=\"d6c3be6c-389e-42b7-ac1f-e2475df9a539\")>,\n",
       " <selenium.webdriver.remote.webelement.WebElement (session=\"144862f178b73bdaf54486f6dfa251fc\", element=\"a58788fe-f56d-4850-bf19-723d1628ca39\")>,\n",
       " <selenium.webdriver.remote.webelement.WebElement (session=\"144862f178b73bdaf54486f6dfa251fc\", element=\"aa189ada-b900-44f0-af2c-ee2c01de9eda\")>,\n",
       " <selenium.webdriver.remote.webelement.WebElement (session=\"144862f178b73bdaf54486f6dfa251fc\", element=\"b91d382b-15a2-49f9-bf20-d14d044bbe88\")>,\n",
       " <selenium.webdriver.remote.webelement.WebElement (session=\"144862f178b73bdaf54486f6dfa251fc\", element=\"24c49c9e-9e99-4e92-b35b-b97ce8ae02aa\")>,\n",
       " <selenium.webdriver.remote.webelement.WebElement (session=\"144862f178b73bdaf54486f6dfa251fc\", element=\"ab03df91-dac1-4908-825f-7d640858c876\")>,\n",
       " <selenium.webdriver.remote.webelement.WebElement (session=\"144862f178b73bdaf54486f6dfa251fc\", element=\"af27e84d-eaef-4319-be8a-bc5e1685b8b9\")>,\n",
       " <selenium.webdriver.remote.webelement.WebElement (session=\"144862f178b73bdaf54486f6dfa251fc\", element=\"5e06fdcf-7ead-4568-8088-ae0413ea97a7\")>,\n",
       " <selenium.webdriver.remote.webelement.WebElement (session=\"144862f178b73bdaf54486f6dfa251fc\", element=\"d46c413a-493c-4bb2-91e2-749f46fc7cc9\")>,\n",
       " <selenium.webdriver.remote.webelement.WebElement (session=\"144862f178b73bdaf54486f6dfa251fc\", element=\"0bb54b75-71c4-4b0d-8061-ad10ed815e4d\")>,\n",
       " <selenium.webdriver.remote.webelement.WebElement (session=\"144862f178b73bdaf54486f6dfa251fc\", element=\"7312604b-c4e7-4de7-8f7c-dd91526cd3e4\")>,\n",
       " <selenium.webdriver.remote.webelement.WebElement (session=\"144862f178b73bdaf54486f6dfa251fc\", element=\"8443a7a2-a47b-43d2-9eb1-8e3f637ada65\")>,\n",
       " <selenium.webdriver.remote.webelement.WebElement (session=\"144862f178b73bdaf54486f6dfa251fc\", element=\"e5ca7c06-a1a6-4378-b753-732ddcd9b780\")>,\n",
       " <selenium.webdriver.remote.webelement.WebElement (session=\"144862f178b73bdaf54486f6dfa251fc\", element=\"20b693d7-298c-4d11-b040-34e0a79742aa\")>,\n",
       " <selenium.webdriver.remote.webelement.WebElement (session=\"144862f178b73bdaf54486f6dfa251fc\", element=\"a12170bf-6aac-4e90-a59e-b10536a2b1ca\")>,\n",
       " <selenium.webdriver.remote.webelement.WebElement (session=\"144862f178b73bdaf54486f6dfa251fc\", element=\"5720d5b8-32ea-4438-92ed-77c453635bdd\")>,\n",
       " <selenium.webdriver.remote.webelement.WebElement (session=\"144862f178b73bdaf54486f6dfa251fc\", element=\"784e549e-9648-4fb0-b92c-92ee5c67cedd\")>,\n",
       " <selenium.webdriver.remote.webelement.WebElement (session=\"144862f178b73bdaf54486f6dfa251fc\", element=\"b8586d8f-c6ae-4b74-bcb7-e42caa592a3a\")>,\n",
       " <selenium.webdriver.remote.webelement.WebElement (session=\"144862f178b73bdaf54486f6dfa251fc\", element=\"0296a793-8d9c-4a2e-8344-725b6bfb7076\")>,\n",
       " <selenium.webdriver.remote.webelement.WebElement (session=\"144862f178b73bdaf54486f6dfa251fc\", element=\"1c616a14-cf54-4138-a96e-31efee614975\")>,\n",
       " <selenium.webdriver.remote.webelement.WebElement (session=\"144862f178b73bdaf54486f6dfa251fc\", element=\"a2012519-cfe1-401f-9ad4-6c36cb22683e\")>,\n",
       " <selenium.webdriver.remote.webelement.WebElement (session=\"144862f178b73bdaf54486f6dfa251fc\", element=\"5feffa3d-9387-42dd-8766-380db1e82ab4\")>,\n",
       " <selenium.webdriver.remote.webelement.WebElement (session=\"144862f178b73bdaf54486f6dfa251fc\", element=\"44e8c909-d99e-4eff-a1e9-a762dd4fe181\")>,\n",
       " <selenium.webdriver.remote.webelement.WebElement (session=\"144862f178b73bdaf54486f6dfa251fc\", element=\"f03481b5-5b78-4731-a427-5da418f18911\")>,\n",
       " <selenium.webdriver.remote.webelement.WebElement (session=\"144862f178b73bdaf54486f6dfa251fc\", element=\"4f7e8f26-d871-43fe-a65a-11fa7192a3d3\")>,\n",
       " <selenium.webdriver.remote.webelement.WebElement (session=\"144862f178b73bdaf54486f6dfa251fc\", element=\"4ff934d6-2792-401b-8ea3-c946b10c6a4e\")>,\n",
       " <selenium.webdriver.remote.webelement.WebElement (session=\"144862f178b73bdaf54486f6dfa251fc\", element=\"4c27db75-09c2-437f-824c-3b6138d5ff10\")>,\n",
       " <selenium.webdriver.remote.webelement.WebElement (session=\"144862f178b73bdaf54486f6dfa251fc\", element=\"295e7b98-5baa-4f92-a432-e65e32c7f155\")>]"
      ]
     },
     "execution_count": 48,
     "metadata": {},
     "output_type": "execute_result"
    }
   ],
   "source": [
    "shoe_description_tags[0:100]"
   ]
  },
  {
   "cell_type": "markdown",
   "id": "198df968",
   "metadata": {},
   "source": [
    "Now we have all the tags in which there are the shoe descrption.\n",
    "\n",
    "Now we will extract the text from these tags one by one by looping over these tags"
   ]
  },
  {
   "cell_type": "code",
   "execution_count": 49,
   "id": "7eec59b7",
   "metadata": {},
   "outputs": [
    {
     "data": {
      "text/plain": [
       "['Men Winflo 7 Running Shoes',\n",
       " 'Men Solid Leather Formal Slip-Ons',\n",
       " 'Women React MR 3 Running Shoes',\n",
       " 'Men Leather Driving Shoes',\n",
       " 'Men KF 5 EP Basketball Shoes',\n",
       " 'Electrify Nitro Running Shoes',\n",
       " 'Men Fuse One8 Training Shoes',\n",
       " 'Men Dropset Training Shoes',\n",
       " 'Men Woven Design Sneakers',\n",
       " 'Men UA TriBase Reign4 Training',\n",
       " 'Men Max Cushioning Running',\n",
       " 'Men UA Charged Vantage 2 Run',\n",
       " 'Men Sl20.3 Running Shoes',\n",
       " 'Men Textured Sneakers',\n",
       " 'Men Textured Slip-On Sneakers',\n",
       " 'Men Zig Dynamica 2.0 Running',\n",
       " 'Men Leather Loafers',\n",
       " 'Men Solid Leather Formal Derbys',\n",
       " 'Ferrari X-Ray Speed Sneakers',\n",
       " 'Unisex Ferrari IONSpeed',\n",
       " 'Men Air Max Dawn Sneakers',\n",
       " 'Men Walking Shoes',\n",
       " 'Men Solid Sneakers',\n",
       " 'Men Solid Ozweego Sneakers',\n",
       " 'Men AIR MAX PRE-DAY Sneakers',\n",
       " 'Men Sky Vault Walking Shoes',\n",
       " 'Men D Nitro WTR Running Shoes',\n",
       " 'Men FACET OUTDRY Trekking Shoe',\n",
       " 'Men Solid Retropy F2 Sneakers',\n",
       " 'Eternity Nitro Running Shoes',\n",
       " 'Men MAX CUSHIONING ELITE-LUCID',\n",
       " 'Men Training or Gym Shoes',\n",
       " 'Women Kosmo Rider DC5 Sneakers',\n",
       " 'Men Running Shoes',\n",
       " 'Men Solar Glide 5 Running Shoe',\n",
       " 'Men Black Formal Derby Shoes',\n",
       " 'Women Supernova Running Shoes',\n",
       " 'Men Leather Sneakers',\n",
       " 'Men Deviate Nitro Running Shoe',\n",
       " 'Men Golf Shoes',\n",
       " 'Men Formal Derbys',\n",
       " 'Women XT FTR Training Shoes',\n",
       " 'Men Solid Leather Formal Loafers',\n",
       " 'Men Leather Sneakers',\n",
       " 'Men Leather Driving Shoes',\n",
       " 'Men Solid Leather Formal Slip-Ons',\n",
       " 'Men Textured Loafers',\n",
       " 'Men Leather Monks',\n",
       " 'Men Solid Formal Slip-Ons',\n",
       " 'Men Textured Leather Driving Shoes',\n",
       " 'Men Winflo 7 Running Shoes',\n",
       " 'Men Solid Leather Formal Slip-Ons',\n",
       " 'Women React MR 3 Running Shoes',\n",
       " 'Men Leather Driving Shoes',\n",
       " 'Men KF 5 EP Basketball Shoes',\n",
       " 'Electrify Nitro Running Shoes',\n",
       " 'Men Fuse One8 Training Shoes',\n",
       " 'Men Dropset Training Shoes',\n",
       " 'Men Woven Design Sneakers',\n",
       " 'Men UA TriBase Reign4 Training',\n",
       " 'Men Max Cushioning Running',\n",
       " 'Men UA Charged Vantage 2 Run',\n",
       " 'Men Sl20.3 Running Shoes',\n",
       " 'Men Textured Sneakers',\n",
       " 'Men Textured Slip-On Sneakers',\n",
       " 'Men Zig Dynamica 2.0 Running',\n",
       " 'Men Leather Loafers',\n",
       " 'Men Solid Leather Formal Derbys',\n",
       " 'Ferrari X-Ray Speed Sneakers',\n",
       " 'Unisex Ferrari IONSpeed',\n",
       " 'Men Air Max Dawn Sneakers',\n",
       " 'Men Walking Shoes',\n",
       " 'Men Solid Sneakers',\n",
       " 'Men Solid Ozweego Sneakers',\n",
       " 'Men AIR MAX PRE-DAY Sneakers',\n",
       " 'Men Sky Vault Walking Shoes',\n",
       " 'Men D Nitro WTR Running Shoes',\n",
       " 'Men FACET OUTDRY Trekking Shoe',\n",
       " 'Men Solid Retropy F2 Sneakers',\n",
       " 'Eternity Nitro Running Shoes',\n",
       " 'Men MAX CUSHIONING ELITE-LUCID',\n",
       " 'Men Training or Gym Shoes',\n",
       " 'Women Kosmo Rider DC5 Sneakers',\n",
       " 'Men Running Shoes',\n",
       " 'Men Solar Glide 5 Running Shoe',\n",
       " 'Men Black Formal Derby Shoes',\n",
       " 'Women Supernova Running Shoes',\n",
       " 'Men Leather Sneakers',\n",
       " 'Men Deviate Nitro Running Shoe',\n",
       " 'Men Golf Shoes',\n",
       " 'Men Formal Derbys',\n",
       " 'Women XT FTR Training Shoes',\n",
       " 'Men Solid Leather Formal Loafers',\n",
       " 'Men Leather Sneakers',\n",
       " 'Men Leather Driving Shoes',\n",
       " 'Men Solid Leather Formal Slip-Ons',\n",
       " 'Men Textured Loafers',\n",
       " 'Men Leather Monks',\n",
       " 'Men Solid Formal Slip-Ons',\n",
       " 'Men Textured Leather Driving Shoes']"
      ]
     },
     "execution_count": 49,
     "metadata": {},
     "output_type": "execute_result"
    }
   ],
   "source": [
    "for i in shoe_description_tags:\n",
    "    description=i.text\n",
    "    shoe_description.append(description)\n",
    "shoe_description[0:100]"
   ]
  },
  {
   "cell_type": "markdown",
   "id": "19bd5b48",
   "metadata": {},
   "source": [
    "Now we will extract all the tags where we have the shoe price. Let me first show you in which tags the shoe price are put on the webpage."
   ]
  },
  {
   "cell_type": "code",
   "execution_count": 50,
   "id": "13203470",
   "metadata": {},
   "outputs": [],
   "source": [
    "# so lets extract all the tags having the shoe price\n",
    "\n",
    "price_tags1=driver.find_elements_by_xpath(\"//div[@class='product-price']/span[1]\")\n",
    "\n",
    "price_tags2=driver.find_elements_by_xpath(\"//div[@class='product-price']/span[1]\")\n",
    "\n",
    "shoe_price_tags=price_tags1 + price_tags2"
   ]
  },
  {
   "cell_type": "code",
   "execution_count": 51,
   "id": "48dcde06",
   "metadata": {},
   "outputs": [
    {
     "data": {
      "text/plain": [
       "[<selenium.webdriver.remote.webelement.WebElement (session=\"144862f178b73bdaf54486f6dfa251fc\", element=\"2163afc7-9949-42f9-a715-4e13287a6048\")>,\n",
       " <selenium.webdriver.remote.webelement.WebElement (session=\"144862f178b73bdaf54486f6dfa251fc\", element=\"68f4859e-297d-459b-af5a-3165c4a64daa\")>,\n",
       " <selenium.webdriver.remote.webelement.WebElement (session=\"144862f178b73bdaf54486f6dfa251fc\", element=\"afe8c1df-e145-4e4a-8e58-43f2fed0cd78\")>,\n",
       " <selenium.webdriver.remote.webelement.WebElement (session=\"144862f178b73bdaf54486f6dfa251fc\", element=\"dc2c7bf3-dee1-4bb9-ad8e-6d148893a3a3\")>,\n",
       " <selenium.webdriver.remote.webelement.WebElement (session=\"144862f178b73bdaf54486f6dfa251fc\", element=\"be2c2e12-2ce5-4e77-8deb-ce945097b082\")>,\n",
       " <selenium.webdriver.remote.webelement.WebElement (session=\"144862f178b73bdaf54486f6dfa251fc\", element=\"ac3d5d96-bfe1-4937-8e7c-95ac9c86cade\")>,\n",
       " <selenium.webdriver.remote.webelement.WebElement (session=\"144862f178b73bdaf54486f6dfa251fc\", element=\"b3df9d6a-b0c2-48d3-8c12-887f929628f4\")>,\n",
       " <selenium.webdriver.remote.webelement.WebElement (session=\"144862f178b73bdaf54486f6dfa251fc\", element=\"d1a32158-fc14-4ae0-a372-4a024b714964\")>,\n",
       " <selenium.webdriver.remote.webelement.WebElement (session=\"144862f178b73bdaf54486f6dfa251fc\", element=\"96c0e1a1-9ac0-4150-bbcb-0439aa246011\")>,\n",
       " <selenium.webdriver.remote.webelement.WebElement (session=\"144862f178b73bdaf54486f6dfa251fc\", element=\"185984d4-6592-421f-b05a-42eb3ae596bf\")>,\n",
       " <selenium.webdriver.remote.webelement.WebElement (session=\"144862f178b73bdaf54486f6dfa251fc\", element=\"3fe51c48-5758-44a4-8435-02e9fc105b7d\")>,\n",
       " <selenium.webdriver.remote.webelement.WebElement (session=\"144862f178b73bdaf54486f6dfa251fc\", element=\"47834ef7-bbe0-4fc9-8b85-b53d6cec63cc\")>,\n",
       " <selenium.webdriver.remote.webelement.WebElement (session=\"144862f178b73bdaf54486f6dfa251fc\", element=\"b391ce08-e58a-4f82-8eae-1e372e4d0773\")>,\n",
       " <selenium.webdriver.remote.webelement.WebElement (session=\"144862f178b73bdaf54486f6dfa251fc\", element=\"e2ce20bf-aa49-4e46-b234-cc774120f786\")>,\n",
       " <selenium.webdriver.remote.webelement.WebElement (session=\"144862f178b73bdaf54486f6dfa251fc\", element=\"db2ccd70-adf1-4a6b-bde6-3b11d2e393d5\")>,\n",
       " <selenium.webdriver.remote.webelement.WebElement (session=\"144862f178b73bdaf54486f6dfa251fc\", element=\"62758e33-42f8-4cfd-a50c-b8a44c26897e\")>,\n",
       " <selenium.webdriver.remote.webelement.WebElement (session=\"144862f178b73bdaf54486f6dfa251fc\", element=\"c45b452b-6b42-492e-8553-d7770d5dc765\")>,\n",
       " <selenium.webdriver.remote.webelement.WebElement (session=\"144862f178b73bdaf54486f6dfa251fc\", element=\"9e54b67f-219a-4413-99a5-f5ea27c81aad\")>,\n",
       " <selenium.webdriver.remote.webelement.WebElement (session=\"144862f178b73bdaf54486f6dfa251fc\", element=\"ffa11c75-6b4a-4133-b781-4e4fe81c6a10\")>,\n",
       " <selenium.webdriver.remote.webelement.WebElement (session=\"144862f178b73bdaf54486f6dfa251fc\", element=\"4c75cbab-1ec7-4897-ae90-fca766992595\")>,\n",
       " <selenium.webdriver.remote.webelement.WebElement (session=\"144862f178b73bdaf54486f6dfa251fc\", element=\"765503bc-62c5-4cfe-ad1d-d2b5fae48d44\")>,\n",
       " <selenium.webdriver.remote.webelement.WebElement (session=\"144862f178b73bdaf54486f6dfa251fc\", element=\"fce8b49f-8e82-497b-a856-c0ac04492f0c\")>,\n",
       " <selenium.webdriver.remote.webelement.WebElement (session=\"144862f178b73bdaf54486f6dfa251fc\", element=\"aef2dfea-9e51-46a6-b6b2-d66146b4dc8e\")>,\n",
       " <selenium.webdriver.remote.webelement.WebElement (session=\"144862f178b73bdaf54486f6dfa251fc\", element=\"2ad56467-8e2e-43c3-84c2-6a79c39fbcc8\")>,\n",
       " <selenium.webdriver.remote.webelement.WebElement (session=\"144862f178b73bdaf54486f6dfa251fc\", element=\"cee8b20c-ccfc-48da-852c-0cbd9bad2b88\")>,\n",
       " <selenium.webdriver.remote.webelement.WebElement (session=\"144862f178b73bdaf54486f6dfa251fc\", element=\"a698a5eb-0ee4-44cc-b183-9046987999a4\")>,\n",
       " <selenium.webdriver.remote.webelement.WebElement (session=\"144862f178b73bdaf54486f6dfa251fc\", element=\"11e115ca-b53d-4438-ab53-3dad1ba6bcff\")>,\n",
       " <selenium.webdriver.remote.webelement.WebElement (session=\"144862f178b73bdaf54486f6dfa251fc\", element=\"d0c7ac43-5b69-48b1-b564-4a8ba4c11645\")>,\n",
       " <selenium.webdriver.remote.webelement.WebElement (session=\"144862f178b73bdaf54486f6dfa251fc\", element=\"fd923903-3e17-4713-b08b-6277fac3f24c\")>,\n",
       " <selenium.webdriver.remote.webelement.WebElement (session=\"144862f178b73bdaf54486f6dfa251fc\", element=\"9ea38fea-d1cd-4efe-b55a-9dc3de8f98e4\")>,\n",
       " <selenium.webdriver.remote.webelement.WebElement (session=\"144862f178b73bdaf54486f6dfa251fc\", element=\"0db4bf3e-85aa-43ca-8967-c5d1cbbf49ac\")>,\n",
       " <selenium.webdriver.remote.webelement.WebElement (session=\"144862f178b73bdaf54486f6dfa251fc\", element=\"cc9dbfd1-ecdc-4be1-a255-a3d48d6260aa\")>,\n",
       " <selenium.webdriver.remote.webelement.WebElement (session=\"144862f178b73bdaf54486f6dfa251fc\", element=\"cfb05d60-f8f4-49de-a43a-e0486dcbabbb\")>,\n",
       " <selenium.webdriver.remote.webelement.WebElement (session=\"144862f178b73bdaf54486f6dfa251fc\", element=\"71d0561f-a6e2-4531-9424-3cc6ff99a73e\")>,\n",
       " <selenium.webdriver.remote.webelement.WebElement (session=\"144862f178b73bdaf54486f6dfa251fc\", element=\"d95dbfb1-81db-4dd2-8cae-22e738b81384\")>,\n",
       " <selenium.webdriver.remote.webelement.WebElement (session=\"144862f178b73bdaf54486f6dfa251fc\", element=\"73d6fc91-a2c2-4c48-a28a-d03b23eebfb3\")>,\n",
       " <selenium.webdriver.remote.webelement.WebElement (session=\"144862f178b73bdaf54486f6dfa251fc\", element=\"855082a2-786f-4b9f-a93a-94e43779d5dc\")>,\n",
       " <selenium.webdriver.remote.webelement.WebElement (session=\"144862f178b73bdaf54486f6dfa251fc\", element=\"28c15671-da70-40f1-9b79-34f5a8c1a943\")>,\n",
       " <selenium.webdriver.remote.webelement.WebElement (session=\"144862f178b73bdaf54486f6dfa251fc\", element=\"7c028751-f6d5-4e34-a428-a76c02046abe\")>,\n",
       " <selenium.webdriver.remote.webelement.WebElement (session=\"144862f178b73bdaf54486f6dfa251fc\", element=\"32284688-21fb-42d1-8c5c-030a515d0772\")>,\n",
       " <selenium.webdriver.remote.webelement.WebElement (session=\"144862f178b73bdaf54486f6dfa251fc\", element=\"e240f9e8-0287-4449-b22a-e4b53c80eef5\")>,\n",
       " <selenium.webdriver.remote.webelement.WebElement (session=\"144862f178b73bdaf54486f6dfa251fc\", element=\"8f75d67a-181b-4df6-8a5e-3ff21f425ece\")>,\n",
       " <selenium.webdriver.remote.webelement.WebElement (session=\"144862f178b73bdaf54486f6dfa251fc\", element=\"6b63ba70-dda5-4f0e-b658-2f7051636a35\")>,\n",
       " <selenium.webdriver.remote.webelement.WebElement (session=\"144862f178b73bdaf54486f6dfa251fc\", element=\"12f3fb61-5268-4297-8d53-8892ffb57c88\")>,\n",
       " <selenium.webdriver.remote.webelement.WebElement (session=\"144862f178b73bdaf54486f6dfa251fc\", element=\"896d5b1c-088b-4191-aac4-c9f46b45069f\")>,\n",
       " <selenium.webdriver.remote.webelement.WebElement (session=\"144862f178b73bdaf54486f6dfa251fc\", element=\"d3ec09d2-6071-44ca-b0a1-6bca24fdddf2\")>,\n",
       " <selenium.webdriver.remote.webelement.WebElement (session=\"144862f178b73bdaf54486f6dfa251fc\", element=\"e9397698-e59d-4f29-89a4-909f448c00d3\")>,\n",
       " <selenium.webdriver.remote.webelement.WebElement (session=\"144862f178b73bdaf54486f6dfa251fc\", element=\"1531baec-2778-41db-bb35-500b2456e415\")>,\n",
       " <selenium.webdriver.remote.webelement.WebElement (session=\"144862f178b73bdaf54486f6dfa251fc\", element=\"df900d11-8b1a-4c4a-a3ad-218a57b11e76\")>,\n",
       " <selenium.webdriver.remote.webelement.WebElement (session=\"144862f178b73bdaf54486f6dfa251fc\", element=\"c806817a-e16f-418c-bccc-54e893c83f25\")>,\n",
       " <selenium.webdriver.remote.webelement.WebElement (session=\"144862f178b73bdaf54486f6dfa251fc\", element=\"2163afc7-9949-42f9-a715-4e13287a6048\")>,\n",
       " <selenium.webdriver.remote.webelement.WebElement (session=\"144862f178b73bdaf54486f6dfa251fc\", element=\"68f4859e-297d-459b-af5a-3165c4a64daa\")>,\n",
       " <selenium.webdriver.remote.webelement.WebElement (session=\"144862f178b73bdaf54486f6dfa251fc\", element=\"afe8c1df-e145-4e4a-8e58-43f2fed0cd78\")>,\n",
       " <selenium.webdriver.remote.webelement.WebElement (session=\"144862f178b73bdaf54486f6dfa251fc\", element=\"dc2c7bf3-dee1-4bb9-ad8e-6d148893a3a3\")>,\n",
       " <selenium.webdriver.remote.webelement.WebElement (session=\"144862f178b73bdaf54486f6dfa251fc\", element=\"be2c2e12-2ce5-4e77-8deb-ce945097b082\")>,\n",
       " <selenium.webdriver.remote.webelement.WebElement (session=\"144862f178b73bdaf54486f6dfa251fc\", element=\"ac3d5d96-bfe1-4937-8e7c-95ac9c86cade\")>,\n",
       " <selenium.webdriver.remote.webelement.WebElement (session=\"144862f178b73bdaf54486f6dfa251fc\", element=\"b3df9d6a-b0c2-48d3-8c12-887f929628f4\")>,\n",
       " <selenium.webdriver.remote.webelement.WebElement (session=\"144862f178b73bdaf54486f6dfa251fc\", element=\"d1a32158-fc14-4ae0-a372-4a024b714964\")>,\n",
       " <selenium.webdriver.remote.webelement.WebElement (session=\"144862f178b73bdaf54486f6dfa251fc\", element=\"96c0e1a1-9ac0-4150-bbcb-0439aa246011\")>,\n",
       " <selenium.webdriver.remote.webelement.WebElement (session=\"144862f178b73bdaf54486f6dfa251fc\", element=\"185984d4-6592-421f-b05a-42eb3ae596bf\")>,\n",
       " <selenium.webdriver.remote.webelement.WebElement (session=\"144862f178b73bdaf54486f6dfa251fc\", element=\"3fe51c48-5758-44a4-8435-02e9fc105b7d\")>,\n",
       " <selenium.webdriver.remote.webelement.WebElement (session=\"144862f178b73bdaf54486f6dfa251fc\", element=\"47834ef7-bbe0-4fc9-8b85-b53d6cec63cc\")>,\n",
       " <selenium.webdriver.remote.webelement.WebElement (session=\"144862f178b73bdaf54486f6dfa251fc\", element=\"b391ce08-e58a-4f82-8eae-1e372e4d0773\")>,\n",
       " <selenium.webdriver.remote.webelement.WebElement (session=\"144862f178b73bdaf54486f6dfa251fc\", element=\"e2ce20bf-aa49-4e46-b234-cc774120f786\")>,\n",
       " <selenium.webdriver.remote.webelement.WebElement (session=\"144862f178b73bdaf54486f6dfa251fc\", element=\"db2ccd70-adf1-4a6b-bde6-3b11d2e393d5\")>,\n",
       " <selenium.webdriver.remote.webelement.WebElement (session=\"144862f178b73bdaf54486f6dfa251fc\", element=\"62758e33-42f8-4cfd-a50c-b8a44c26897e\")>,\n",
       " <selenium.webdriver.remote.webelement.WebElement (session=\"144862f178b73bdaf54486f6dfa251fc\", element=\"c45b452b-6b42-492e-8553-d7770d5dc765\")>,\n",
       " <selenium.webdriver.remote.webelement.WebElement (session=\"144862f178b73bdaf54486f6dfa251fc\", element=\"9e54b67f-219a-4413-99a5-f5ea27c81aad\")>,\n",
       " <selenium.webdriver.remote.webelement.WebElement (session=\"144862f178b73bdaf54486f6dfa251fc\", element=\"ffa11c75-6b4a-4133-b781-4e4fe81c6a10\")>,\n",
       " <selenium.webdriver.remote.webelement.WebElement (session=\"144862f178b73bdaf54486f6dfa251fc\", element=\"4c75cbab-1ec7-4897-ae90-fca766992595\")>,\n",
       " <selenium.webdriver.remote.webelement.WebElement (session=\"144862f178b73bdaf54486f6dfa251fc\", element=\"765503bc-62c5-4cfe-ad1d-d2b5fae48d44\")>,\n",
       " <selenium.webdriver.remote.webelement.WebElement (session=\"144862f178b73bdaf54486f6dfa251fc\", element=\"fce8b49f-8e82-497b-a856-c0ac04492f0c\")>,\n",
       " <selenium.webdriver.remote.webelement.WebElement (session=\"144862f178b73bdaf54486f6dfa251fc\", element=\"aef2dfea-9e51-46a6-b6b2-d66146b4dc8e\")>,\n",
       " <selenium.webdriver.remote.webelement.WebElement (session=\"144862f178b73bdaf54486f6dfa251fc\", element=\"2ad56467-8e2e-43c3-84c2-6a79c39fbcc8\")>,\n",
       " <selenium.webdriver.remote.webelement.WebElement (session=\"144862f178b73bdaf54486f6dfa251fc\", element=\"cee8b20c-ccfc-48da-852c-0cbd9bad2b88\")>,\n",
       " <selenium.webdriver.remote.webelement.WebElement (session=\"144862f178b73bdaf54486f6dfa251fc\", element=\"a698a5eb-0ee4-44cc-b183-9046987999a4\")>,\n",
       " <selenium.webdriver.remote.webelement.WebElement (session=\"144862f178b73bdaf54486f6dfa251fc\", element=\"11e115ca-b53d-4438-ab53-3dad1ba6bcff\")>,\n",
       " <selenium.webdriver.remote.webelement.WebElement (session=\"144862f178b73bdaf54486f6dfa251fc\", element=\"d0c7ac43-5b69-48b1-b564-4a8ba4c11645\")>,\n",
       " <selenium.webdriver.remote.webelement.WebElement (session=\"144862f178b73bdaf54486f6dfa251fc\", element=\"fd923903-3e17-4713-b08b-6277fac3f24c\")>,\n",
       " <selenium.webdriver.remote.webelement.WebElement (session=\"144862f178b73bdaf54486f6dfa251fc\", element=\"9ea38fea-d1cd-4efe-b55a-9dc3de8f98e4\")>,\n",
       " <selenium.webdriver.remote.webelement.WebElement (session=\"144862f178b73bdaf54486f6dfa251fc\", element=\"0db4bf3e-85aa-43ca-8967-c5d1cbbf49ac\")>,\n",
       " <selenium.webdriver.remote.webelement.WebElement (session=\"144862f178b73bdaf54486f6dfa251fc\", element=\"cc9dbfd1-ecdc-4be1-a255-a3d48d6260aa\")>,\n",
       " <selenium.webdriver.remote.webelement.WebElement (session=\"144862f178b73bdaf54486f6dfa251fc\", element=\"cfb05d60-f8f4-49de-a43a-e0486dcbabbb\")>,\n",
       " <selenium.webdriver.remote.webelement.WebElement (session=\"144862f178b73bdaf54486f6dfa251fc\", element=\"71d0561f-a6e2-4531-9424-3cc6ff99a73e\")>,\n",
       " <selenium.webdriver.remote.webelement.WebElement (session=\"144862f178b73bdaf54486f6dfa251fc\", element=\"d95dbfb1-81db-4dd2-8cae-22e738b81384\")>,\n",
       " <selenium.webdriver.remote.webelement.WebElement (session=\"144862f178b73bdaf54486f6dfa251fc\", element=\"73d6fc91-a2c2-4c48-a28a-d03b23eebfb3\")>,\n",
       " <selenium.webdriver.remote.webelement.WebElement (session=\"144862f178b73bdaf54486f6dfa251fc\", element=\"855082a2-786f-4b9f-a93a-94e43779d5dc\")>,\n",
       " <selenium.webdriver.remote.webelement.WebElement (session=\"144862f178b73bdaf54486f6dfa251fc\", element=\"28c15671-da70-40f1-9b79-34f5a8c1a943\")>,\n",
       " <selenium.webdriver.remote.webelement.WebElement (session=\"144862f178b73bdaf54486f6dfa251fc\", element=\"7c028751-f6d5-4e34-a428-a76c02046abe\")>,\n",
       " <selenium.webdriver.remote.webelement.WebElement (session=\"144862f178b73bdaf54486f6dfa251fc\", element=\"32284688-21fb-42d1-8c5c-030a515d0772\")>,\n",
       " <selenium.webdriver.remote.webelement.WebElement (session=\"144862f178b73bdaf54486f6dfa251fc\", element=\"e240f9e8-0287-4449-b22a-e4b53c80eef5\")>,\n",
       " <selenium.webdriver.remote.webelement.WebElement (session=\"144862f178b73bdaf54486f6dfa251fc\", element=\"8f75d67a-181b-4df6-8a5e-3ff21f425ece\")>,\n",
       " <selenium.webdriver.remote.webelement.WebElement (session=\"144862f178b73bdaf54486f6dfa251fc\", element=\"6b63ba70-dda5-4f0e-b658-2f7051636a35\")>,\n",
       " <selenium.webdriver.remote.webelement.WebElement (session=\"144862f178b73bdaf54486f6dfa251fc\", element=\"12f3fb61-5268-4297-8d53-8892ffb57c88\")>,\n",
       " <selenium.webdriver.remote.webelement.WebElement (session=\"144862f178b73bdaf54486f6dfa251fc\", element=\"896d5b1c-088b-4191-aac4-c9f46b45069f\")>,\n",
       " <selenium.webdriver.remote.webelement.WebElement (session=\"144862f178b73bdaf54486f6dfa251fc\", element=\"d3ec09d2-6071-44ca-b0a1-6bca24fdddf2\")>,\n",
       " <selenium.webdriver.remote.webelement.WebElement (session=\"144862f178b73bdaf54486f6dfa251fc\", element=\"e9397698-e59d-4f29-89a4-909f448c00d3\")>,\n",
       " <selenium.webdriver.remote.webelement.WebElement (session=\"144862f178b73bdaf54486f6dfa251fc\", element=\"1531baec-2778-41db-bb35-500b2456e415\")>,\n",
       " <selenium.webdriver.remote.webelement.WebElement (session=\"144862f178b73bdaf54486f6dfa251fc\", element=\"df900d11-8b1a-4c4a-a3ad-218a57b11e76\")>,\n",
       " <selenium.webdriver.remote.webelement.WebElement (session=\"144862f178b73bdaf54486f6dfa251fc\", element=\"c806817a-e16f-418c-bccc-54e893c83f25\")>]"
      ]
     },
     "execution_count": 51,
     "metadata": {},
     "output_type": "execute_result"
    }
   ],
   "source": [
    "shoe_price_tags[0:100]"
   ]
  },
  {
   "cell_type": "markdown",
   "id": "43bc4063",
   "metadata": {},
   "source": [
    "Now we have all the tags in which there are the shoe price.\n",
    "\n",
    "Now we will extract the text from these tags one by one by looping over these tags"
   ]
  },
  {
   "cell_type": "code",
   "execution_count": 52,
   "id": "5f0f62e4",
   "metadata": {},
   "outputs": [
    {
     "data": {
      "text/plain": [
       "['Rs. 7995',\n",
       " 'Rs. 7649Rs. 8999',\n",
       " 'Rs. 10495',\n",
       " 'Rs. 12999',\n",
       " 'Rs. 8195',\n",
       " 'Rs. 9999',\n",
       " 'Rs. 7999',\n",
       " 'Rs. 12999',\n",
       " 'Rs. 13999',\n",
       " 'Rs. 10199Rs. 11999',\n",
       " 'Rs. 7649Rs. 8999',\n",
       " 'Rs. 7999',\n",
       " 'Rs. 11999',\n",
       " 'Rs. 10999',\n",
       " 'Rs. 12999',\n",
       " 'Rs. 7999',\n",
       " 'Rs. 12999',\n",
       " 'Rs. 8499Rs. 9999',\n",
       " 'Rs. 7999',\n",
       " 'Rs. 7199Rs. 8999',\n",
       " 'Rs. 9295',\n",
       " 'Rs. 7649Rs. 8999',\n",
       " 'Rs. 10499',\n",
       " 'Rs. 9349Rs. 10999',\n",
       " 'Rs. 13995',\n",
       " 'Rs. 7649Rs. 8999',\n",
       " 'Rs. 11199Rs. 15999',\n",
       " 'Rs. 12999',\n",
       " 'Rs. 8999',\n",
       " 'Rs. 12999',\n",
       " 'Rs. 8074Rs. 9499',\n",
       " 'Rs. 7999',\n",
       " 'Rs. 7999',\n",
       " 'Rs. 7999Rs. 9999',\n",
       " 'Rs. 13999',\n",
       " 'Rs. 11999',\n",
       " 'Rs. 9999',\n",
       " 'Rs. 7309Rs. 8599',\n",
       " 'Rs. 11999Rs. 14999',\n",
       " 'Rs. 8999',\n",
       " 'Rs. 8499Rs. 9999',\n",
       " 'Rs. 7499',\n",
       " 'Rs. 8490',\n",
       " 'Rs. 7890',\n",
       " 'Rs. 8499',\n",
       " 'Rs. 8499Rs. 9999',\n",
       " 'Rs. 8999',\n",
       " 'Rs. 8999',\n",
       " 'Rs. 8499Rs. 9999',\n",
       " 'Rs. 10490',\n",
       " 'Rs. 7995',\n",
       " 'Rs. 7649Rs. 8999',\n",
       " 'Rs. 10495',\n",
       " 'Rs. 12999',\n",
       " 'Rs. 8195',\n",
       " 'Rs. 9999',\n",
       " 'Rs. 7999',\n",
       " 'Rs. 12999',\n",
       " 'Rs. 13999',\n",
       " 'Rs. 10199Rs. 11999',\n",
       " 'Rs. 7649Rs. 8999',\n",
       " 'Rs. 7999',\n",
       " 'Rs. 11999',\n",
       " 'Rs. 10999',\n",
       " 'Rs. 12999',\n",
       " 'Rs. 7999',\n",
       " 'Rs. 12999',\n",
       " 'Rs. 8499Rs. 9999',\n",
       " 'Rs. 7999',\n",
       " 'Rs. 7199Rs. 8999',\n",
       " 'Rs. 9295',\n",
       " 'Rs. 7649Rs. 8999',\n",
       " 'Rs. 10499',\n",
       " 'Rs. 9349Rs. 10999',\n",
       " 'Rs. 13995',\n",
       " 'Rs. 7649Rs. 8999',\n",
       " 'Rs. 11199Rs. 15999',\n",
       " 'Rs. 12999',\n",
       " 'Rs. 8999',\n",
       " 'Rs. 12999',\n",
       " 'Rs. 8074Rs. 9499',\n",
       " 'Rs. 7999',\n",
       " 'Rs. 7999',\n",
       " 'Rs. 7999Rs. 9999',\n",
       " 'Rs. 13999',\n",
       " 'Rs. 11999',\n",
       " 'Rs. 9999',\n",
       " 'Rs. 7309Rs. 8599',\n",
       " 'Rs. 11999Rs. 14999',\n",
       " 'Rs. 8999',\n",
       " 'Rs. 8499Rs. 9999',\n",
       " 'Rs. 7499',\n",
       " 'Rs. 8490',\n",
       " 'Rs. 7890',\n",
       " 'Rs. 8499',\n",
       " 'Rs. 8499Rs. 9999',\n",
       " 'Rs. 8999',\n",
       " 'Rs. 8999',\n",
       " 'Rs. 8499Rs. 9999',\n",
       " 'Rs. 10490']"
      ]
     },
     "execution_count": 52,
     "metadata": {},
     "output_type": "execute_result"
    }
   ],
   "source": [
    "for i in shoe_price_tags:\n",
    "    price=i.text\n",
    "    shoe_price.append(price)\n",
    "shoe_price[0:100]"
   ]
  },
  {
   "cell_type": "markdown",
   "id": "0dcece3a",
   "metadata": {},
   "source": [
    "So now we have extracted the data required from the webpage and stored them in the 100 lists mention above. Now before creating a dataframe from these lists. Lets first check the length of each of the list. Because if the length of all of the lists are not equal, then dataframe cannot be formed."
   ]
  },
  {
   "cell_type": "code",
   "execution_count": 53,
   "id": "10f321fc",
   "metadata": {},
   "outputs": [
    {
     "name": "stdout",
     "output_type": "stream",
     "text": [
      "100 100 100\n"
     ]
    }
   ],
   "source": [
    "print(len(shoe_brand),len(shoe_description),len(shoe_price))"
   ]
  },
  {
   "cell_type": "code",
   "execution_count": 54,
   "id": "cb74a704",
   "metadata": {},
   "outputs": [
    {
     "data": {
      "text/html": [
       "<div>\n",
       "<style scoped>\n",
       "    .dataframe tbody tr th:only-of-type {\n",
       "        vertical-align: middle;\n",
       "    }\n",
       "\n",
       "    .dataframe tbody tr th {\n",
       "        vertical-align: top;\n",
       "    }\n",
       "\n",
       "    .dataframe thead th {\n",
       "        text-align: right;\n",
       "    }\n",
       "</style>\n",
       "<table border=\"1\" class=\"dataframe\">\n",
       "  <thead>\n",
       "    <tr style=\"text-align: right;\">\n",
       "      <th></th>\n",
       "      <th>Shoes Brand</th>\n",
       "      <th>Shoes Discription</th>\n",
       "      <th>Shoes Price</th>\n",
       "    </tr>\n",
       "  </thead>\n",
       "  <tbody>\n",
       "    <tr>\n",
       "      <th>0</th>\n",
       "      <td>Nike</td>\n",
       "      <td>Men Winflo 7 Running Shoes</td>\n",
       "      <td>Rs. 7995</td>\n",
       "    </tr>\n",
       "    <tr>\n",
       "      <th>1</th>\n",
       "      <td>Hush Puppies</td>\n",
       "      <td>Men Solid Leather Formal Slip-Ons</td>\n",
       "      <td>Rs. 7649Rs. 8999</td>\n",
       "    </tr>\n",
       "    <tr>\n",
       "      <th>2</th>\n",
       "      <td>Nike</td>\n",
       "      <td>Women React MR 3 Running Shoes</td>\n",
       "      <td>Rs. 10495</td>\n",
       "    </tr>\n",
       "    <tr>\n",
       "      <th>3</th>\n",
       "      <td>ALDO</td>\n",
       "      <td>Men Leather Driving Shoes</td>\n",
       "      <td>Rs. 12999</td>\n",
       "    </tr>\n",
       "    <tr>\n",
       "      <th>4</th>\n",
       "      <td>Nike</td>\n",
       "      <td>Men KF 5 EP Basketball Shoes</td>\n",
       "      <td>Rs. 8195</td>\n",
       "    </tr>\n",
       "    <tr>\n",
       "      <th>...</th>\n",
       "      <td>...</td>\n",
       "      <td>...</td>\n",
       "      <td>...</td>\n",
       "    </tr>\n",
       "    <tr>\n",
       "      <th>95</th>\n",
       "      <td>Hush Puppies</td>\n",
       "      <td>Men Solid Leather Formal Slip-Ons</td>\n",
       "      <td>Rs. 8499Rs. 9999</td>\n",
       "    </tr>\n",
       "    <tr>\n",
       "      <th>96</th>\n",
       "      <td>Tommy Hilfiger</td>\n",
       "      <td>Men Textured Loafers</td>\n",
       "      <td>Rs. 8999</td>\n",
       "    </tr>\n",
       "    <tr>\n",
       "      <th>97</th>\n",
       "      <td>Bugatti</td>\n",
       "      <td>Men Leather Monks</td>\n",
       "      <td>Rs. 8999</td>\n",
       "    </tr>\n",
       "    <tr>\n",
       "      <th>98</th>\n",
       "      <td>Hush Puppies</td>\n",
       "      <td>Men Solid Formal Slip-Ons</td>\n",
       "      <td>Rs. 8499Rs. 9999</td>\n",
       "    </tr>\n",
       "    <tr>\n",
       "      <th>99</th>\n",
       "      <td>Geox</td>\n",
       "      <td>Men Textured Leather Driving Shoes</td>\n",
       "      <td>Rs. 10490</td>\n",
       "    </tr>\n",
       "  </tbody>\n",
       "</table>\n",
       "<p>100 rows × 3 columns</p>\n",
       "</div>"
      ],
      "text/plain": [
       "       Shoes Brand                   Shoes Discription       Shoes Price\n",
       "0             Nike          Men Winflo 7 Running Shoes          Rs. 7995\n",
       "1     Hush Puppies   Men Solid Leather Formal Slip-Ons  Rs. 7649Rs. 8999\n",
       "2             Nike      Women React MR 3 Running Shoes         Rs. 10495\n",
       "3             ALDO           Men Leather Driving Shoes         Rs. 12999\n",
       "4             Nike        Men KF 5 EP Basketball Shoes          Rs. 8195\n",
       "..             ...                                 ...               ...\n",
       "95    Hush Puppies   Men Solid Leather Formal Slip-Ons  Rs. 8499Rs. 9999\n",
       "96  Tommy Hilfiger                Men Textured Loafers          Rs. 8999\n",
       "97         Bugatti                   Men Leather Monks          Rs. 8999\n",
       "98    Hush Puppies           Men Solid Formal Slip-Ons  Rs. 8499Rs. 9999\n",
       "99            Geox  Men Textured Leather Driving Shoes         Rs. 10490\n",
       "\n",
       "[100 rows x 3 columns]"
      ]
     },
     "execution_count": 54,
     "metadata": {},
     "output_type": "execute_result"
    }
   ],
   "source": [
    "#Now creating a DataFrame of the scraped data.\n",
    "\n",
    "jobs=pd.DataFrame({})\n",
    "jobs['Shoes Brand']=shoe_brand\n",
    "jobs['Shoes Discription']=shoe_description\n",
    "jobs['Shoes Price']=shoe_price\n",
    "jobs[0:100]"
   ]
  },
  {
   "cell_type": "code",
   "execution_count": null,
   "id": "16172884",
   "metadata": {},
   "outputs": [],
   "source": []
  },
  {
   "cell_type": "markdown",
   "id": "0a4dda27",
   "metadata": {},
   "source": [
    "Q8: Go to webpage https://www.amazon.in/\n",
    "Enter “Laptop” in the search field and then click the search icon.\n",
    "Then set CPU Type filter to “Intel Core i7” and “Intel Core i9” as shown in the below image:\n",
    "    After setting the filters scrape first 10 laptops data. You have to scrape 3 attributesfor each laptop:\n",
    "1. Title\n",
    "2. Ratings\n",
    "3. Price\n",
    "\n",
    "As shown in the below image as the tick marked attributes.\n",
    "\n",
    "Ans  :-"
   ]
  },
  {
   "cell_type": "code",
   "execution_count": 2,
   "id": "f8aaecbc",
   "metadata": {},
   "outputs": [],
   "source": [
    "# lets first connect to the web driver\n",
    "driver = webdriver.Chrome(r\"C:\\Users\\JAYASHRI\\Downloads\\chromedriver_win32\\chromedriver.exe\")"
   ]
  },
  {
   "cell_type": "code",
   "execution_count": 3,
   "id": "ae9f10f1",
   "metadata": {},
   "outputs": [],
   "source": [
    "driver=webdriver.Chrome(\"chromedriver.exe\")\n",
    "time.sleep(2)"
   ]
  },
  {
   "cell_type": "code",
   "execution_count": 4,
   "id": "9f74b597",
   "metadata": {},
   "outputs": [],
   "source": [
    "driver.get('https://www.amazon.in/')"
   ]
  },
  {
   "cell_type": "code",
   "execution_count": 5,
   "id": "933f83d7",
   "metadata": {},
   "outputs": [],
   "source": [
    "search_product_location=driver.find_element_by_xpath('/html/body/div[1]/header/div/div[1]/div[2]/div/form/div[2]/div[1]/input')\n",
    "search_product_location.send_keys(\"laptop\")"
   ]
  },
  {
   "cell_type": "code",
   "execution_count": 6,
   "id": "a73246f4",
   "metadata": {},
   "outputs": [],
   "source": [
    "search_button=driver.find_element_by_xpath(\"/html/body/div[1]/header/div/div[1]/div[2]/div/form/div[3]/div/span/input\")\n",
    "search_button.click()"
   ]
  },
  {
   "cell_type": "code",
   "execution_count": 7,
   "id": "d6f113e6",
   "metadata": {},
   "outputs": [],
   "source": [
    "# specifying the url of the webpage to be scraped\n",
    "url=\"https://www.amazon.in/s?k=laptop+laptop&i=computers&rh=n%3A1375424031%2Cp_n_feature_thirteen_browse-bin%3A12598163031&dc&qid=1651384892&rnid=12598141031&ref=sr_nr_p_n_feature_thirteen_browse-bin_13\""
   ]
  },
  {
   "cell_type": "code",
   "execution_count": 8,
   "id": "aca9f20a",
   "metadata": {},
   "outputs": [],
   "source": [
    "driver.get(url)"
   ]
  },
  {
   "cell_type": "markdown",
   "id": "4517af68",
   "metadata": {},
   "source": [
    "Now we will see in the window opened by webdriver whether the webpage has opened or not. Lets check it\n",
    "\n",
    "So, now lets first creat 3 empty list. In these list the data will be stored while scraping. We have created 3 empty lists for 3 features which we have to exract\n",
    "\n",
    "1. Title\n",
    "2. Ratings\n",
    "3. Price"
   ]
  },
  {
   "cell_type": "code",
   "execution_count": 9,
   "id": "ec889e2f",
   "metadata": {},
   "outputs": [],
   "source": [
    "title=[]\n",
    "\n",
    "ratings=[]\n",
    "\n",
    "price=[]"
   ]
  },
  {
   "cell_type": "markdown",
   "id": "aa509d84",
   "metadata": {},
   "source": [
    "First, we will extract all the tags where we have the laptop titles. Let me first show you on the webpage in which tags the laptop titles are put."
   ]
  },
  {
   "cell_type": "code",
   "execution_count": 10,
   "id": "4c3a24c2",
   "metadata": {},
   "outputs": [
    {
     "data": {
      "text/plain": [
       "[<selenium.webdriver.remote.webelement.WebElement (session=\"c93e111ea61cebc6f33b4630cdd4084e\", element=\"1c86d78f-3a58-4801-a213-b01a2368012a\")>,\n",
       " <selenium.webdriver.remote.webelement.WebElement (session=\"c93e111ea61cebc6f33b4630cdd4084e\", element=\"e970c14b-2713-49c0-a6a0-fcd40f76dea5\")>,\n",
       " <selenium.webdriver.remote.webelement.WebElement (session=\"c93e111ea61cebc6f33b4630cdd4084e\", element=\"9c68a716-015d-4ed3-a8d4-91e29d6d4145\")>,\n",
       " <selenium.webdriver.remote.webelement.WebElement (session=\"c93e111ea61cebc6f33b4630cdd4084e\", element=\"f33b0908-a8f9-4c04-a565-4e15c3a5bae1\")>,\n",
       " <selenium.webdriver.remote.webelement.WebElement (session=\"c93e111ea61cebc6f33b4630cdd4084e\", element=\"49a70427-b1ee-4442-b3ee-06ac0566f823\")>,\n",
       " <selenium.webdriver.remote.webelement.WebElement (session=\"c93e111ea61cebc6f33b4630cdd4084e\", element=\"1f3403bb-8863-4576-8819-a3abc7be1099\")>,\n",
       " <selenium.webdriver.remote.webelement.WebElement (session=\"c93e111ea61cebc6f33b4630cdd4084e\", element=\"edc88bdb-9964-4ff7-bee1-b5f260d9b8f8\")>,\n",
       " <selenium.webdriver.remote.webelement.WebElement (session=\"c93e111ea61cebc6f33b4630cdd4084e\", element=\"7d381b9c-8684-4b3c-94c6-fe760f0b537a\")>,\n",
       " <selenium.webdriver.remote.webelement.WebElement (session=\"c93e111ea61cebc6f33b4630cdd4084e\", element=\"46b40097-58de-4f69-9a37-502208360cce\")>,\n",
       " <selenium.webdriver.remote.webelement.WebElement (session=\"c93e111ea61cebc6f33b4630cdd4084e\", element=\"bded98cf-8318-43ae-9925-875bd7ebdab4\")>]"
      ]
     },
     "execution_count": 10,
     "metadata": {},
     "output_type": "execute_result"
    }
   ],
   "source": [
    "# so lets extract all the tags having the job-titles\n",
    "titles_tags=driver.find_elements_by_xpath(\"//h2[@class='a-size-mini a-spacing-none a-color-base s-line-clamp-4']/a[1]\")\n",
    "titles_tags[0:10]"
   ]
  },
  {
   "cell_type": "markdown",
   "id": "b53ee4da",
   "metadata": {},
   "source": [
    "Now we have all the tags in which there are the laptop titles\n",
    "\n",
    "Now we will extract the text from these tags one by one by looping over these tags"
   ]
  },
  {
   "cell_type": "code",
   "execution_count": 11,
   "id": "be0371f5",
   "metadata": {},
   "outputs": [
    {
     "data": {
      "text/plain": [
       "['Samsung Galaxy Book2 Pro Intel 12th Gen i7 EvoTM 33.78cm (13.3\") AMOLED Thin & Light Laptop (16 GB/512 GB SSD/Windows 11/MSO Home & Student 2021/Silver/0.87Kg), NP930XED-KB2IN',\n",
       " 'Samsung Galaxy Book2 Pro 360 Intel 12th Gen i7 EvoTM 15.6 inch Touchscreen 2-in-1 AMOLED Thin & Light Laptop (16 GB/512 GB SSD/Windows 11/MSO Home & Student 2021/Graphite/1.41Kg), NP950QED-KA1IN',\n",
       " 'Fujitsu UH-X 11th Gen Intel Core i7 13.3” FHD IPS 400Nits Thin & Light Laptop(16GB/512GB SSD/Windows 11/Office 2021/Iris Xe Graphics/Backlit Kb/Fingerprint Reader/2Yr Warranty/Black/878gms),4ZR1F38024',\n",
       " 'ASUS VivoBook 14 (2021), 14-inch (35.56 cms) FHD, Intel Core i7-1065G7 10th Gen, Thin and Light Laptop (16GB/512GB SSD/Integrated Graphics/Office 2021/Windows 11/Silver/1.6 Kg), X415JA-EK701WS',\n",
       " 'HP Pavilion 14, 11th Gen Intel Core i7-16GB RAM/1TB SSD 14 inch(35.6 cm) Laptop/Intel Iris Xe Graphics/Backlit Keyboard/Alexa/B&O Audio/Fast Charge/FPR/Win 11/MS Office, 14-dv1029TU,Natural Silver',\n",
       " 'ASUS TUF Gaming F15 (2021), 15.6-inch (39.62 cms) FHD 144Hz, Intel Core i7-11800H 11th Gen, GeForce RTX 3050 4GB Graphics, Gaming Laptop (8GB/512GB SSD/Windows 10/Eclipse Gray/2.3 Kg), FX566HC-HN093T',\n",
       " 'Lenovo ThinkBook 15 Intel 11th Gen Core i7 15.6\"(39.62 cm)FHD Thin and Light Laptop (16GB/512GB SSD/Windows 11 Home/MS Office H&S 2021/Iris® Xe Graphics/Backlit/Mineral Grey/1.7 Kg) 20VE00W4IH',\n",
       " 'HP Pavilion 11th Gen Intel Core i7 Processor 15.6 inches FHD Gaming Laptop (16GB/512GB SSD/Windows 11/NVIDIA RTX 3050 Graphics/MS Office/ Shadow Black & Ultra Violet/2.23Kg), 15-dk2096TX',\n",
       " 'HP Pavilion x360 11th Gen Intel Core i7 14 inch(35.6 cm) FHD Multitouch 2-in-1 Laptop(16GB RAM/512GB SSD/B&O/Win 11/FPR/Backlit KB/Intel Iris Xe Graphics/Pen/Alexa/MS Office/Silver/1.52Kg) 14-dy1047TU',\n",
       " 'ASUS TUF Gaming F15 (2021), 15.6\" (39.62 cms) FHD 144Hz, Intel Core i7-11600H 11th Gen, 4GB RTX 3050 Graphics, Gaming Laptop (16GB/512GB SSD/Windows 10/Office 2019/Gray/2.3 Kg), FX566HCB-HN299TS']"
      ]
     },
     "execution_count": 11,
     "metadata": {},
     "output_type": "execute_result"
    }
   ],
   "source": [
    "for i in titles_tags:\n",
    "    laptop_title=i.text\n",
    "    title.append(laptop_title)\n",
    "title[0:10]"
   ]
  },
  {
   "cell_type": "markdown",
   "id": "f8a67829",
   "metadata": {},
   "source": [
    "Now we will extract all the tags where we have the laptop ratings. Let me first show you on the webpage in which tags the laptop ratings are put."
   ]
  },
  {
   "cell_type": "code",
   "execution_count": 12,
   "id": "f209ef47",
   "metadata": {},
   "outputs": [
    {
     "data": {
      "text/plain": [
       "[<selenium.webdriver.remote.webelement.WebElement (session=\"c93e111ea61cebc6f33b4630cdd4084e\", element=\"e0942a9d-2385-4a11-922a-cd07593b4347\")>,\n",
       " <selenium.webdriver.remote.webelement.WebElement (session=\"c93e111ea61cebc6f33b4630cdd4084e\", element=\"7e5a71ec-8287-45e2-9f2c-8fcf3ec33a9f\")>,\n",
       " <selenium.webdriver.remote.webelement.WebElement (session=\"c93e111ea61cebc6f33b4630cdd4084e\", element=\"e7197f4f-2a4b-4664-9e36-bae2d51e8e21\")>,\n",
       " <selenium.webdriver.remote.webelement.WebElement (session=\"c93e111ea61cebc6f33b4630cdd4084e\", element=\"74cbccd0-23db-4560-9f0f-e0290885f47c\")>,\n",
       " <selenium.webdriver.remote.webelement.WebElement (session=\"c93e111ea61cebc6f33b4630cdd4084e\", element=\"c34c2c1f-ad2b-4821-bb97-ca6519578566\")>,\n",
       " <selenium.webdriver.remote.webelement.WebElement (session=\"c93e111ea61cebc6f33b4630cdd4084e\", element=\"ed71fc04-1839-429a-a5dc-e6071480b70e\")>,\n",
       " <selenium.webdriver.remote.webelement.WebElement (session=\"c93e111ea61cebc6f33b4630cdd4084e\", element=\"936c6e3e-76cb-4715-ad79-5b9231eaaa28\")>,\n",
       " <selenium.webdriver.remote.webelement.WebElement (session=\"c93e111ea61cebc6f33b4630cdd4084e\", element=\"dc7abf24-8940-4898-aac7-9f6471a7ff35\")>,\n",
       " <selenium.webdriver.remote.webelement.WebElement (session=\"c93e111ea61cebc6f33b4630cdd4084e\", element=\"ecc186eb-a9fc-4fd1-9375-d626924e4063\")>,\n",
       " <selenium.webdriver.remote.webelement.WebElement (session=\"c93e111ea61cebc6f33b4630cdd4084e\", element=\"70e2372c-3dee-44f9-b014-1c0ac3ba6d77\")>]"
      ]
     },
     "execution_count": 12,
     "metadata": {},
     "output_type": "execute_result"
    }
   ],
   "source": [
    "# so lets extract all the tags having the laptop rating\n",
    "rating_tags=driver.find_elements_by_xpath(\"//div[@class='a-section a-spacing-none a-spacing-top-micro']/div[1]\")\n",
    "rating_tags[0:10]"
   ]
  },
  {
   "cell_type": "markdown",
   "id": "4fb31748",
   "metadata": {},
   "source": [
    "Now we have all the tags in which there are the laptop ratings\n",
    "\n",
    "Now we will extract the text from these tags one by one by looping over these tags"
   ]
  },
  {
   "cell_type": "code",
   "execution_count": 13,
   "id": "a8f5664e",
   "metadata": {},
   "outputs": [
    {
     "data": {
      "text/plain": [
       "['2',\n",
       " 'Get it by Tuesday, May 3\\nFREE Delivery by Amazon',\n",
       " '3',\n",
       " 'FREE Delivery by Amazon',\n",
       " '48',\n",
       " 'Get it by Tuesday, May 3\\nFREE Delivery by Amazon',\n",
       " '62',\n",
       " 'Get it by Tuesday, May 3\\nFREE Delivery by Amazon',\n",
       " '2',\n",
       " 'Get it by Tomorrow, May 2\\nFREE Delivery by Amazon']"
      ]
     },
     "execution_count": 13,
     "metadata": {},
     "output_type": "execute_result"
    }
   ],
   "source": [
    "for i in rating_tags:\n",
    "    laptop_rating=i.text\n",
    "    ratings.append(laptop_rating)\n",
    "ratings[0:10]"
   ]
  },
  {
   "cell_type": "markdown",
   "id": "d421481f",
   "metadata": {},
   "source": [
    "First, we will extract all the tags where we have the laptop price. Let me first show you on the webpage in which tags the laptop price are put."
   ]
  },
  {
   "cell_type": "code",
   "execution_count": 14,
   "id": "fb1b41b3",
   "metadata": {},
   "outputs": [
    {
     "data": {
      "text/plain": [
       "[<selenium.webdriver.remote.webelement.WebElement (session=\"c93e111ea61cebc6f33b4630cdd4084e\", element=\"73a6279b-14d3-4721-a752-39cf59bf8e41\")>,\n",
       " <selenium.webdriver.remote.webelement.WebElement (session=\"c93e111ea61cebc6f33b4630cdd4084e\", element=\"14f6079e-78c7-4109-8d18-7cda630d844c\")>,\n",
       " <selenium.webdriver.remote.webelement.WebElement (session=\"c93e111ea61cebc6f33b4630cdd4084e\", element=\"52fa56d4-21f4-4b1e-be1f-278bed61d8c4\")>,\n",
       " <selenium.webdriver.remote.webelement.WebElement (session=\"c93e111ea61cebc6f33b4630cdd4084e\", element=\"0685f938-3e65-4c30-b2f1-62237c4045c6\")>,\n",
       " <selenium.webdriver.remote.webelement.WebElement (session=\"c93e111ea61cebc6f33b4630cdd4084e\", element=\"a291d60c-eacf-4d11-bce2-5e09c3fc5e8e\")>,\n",
       " <selenium.webdriver.remote.webelement.WebElement (session=\"c93e111ea61cebc6f33b4630cdd4084e\", element=\"a2a5e398-b985-45e8-8248-fe8378eee0c7\")>,\n",
       " <selenium.webdriver.remote.webelement.WebElement (session=\"c93e111ea61cebc6f33b4630cdd4084e\", element=\"ca5c093b-97fd-4b89-a60d-f88a896f4c50\")>,\n",
       " <selenium.webdriver.remote.webelement.WebElement (session=\"c93e111ea61cebc6f33b4630cdd4084e\", element=\"47ce4e68-ef7e-46e0-93f2-091a2bbd77a5\")>,\n",
       " <selenium.webdriver.remote.webelement.WebElement (session=\"c93e111ea61cebc6f33b4630cdd4084e\", element=\"d2e97da1-3707-438f-a20e-ced370a899e7\")>,\n",
       " <selenium.webdriver.remote.webelement.WebElement (session=\"c93e111ea61cebc6f33b4630cdd4084e\", element=\"8ff2b7ca-94bb-4b99-a5fc-6080553f1971\")>]"
      ]
     },
     "execution_count": 14,
     "metadata": {},
     "output_type": "execute_result"
    }
   ],
   "source": [
    "# so lets extract all the tags having the laptop price\n",
    "price_tags=driver.find_elements_by_xpath(\"//a[@class='a-size-base a-link-normal s-underline-text s-underline-link-text s-link-style a-text-normal']/span[1]\")\n",
    "price_tags[0:10]"
   ]
  },
  {
   "cell_type": "markdown",
   "id": "0860dd3d",
   "metadata": {},
   "source": [
    "Now we have all the tags in which there are the laptop price\n",
    "\n",
    "Now we will extract the text from these tags one by one by looping over these tags"
   ]
  },
  {
   "cell_type": "code",
   "execution_count": 15,
   "id": "8eb6f2d7",
   "metadata": {},
   "outputs": [
    {
     "data": {
      "text/plain": [
       "['₹1,14,990',\n",
       " '₹1,29,990',\n",
       " '₹84,590',\n",
       " '₹57,310',\n",
       " '₹86,990',\n",
       " '₹96,990',\n",
       " '₹86,990',\n",
       " '₹89,990',\n",
       " '₹89,990',\n",
       " '₹2,66,913']"
      ]
     },
     "execution_count": 15,
     "metadata": {},
     "output_type": "execute_result"
    }
   ],
   "source": [
    "for i in price_tags:\n",
    "    laptop_price=i.text\n",
    "    price.append(laptop_price)\n",
    "price[0:10]"
   ]
  },
  {
   "cell_type": "code",
   "execution_count": null,
   "id": "d2f2aca6",
   "metadata": {},
   "outputs": [],
   "source": []
  },
  {
   "cell_type": "markdown",
   "id": "24ee8fbd",
   "metadata": {},
   "source": [
    "Q9: Write a python program to scrape data for first 10 job results for Data Scientist Designation in Noida location. You have to scrape company name, No. of days ago when job was posted, Rating of the company. This task will be done in following steps:\n",
    "1. First get the webpage https://www.ambitionbox.com/\n",
    "2. Click on the Job option as shown in the image\n",
    "3. After reaching to the next webpage, In place of “Search by Designations, Companies, Skills” enter “Data Scientist” and click on search button.\n",
    "4. You will reach to the following web page click on location and in place of “Search location” enter “Noida” and select location “Noida”.\n",
    "5. Then scrape the data for the first 10 jobs results you get on the above shown page.\n",
    "6. Finally create a dataframe of the scraped data."
   ]
  },
  {
   "cell_type": "code",
   "execution_count": 2,
   "id": "66d11939",
   "metadata": {},
   "outputs": [],
   "source": [
    "# lets first connect to the web driver\n",
    "driver = webdriver.Chrome(r\"C:\\Users\\JAYASHRI\\Downloads\\chromedriver_win32\\chromedriver.exe\")"
   ]
  },
  {
   "cell_type": "code",
   "execution_count": 3,
   "id": "58b85a42",
   "metadata": {},
   "outputs": [],
   "source": [
    "driver=webdriver.Chrome(\"chromedriver.exe\")\n",
    "time.sleep(2)"
   ]
  },
  {
   "cell_type": "code",
   "execution_count": 4,
   "id": "abcf357d",
   "metadata": {},
   "outputs": [],
   "source": [
    "driver.get('https://www.ambitionbox.com/')"
   ]
  },
  {
   "cell_type": "code",
   "execution_count": 5,
   "id": "39e81daa",
   "metadata": {},
   "outputs": [],
   "source": [
    "# finding element for job search bar\n",
    "search_field_designation=driver.find_element_by_xpath(\"/html/body/div/div/div/div[2]/div[1]/div[1]/div/div/div/div/span/input\")\n",
    "search_field_designation.send_keys(\"Data Scientist\")"
   ]
  },
  {
   "cell_type": "code",
   "execution_count": 6,
   "id": "f864b357",
   "metadata": {},
   "outputs": [],
   "source": [
    "search_button=driver.find_element_by_xpath(\"/html/body/div/div/div/div[2]/div[1]/div[1]/div/div/div/button/span\")\n",
    "search_button.click()"
   ]
  },
  {
   "cell_type": "code",
   "execution_count": 7,
   "id": "5f0ce919",
   "metadata": {},
   "outputs": [],
   "source": [
    "search_field_location=driver.find_element_by_xpath('/html/body/div/div/div/div[2]/div[1]/div[2]/div[1]/div/div/div/div[2]/div[2]/div/div[2]/input')\n",
    "search_field_location.send_keys(\"Noida\")"
   ]
  },
  {
   "cell_type": "code",
   "execution_count": 8,
   "id": "9ebf88d5",
   "metadata": {},
   "outputs": [],
   "source": [
    "search_button1=driver.find_element_by_xpath(\"/html/body/div/div/div/div[2]/div[1]/div[2]/div[1]/div/div/div/div[2]/div[2]/div/div[3]/div[1]/div[1]/div/label\")\n",
    "search_button1.click()"
   ]
  },
  {
   "cell_type": "code",
   "execution_count": 9,
   "id": "a95ce577",
   "metadata": {},
   "outputs": [],
   "source": [
    "#specifying the url of the webpage to be scraped\n",
    "url=\"https://www.ambitionbox.com/jobs/search?tag=Data%20Scientist&location=Noida\""
   ]
  },
  {
   "cell_type": "code",
   "execution_count": 10,
   "id": "9f0ac04f",
   "metadata": {},
   "outputs": [],
   "source": [
    "driver.get(url)"
   ]
  },
  {
   "cell_type": "markdown",
   "id": "b94269d9",
   "metadata": {},
   "source": [
    "Now we will see in the window opened by webdriver whether the webpage has opened or not. Lets check it\n",
    "\n",
    "So, now lets first creat 4 empty list. In these list the data will be stored while scraping. We have created 4 empty lists for 4 features which we have to exract\n",
    "\n",
    "1.company_names\n",
    "\n",
    "2.days_job_posted\n",
    "\n",
    "3.company_rating"
   ]
  },
  {
   "cell_type": "code",
   "execution_count": 11,
   "id": "83b3081f",
   "metadata": {},
   "outputs": [],
   "source": [
    "company_names=[]\n",
    "\n",
    "days_job_posted=[]\n",
    "\n",
    "company_rating=[]"
   ]
  },
  {
   "cell_type": "markdown",
   "id": "99b8ad3f",
   "metadata": {},
   "source": [
    "First, we will extract all the tags where we have the job titles. Let me first show you on the webpage in which tags the job titles are put."
   ]
  },
  {
   "cell_type": "code",
   "execution_count": 12,
   "id": "b999d27f",
   "metadata": {},
   "outputs": [
    {
     "data": {
      "text/plain": [
       "[<selenium.webdriver.remote.webelement.WebElement (session=\"3382eccd2ddc3661c763bc2d6aee102c\", element=\"f2c25703-2db7-42b7-a5e9-dde8b23b4b3a\")>,\n",
       " <selenium.webdriver.remote.webelement.WebElement (session=\"3382eccd2ddc3661c763bc2d6aee102c\", element=\"f5d88eea-7567-41ff-8685-0d01eae32422\")>,\n",
       " <selenium.webdriver.remote.webelement.WebElement (session=\"3382eccd2ddc3661c763bc2d6aee102c\", element=\"84907c5b-e7d1-417f-853c-af5fcfc0ab73\")>,\n",
       " <selenium.webdriver.remote.webelement.WebElement (session=\"3382eccd2ddc3661c763bc2d6aee102c\", element=\"77c94b2f-8610-483b-bc89-75b403ddcaad\")>,\n",
       " <selenium.webdriver.remote.webelement.WebElement (session=\"3382eccd2ddc3661c763bc2d6aee102c\", element=\"858e0e83-c0cd-4e3e-8090-d0ce6d088ce5\")>,\n",
       " <selenium.webdriver.remote.webelement.WebElement (session=\"3382eccd2ddc3661c763bc2d6aee102c\", element=\"3ab286af-3aae-4867-a544-e4a2699dba6e\")>,\n",
       " <selenium.webdriver.remote.webelement.WebElement (session=\"3382eccd2ddc3661c763bc2d6aee102c\", element=\"141ae864-d457-458d-a72c-4dbb3e62dfed\")>,\n",
       " <selenium.webdriver.remote.webelement.WebElement (session=\"3382eccd2ddc3661c763bc2d6aee102c\", element=\"b7380edd-d0f1-4bf3-9f27-0d082f257090\")>,\n",
       " <selenium.webdriver.remote.webelement.WebElement (session=\"3382eccd2ddc3661c763bc2d6aee102c\", element=\"fa51ccdb-df92-4019-af49-1bad8f9dcfd9\")>,\n",
       " <selenium.webdriver.remote.webelement.WebElement (session=\"3382eccd2ddc3661c763bc2d6aee102c\", element=\"eb28b05d-094b-4873-a4d1-292a556b8196\")>]"
      ]
     },
     "execution_count": 12,
     "metadata": {},
     "output_type": "execute_result"
    }
   ],
   "source": [
    "# so lets extract all the tags having the company name\n",
    "company_name_tags=driver.find_elements_by_xpath(\"//p[@class='company body-medium']\")\n",
    "company_name_tags[0:20]"
   ]
  },
  {
   "cell_type": "markdown",
   "id": "eabac188",
   "metadata": {},
   "source": [
    "Now we have all the tags in which there are the company name\n",
    "\n",
    "Now we will extract the text from these tags one by one by looping over these tags"
   ]
  },
  {
   "cell_type": "code",
   "execution_count": 13,
   "id": "bc8c7bc6",
   "metadata": {},
   "outputs": [
    {
     "data": {
      "text/plain": [
       "['GENPACT India Private Limited',\n",
       " 'GENPACT India Private Limited',\n",
       " 'Tech Mahindra Ltd',\n",
       " 'GENPACT India Private Limited',\n",
       " 'HCL Technologies',\n",
       " 'Bristlecone India Limited',\n",
       " 'Zyoin',\n",
       " 'Newgen Software Technologies Ltd.',\n",
       " 'Pitney Bowes India Pvt Ltd',\n",
       " 'JK Technosoft Ltd']"
      ]
     },
     "execution_count": 13,
     "metadata": {},
     "output_type": "execute_result"
    }
   ],
   "source": [
    "for i in company_name_tags:\n",
    "    company=i.text\n",
    "    company_names.append(company)\n",
    "company_names[0:10]"
   ]
  },
  {
   "cell_type": "markdown",
   "id": "22d80679",
   "metadata": {},
   "source": [
    "Now we will extract all the tags where we have the no. of days ago when job was posted. Let me first show you on the webpage in which tags the job titles are put."
   ]
  },
  {
   "cell_type": "code",
   "execution_count": 18,
   "id": "e1ea0374",
   "metadata": {},
   "outputs": [
    {
     "data": {
      "text/plain": [
       "[<selenium.webdriver.remote.webelement.WebElement (session=\"3382eccd2ddc3661c763bc2d6aee102c\", element=\"6a5ebc5a-523a-423c-a08f-2f591c540fae\")>,\n",
       " <selenium.webdriver.remote.webelement.WebElement (session=\"3382eccd2ddc3661c763bc2d6aee102c\", element=\"2e6ce01a-e54b-48a1-b806-38fc9d76523e\")>,\n",
       " <selenium.webdriver.remote.webelement.WebElement (session=\"3382eccd2ddc3661c763bc2d6aee102c\", element=\"2dc08905-5c07-4b96-acd1-e4a0989e6bd6\")>,\n",
       " <selenium.webdriver.remote.webelement.WebElement (session=\"3382eccd2ddc3661c763bc2d6aee102c\", element=\"2e173471-c11e-4f0a-b872-3a31e48916f7\")>,\n",
       " <selenium.webdriver.remote.webelement.WebElement (session=\"3382eccd2ddc3661c763bc2d6aee102c\", element=\"2e14aec8-2a84-4d9a-a848-7e84a6082415\")>,\n",
       " <selenium.webdriver.remote.webelement.WebElement (session=\"3382eccd2ddc3661c763bc2d6aee102c\", element=\"7107856a-bf55-4947-b5f8-f09e7d47bd61\")>,\n",
       " <selenium.webdriver.remote.webelement.WebElement (session=\"3382eccd2ddc3661c763bc2d6aee102c\", element=\"6055ce92-9c3d-4c01-9bb4-db7cd4f50691\")>,\n",
       " <selenium.webdriver.remote.webelement.WebElement (session=\"3382eccd2ddc3661c763bc2d6aee102c\", element=\"784983ba-9231-4b0e-a997-84b927a07573\")>,\n",
       " <selenium.webdriver.remote.webelement.WebElement (session=\"3382eccd2ddc3661c763bc2d6aee102c\", element=\"cf6a2b80-812e-401a-b5eb-c41492aef7ba\")>,\n",
       " <selenium.webdriver.remote.webelement.WebElement (session=\"3382eccd2ddc3661c763bc2d6aee102c\", element=\"cafaad2d-f734-4c4b-9273-ab672f566fdd\")>]"
      ]
     },
     "execution_count": 18,
     "metadata": {},
     "output_type": "execute_result"
    }
   ],
   "source": [
    "# so lets extract all the tags having the no. of days ago when job was posted\n",
    "post_days_tags=driver.find_elements_by_xpath(\"//span[@class='body-small-l']\")\n",
    "post_days_tags[0:10]"
   ]
  },
  {
   "cell_type": "markdown",
   "id": "fcdbf424",
   "metadata": {},
   "source": [
    "Now we have all the tags in which there are the no. of days ago when job was posted\n",
    "\n",
    "Now we will extract the text from these tags one by one by looping over these tags"
   ]
  },
  {
   "cell_type": "code",
   "execution_count": 21,
   "id": "68dc7889",
   "metadata": {},
   "outputs": [
    {
     "data": {
      "text/plain": [
       "['5d ago',\n",
       " 'via naukri.com',\n",
       " '10d ago',\n",
       " 'via naukri.com',\n",
       " '24d ago',\n",
       " 'via naukri.com',\n",
       " '27d ago',\n",
       " 'via naukri.com',\n",
       " '1mon ago',\n",
       " 'via naukri.com',\n",
       " '5d ago',\n",
       " 'via naukri.com',\n",
       " '9d ago',\n",
       " 'via hirist.com',\n",
       " '11d ago',\n",
       " 'via naukri.com',\n",
       " '1mon ago',\n",
       " 'via naukri.com',\n",
       " '20d ago',\n",
       " 'via naukri.com']"
      ]
     },
     "execution_count": 21,
     "metadata": {},
     "output_type": "execute_result"
    }
   ],
   "source": [
    "for i in post_days_tags:\n",
    "    no_days=i.text\n",
    "    days_job_posted.append(no_days)\n",
    "days_job_posted[0:20]"
   ]
  },
  {
   "cell_type": "markdown",
   "id": "f3d2277b",
   "metadata": {},
   "source": [
    "Now we will extract all the tags where we have the company rating. Let me first show you on the webpage in which tags the job titles are put."
   ]
  },
  {
   "cell_type": "code",
   "execution_count": 22,
   "id": "10e69bfc",
   "metadata": {},
   "outputs": [
    {
     "data": {
      "text/plain": [
       "[<selenium.webdriver.remote.webelement.WebElement (session=\"3382eccd2ddc3661c763bc2d6aee102c\", element=\"31766d17-c3ad-4f60-8b55-e9e2893a9707\")>,\n",
       " <selenium.webdriver.remote.webelement.WebElement (session=\"3382eccd2ddc3661c763bc2d6aee102c\", element=\"59d33b48-0dab-47a9-a420-833661a0632f\")>,\n",
       " <selenium.webdriver.remote.webelement.WebElement (session=\"3382eccd2ddc3661c763bc2d6aee102c\", element=\"95452250-b3a9-4b87-b5e4-9bed45dce16b\")>,\n",
       " <selenium.webdriver.remote.webelement.WebElement (session=\"3382eccd2ddc3661c763bc2d6aee102c\", element=\"9bd4260d-6e60-4457-82fa-78576310134d\")>,\n",
       " <selenium.webdriver.remote.webelement.WebElement (session=\"3382eccd2ddc3661c763bc2d6aee102c\", element=\"22a2dd6e-0406-4c89-86ad-4fb757c10832\")>,\n",
       " <selenium.webdriver.remote.webelement.WebElement (session=\"3382eccd2ddc3661c763bc2d6aee102c\", element=\"ba643050-7d2b-40ee-b8e6-c4b3444331dd\")>,\n",
       " <selenium.webdriver.remote.webelement.WebElement (session=\"3382eccd2ddc3661c763bc2d6aee102c\", element=\"b1423808-3de1-478b-9765-0a38b256560f\")>,\n",
       " <selenium.webdriver.remote.webelement.WebElement (session=\"3382eccd2ddc3661c763bc2d6aee102c\", element=\"0792724c-02e5-4000-999d-f9b9ae466b05\")>,\n",
       " <selenium.webdriver.remote.webelement.WebElement (session=\"3382eccd2ddc3661c763bc2d6aee102c\", element=\"67a5c7ef-2526-41c6-9b20-f0b1a11f811e\")>,\n",
       " <selenium.webdriver.remote.webelement.WebElement (session=\"3382eccd2ddc3661c763bc2d6aee102c\", element=\"7c38e73c-9695-4f36-9901-59d9a8fe80cc\")>]"
      ]
     },
     "execution_count": 22,
     "metadata": {},
     "output_type": "execute_result"
    }
   ],
   "source": [
    "# so lets extract all the tags having the company rating\n",
    "rating_tags=driver.find_elements_by_xpath(\"//div[@class='rating-wrapper']\")\n",
    "rating_tags[0:10]"
   ]
  },
  {
   "cell_type": "markdown",
   "id": "e8c60a4c",
   "metadata": {},
   "source": [
    "Now we have all the tags in which there are the company rating\n",
    "\n",
    "Now we will extract the text from these tags one by one by looping over these tags"
   ]
  },
  {
   "cell_type": "code",
   "execution_count": 23,
   "id": "711c8d77",
   "metadata": {},
   "outputs": [
    {
     "data": {
      "text/plain": [
       "['4.0\\nbased on 17k Reviews',\n",
       " '4.0\\n(17k Reviews)',\n",
       " '4.0\\n(17k Reviews)',\n",
       " '3.7\\n(17.2k Reviews)',\n",
       " '4.0\\n(17k Reviews)',\n",
       " '3.8\\n(18.3k Reviews)',\n",
       " '3.9\\n(271 Reviews)',\n",
       " '4.1\\n(74 Reviews)',\n",
       " '3.5\\n(493 Reviews)',\n",
       " '4.3\\n(116 Reviews)']"
      ]
     },
     "execution_count": 23,
     "metadata": {},
     "output_type": "execute_result"
    }
   ],
   "source": [
    "for i in rating_tags:\n",
    "    rating=i.text\n",
    "    company_rating.append(rating)\n",
    "company_rating[3:13]"
   ]
  },
  {
   "cell_type": "code",
   "execution_count": 24,
   "id": "3b46f773",
   "metadata": {},
   "outputs": [
    {
     "name": "stdout",
     "output_type": "stream",
     "text": [
      "10 60 14\n"
     ]
    }
   ],
   "source": [
    "print(len(company_names),len(days_job_posted),len(company_rating))"
   ]
  },
  {
   "cell_type": "code",
   "execution_count": 45,
   "id": "2ae38926",
   "metadata": {},
   "outputs": [
    {
     "ename": "ValueError",
     "evalue": "Length of values (80) does not match length of index (20)",
     "output_type": "error",
     "traceback": [
      "\u001b[1;31m---------------------------------------------------------------------------\u001b[0m",
      "\u001b[1;31mValueError\u001b[0m                                Traceback (most recent call last)",
      "\u001b[1;32m<ipython-input-45-a1421db62469>\u001b[0m in \u001b[0;36m<module>\u001b[1;34m\u001b[0m\n\u001b[0;32m      1\u001b[0m \u001b[0mjobs\u001b[0m\u001b[1;33m=\u001b[0m\u001b[0mpd\u001b[0m\u001b[1;33m.\u001b[0m\u001b[0mDataFrame\u001b[0m\u001b[1;33m(\u001b[0m\u001b[1;33m{\u001b[0m\u001b[1;33m}\u001b[0m\u001b[1;33m)\u001b[0m\u001b[1;33m\u001b[0m\u001b[1;33m\u001b[0m\u001b[0m\n\u001b[0;32m      2\u001b[0m \u001b[0mjobs\u001b[0m\u001b[1;33m[\u001b[0m\u001b[1;34m'Company'\u001b[0m\u001b[1;33m]\u001b[0m\u001b[1;33m=\u001b[0m\u001b[0mcompany_names\u001b[0m\u001b[1;33m\u001b[0m\u001b[1;33m\u001b[0m\u001b[0m\n\u001b[1;32m----> 3\u001b[1;33m \u001b[0mjobs\u001b[0m\u001b[1;33m[\u001b[0m\u001b[1;34m'No. of days job posted'\u001b[0m\u001b[1;33m]\u001b[0m\u001b[1;33m=\u001b[0m\u001b[0mdays_job_posted\u001b[0m\u001b[1;33m\u001b[0m\u001b[1;33m\u001b[0m\u001b[0m\n\u001b[0m\u001b[0;32m      4\u001b[0m \u001b[0mjobs\u001b[0m\u001b[1;33m[\u001b[0m\u001b[1;34m'Company Rating'\u001b[0m\u001b[1;33m]\u001b[0m\u001b[1;33m=\u001b[0m\u001b[0mcompany_rating\u001b[0m\u001b[1;33m\u001b[0m\u001b[1;33m\u001b[0m\u001b[0m\n",
      "\u001b[1;32m~\\anaconda3\\lib\\site-packages\\pandas\\core\\frame.py\u001b[0m in \u001b[0;36m__setitem__\u001b[1;34m(self, key, value)\u001b[0m\n\u001b[0;32m   3161\u001b[0m         \u001b[1;32melse\u001b[0m\u001b[1;33m:\u001b[0m\u001b[1;33m\u001b[0m\u001b[1;33m\u001b[0m\u001b[0m\n\u001b[0;32m   3162\u001b[0m             \u001b[1;31m# set column\u001b[0m\u001b[1;33m\u001b[0m\u001b[1;33m\u001b[0m\u001b[1;33m\u001b[0m\u001b[0m\n\u001b[1;32m-> 3163\u001b[1;33m             \u001b[0mself\u001b[0m\u001b[1;33m.\u001b[0m\u001b[0m_set_item\u001b[0m\u001b[1;33m(\u001b[0m\u001b[0mkey\u001b[0m\u001b[1;33m,\u001b[0m \u001b[0mvalue\u001b[0m\u001b[1;33m)\u001b[0m\u001b[1;33m\u001b[0m\u001b[1;33m\u001b[0m\u001b[0m\n\u001b[0m\u001b[0;32m   3164\u001b[0m \u001b[1;33m\u001b[0m\u001b[0m\n\u001b[0;32m   3165\u001b[0m     \u001b[1;32mdef\u001b[0m \u001b[0m_setitem_slice\u001b[0m\u001b[1;33m(\u001b[0m\u001b[0mself\u001b[0m\u001b[1;33m,\u001b[0m \u001b[0mkey\u001b[0m\u001b[1;33m:\u001b[0m \u001b[0mslice\u001b[0m\u001b[1;33m,\u001b[0m \u001b[0mvalue\u001b[0m\u001b[1;33m)\u001b[0m\u001b[1;33m:\u001b[0m\u001b[1;33m\u001b[0m\u001b[1;33m\u001b[0m\u001b[0m\n",
      "\u001b[1;32m~\\anaconda3\\lib\\site-packages\\pandas\\core\\frame.py\u001b[0m in \u001b[0;36m_set_item\u001b[1;34m(self, key, value)\u001b[0m\n\u001b[0;32m   3240\u001b[0m         \"\"\"\n\u001b[0;32m   3241\u001b[0m         \u001b[0mself\u001b[0m\u001b[1;33m.\u001b[0m\u001b[0m_ensure_valid_index\u001b[0m\u001b[1;33m(\u001b[0m\u001b[0mvalue\u001b[0m\u001b[1;33m)\u001b[0m\u001b[1;33m\u001b[0m\u001b[1;33m\u001b[0m\u001b[0m\n\u001b[1;32m-> 3242\u001b[1;33m         \u001b[0mvalue\u001b[0m \u001b[1;33m=\u001b[0m \u001b[0mself\u001b[0m\u001b[1;33m.\u001b[0m\u001b[0m_sanitize_column\u001b[0m\u001b[1;33m(\u001b[0m\u001b[0mkey\u001b[0m\u001b[1;33m,\u001b[0m \u001b[0mvalue\u001b[0m\u001b[1;33m)\u001b[0m\u001b[1;33m\u001b[0m\u001b[1;33m\u001b[0m\u001b[0m\n\u001b[0m\u001b[0;32m   3243\u001b[0m         \u001b[0mNDFrame\u001b[0m\u001b[1;33m.\u001b[0m\u001b[0m_set_item\u001b[0m\u001b[1;33m(\u001b[0m\u001b[0mself\u001b[0m\u001b[1;33m,\u001b[0m \u001b[0mkey\u001b[0m\u001b[1;33m,\u001b[0m \u001b[0mvalue\u001b[0m\u001b[1;33m)\u001b[0m\u001b[1;33m\u001b[0m\u001b[1;33m\u001b[0m\u001b[0m\n\u001b[0;32m   3244\u001b[0m \u001b[1;33m\u001b[0m\u001b[0m\n",
      "\u001b[1;32m~\\anaconda3\\lib\\site-packages\\pandas\\core\\frame.py\u001b[0m in \u001b[0;36m_sanitize_column\u001b[1;34m(self, key, value, broadcast)\u001b[0m\n\u001b[0;32m   3897\u001b[0m \u001b[1;33m\u001b[0m\u001b[0m\n\u001b[0;32m   3898\u001b[0m             \u001b[1;31m# turn me into an ndarray\u001b[0m\u001b[1;33m\u001b[0m\u001b[1;33m\u001b[0m\u001b[1;33m\u001b[0m\u001b[0m\n\u001b[1;32m-> 3899\u001b[1;33m             \u001b[0mvalue\u001b[0m \u001b[1;33m=\u001b[0m \u001b[0msanitize_index\u001b[0m\u001b[1;33m(\u001b[0m\u001b[0mvalue\u001b[0m\u001b[1;33m,\u001b[0m \u001b[0mself\u001b[0m\u001b[1;33m.\u001b[0m\u001b[0mindex\u001b[0m\u001b[1;33m)\u001b[0m\u001b[1;33m\u001b[0m\u001b[1;33m\u001b[0m\u001b[0m\n\u001b[0m\u001b[0;32m   3900\u001b[0m             \u001b[1;32mif\u001b[0m \u001b[1;32mnot\u001b[0m \u001b[0misinstance\u001b[0m\u001b[1;33m(\u001b[0m\u001b[0mvalue\u001b[0m\u001b[1;33m,\u001b[0m \u001b[1;33m(\u001b[0m\u001b[0mnp\u001b[0m\u001b[1;33m.\u001b[0m\u001b[0mndarray\u001b[0m\u001b[1;33m,\u001b[0m \u001b[0mIndex\u001b[0m\u001b[1;33m)\u001b[0m\u001b[1;33m)\u001b[0m\u001b[1;33m:\u001b[0m\u001b[1;33m\u001b[0m\u001b[1;33m\u001b[0m\u001b[0m\n\u001b[0;32m   3901\u001b[0m                 \u001b[1;32mif\u001b[0m \u001b[0misinstance\u001b[0m\u001b[1;33m(\u001b[0m\u001b[0mvalue\u001b[0m\u001b[1;33m,\u001b[0m \u001b[0mlist\u001b[0m\u001b[1;33m)\u001b[0m \u001b[1;32mand\u001b[0m \u001b[0mlen\u001b[0m\u001b[1;33m(\u001b[0m\u001b[0mvalue\u001b[0m\u001b[1;33m)\u001b[0m \u001b[1;33m>\u001b[0m \u001b[1;36m0\u001b[0m\u001b[1;33m:\u001b[0m\u001b[1;33m\u001b[0m\u001b[1;33m\u001b[0m\u001b[0m\n",
      "\u001b[1;32m~\\anaconda3\\lib\\site-packages\\pandas\\core\\internals\\construction.py\u001b[0m in \u001b[0;36msanitize_index\u001b[1;34m(data, index)\u001b[0m\n\u001b[0;32m    749\u001b[0m     \"\"\"\n\u001b[0;32m    750\u001b[0m     \u001b[1;32mif\u001b[0m \u001b[0mlen\u001b[0m\u001b[1;33m(\u001b[0m\u001b[0mdata\u001b[0m\u001b[1;33m)\u001b[0m \u001b[1;33m!=\u001b[0m \u001b[0mlen\u001b[0m\u001b[1;33m(\u001b[0m\u001b[0mindex\u001b[0m\u001b[1;33m)\u001b[0m\u001b[1;33m:\u001b[0m\u001b[1;33m\u001b[0m\u001b[1;33m\u001b[0m\u001b[0m\n\u001b[1;32m--> 751\u001b[1;33m         raise ValueError(\n\u001b[0m\u001b[0;32m    752\u001b[0m             \u001b[1;34m\"Length of values \"\u001b[0m\u001b[1;33m\u001b[0m\u001b[1;33m\u001b[0m\u001b[0m\n\u001b[0;32m    753\u001b[0m             \u001b[1;34mf\"({len(data)}) \"\u001b[0m\u001b[1;33m\u001b[0m\u001b[1;33m\u001b[0m\u001b[0m\n",
      "\u001b[1;31mValueError\u001b[0m: Length of values (80) does not match length of index (20)"
     ]
    }
   ],
   "source": [
    "jobs=pd.DataFrame({})\n",
    "jobs['Company']=company_names\n",
    "jobs['No. of days job posted']=days_job_posted\n",
    "jobs['Company Rating']=company_rating"
   ]
  },
  {
   "cell_type": "code",
   "execution_count": null,
   "id": "0906c992",
   "metadata": {},
   "outputs": [],
   "source": []
  },
  {
   "cell_type": "markdown",
   "id": "ac51417a",
   "metadata": {},
   "source": [
    "Q10: Write a python program to scrape the salary data for Data Scientist designation.\n",
    "You have to scrape Company name, Number of salaries, Average salary, Minsalary, Max Salary. The above task will be, done as shown in the below steps:\n",
    "1. First get the webpage https://www.ambitionbox.com/\n",
    "\n",
    "Ans  :-"
   ]
  },
  {
   "cell_type": "code",
   "execution_count": 2,
   "id": "4eff2916",
   "metadata": {},
   "outputs": [],
   "source": [
    "# lets first connect to the web driver\n",
    "driver = webdriver.Chrome(r\"C:\\Users\\JAYASHRI\\Downloads\\chromedriver_win32\\chromedriver.exe\")"
   ]
  },
  {
   "cell_type": "code",
   "execution_count": 3,
   "id": "045af630",
   "metadata": {},
   "outputs": [],
   "source": [
    "driver=webdriver.Chrome(\"chromedriver.exe\")\n",
    "time.sleep(2)"
   ]
  },
  {
   "cell_type": "code",
   "execution_count": 4,
   "id": "09ffa2ad",
   "metadata": {},
   "outputs": [],
   "source": [
    "driver.get('https://www.ambitionbox.com/')"
   ]
  },
  {
   "cell_type": "code",
   "execution_count": 5,
   "id": "95cda925",
   "metadata": {},
   "outputs": [],
   "source": [
    "# finding element for job search bar\n",
    "search_field_designation=driver.find_element_by_xpath(\"/html/body/div/div/div/main/section[1]/div[2]/div[1]/span/input\")\n",
    "search_field_designation.send_keys(\"Data Scientist\")"
   ]
  },
  {
   "cell_type": "code",
   "execution_count": 6,
   "id": "a838c1c6",
   "metadata": {},
   "outputs": [],
   "source": [
    "search_button=driver.find_element_by_xpath(\"/html/body/div/div/div/main/section[1]/div[2]/div[1]/i[1]\")\n",
    "search_button.click()"
   ]
  },
  {
   "cell_type": "markdown",
   "id": "3c131256",
   "metadata": {},
   "source": [
    "Now we will see in the window opened by webdriver whether the webpage has opened or not. Lets check it\n",
    "\n",
    "So, now lets first creat 4 empty list. In these list the data will be stored while scraping. We have created 4 empty lists for 4 features which we have to exract\n",
    "\n",
    "1.Company name\n",
    "\n",
    "2.Number of salaries\n",
    "\n",
    "3.Average salary\n",
    "\n",
    "4.Minsalary\n",
    "\n",
    "5.Max Salary\n",
    "\n",
    "6.Experience required"
   ]
  },
  {
   "cell_type": "code",
   "execution_count": 7,
   "id": "6485a3ef",
   "metadata": {},
   "outputs": [],
   "source": [
    "company_name=[]\n",
    "\n",
    "number_of_salaries=[]\n",
    "\n",
    "average_salary=[]\n",
    "\n",
    "min_salary=[]\n",
    "\n",
    "max_salary=[]\n",
    "\n",
    "experience_required=[]"
   ]
  },
  {
   "cell_type": "markdown",
   "id": "c40e49ce",
   "metadata": {},
   "source": [
    "First, we will extract all the tags where we have the company name. Let me first show you on the webpage in which tags the company name are put."
   ]
  },
  {
   "cell_type": "code",
   "execution_count": 8,
   "id": "776699f2",
   "metadata": {},
   "outputs": [
    {
     "data": {
      "text/plain": [
       "[<selenium.webdriver.remote.webelement.WebElement (session=\"7706f47384ba85d83cb6714a7ec29088\", element=\"242be969-4578-4c64-865a-ada1c480d292\")>,\n",
       " <selenium.webdriver.remote.webelement.WebElement (session=\"7706f47384ba85d83cb6714a7ec29088\", element=\"3278c4c9-6798-472e-8bc1-a7f1544ff142\")>,\n",
       " <selenium.webdriver.remote.webelement.WebElement (session=\"7706f47384ba85d83cb6714a7ec29088\", element=\"e414df21-1294-45db-99e8-de2b218e1edf\")>,\n",
       " <selenium.webdriver.remote.webelement.WebElement (session=\"7706f47384ba85d83cb6714a7ec29088\", element=\"63564688-debf-41a9-81d8-9d3cfdb4206e\")>,\n",
       " <selenium.webdriver.remote.webelement.WebElement (session=\"7706f47384ba85d83cb6714a7ec29088\", element=\"bc3422b9-d970-45ae-9465-4be021a71645\")>,\n",
       " <selenium.webdriver.remote.webelement.WebElement (session=\"7706f47384ba85d83cb6714a7ec29088\", element=\"67861d14-cb74-424d-8e32-223e8bfad73d\")>,\n",
       " <selenium.webdriver.remote.webelement.WebElement (session=\"7706f47384ba85d83cb6714a7ec29088\", element=\"30893527-8aa9-4daf-bfac-f6612ea26f2a\")>,\n",
       " <selenium.webdriver.remote.webelement.WebElement (session=\"7706f47384ba85d83cb6714a7ec29088\", element=\"9a17bfea-bc58-49e4-bca4-bd51984a1cf5\")>,\n",
       " <selenium.webdriver.remote.webelement.WebElement (session=\"7706f47384ba85d83cb6714a7ec29088\", element=\"02c4c604-b065-420a-bf3b-512ba8080c32\")>,\n",
       " <selenium.webdriver.remote.webelement.WebElement (session=\"7706f47384ba85d83cb6714a7ec29088\", element=\"6af685dc-05f5-4e9f-a19b-26e25c422629\")>]"
      ]
     },
     "execution_count": 8,
     "metadata": {},
     "output_type": "execute_result"
    }
   ],
   "source": [
    "# so lets extract all the tags having the company name\n",
    "companies_tags=driver.find_elements_by_xpath(\"//div[@class='name']/a[1]\")\n",
    "companies_tags[0:10]"
   ]
  },
  {
   "cell_type": "markdown",
   "id": "81050bc5",
   "metadata": {},
   "source": [
    "Now we have all the tags in which there are the company name\n",
    "\n",
    "Now we will extract the text from these tags one by one by looping over these tags"
   ]
  },
  {
   "cell_type": "code",
   "execution_count": 9,
   "id": "9ab805b4",
   "metadata": {},
   "outputs": [
    {
     "data": {
      "text/plain": [
       "['Google',\n",
       " 'Arista Networks',\n",
       " 'Microsoft Corporation',\n",
       " 'Goldman Sachs',\n",
       " 'Tekion',\n",
       " 'Flipkart',\n",
       " 'Servicenow Software Development India',\n",
       " 'Walmart',\n",
       " 'PayPal',\n",
       " 'Amazon']"
      ]
     },
     "execution_count": 9,
     "metadata": {},
     "output_type": "execute_result"
    }
   ],
   "source": [
    "for i in companies_tags:\n",
    "    company=i.text\n",
    "    company_name.append(company)\n",
    "company_name[0:10]"
   ]
  },
  {
   "cell_type": "markdown",
   "id": "54a9954e",
   "metadata": {},
   "source": [
    "Now we will extract all the tags where we have the no. of salary. Let me first show you on the webpage in which tags the no. of salary are put."
   ]
  },
  {
   "cell_type": "code",
   "execution_count": 10,
   "id": "f2b4c8fb",
   "metadata": {},
   "outputs": [
    {
     "data": {
      "text/plain": [
       "[<selenium.webdriver.remote.webelement.WebElement (session=\"7706f47384ba85d83cb6714a7ec29088\", element=\"b0f8bd0d-071e-47ab-a0a7-71d00ed1b607\")>,\n",
       " <selenium.webdriver.remote.webelement.WebElement (session=\"7706f47384ba85d83cb6714a7ec29088\", element=\"f3c15832-d59f-48f7-8b30-b7b3a148bf1d\")>,\n",
       " <selenium.webdriver.remote.webelement.WebElement (session=\"7706f47384ba85d83cb6714a7ec29088\", element=\"4c3ba763-0e51-4821-8115-b6a7d22353c6\")>,\n",
       " <selenium.webdriver.remote.webelement.WebElement (session=\"7706f47384ba85d83cb6714a7ec29088\", element=\"72b8bc48-a5bd-461d-b65c-c7c23ebee6ff\")>,\n",
       " <selenium.webdriver.remote.webelement.WebElement (session=\"7706f47384ba85d83cb6714a7ec29088\", element=\"ffbda236-9bb8-4446-85a3-6607cc16215e\")>,\n",
       " <selenium.webdriver.remote.webelement.WebElement (session=\"7706f47384ba85d83cb6714a7ec29088\", element=\"def5c5b2-3ac2-4959-aacf-0b1e0c5cae19\")>,\n",
       " <selenium.webdriver.remote.webelement.WebElement (session=\"7706f47384ba85d83cb6714a7ec29088\", element=\"bf6b178a-88af-465e-b858-f4e0e8b4a9f3\")>,\n",
       " <selenium.webdriver.remote.webelement.WebElement (session=\"7706f47384ba85d83cb6714a7ec29088\", element=\"299ca872-6ea2-4018-b22b-8db778ef67d6\")>,\n",
       " <selenium.webdriver.remote.webelement.WebElement (session=\"7706f47384ba85d83cb6714a7ec29088\", element=\"9b86b21b-8c47-4f02-8f6c-9effe040f2e9\")>,\n",
       " <selenium.webdriver.remote.webelement.WebElement (session=\"7706f47384ba85d83cb6714a7ec29088\", element=\"bd527499-e1bc-46df-a805-e61c072daae9\")>]"
      ]
     },
     "execution_count": 10,
     "metadata": {},
     "output_type": "execute_result"
    }
   ],
   "source": [
    "# so lets extract all the tags having the no. of salary\n",
    "salary_tags=driver.find_elements_by_xpath(\"//div[@class='name']/span[1]\")\n",
    "salary_tags[0:10]"
   ]
  },
  {
   "cell_type": "markdown",
   "id": "9734d302",
   "metadata": {},
   "source": [
    "Now we have all the tags in which there are the no. of salary\n",
    "\n",
    "Now we will extract the text from these tags one by one by looping over these tags"
   ]
  },
  {
   "cell_type": "code",
   "execution_count": 11,
   "id": "6f4207aa",
   "metadata": {},
   "outputs": [
    {
     "data": {
      "text/plain": [
       "['based on 11 salaries',\n",
       " 'based on 13 salaries',\n",
       " 'based on 253 salaries',\n",
       " 'based on 16 salaries',\n",
       " 'based on 32 salaries',\n",
       " 'based on 61 salaries',\n",
       " 'based on 54 salaries',\n",
       " 'based on 81 salaries',\n",
       " 'based on 26 salaries',\n",
       " 'based on 103 salaries']"
      ]
     },
     "execution_count": 11,
     "metadata": {},
     "output_type": "execute_result"
    }
   ],
   "source": [
    "for i in salary_tags:\n",
    "    nsalary=i.text\n",
    "    number_of_salaries.append(nsalary)\n",
    "number_of_salaries[0:10]"
   ]
  },
  {
   "cell_type": "markdown",
   "id": "7e32d7a3",
   "metadata": {},
   "source": [
    "Now we will extract all the tags where we have the average salary. Let me first show you on the webpage in which tags the average salary are put."
   ]
  },
  {
   "cell_type": "code",
   "execution_count": 12,
   "id": "435404f4",
   "metadata": {},
   "outputs": [
    {
     "data": {
      "text/plain": [
       "[<selenium.webdriver.remote.webelement.WebElement (session=\"7706f47384ba85d83cb6714a7ec29088\", element=\"e44e1734-2344-486a-a3eb-790e4fae6cea\")>,\n",
       " <selenium.webdriver.remote.webelement.WebElement (session=\"7706f47384ba85d83cb6714a7ec29088\", element=\"42386a80-83c6-423b-a884-9a72391b3f58\")>,\n",
       " <selenium.webdriver.remote.webelement.WebElement (session=\"7706f47384ba85d83cb6714a7ec29088\", element=\"ec13b4ec-aa62-41bd-98f4-1594c5aba8e1\")>,\n",
       " <selenium.webdriver.remote.webelement.WebElement (session=\"7706f47384ba85d83cb6714a7ec29088\", element=\"c546ac06-3342-4ba1-945a-73791730b11d\")>,\n",
       " <selenium.webdriver.remote.webelement.WebElement (session=\"7706f47384ba85d83cb6714a7ec29088\", element=\"5d0d3539-5748-4e1b-b96f-d8b0bb685f88\")>,\n",
       " <selenium.webdriver.remote.webelement.WebElement (session=\"7706f47384ba85d83cb6714a7ec29088\", element=\"64b7821e-f925-4cb3-82ca-97c1e5998d8b\")>,\n",
       " <selenium.webdriver.remote.webelement.WebElement (session=\"7706f47384ba85d83cb6714a7ec29088\", element=\"181f04a1-2cbd-4ee4-9193-f18dab32900d\")>,\n",
       " <selenium.webdriver.remote.webelement.WebElement (session=\"7706f47384ba85d83cb6714a7ec29088\", element=\"460e47b1-e909-468c-8d30-03581a795f31\")>,\n",
       " <selenium.webdriver.remote.webelement.WebElement (session=\"7706f47384ba85d83cb6714a7ec29088\", element=\"06d9263c-9067-49b4-99b7-dfefaae75909\")>,\n",
       " <selenium.webdriver.remote.webelement.WebElement (session=\"7706f47384ba85d83cb6714a7ec29088\", element=\"7dc26403-50d0-4d6b-9804-fa5706fce399\")>]"
      ]
     },
     "execution_count": 12,
     "metadata": {},
     "output_type": "execute_result"
    }
   ],
   "source": [
    "# so lets extract all the tags having the average salary\n",
    "ave_salary_tags=driver.find_elements_by_xpath(\"//p[@class='averageCtc']\")\n",
    "ave_salary_tags[0:10]"
   ]
  },
  {
   "cell_type": "markdown",
   "id": "8d0e8fc8",
   "metadata": {},
   "source": [
    "Now we have all the tags in which there are the average salary\n",
    "\n",
    "Now we will extract the text from these tags one by one by looping over these tags"
   ]
  },
  {
   "cell_type": "code",
   "execution_count": 13,
   "id": "738065b6",
   "metadata": {},
   "outputs": [
    {
     "data": {
      "text/plain": [
       "['₹ 26.9L',\n",
       " '₹ 24.7L',\n",
       " '₹ 23.7L',\n",
       " '₹ 22.3L',\n",
       " '₹ 21.0L',\n",
       " '₹ 20.3L',\n",
       " '₹ 20.2L',\n",
       " '₹ 19.9L',\n",
       " '₹ 19.8L',\n",
       " '₹ 19.7L']"
      ]
     },
     "execution_count": 13,
     "metadata": {},
     "output_type": "execute_result"
    }
   ],
   "source": [
    "for i in ave_salary_tags:\n",
    "    asalary=i.text\n",
    "    average_salary.append(asalary)\n",
    "average_salary[0:10]"
   ]
  },
  {
   "cell_type": "markdown",
   "id": "392eff8c",
   "metadata": {},
   "source": [
    "Now we will extract all the tags where we have the minimum salary. Let me first show you on the webpage in which tags the minimum salary are put."
   ]
  },
  {
   "cell_type": "code",
   "execution_count": 14,
   "id": "19725b2b",
   "metadata": {},
   "outputs": [
    {
     "data": {
      "text/plain": [
       "[<selenium.webdriver.remote.webelement.WebElement (session=\"7706f47384ba85d83cb6714a7ec29088\", element=\"a4d29098-d9c6-4ff2-930d-0ddd72f79ac9\")>,\n",
       " <selenium.webdriver.remote.webelement.WebElement (session=\"7706f47384ba85d83cb6714a7ec29088\", element=\"2fc5bfc8-97f9-4902-8b37-f13dea5c1913\")>,\n",
       " <selenium.webdriver.remote.webelement.WebElement (session=\"7706f47384ba85d83cb6714a7ec29088\", element=\"e893f7ee-0bab-41cb-8273-2561fa9851ea\")>,\n",
       " <selenium.webdriver.remote.webelement.WebElement (session=\"7706f47384ba85d83cb6714a7ec29088\", element=\"293e018b-b6e3-4300-b4b8-5080e0660a4c\")>,\n",
       " <selenium.webdriver.remote.webelement.WebElement (session=\"7706f47384ba85d83cb6714a7ec29088\", element=\"5e7b07d6-401f-4b6c-8161-db80b3558481\")>,\n",
       " <selenium.webdriver.remote.webelement.WebElement (session=\"7706f47384ba85d83cb6714a7ec29088\", element=\"6ca9d6cc-662c-412c-b29c-3b18dc39acd7\")>,\n",
       " <selenium.webdriver.remote.webelement.WebElement (session=\"7706f47384ba85d83cb6714a7ec29088\", element=\"386cee40-f1c3-4c0a-8f7a-0b977e2ea331\")>,\n",
       " <selenium.webdriver.remote.webelement.WebElement (session=\"7706f47384ba85d83cb6714a7ec29088\", element=\"40d06538-666d-47bf-8f8e-27fb246e29d5\")>,\n",
       " <selenium.webdriver.remote.webelement.WebElement (session=\"7706f47384ba85d83cb6714a7ec29088\", element=\"155845a4-4e24-4bca-9243-b0541d611f1f\")>,\n",
       " <selenium.webdriver.remote.webelement.WebElement (session=\"7706f47384ba85d83cb6714a7ec29088\", element=\"fb10ef30-6618-4aa7-936a-7006aaff7a16\")>]"
      ]
     },
     "execution_count": 14,
     "metadata": {},
     "output_type": "execute_result"
    }
   ],
   "source": [
    "# so lets extract all the tags having the average salary\n",
    "min_salary_tags=driver.find_elements_by_xpath(\"//div[@class='salary-values']/div[1]\")\n",
    "min_salary_tags[0:10]"
   ]
  },
  {
   "cell_type": "markdown",
   "id": "a4957696",
   "metadata": {},
   "source": [
    "Now we have all the tags in which there are the minimum salary\n",
    "\n",
    "Now we will extract the text from these tags one by one by looping over these tags"
   ]
  },
  {
   "cell_type": "code",
   "execution_count": 15,
   "id": "d59307e8",
   "metadata": {},
   "outputs": [
    {
     "data": {
      "text/plain": [
       "['₹ 10.4L',\n",
       " '₹ 10.7L',\n",
       " '₹ 13.0L',\n",
       " '₹ 12.0L',\n",
       " '₹ 12.0L',\n",
       " '₹ 7.5L',\n",
       " '₹ 13.0L',\n",
       " '₹ 11.0L',\n",
       " '₹ 12.0L',\n",
       " '₹ 8.0L']"
      ]
     },
     "execution_count": 15,
     "metadata": {},
     "output_type": "execute_result"
    }
   ],
   "source": [
    "for i in min_salary_tags:\n",
    "    minsalary=i.text\n",
    "    min_salary.append(minsalary)\n",
    "min_salary[0:10]"
   ]
  },
  {
   "cell_type": "markdown",
   "id": "44532851",
   "metadata": {},
   "source": [
    "Now we will extract all the tags where we have the maximum salary. Let me first show you on the webpage in which tags the maximum salary are put."
   ]
  },
  {
   "cell_type": "code",
   "execution_count": 16,
   "id": "afd8d1a4",
   "metadata": {},
   "outputs": [
    {
     "data": {
      "text/plain": [
       "[<selenium.webdriver.remote.webelement.WebElement (session=\"7706f47384ba85d83cb6714a7ec29088\", element=\"88dd86d9-e7b9-4dd3-a946-7a9a814568d7\")>,\n",
       " <selenium.webdriver.remote.webelement.WebElement (session=\"7706f47384ba85d83cb6714a7ec29088\", element=\"370e074f-6a7e-4c7c-b9b8-cec38cd030fa\")>,\n",
       " <selenium.webdriver.remote.webelement.WebElement (session=\"7706f47384ba85d83cb6714a7ec29088\", element=\"a312df28-2285-4e06-ad00-348cd44a2457\")>,\n",
       " <selenium.webdriver.remote.webelement.WebElement (session=\"7706f47384ba85d83cb6714a7ec29088\", element=\"a252ca80-7b54-4411-9987-789a0728744d\")>,\n",
       " <selenium.webdriver.remote.webelement.WebElement (session=\"7706f47384ba85d83cb6714a7ec29088\", element=\"04f19963-ed53-4680-9665-86e2b36de054\")>,\n",
       " <selenium.webdriver.remote.webelement.WebElement (session=\"7706f47384ba85d83cb6714a7ec29088\", element=\"0116d63d-6b7e-4d83-b85f-25994944d0a6\")>,\n",
       " <selenium.webdriver.remote.webelement.WebElement (session=\"7706f47384ba85d83cb6714a7ec29088\", element=\"47b07c97-a634-4c85-8e8f-368c5b945273\")>,\n",
       " <selenium.webdriver.remote.webelement.WebElement (session=\"7706f47384ba85d83cb6714a7ec29088\", element=\"7cb0eb74-868d-4908-a7b3-4284abd937d6\")>,\n",
       " <selenium.webdriver.remote.webelement.WebElement (session=\"7706f47384ba85d83cb6714a7ec29088\", element=\"028e8169-809d-4d01-8037-5a54be88358d\")>,\n",
       " <selenium.webdriver.remote.webelement.WebElement (session=\"7706f47384ba85d83cb6714a7ec29088\", element=\"743a1399-8258-420a-8df6-f66d726b6cfb\")>]"
      ]
     },
     "execution_count": 16,
     "metadata": {},
     "output_type": "execute_result"
    }
   ],
   "source": [
    "# so lets extract all the tags having the average salary\n",
    "max_salary_tags=driver.find_elements_by_xpath(\"//div[@class='salary-values']/div[2]\")\n",
    "max_salary_tags[0:10]"
   ]
  },
  {
   "cell_type": "markdown",
   "id": "3e714b17",
   "metadata": {},
   "source": [
    "Now we have all the tags in which there are the maximum salary\n",
    "\n",
    "Now we will extract the text from these tags one by one by looping over these tags"
   ]
  },
  {
   "cell_type": "code",
   "execution_count": 17,
   "id": "f9c74041",
   "metadata": {},
   "outputs": [
    {
     "data": {
      "text/plain": [
       "['₹ 40.0L',\n",
       " '₹ 38.0L',\n",
       " '₹ 45.0L',\n",
       " '₹ 34.0L',\n",
       " '₹ 33.0L',\n",
       " '₹ 31.0L',\n",
       " '₹ 26.3L',\n",
       " '₹ 32.5L',\n",
       " '₹ 30.0L',\n",
       " '₹ 43.0L']"
      ]
     },
     "execution_count": 17,
     "metadata": {},
     "output_type": "execute_result"
    }
   ],
   "source": [
    "for i in max_salary_tags:\n",
    "    maxsalary=i.text\n",
    "    max_salary.append(maxsalary)\n",
    "max_salary[0:10]"
   ]
  },
  {
   "cell_type": "markdown",
   "id": "52e8518b",
   "metadata": {},
   "source": [
    "Now we will extract all the tags where we have the experience required. Let me first show you on the webpage in which tags the experience required are put."
   ]
  },
  {
   "cell_type": "code",
   "execution_count": 18,
   "id": "3cb3885d",
   "metadata": {},
   "outputs": [
    {
     "data": {
      "text/plain": [
       "[<selenium.webdriver.remote.webelement.WebElement (session=\"7706f47384ba85d83cb6714a7ec29088\", element=\"0c216018-6e10-44b3-a09e-6dbbdbf38cb6\")>,\n",
       " <selenium.webdriver.remote.webelement.WebElement (session=\"7706f47384ba85d83cb6714a7ec29088\", element=\"924a9af0-508e-455d-af3d-3836ca5a6af1\")>,\n",
       " <selenium.webdriver.remote.webelement.WebElement (session=\"7706f47384ba85d83cb6714a7ec29088\", element=\"ba97c711-d1ae-4cef-8064-815e34ad7028\")>,\n",
       " <selenium.webdriver.remote.webelement.WebElement (session=\"7706f47384ba85d83cb6714a7ec29088\", element=\"45bdb930-fafe-4ce0-9bc3-dee7427e9a83\")>,\n",
       " <selenium.webdriver.remote.webelement.WebElement (session=\"7706f47384ba85d83cb6714a7ec29088\", element=\"7a5e7c10-4f77-4819-a76a-6e2b6ae350d6\")>,\n",
       " <selenium.webdriver.remote.webelement.WebElement (session=\"7706f47384ba85d83cb6714a7ec29088\", element=\"471789b7-ff58-4910-a3b4-d5a382f84bce\")>,\n",
       " <selenium.webdriver.remote.webelement.WebElement (session=\"7706f47384ba85d83cb6714a7ec29088\", element=\"12678bbe-2dc3-43e8-afbc-a304c23ab853\")>,\n",
       " <selenium.webdriver.remote.webelement.WebElement (session=\"7706f47384ba85d83cb6714a7ec29088\", element=\"263f6980-b3f0-4de4-8497-ac39581cd5d2\")>,\n",
       " <selenium.webdriver.remote.webelement.WebElement (session=\"7706f47384ba85d83cb6714a7ec29088\", element=\"46ddfd2a-d594-4000-ad24-a37d682bd46c\")>,\n",
       " <selenium.webdriver.remote.webelement.WebElement (session=\"7706f47384ba85d83cb6714a7ec29088\", element=\"d7d6220e-c004-4898-84cc-61b8a30db6cd\")>]"
      ]
     },
     "execution_count": 18,
     "metadata": {},
     "output_type": "execute_result"
    }
   ],
   "source": [
    "# so lets extract all the tags having the average salary\n",
    "experience_tags=driver.find_elements_by_xpath(\"//div[@class='salaries sbold-list-header']\")\n",
    "experience_tags[0:10]"
   ]
  },
  {
   "cell_type": "markdown",
   "id": "e752d1d4",
   "metadata": {},
   "source": [
    "Now we have all the tags in which there are the experiance required\n",
    "\n",
    "Now we will extract the text from these tags one by one by looping over these tags"
   ]
  },
  {
   "cell_type": "code",
   "execution_count": 19,
   "id": "c85f7337",
   "metadata": {},
   "outputs": [
    {
     "data": {
      "text/plain": [
       "['Software Engineer\\n . \\n1 yr exp',\n",
       " 'Software Engineer\\n . \\n3 yrs exp',\n",
       " 'Software Engineer\\n . \\n1-4 yrs exp',\n",
       " 'Software Engineer\\n . \\n2 yrs exp',\n",
       " 'Software Engineer\\n . \\n2-4 yrs exp',\n",
       " 'Software Engineer\\n . \\n1-4 yrs exp',\n",
       " 'Software Engineer\\n . \\n2-4 yrs exp',\n",
       " 'Software Engineer\\n . \\n1-4 yrs exp',\n",
       " 'Software Engineer\\n . \\n1-2 yrs exp',\n",
       " 'Software Engineer\\n . \\n1-4 yrs exp']"
      ]
     },
     "execution_count": 19,
     "metadata": {},
     "output_type": "execute_result"
    }
   ],
   "source": [
    "for i in experience_tags:\n",
    "    experiance=i.text\n",
    "    experience_required.append(experiance)\n",
    "experience_required[0:10]"
   ]
  },
  {
   "cell_type": "code",
   "execution_count": 20,
   "id": "87048859",
   "metadata": {},
   "outputs": [
    {
     "data": {
      "text/plain": [
       "(10, 10, 10, 10, 10, 10)"
      ]
     },
     "execution_count": 20,
     "metadata": {},
     "output_type": "execute_result"
    }
   ],
   "source": [
    "len(company_name),len(number_of_salaries),len(average_salary),len(min_salary),len(max_salary),len(experience_required)"
   ]
  },
  {
   "cell_type": "code",
   "execution_count": 21,
   "id": "cd6123f1",
   "metadata": {},
   "outputs": [],
   "source": [
    "# Creating DataFrame of above data\n",
    "jobs=pd.DataFrame({})\n",
    "jobs['Company Name']=company_name\n",
    "jobs['Totle Salary record']=number_of_salaries\n",
    "jobs['Average Salary']=average_salary\n",
    "jobs['Minimum Salary']=min_salary\n",
    "jobs['Maximum Salary']=max_salary\n"
   ]
  },
  {
   "cell_type": "code",
   "execution_count": 22,
   "id": "f1ad4b53",
   "metadata": {},
   "outputs": [
    {
     "data": {
      "text/html": [
       "<div>\n",
       "<style scoped>\n",
       "    .dataframe tbody tr th:only-of-type {\n",
       "        vertical-align: middle;\n",
       "    }\n",
       "\n",
       "    .dataframe tbody tr th {\n",
       "        vertical-align: top;\n",
       "    }\n",
       "\n",
       "    .dataframe thead th {\n",
       "        text-align: right;\n",
       "    }\n",
       "</style>\n",
       "<table border=\"1\" class=\"dataframe\">\n",
       "  <thead>\n",
       "    <tr style=\"text-align: right;\">\n",
       "      <th></th>\n",
       "      <th>Company Name</th>\n",
       "      <th>Totle Salary record</th>\n",
       "      <th>Average Salary</th>\n",
       "      <th>Minimum Salary</th>\n",
       "      <th>Maximum Salary</th>\n",
       "    </tr>\n",
       "  </thead>\n",
       "  <tbody>\n",
       "    <tr>\n",
       "      <th>0</th>\n",
       "      <td>Google</td>\n",
       "      <td>based on 11 salaries</td>\n",
       "      <td>₹ 26.9L</td>\n",
       "      <td>₹ 10.4L</td>\n",
       "      <td>₹ 40.0L</td>\n",
       "    </tr>\n",
       "    <tr>\n",
       "      <th>1</th>\n",
       "      <td>Arista Networks</td>\n",
       "      <td>based on 13 salaries</td>\n",
       "      <td>₹ 24.7L</td>\n",
       "      <td>₹ 10.7L</td>\n",
       "      <td>₹ 38.0L</td>\n",
       "    </tr>\n",
       "    <tr>\n",
       "      <th>2</th>\n",
       "      <td>Microsoft Corporation</td>\n",
       "      <td>based on 253 salaries</td>\n",
       "      <td>₹ 23.7L</td>\n",
       "      <td>₹ 13.0L</td>\n",
       "      <td>₹ 45.0L</td>\n",
       "    </tr>\n",
       "    <tr>\n",
       "      <th>3</th>\n",
       "      <td>Goldman Sachs</td>\n",
       "      <td>based on 16 salaries</td>\n",
       "      <td>₹ 22.3L</td>\n",
       "      <td>₹ 12.0L</td>\n",
       "      <td>₹ 34.0L</td>\n",
       "    </tr>\n",
       "    <tr>\n",
       "      <th>4</th>\n",
       "      <td>Tekion</td>\n",
       "      <td>based on 32 salaries</td>\n",
       "      <td>₹ 21.0L</td>\n",
       "      <td>₹ 12.0L</td>\n",
       "      <td>₹ 33.0L</td>\n",
       "    </tr>\n",
       "    <tr>\n",
       "      <th>5</th>\n",
       "      <td>Flipkart</td>\n",
       "      <td>based on 61 salaries</td>\n",
       "      <td>₹ 20.3L</td>\n",
       "      <td>₹ 7.5L</td>\n",
       "      <td>₹ 31.0L</td>\n",
       "    </tr>\n",
       "    <tr>\n",
       "      <th>6</th>\n",
       "      <td>Servicenow Software Development India</td>\n",
       "      <td>based on 54 salaries</td>\n",
       "      <td>₹ 20.2L</td>\n",
       "      <td>₹ 13.0L</td>\n",
       "      <td>₹ 26.3L</td>\n",
       "    </tr>\n",
       "    <tr>\n",
       "      <th>7</th>\n",
       "      <td>Walmart</td>\n",
       "      <td>based on 81 salaries</td>\n",
       "      <td>₹ 19.9L</td>\n",
       "      <td>₹ 11.0L</td>\n",
       "      <td>₹ 32.5L</td>\n",
       "    </tr>\n",
       "    <tr>\n",
       "      <th>8</th>\n",
       "      <td>PayPal</td>\n",
       "      <td>based on 26 salaries</td>\n",
       "      <td>₹ 19.8L</td>\n",
       "      <td>₹ 12.0L</td>\n",
       "      <td>₹ 30.0L</td>\n",
       "    </tr>\n",
       "    <tr>\n",
       "      <th>9</th>\n",
       "      <td>Amazon</td>\n",
       "      <td>based on 103 salaries</td>\n",
       "      <td>₹ 19.7L</td>\n",
       "      <td>₹ 8.0L</td>\n",
       "      <td>₹ 43.0L</td>\n",
       "    </tr>\n",
       "  </tbody>\n",
       "</table>\n",
       "</div>"
      ],
      "text/plain": [
       "                            Company Name    Totle Salary record  \\\n",
       "0                                 Google   based on 11 salaries   \n",
       "1                        Arista Networks   based on 13 salaries   \n",
       "2                  Microsoft Corporation  based on 253 salaries   \n",
       "3                          Goldman Sachs   based on 16 salaries   \n",
       "4                                 Tekion   based on 32 salaries   \n",
       "5                               Flipkart   based on 61 salaries   \n",
       "6  Servicenow Software Development India   based on 54 salaries   \n",
       "7                                Walmart   based on 81 salaries   \n",
       "8                                 PayPal   based on 26 salaries   \n",
       "9                                 Amazon  based on 103 salaries   \n",
       "\n",
       "  Average Salary Minimum Salary Maximum Salary  \n",
       "0        ₹ 26.9L        ₹ 10.4L        ₹ 40.0L  \n",
       "1        ₹ 24.7L        ₹ 10.7L        ₹ 38.0L  \n",
       "2        ₹ 23.7L        ₹ 13.0L        ₹ 45.0L  \n",
       "3        ₹ 22.3L        ₹ 12.0L        ₹ 34.0L  \n",
       "4        ₹ 21.0L        ₹ 12.0L        ₹ 33.0L  \n",
       "5        ₹ 20.3L         ₹ 7.5L        ₹ 31.0L  \n",
       "6        ₹ 20.2L        ₹ 13.0L        ₹ 26.3L  \n",
       "7        ₹ 19.9L        ₹ 11.0L        ₹ 32.5L  \n",
       "8        ₹ 19.8L        ₹ 12.0L        ₹ 30.0L  \n",
       "9        ₹ 19.7L         ₹ 8.0L        ₹ 43.0L  "
      ]
     },
     "execution_count": 22,
     "metadata": {},
     "output_type": "execute_result"
    }
   ],
   "source": [
    "jobs[0:10]"
   ]
  },
  {
   "cell_type": "code",
   "execution_count": null,
   "id": "ddd3a656",
   "metadata": {},
   "outputs": [],
   "source": []
  }
 ],
 "metadata": {
  "kernelspec": {
   "display_name": "Python 3",
   "language": "python",
   "name": "python3"
  },
  "language_info": {
   "codemirror_mode": {
    "name": "ipython",
    "version": 3
   },
   "file_extension": ".py",
   "mimetype": "text/x-python",
   "name": "python",
   "nbconvert_exporter": "python",
   "pygments_lexer": "ipython3",
   "version": "3.8.8"
  }
 },
 "nbformat": 4,
 "nbformat_minor": 5
}
