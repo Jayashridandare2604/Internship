{
 "cells": [
  {
   "cell_type": "markdown",
   "id": "10e223f2",
   "metadata": {},
   "source": [
    "# PYTHON-WORKSHEET 1"
   ]
  },
  {
   "cell_type": "markdown",
   "id": "8d72340f",
   "metadata": {},
   "source": [
    "Q1 to Q8 have only one correct answer. Choose the correct option to answer your question."
   ]
  },
  {
   "cell_type": "markdown",
   "id": "aaa37fa7",
   "metadata": {},
   "source": [
    "1. Which of the following operators is used to calculate remainder in a division?\n",
    "\n",
    "Ans :- C) %"
   ]
  },
  {
   "cell_type": "code",
   "execution_count": 1,
   "id": "084d65f3",
   "metadata": {},
   "outputs": [
    {
     "data": {
      "text/plain": [
       "0"
      ]
     },
     "execution_count": 1,
     "metadata": {},
     "output_type": "execute_result"
    }
   ],
   "source": [
    "# Explanation:-\n",
    "\n",
    "10%2    # % this modulo calculate"
   ]
  },
  {
   "cell_type": "code",
   "execution_count": 2,
   "id": "ddecbbe1",
   "metadata": {},
   "outputs": [
    {
     "data": {
      "text/plain": [
       "1"
      ]
     },
     "execution_count": 2,
     "metadata": {},
     "output_type": "execute_result"
    }
   ],
   "source": [
    "11%2"
   ]
  },
  {
   "cell_type": "markdown",
   "id": "e4a7a9ae",
   "metadata": {},
   "source": [
    "2. In python 2//3 is equal to?\n",
    "\n",
    "Ans :- B) 0"
   ]
  },
  {
   "cell_type": "code",
   "execution_count": 3,
   "id": "c7239302",
   "metadata": {},
   "outputs": [
    {
     "data": {
      "text/plain": [
       "0"
      ]
     },
     "execution_count": 3,
     "metadata": {},
     "output_type": "execute_result"
    }
   ],
   "source": [
    "# Explanation:-\n",
    "\n",
    "2//3"
   ]
  },
  {
   "cell_type": "markdown",
   "id": "7efe74bd",
   "metadata": {},
   "source": [
    "3. In python, 6<<2 is equal to?\n",
    "\n",
    "Ans :- C) 24"
   ]
  },
  {
   "cell_type": "code",
   "execution_count": 4,
   "id": "9b4a498c",
   "metadata": {},
   "outputs": [
    {
     "data": {
      "text/plain": [
       "24"
      ]
     },
     "execution_count": 4,
     "metadata": {},
     "output_type": "execute_result"
    }
   ],
   "source": [
    "# Explanation\n",
    "\n",
    "6<<2"
   ]
  },
  {
   "cell_type": "markdown",
   "id": "7e2373c5",
   "metadata": {},
   "source": [
    "4. In python, 6&2 will give which of the following as output?\n",
    "\n",
    "Ans :- A) 2"
   ]
  },
  {
   "cell_type": "code",
   "execution_count": 5,
   "id": "b7b04765",
   "metadata": {},
   "outputs": [
    {
     "data": {
      "text/plain": [
       "2"
      ]
     },
     "execution_count": 5,
     "metadata": {},
     "output_type": "execute_result"
    }
   ],
   "source": [
    "# Explanation\n",
    "\n",
    "6&2"
   ]
  },
  {
   "cell_type": "markdown",
   "id": "6fd006b5",
   "metadata": {},
   "source": [
    "5. In python, 6|2 will give which of the following as output?\n",
    "\n",
    "Ans :- D) 6"
   ]
  },
  {
   "cell_type": "code",
   "execution_count": 6,
   "id": "a2263e0a",
   "metadata": {},
   "outputs": [
    {
     "data": {
      "text/plain": [
       "6"
      ]
     },
     "execution_count": 6,
     "metadata": {},
     "output_type": "execute_result"
    }
   ],
   "source": [
    "# Explanation\n",
    "\n",
    "6|2"
   ]
  },
  {
   "cell_type": "markdown",
   "id": "c4ae3968",
   "metadata": {},
   "source": [
    "6. What does the finally keyword denotes in python?\n",
    "\n",
    "Ans :- C) the finally block will be executed no matter if the try block raises an error or not."
   ]
  },
  {
   "cell_type": "code",
   "execution_count": 8,
   "id": "fe2bdd97",
   "metadata": {},
   "outputs": [
    {
     "name": "stdout",
     "output_type": "stream",
     "text": [
      "Something went wrong\n",
      "The try...except block is finished\n"
     ]
    }
   ],
   "source": [
    "# Explanation:-\n",
    "\n",
    "try:\n",
    "    x >3\n",
    "except:\n",
    "    print(\"Something went wrong\")\n",
    "else:\n",
    "    print(\"Nothing went wrong\")\n",
    "finally:\n",
    "    print(\"The try...except block is finished\")"
   ]
  },
  {
   "cell_type": "markdown",
   "id": "f03dfbbe",
   "metadata": {},
   "source": [
    "7. What does raise keyword is used for in python?\n",
    "\n",
    "Ans :- A) It is used to raise an exception."
   ]
  },
  {
   "cell_type": "code",
   "execution_count": 9,
   "id": "c9d76636",
   "metadata": {},
   "outputs": [
    {
     "ename": "TypeError",
     "evalue": "Only integers are allowed",
     "output_type": "error",
     "traceback": [
      "\u001b[1;31m---------------------------------------------------------------------------\u001b[0m",
      "\u001b[1;31mTypeError\u001b[0m                                 Traceback (most recent call last)",
      "\u001b[1;32m<ipython-input-9-4ab946aa99d9>\u001b[0m in \u001b[0;36m<module>\u001b[1;34m\u001b[0m\n\u001b[0;32m      4\u001b[0m \u001b[1;33m\u001b[0m\u001b[0m\n\u001b[0;32m      5\u001b[0m \u001b[1;32mif\u001b[0m \u001b[1;32mnot\u001b[0m \u001b[0mtype\u001b[0m\u001b[1;33m(\u001b[0m\u001b[0mx\u001b[0m\u001b[1;33m)\u001b[0m \u001b[1;32mis\u001b[0m \u001b[0mint\u001b[0m\u001b[1;33m:\u001b[0m\u001b[1;33m\u001b[0m\u001b[1;33m\u001b[0m\u001b[0m\n\u001b[1;32m----> 6\u001b[1;33m     \u001b[1;32mraise\u001b[0m \u001b[0mTypeError\u001b[0m\u001b[1;33m(\u001b[0m\u001b[1;34m\"Only integers are allowed\"\u001b[0m\u001b[1;33m)\u001b[0m\u001b[1;33m\u001b[0m\u001b[1;33m\u001b[0m\u001b[0m\n\u001b[0m",
      "\u001b[1;31mTypeError\u001b[0m: Only integers are allowed"
     ]
    }
   ],
   "source": [
    "# Explanation:-\n",
    "\n",
    "x = \"Hello\"\n",
    "\n",
    "if not type(x) is int:\n",
    "    raise TypeError(\"Only integers are allowed\")"
   ]
  },
  {
   "cell_type": "markdown",
   "id": "ee7fc11b",
   "metadata": {},
   "source": [
    "8. Which of the following is a common use case of yield keyword in python?\n",
    "\n",
    "Ans :- C) in defining a generator"
   ]
  },
  {
   "cell_type": "code",
   "execution_count": 10,
   "id": "9466e4c9",
   "metadata": {},
   "outputs": [
    {
     "name": "stdout",
     "output_type": "stream",
     "text": [
      "1\n",
      "2\n",
      "3\n"
     ]
    }
   ],
   "source": [
    "# Explanation\n",
    "\n",
    "def simpleGeneratorFun():\n",
    "    yield 1\n",
    "    yield 2\n",
    "    yield 3\n",
    "for value in simpleGeneratorFun():\n",
    "    print(value)"
   ]
  },
  {
   "cell_type": "raw",
   "id": "1d7c4aa7",
   "metadata": {},
   "source": [
    "9. Which of the following are the valid variable names?\n",
    "\n",
    "Ans :- A) _abc and C) abc2\n",
    "    \n",
    "#Explanation :-\n",
    "\n",
    "The characters [A-Z], [a-z] or [0-9], $(dollar sign) and _(underscore) in a valid identifier.\n",
    "\n",
    "An identifier should not declare with space.\n",
    "\n",
    "An identifier should not start with a number.\n",
    "\n",
    "An identifier ideally should be of 14-15 characters for appropriate use.\n",
    "\n",
    "An identifier should not use Reserved words."
   ]
  },
  {
   "cell_type": "raw",
   "id": "e9df8823",
   "metadata": {},
   "source": [
    "10. Which of the following are the keywords in python?\n",
    "\n",
    "Ans :- A) yield and B) raise"
   ]
  },
  {
   "cell_type": "raw",
   "id": "9e151467",
   "metadata": {},
   "source": [
    "11. Write a python program to find the factorial of a number.\n",
    "\n",
    "Ans :-"
   ]
  },
  {
   "cell_type": "code",
   "execution_count": 11,
   "id": "d6888f42",
   "metadata": {},
   "outputs": [
    {
     "name": "stdout",
     "output_type": "stream",
     "text": [
      "Factorial of 5 is 120\n"
     ]
    }
   ],
   "source": [
    "def factorial(n):\n",
    "    if n < 0:\n",
    "            return 0\n",
    "    elif n == 0 or n == 1:\n",
    "            return 1\n",
    "    else:\n",
    "            fact = 1\n",
    "            while(n > 1):\n",
    "                    fact *= n\n",
    "                    n -= 1\n",
    "            return fact\n",
    "    \n",
    "num = 5;\n",
    "print(\"Factorial of\",num,\"is\",\n",
    "factorial(num))"
   ]
  },
  {
   "cell_type": "raw",
   "id": "a88f9475",
   "metadata": {},
   "source": [
    "12. Write a python program to find whether a number is prime or composite.\n",
    "\n",
    "Ans :- "
   ]
  },
  {
   "cell_type": "code",
   "execution_count": 13,
   "id": "d0c9544a",
   "metadata": {},
   "outputs": [
    {
     "name": "stdout",
     "output_type": "stream",
     "text": [
      "Enter the number2\n",
      "2  is a prime number\n"
     ]
    }
   ],
   "source": [
    "num = int(input(\"Enter the number\"))\n",
    "if num > 1:\n",
    "    for x in range(2,num):\n",
    "        if num % x == 0:\n",
    "            print(num,\" is not a prime number\")\n",
    "            break\n",
    "        else:\n",
    "            print(num,\" is a prime number\")\n",
    "            break\n",
    "    else:\n",
    "        print(num,\" is a prime number\")\n",
    "else:\n",
    "    print(num,\" is not a prime number\")"
   ]
  },
  {
   "cell_type": "raw",
   "id": "e6e69239",
   "metadata": {},
   "source": [
    "13. Write a python program to check whether a given string is palindrome or not.\n",
    "\n",
    "Ans :-"
   ]
  },
  {
   "cell_type": "code",
   "execution_count": 21,
   "id": "650e3124",
   "metadata": {},
   "outputs": [
    {
     "name": "stdout",
     "output_type": "stream",
     "text": [
      "Please enter your string:wow\n",
      "The string is a palindrome\n",
      "Please enter your string:Nagpur\n",
      "The string is not a palindrome\n"
     ]
    }
   ],
   "source": [
    "string = input(\"Please enter your string:\")\n",
    "if(string==string[::-1]):\n",
    "    print(\"The string is a palindrome\")\n",
    "else:\n",
    "    print(\"The string is not a palindrome\")\n",
    "    \n",
    "string = input(\"Please enter your string:\")\n",
    "if(string==string[::-1]):\n",
    "    print(\"The string is a palindrome\")\n",
    "else:\n",
    "    print(\"The string is not a palindrome\")\n"
   ]
  },
  {
   "cell_type": "raw",
   "id": "a19c17fc",
   "metadata": {},
   "source": [
    "14. Write a Python program to get the third side of right-angled triangle from two given sides.\n",
    "\n",
    "Ans :-"
   ]
  },
  {
   "cell_type": "code",
   "execution_count": 25,
   "id": "e3b8baea",
   "metadata": {},
   "outputs": [
    {
     "name": "stdout",
     "output_type": "stream",
     "text": [
      "Hypotenuse = 5.0\n",
      "Adjacent = 4.0\n",
      "Opposite = 3.0\n",
      "You know the answer!\n"
     ]
    }
   ],
   "source": [
    "def pythagoras(opposite_side,adjacent_side,hypotenuse):\n",
    "    if opposite_side == str(\"x\"):\n",
    "        return (\"Opposite = \" + str(((hypotenuse**2) - (adjacent_side**2))**0.5))\n",
    "    elif adjacent_side == str(\"x\"):\n",
    "        return (\"Adjacent = \" + str(((hypotenuse**2) - (opposite_side**2))**0.5))\n",
    "    elif hypotenuse == str(\"x\"):\n",
    "        return (\"Hypotenuse = \" + str(((opposite_side**2) + (adjacent_side**2))**0.5))\n",
    "    else:\n",
    "        return \"You know the answer!\"\n",
    "    \n",
    "print(pythagoras(3,4,'x'))\n",
    "print(pythagoras(3,'x',5))\n",
    "print(pythagoras('x',4,5))\n",
    "print(pythagoras(3,4,5))"
   ]
  },
  {
   "cell_type": "raw",
   "id": "706709e1",
   "metadata": {},
   "source": [
    "15. Write a python program to print the frequency of each of the characters present in a given string.\n",
    "\n",
    "Ans :-"
   ]
  },
  {
   "cell_type": "code",
   "execution_count": 29,
   "id": "d396aa6a",
   "metadata": {},
   "outputs": [
    {
     "name": "stdout",
     "output_type": "stream",
     "text": [
      "Enter the string:Shriksha is daughter of Jayashri\n",
      "Please enter the char to find frequency of the character\n",
      "s\n",
      "The frequency of the  s in the string is: 3\n"
     ]
    }
   ],
   "source": [
    "string = input(\"Enter the string:\")\n",
    "char = input(\"Please enter the char to find frequency of the character\\n\")\n",
    "\n",
    "count = 0\n",
    "for i in range(len(string)):\n",
    "    if(string[i]==char):\n",
    "        count=count+1\n",
    "print(\"The frequency of the \",char,\"in the string is:\",count)"
   ]
  },
  {
   "cell_type": "code",
   "execution_count": null,
   "id": "7ac17fc5",
   "metadata": {},
   "outputs": [],
   "source": []
  },
  {
   "cell_type": "code",
   "execution_count": null,
   "id": "3e326e78",
   "metadata": {},
   "outputs": [],
   "source": []
  }
 ],
 "metadata": {
  "kernelspec": {
   "display_name": "Python 3",
   "language": "python",
   "name": "python3"
  },
  "language_info": {
   "codemirror_mode": {
    "name": "ipython",
    "version": 3
   },
   "file_extension": ".py",
   "mimetype": "text/x-python",
   "name": "python",
   "nbconvert_exporter": "python",
   "pygments_lexer": "ipython3",
   "version": "3.8.8"
  }
 },
 "nbformat": 4,
 "nbformat_minor": 5
}
